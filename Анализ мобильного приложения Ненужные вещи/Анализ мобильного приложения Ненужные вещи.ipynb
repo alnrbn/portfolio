{
 "cells": [
  {
   "cell_type": "markdown",
   "metadata": {},
   "source": [
    "# Проект \"Анализ мобильного приложения \"Ненужные вещи\".\n",
    "\n",
    "*Датасет содержит данные о событиях, совершенных в мобильном приложении \"Ненужные вещи\". В нем пользователи продают свои ненужные вещи, размещая их на доске объявлений.В датасете содержатся данные пользователей, впервые совершивших действия в приложении после 7 октября 2019 года.*\n",
    "\n",
    "**Задача**\n",
    "\n",
    "Выделение различающиеся по продуктовым метрикам (retention rate, время в приложении, частота совершения событий, конверсия с целевое действие contacts_show) группы пользователей на основе событий, которые они выполняют в мобильном приложении.\n",
    "\n",
    "**Цель:**\n",
    "\n",
    "<span style=\"color:red\">Подготовить исследование поведения пользователей мобильного приложения \"Ненужные вещи\".</span>\n"
   ]
  },
  {
   "cell_type": "markdown",
   "metadata": {},
   "source": [
    "[План работы(декомпозиция)]\n",
    "<a id=\"head\"></a>\n",
    "\n",
    "1.Загрузка данных и изучение общей информации\n",
    "   - 1.1 Поиск пропусков и дубликатов\n",
    "    \n",
    "2.Предобработка данных\n",
    "   - 2.1 Переименование столбцов\n",
    "   - 2.2 Изменение типа данных в столбце event_time\n",
    "  \n",
    "3.Исследовательский анализ данных\n",
    "   - Период, в течении которого собирались данные\n",
    "   - Количество уникальных пользователей\n",
    "   - Типы событий в датасете\n",
    "   - Выделение пользовательской сессии\n",
    "   - Retention Rate\n",
    "   - Conversion Rate\n",
    "   - Конверсия в целевое действие — просмотр контактов\n",
    "   - Частота действий\n",
    "   \n",
    "   \n",
    "4.Сегментирование пользователей на основе событий\n",
    "   - Расчёт Retention rate для групп\n",
    "   - Расчёт Conversion Rate для групп\n",
    "    \n",
    "5.Проверка статистических гипотез\n",
    "   Конверсия в просмотры контактов пользователей, которые перешли из разных источников(Google и Yandex) равна](#h_15)\n",
    "   Группа пользователей,которая добавила объявление в избранное (favorites_add) имеет большую конверсию в целевое действие, чем другие пользователи]\n",
    "   \n",
    "6.Выводы и рекомендации"
   ]
  },
  {
   "cell_type": "markdown",
   "metadata": {},
   "source": [
    "## Загрузка данных и изучение общей информации\n",
    "<a id=\"h_1\"></a>"
   ]
  },
  {
   "cell_type": "code",
   "execution_count": 1,
   "metadata": {},
   "outputs": [],
   "source": [
    "import warnings\n",
    "warnings.filterwarnings(\"ignore\")\n",
    "import pandas as pd\n",
    "import matplotlib.pyplot as plt\n",
    "import plotly.express as px\n",
    "from datetime import datetime, timedelta\n",
    "import seaborn as sns\n",
    "import math as mth\n",
    "from scipy import stats as st\n",
    "import math\n"
   ]
  },
  {
   "cell_type": "markdown",
   "metadata": {},
   "source": [
    "<mark>Используем конструкцию try-except, чтобы избежать ошибок с загрузкой данных</mark>"
   ]
  },
  {
   "cell_type": "code",
   "execution_count": 2,
   "metadata": {
    "scrolled": true
   },
   "outputs": [],
   "source": [
    "try:\n",
    "    events = pd.read_csv('datasets/mobile_dataset.csv')\n",
    "    source = pd.read_csv('/datasets/mobile_soures.csv')\n",
    "except:\n",
    "    events = pd.read_csv('https://code.s3.yandex.net/datasets/mobile_dataset.csv')\n",
    "    source = pd.read_csv('https://code.s3.yandex.net/datasets/mobile_soures.csv') \n"
   ]
  },
  {
   "cell_type": "markdown",
   "metadata": {},
   "source": [
    "`Исследуем датасет events:`"
   ]
  },
  {
   "cell_type": "code",
   "execution_count": 3,
   "metadata": {},
   "outputs": [
    {
     "name": "stdout",
     "output_type": "stream",
     "text": [
      "<class 'pandas.core.frame.DataFrame'>\n",
      "RangeIndex: 74197 entries, 0 to 74196\n",
      "Data columns (total 3 columns):\n",
      " #   Column      Non-Null Count  Dtype \n",
      "---  ------      --------------  ----- \n",
      " 0   event.time  74197 non-null  object\n",
      " 1   event.name  74197 non-null  object\n",
      " 2   user.id     74197 non-null  object\n",
      "dtypes: object(3)\n",
      "memory usage: 1.7+ MB\n"
     ]
    }
   ],
   "source": [
    "events.info()"
   ]
  },
  {
   "cell_type": "code",
   "execution_count": 4,
   "metadata": {},
   "outputs": [
    {
     "data": {
      "text/html": [
       "<div>\n",
       "<style scoped>\n",
       "    .dataframe tbody tr th:only-of-type {\n",
       "        vertical-align: middle;\n",
       "    }\n",
       "\n",
       "    .dataframe tbody tr th {\n",
       "        vertical-align: top;\n",
       "    }\n",
       "\n",
       "    .dataframe thead th {\n",
       "        text-align: right;\n",
       "    }\n",
       "</style>\n",
       "<table border=\"1\" class=\"dataframe\">\n",
       "  <thead>\n",
       "    <tr style=\"text-align: right;\">\n",
       "      <th></th>\n",
       "      <th>event.time</th>\n",
       "      <th>event.name</th>\n",
       "      <th>user.id</th>\n",
       "    </tr>\n",
       "  </thead>\n",
       "  <tbody>\n",
       "    <tr>\n",
       "      <th>0</th>\n",
       "      <td>2019-10-07 00:00:00.431357</td>\n",
       "      <td>advert_open</td>\n",
       "      <td>020292ab-89bc-4156-9acf-68bc2783f894</td>\n",
       "    </tr>\n",
       "    <tr>\n",
       "      <th>1</th>\n",
       "      <td>2019-10-07 00:00:01.236320</td>\n",
       "      <td>tips_show</td>\n",
       "      <td>020292ab-89bc-4156-9acf-68bc2783f894</td>\n",
       "    </tr>\n",
       "    <tr>\n",
       "      <th>2</th>\n",
       "      <td>2019-10-07 00:00:02.245341</td>\n",
       "      <td>tips_show</td>\n",
       "      <td>cf7eda61-9349-469f-ac27-e5b6f5ec475c</td>\n",
       "    </tr>\n",
       "    <tr>\n",
       "      <th>3</th>\n",
       "      <td>2019-10-07 00:00:07.039334</td>\n",
       "      <td>tips_show</td>\n",
       "      <td>020292ab-89bc-4156-9acf-68bc2783f894</td>\n",
       "    </tr>\n",
       "    <tr>\n",
       "      <th>4</th>\n",
       "      <td>2019-10-07 00:00:56.319813</td>\n",
       "      <td>advert_open</td>\n",
       "      <td>cf7eda61-9349-469f-ac27-e5b6f5ec475c</td>\n",
       "    </tr>\n",
       "  </tbody>\n",
       "</table>\n",
       "</div>"
      ],
      "text/plain": [
       "                   event.time   event.name  \\\n",
       "0  2019-10-07 00:00:00.431357  advert_open   \n",
       "1  2019-10-07 00:00:01.236320    tips_show   \n",
       "2  2019-10-07 00:00:02.245341    tips_show   \n",
       "3  2019-10-07 00:00:07.039334    tips_show   \n",
       "4  2019-10-07 00:00:56.319813  advert_open   \n",
       "\n",
       "                                user.id  \n",
       "0  020292ab-89bc-4156-9acf-68bc2783f894  \n",
       "1  020292ab-89bc-4156-9acf-68bc2783f894  \n",
       "2  cf7eda61-9349-469f-ac27-e5b6f5ec475c  \n",
       "3  020292ab-89bc-4156-9acf-68bc2783f894  \n",
       "4  cf7eda61-9349-469f-ac27-e5b6f5ec475c  "
      ]
     },
     "metadata": {},
     "output_type": "display_data"
    },
    {
     "data": {
      "text/plain": [
       "(74197, 3)"
      ]
     },
     "metadata": {},
     "output_type": "display_data"
    }
   ],
   "source": [
    "display(events.head(5), events.shape)"
   ]
  },
  {
   "cell_type": "markdown",
   "metadata": {},
   "source": [
    "<mark>Датасет `events` содержит в себе 3 столбца со временем события, именем события и id пользователя, совершившего событие.\n",
    "    Первично посмотрев на данные,приходим к выводу, что в датасете events нужно поменять тип данных столбца event.time c object на datetime, а также привести название столбцов к стандартному виду </mark>"
   ]
  },
  {
   "cell_type": "markdown",
   "metadata": {},
   "source": [
    "`Исследуем датасет source:`"
   ]
  },
  {
   "cell_type": "code",
   "execution_count": 5,
   "metadata": {},
   "outputs": [
    {
     "name": "stdout",
     "output_type": "stream",
     "text": [
      "<class 'pandas.core.frame.DataFrame'>\n",
      "RangeIndex: 4293 entries, 0 to 4292\n",
      "Data columns (total 2 columns):\n",
      " #   Column  Non-Null Count  Dtype \n",
      "---  ------  --------------  ----- \n",
      " 0   userId  4293 non-null   object\n",
      " 1   source  4293 non-null   object\n",
      "dtypes: object(2)\n",
      "memory usage: 67.2+ KB\n"
     ]
    }
   ],
   "source": [
    "source.info()"
   ]
  },
  {
   "cell_type": "code",
   "execution_count": 6,
   "metadata": {},
   "outputs": [
    {
     "data": {
      "text/html": [
       "<div>\n",
       "<style scoped>\n",
       "    .dataframe tbody tr th:only-of-type {\n",
       "        vertical-align: middle;\n",
       "    }\n",
       "\n",
       "    .dataframe tbody tr th {\n",
       "        vertical-align: top;\n",
       "    }\n",
       "\n",
       "    .dataframe thead th {\n",
       "        text-align: right;\n",
       "    }\n",
       "</style>\n",
       "<table border=\"1\" class=\"dataframe\">\n",
       "  <thead>\n",
       "    <tr style=\"text-align: right;\">\n",
       "      <th></th>\n",
       "      <th>userId</th>\n",
       "      <th>source</th>\n",
       "    </tr>\n",
       "  </thead>\n",
       "  <tbody>\n",
       "    <tr>\n",
       "      <th>0</th>\n",
       "      <td>020292ab-89bc-4156-9acf-68bc2783f894</td>\n",
       "      <td>other</td>\n",
       "    </tr>\n",
       "    <tr>\n",
       "      <th>1</th>\n",
       "      <td>cf7eda61-9349-469f-ac27-e5b6f5ec475c</td>\n",
       "      <td>yandex</td>\n",
       "    </tr>\n",
       "    <tr>\n",
       "      <th>2</th>\n",
       "      <td>8c356c42-3ba9-4cb6-80b8-3f868d0192c3</td>\n",
       "      <td>yandex</td>\n",
       "    </tr>\n",
       "    <tr>\n",
       "      <th>3</th>\n",
       "      <td>d9b06b47-0f36-419b-bbb0-3533e582a6cb</td>\n",
       "      <td>other</td>\n",
       "    </tr>\n",
       "    <tr>\n",
       "      <th>4</th>\n",
       "      <td>f32e1e2a-3027-4693-b793-b7b3ff274439</td>\n",
       "      <td>google</td>\n",
       "    </tr>\n",
       "  </tbody>\n",
       "</table>\n",
       "</div>"
      ],
      "text/plain": [
       "                                 userId  source\n",
       "0  020292ab-89bc-4156-9acf-68bc2783f894   other\n",
       "1  cf7eda61-9349-469f-ac27-e5b6f5ec475c  yandex\n",
       "2  8c356c42-3ba9-4cb6-80b8-3f868d0192c3  yandex\n",
       "3  d9b06b47-0f36-419b-bbb0-3533e582a6cb   other\n",
       "4  f32e1e2a-3027-4693-b793-b7b3ff274439  google"
      ]
     },
     "metadata": {},
     "output_type": "display_data"
    },
    {
     "data": {
      "text/plain": [
       "(74197, 3)"
      ]
     },
     "metadata": {},
     "output_type": "display_data"
    }
   ],
   "source": [
    "display(source.head(5), events.shape)"
   ]
  },
  {
   "cell_type": "markdown",
   "metadata": {},
   "source": [
    "<mark>Датасет `source` содержит в себе 2 столбца c id пользователя и источник, с которого пользователь установил приложение.\n",
    "    Менять типы данных здесь не требуется, приведём название стобца \"userId\" к стандартному виду. Ниже проверим датасеты на наличие дубликатов и пропусков.</mark>"
   ]
  },
  {
   "cell_type": "code",
   "execution_count": 7,
   "metadata": {},
   "outputs": [
    {
     "name": "stdout",
     "output_type": "stream",
     "text": [
      "0\n",
      "0\n"
     ]
    }
   ],
   "source": [
    "print(source.duplicated().sum()) \n",
    "print(events.duplicated().sum())  "
   ]
  },
  {
   "cell_type": "code",
   "execution_count": 8,
   "metadata": {},
   "outputs": [
    {
     "name": "stdout",
     "output_type": "stream",
     "text": [
      "event.time    0\n",
      "event.name    0\n",
      "user.id       0\n",
      "dtype: int64\n",
      "userId    0\n",
      "source    0\n",
      "dtype: int64\n"
     ]
    }
   ],
   "source": [
    "print(events.isna().sum())\n",
    "print(source.isna().sum())"
   ]
  },
  {
   "cell_type": "markdown",
   "metadata": {},
   "source": [
    "<mark>Дубликатов и пропусков не обнаружено, переходим к предобработке.</mark>"
   ]
  },
  {
   "cell_type": "markdown",
   "metadata": {},
   "source": [
    "## Предобработка данных\n",
    "<a id=\"h_2\"></a>\n",
    "\n",
    "[К оглавлению](#head)"
   ]
  },
  {
   "cell_type": "markdown",
   "metadata": {},
   "source": [
    "<mark>Переименуем столбцы</mark>"
   ]
  },
  {
   "cell_type": "code",
   "execution_count": 9,
   "metadata": {},
   "outputs": [],
   "source": [
    "events.rename(columns={'event.time': 'event_time',\\\n",
    "                       'event.name': 'event_name',\\\n",
    "                       'user.id': 'user_id'}, inplace=True)\n",
    "\n",
    "source.rename(columns={'userId': 'user_id'}, inplace=True)"
   ]
  },
  {
   "cell_type": "markdown",
   "metadata": {},
   "source": [
    "<mark>Изменим тип данных в столбце event_time</mark>"
   ]
  },
  {
   "cell_type": "code",
   "execution_count": 10,
   "metadata": {},
   "outputs": [
    {
     "name": "stdout",
     "output_type": "stream",
     "text": [
      "<class 'pandas.core.frame.DataFrame'>\n",
      "RangeIndex: 74197 entries, 0 to 74196\n",
      "Data columns (total 3 columns):\n",
      " #   Column      Non-Null Count  Dtype         \n",
      "---  ------      --------------  -----         \n",
      " 0   event_time  74197 non-null  datetime64[ns]\n",
      " 1   event_name  74197 non-null  object        \n",
      " 2   user_id     74197 non-null  object        \n",
      "dtypes: datetime64[ns](1), object(2)\n",
      "memory usage: 1.7+ MB\n"
     ]
    }
   ],
   "source": [
    "events = events.astype({'event_time': 'datetime64[ns]'})\n",
    "events.info()"
   ]
  },
  {
   "cell_type": "markdown",
   "metadata": {},
   "source": [
    "Объеденим столбцы `contacts_show` и `show_contacts` и `search_1 — search_7`, так они по сути равнозначны."
   ]
  },
  {
   "cell_type": "code",
   "execution_count": 11,
   "metadata": {},
   "outputs": [
    {
     "name": "stdout",
     "output_type": "stream",
     "text": [
      "tips_show        40055\n",
      "photos_show      10012\n",
      "search            6784\n",
      "advert_open       6164\n",
      "contacts_show     4529\n",
      "map               3881\n",
      "favorites_add     1417\n",
      "tips_click         814\n",
      "contacts_call      541\n",
      "Name: event_name, dtype: int64\n"
     ]
    }
   ],
   "source": [
    "events['event_name'] = events['event_name'].replace('show_contacts','contacts_show')\n",
    "\n",
    "events['event_name'] = events['event_name'].replace('search_1','search')\n",
    "events['event_name'] = events['event_name'].replace('search_2','search')\n",
    "events['event_name'] = events['event_name'].replace('search_3','search')\n",
    "events['event_name'] = events['event_name'].replace('search_4','search')\n",
    "events['event_name'] = events['event_name'].replace('search_5','search')\n",
    "events['event_name'] = events['event_name'].replace('search_6','search')\n",
    "events['event_name'] = events['event_name'].replace('search_7','search')\n",
    "\n",
    "print(events['event_name'].value_counts())"
   ]
  },
  {
   "cell_type": "markdown",
   "metadata": {},
   "source": [
    "`Общий вывод:`\n",
    "\n",
    "**Мы получили два датасета с данными пользователей, совершивших действия в приложении \"Ненужные вещи\". Датасет `events` содержит в себе 3 столбца со временем события, именем события и id пользователя, совершившего событие, а датасет `source` содержит id пользователя и источник, с которого пользователь установил приложение. Была выполнена предобработка данных, а именно: приведение названий столбцов к стандартному виду; приведение стобца event_time к нужному типу данных; поиск пропусков и дубликатов. Пропуски и дубликаты обнаружены не были, можем приступать к исследовательскому анализу**"
   ]
  },
  {
   "cell_type": "markdown",
   "metadata": {},
   "source": [
    "## Исследовательский анализ данных\n",
    "<a id=\"h_6\"></a>\n",
    "\n",
    "[К оглавлению](#head)"
   ]
  },
  {
   "cell_type": "markdown",
   "metadata": {},
   "source": [
    "<mark>Посмотрим на период, в течении которого собирались данные:</mark>"
   ]
  },
  {
   "cell_type": "code",
   "execution_count": 12,
   "metadata": {},
   "outputs": [
    {
     "name": "stdout",
     "output_type": "stream",
     "text": [
      "2019-10-07 00:00:00.431357\n",
      "2019-11-03 23:58:12.532487\n"
     ]
    },
    {
     "data": {
      "text/plain": [
       "count                            74197\n",
       "mean     2019-10-21 15:32:09.039316992\n",
       "min         2019-10-07 00:00:00.431357\n",
       "25%      2019-10-14 22:04:27.791869952\n",
       "50%      2019-10-22 00:26:56.715014912\n",
       "75%      2019-10-28 12:35:53.023877120\n",
       "max         2019-11-03 23:58:12.532487\n",
       "Name: event_time, dtype: object"
      ]
     },
     "execution_count": 12,
     "metadata": {},
     "output_type": "execute_result"
    }
   ],
   "source": [
    "print(events['event_time'].min())\n",
    "print(events['event_time'].max())\n",
    "\n",
    "events['event_time'].describe(datetime_is_numeric=True)"
   ]
  },
  {
   "cell_type": "markdown",
   "metadata": {},
   "source": [
    "**Данные с `2019-10-07` по `2019-11-03`**"
   ]
  },
  {
   "cell_type": "markdown",
   "metadata": {},
   "source": [
    "<mark>Какое количество уникальных пользователей?<mark>"
   ]
  },
  {
   "cell_type": "code",
   "execution_count": 13,
   "metadata": {},
   "outputs": [
    {
     "data": {
      "text/plain": [
       "4293"
      ]
     },
     "execution_count": 13,
     "metadata": {},
     "output_type": "execute_result"
    }
   ],
   "source": [
    "events['user_id'].nunique()"
   ]
  },
  {
   "cell_type": "markdown",
   "metadata": {},
   "source": [
    "<mark>Какие типы событий есть в датасете?<mark>"
   ]
  },
  {
   "cell_type": "code",
   "execution_count": 14,
   "metadata": {},
   "outputs": [
    {
     "name": "stdout",
     "output_type": "stream",
     "text": [
      "tips_show        40055\n",
      "photos_show      10012\n",
      "search            6784\n",
      "advert_open       6164\n",
      "contacts_show     4529\n",
      "map               3881\n",
      "favorites_add     1417\n",
      "tips_click         814\n",
      "contacts_call      541\n",
      "Name: event_name, dtype: int64\n"
     ]
    }
   ],
   "source": [
    "list(events['event_name'].unique())\n",
    "print(events['event_name'].value_counts())"
   ]
  },
  {
   "cell_type": "markdown",
   "metadata": {},
   "source": [
    "**Расшифровки событий:**\n",
    "\n",
    "- `advert_open` — открытие карточки объявления\n",
    "- `photos_show` — просмотр фотографий в объявлении\n",
    "- `tips_show` — пользователь увидел рекомендованные объявления\n",
    "- `tips_click` — пользователь кликнул по рекомендованному объявлению\n",
    "- `contacts_show` и `show_contacts` — пользователь нажал на кнопку \"посмотреть номер телефона\" на карточке объявления\n",
    "- `contacts_call` — пользователь позвонил по номеру телефона на карточке объявления\n",
    "- `map` — пользователь открыл карту размещенных объявлений\n",
    "- `search_1 — search_7` — разные события, связанные с поиском по сайту\n",
    "- `favorites_add` — добавление объявления в избранное\n",
    "\n",
    "Наиболее распространённым событием является tips_show,photos_show,advert_open.Очень интересно буд\n",
    "Возможно, нам понабится объеденить столбцы `contacts_show` и `show_contacts` и `search_1 — search_7`, в ходе работы будет яснее."
   ]
  },
  {
   "cell_type": "markdown",
   "metadata": {},
   "source": [
    "<mark>Выделение пользовательской сессии:<mark>"
   ]
  },
  {
   "cell_type": "markdown",
   "metadata": {},
   "source": [
    "**Выясним,какой временной промежуток между совершением событий.**"
   ]
  },
  {
   "cell_type": "code",
   "execution_count": 15,
   "metadata": {},
   "outputs": [
    {
     "data": {
      "image/png": "[encoded data removed]",
      "text/plain": [
       "<Figure size 1080x720 with 1 Axes>"
      ]
     },
     "metadata": {
      "needs_background": "light"
     },
     "output_type": "display_data"
    }
   ],
   "source": [
    "events.sort_values(by=['user_id', 'event_time'], inplace=True)\n",
    "\n",
    "events['time_spent'] = events.groupby('user_id')['event_time'].diff(1)\n",
    "distribution = events['time_spent'].dropna().dt.total_seconds().reset_index()\n",
    "distribution['time_spent'] = distribution['time_spent'] / 60 \n",
    "\n",
    "plt.figure(figsize=(15, 10))\n",
    "ax = distribution.query('time_spent >= 1')['time_spent'].hist(bins=50, range=[0, 30],color='purple')\n",
    "ax.set_title('Время между совершением событий.', fontsize=18)\n",
    "ax.set_xlabel('Время между событиями(1 столбец=5 минут).', fontsize=14)\n",
    "ax.set_ylabel('Количество совершённых событий');"
   ]
  },
  {
   "cell_type": "code",
   "execution_count": 16,
   "metadata": {},
   "outputs": [
    {
     "data": {
      "text/plain": [
       "count                        69904\n",
       "mean     0 days 03:53:01.169952121\n",
       "std      1 days 01:32:57.259354294\n",
       "min         0 days 00:00:00.000001\n",
       "10%      0 days 00:00:05.391409900\n",
       "20%      0 days 00:00:15.767806800\n",
       "40%      0 days 00:00:49.642757800\n",
       "50%         0 days 00:01:10.535313\n",
       "90%      0 days 00:17:00.807463700\n",
       "95%      0 days 10:24:36.433909349\n",
       "99%      4 days 22:14:04.256934480\n",
       "max        26 days 13:49:54.853516\n",
       "Name: time_spent, dtype: object"
      ]
     },
     "execution_count": 16,
     "metadata": {},
     "output_type": "execute_result"
    }
   ],
   "source": [
    "events['time_spent'].describe(percentiles=[0.1,0.2,0.4,0.9,0.95,0.99])"
   ]
  },
  {
   "cell_type": "markdown",
   "metadata": {},
   "source": [
    "<mark>На основе построенной диаграмме распределения и последующего рассмотрения перцентилей, было принято решение взять время сессии в 20 минут.</mark>"
   ]
  },
  {
   "cell_type": "code",
   "execution_count": 17,
   "metadata": {},
   "outputs": [],
   "source": [
    "g = (events.groupby('user_id')['event_time'].diff() > pd.Timedelta('20Min')).cumsum()\n",
    "events['session_id'] = events.groupby(['user_id', g], sort=False).ngroup() + 1\n",
    "events.sort_values(by=['user_id', 'event_time'], inplace=True)"
   ]
  },
  {
   "cell_type": "markdown",
   "metadata": {},
   "source": [
    "**Посмотрим на распределение количества сессий по пользователям.**"
   ]
  },
  {
   "cell_type": "code",
   "execution_count": 18,
   "metadata": {},
   "outputs": [
    {
     "data": {
      "image/png": "[encoded data removed]",
      "text/plain": [
       "<Figure size 1080x720 with 1 Axes>"
      ]
     },
     "metadata": {
      "needs_background": "light"
     },
     "output_type": "display_data"
    }
   ],
   "source": [
    "plt.figure(figsize=(15, 10))\n",
    "\n",
    "ax = events.groupby('user_id', as_index=False).agg({'session_id': 'nunique'})['session_id'].hist(bins=30, range=[0, 31],color='purple')\n",
    "\n",
    "\n",
    "ax.set_title('Количество сессий по пользователям', fontsize=18)\n",
    "ax.set_ylabel('Количество пользователей', fontsize=14)\n",
    "ax.set_xlabel('Количество сессий', fontsize=14);"
   ]
  },
  {
   "cell_type": "markdown",
   "metadata": {},
   "source": [
    "**Посчитаем среднее и медиану**"
   ]
  },
  {
   "cell_type": "code",
   "execution_count": 19,
   "metadata": {},
   "outputs": [
    {
     "name": "stdout",
     "output_type": "stream",
     "text": [
      "2.556487304914978\n",
      "1.0\n"
     ]
    }
   ],
   "source": [
    "print(events.groupby('user_id', as_index=False).agg({'session_id': 'nunique'})['session_id'].mean())\n",
    "print(events.groupby('user_id', as_index=False).agg({'session_id': 'nunique'})['session_id'].median())"
   ]
  },
  {
   "cell_type": "markdown",
   "metadata": {},
   "source": [
    "<mark>В собранных данных преобладают пользователи, которые совершили 1 сессию. В среднем на пользователя приходится 2.55 сессии,медианное же значение - 1 сессия.</mark>"
   ]
  },
  {
   "cell_type": "markdown",
   "metadata": {},
   "source": [
    "### Retention Rate\n",
    "<a id=\"h_7\"></a>"
   ]
  },
  {
   "cell_type": "markdown",
   "metadata": {},
   "source": [
    "<mark>Для расчёта Retention Rate воспользуемся функцией из теории, но перед этим создадим столбцы с данными о первой активности пользователей.</mark>"
   ]
  },
  {
   "cell_type": "code",
   "execution_count": 20,
   "metadata": {},
   "outputs": [
    {
     "data": {
      "text/html": [
       "<div>\n",
       "<style scoped>\n",
       "    .dataframe tbody tr th:only-of-type {\n",
       "        vertical-align: middle;\n",
       "    }\n",
       "\n",
       "    .dataframe tbody tr th {\n",
       "        vertical-align: top;\n",
       "    }\n",
       "\n",
       "    .dataframe thead th {\n",
       "        text-align: right;\n",
       "    }\n",
       "</style>\n",
       "<table border=\"1\" class=\"dataframe\">\n",
       "  <thead>\n",
       "    <tr style=\"text-align: right;\">\n",
       "      <th></th>\n",
       "      <th>event_time</th>\n",
       "      <th>event_name</th>\n",
       "      <th>user_id</th>\n",
       "      <th>time_spent</th>\n",
       "      <th>session_id</th>\n",
       "      <th>first_ts</th>\n",
       "      <th>dt</th>\n",
       "    </tr>\n",
       "  </thead>\n",
       "  <tbody>\n",
       "    <tr>\n",
       "      <th>0</th>\n",
       "      <td>2019-10-07 13:39:45.989359</td>\n",
       "      <td>tips_show</td>\n",
       "      <td>0001b1d5-b74a-4cbf-aeb0-7df5947bf349</td>\n",
       "      <td>NaT</td>\n",
       "      <td>1</td>\n",
       "      <td>2019-10-07 13:39:45.989359</td>\n",
       "      <td>2019-10-07</td>\n",
       "    </tr>\n",
       "    <tr>\n",
       "      <th>1</th>\n",
       "      <td>2019-10-07 13:40:31.052909</td>\n",
       "      <td>tips_show</td>\n",
       "      <td>0001b1d5-b74a-4cbf-aeb0-7df5947bf349</td>\n",
       "      <td>0 days 00:00:45.063550</td>\n",
       "      <td>1</td>\n",
       "      <td>2019-10-07 13:39:45.989359</td>\n",
       "      <td>2019-10-07</td>\n",
       "    </tr>\n",
       "    <tr>\n",
       "      <th>2</th>\n",
       "      <td>2019-10-07 13:41:05.722489</td>\n",
       "      <td>tips_show</td>\n",
       "      <td>0001b1d5-b74a-4cbf-aeb0-7df5947bf349</td>\n",
       "      <td>0 days 00:00:34.669580</td>\n",
       "      <td>1</td>\n",
       "      <td>2019-10-07 13:39:45.989359</td>\n",
       "      <td>2019-10-07</td>\n",
       "    </tr>\n",
       "    <tr>\n",
       "      <th>3</th>\n",
       "      <td>2019-10-07 13:43:20.735461</td>\n",
       "      <td>tips_show</td>\n",
       "      <td>0001b1d5-b74a-4cbf-aeb0-7df5947bf349</td>\n",
       "      <td>0 days 00:02:15.012972</td>\n",
       "      <td>1</td>\n",
       "      <td>2019-10-07 13:39:45.989359</td>\n",
       "      <td>2019-10-07</td>\n",
       "    </tr>\n",
       "    <tr>\n",
       "      <th>4</th>\n",
       "      <td>2019-10-07 13:45:30.917502</td>\n",
       "      <td>tips_show</td>\n",
       "      <td>0001b1d5-b74a-4cbf-aeb0-7df5947bf349</td>\n",
       "      <td>0 days 00:02:10.182041</td>\n",
       "      <td>1</td>\n",
       "      <td>2019-10-07 13:39:45.989359</td>\n",
       "      <td>2019-10-07</td>\n",
       "    </tr>\n",
       "    <tr>\n",
       "      <th>...</th>\n",
       "      <td>...</td>\n",
       "      <td>...</td>\n",
       "      <td>...</td>\n",
       "      <td>...</td>\n",
       "      <td>...</td>\n",
       "      <td>...</td>\n",
       "      <td>...</td>\n",
       "    </tr>\n",
       "    <tr>\n",
       "      <th>74192</th>\n",
       "      <td>2019-11-03 15:51:23.959572</td>\n",
       "      <td>tips_show</td>\n",
       "      <td>fffb9e79-b927-4dbb-9b48-7fd09b23a62b</td>\n",
       "      <td>0 days 00:00:27.886483</td>\n",
       "      <td>10975</td>\n",
       "      <td>2019-10-12 00:57:21.241896</td>\n",
       "      <td>2019-10-12</td>\n",
       "    </tr>\n",
       "    <tr>\n",
       "      <th>74193</th>\n",
       "      <td>2019-11-03 15:51:57.899997</td>\n",
       "      <td>contacts_show</td>\n",
       "      <td>fffb9e79-b927-4dbb-9b48-7fd09b23a62b</td>\n",
       "      <td>0 days 00:00:33.940425</td>\n",
       "      <td>10975</td>\n",
       "      <td>2019-10-12 00:57:21.241896</td>\n",
       "      <td>2019-10-12</td>\n",
       "    </tr>\n",
       "    <tr>\n",
       "      <th>74194</th>\n",
       "      <td>2019-11-03 16:07:40.932077</td>\n",
       "      <td>tips_show</td>\n",
       "      <td>fffb9e79-b927-4dbb-9b48-7fd09b23a62b</td>\n",
       "      <td>0 days 00:15:43.032080</td>\n",
       "      <td>10975</td>\n",
       "      <td>2019-10-12 00:57:21.241896</td>\n",
       "      <td>2019-10-12</td>\n",
       "    </tr>\n",
       "    <tr>\n",
       "      <th>74195</th>\n",
       "      <td>2019-11-03 16:08:18.202734</td>\n",
       "      <td>tips_show</td>\n",
       "      <td>fffb9e79-b927-4dbb-9b48-7fd09b23a62b</td>\n",
       "      <td>0 days 00:00:37.270657</td>\n",
       "      <td>10975</td>\n",
       "      <td>2019-10-12 00:57:21.241896</td>\n",
       "      <td>2019-10-12</td>\n",
       "    </tr>\n",
       "    <tr>\n",
       "      <th>74196</th>\n",
       "      <td>2019-11-03 16:08:25.388712</td>\n",
       "      <td>tips_show</td>\n",
       "      <td>fffb9e79-b927-4dbb-9b48-7fd09b23a62b</td>\n",
       "      <td>0 days 00:00:07.185978</td>\n",
       "      <td>10975</td>\n",
       "      <td>2019-10-12 00:57:21.241896</td>\n",
       "      <td>2019-10-12</td>\n",
       "    </tr>\n",
       "  </tbody>\n",
       "</table>\n",
       "<p>74197 rows × 7 columns</p>\n",
       "</div>"
      ],
      "text/plain": [
       "                      event_time     event_name  \\\n",
       "0     2019-10-07 13:39:45.989359      tips_show   \n",
       "1     2019-10-07 13:40:31.052909      tips_show   \n",
       "2     2019-10-07 13:41:05.722489      tips_show   \n",
       "3     2019-10-07 13:43:20.735461      tips_show   \n",
       "4     2019-10-07 13:45:30.917502      tips_show   \n",
       "...                          ...            ...   \n",
       "74192 2019-11-03 15:51:23.959572      tips_show   \n",
       "74193 2019-11-03 15:51:57.899997  contacts_show   \n",
       "74194 2019-11-03 16:07:40.932077      tips_show   \n",
       "74195 2019-11-03 16:08:18.202734      tips_show   \n",
       "74196 2019-11-03 16:08:25.388712      tips_show   \n",
       "\n",
       "                                    user_id             time_spent  \\\n",
       "0      0001b1d5-b74a-4cbf-aeb0-7df5947bf349                    NaT   \n",
       "1      0001b1d5-b74a-4cbf-aeb0-7df5947bf349 0 days 00:00:45.063550   \n",
       "2      0001b1d5-b74a-4cbf-aeb0-7df5947bf349 0 days 00:00:34.669580   \n",
       "3      0001b1d5-b74a-4cbf-aeb0-7df5947bf349 0 days 00:02:15.012972   \n",
       "4      0001b1d5-b74a-4cbf-aeb0-7df5947bf349 0 days 00:02:10.182041   \n",
       "...                                     ...                    ...   \n",
       "74192  fffb9e79-b927-4dbb-9b48-7fd09b23a62b 0 days 00:00:27.886483   \n",
       "74193  fffb9e79-b927-4dbb-9b48-7fd09b23a62b 0 days 00:00:33.940425   \n",
       "74194  fffb9e79-b927-4dbb-9b48-7fd09b23a62b 0 days 00:15:43.032080   \n",
       "74195  fffb9e79-b927-4dbb-9b48-7fd09b23a62b 0 days 00:00:37.270657   \n",
       "74196  fffb9e79-b927-4dbb-9b48-7fd09b23a62b 0 days 00:00:07.185978   \n",
       "\n",
       "       session_id                   first_ts          dt  \n",
       "0               1 2019-10-07 13:39:45.989359  2019-10-07  \n",
       "1               1 2019-10-07 13:39:45.989359  2019-10-07  \n",
       "2               1 2019-10-07 13:39:45.989359  2019-10-07  \n",
       "3               1 2019-10-07 13:39:45.989359  2019-10-07  \n",
       "4               1 2019-10-07 13:39:45.989359  2019-10-07  \n",
       "...           ...                        ...         ...  \n",
       "74192       10975 2019-10-12 00:57:21.241896  2019-10-12  \n",
       "74193       10975 2019-10-12 00:57:21.241896  2019-10-12  \n",
       "74194       10975 2019-10-12 00:57:21.241896  2019-10-12  \n",
       "74195       10975 2019-10-12 00:57:21.241896  2019-10-12  \n",
       "74196       10975 2019-10-12 00:57:21.241896  2019-10-12  \n",
       "\n",
       "[74197 rows x 7 columns]"
      ]
     },
     "execution_count": 20,
     "metadata": {},
     "output_type": "execute_result"
    }
   ],
   "source": [
    "events.sort_values(by=['user_id', 'event_time'], inplace=True)\n",
    "\n",
    "first_action = events.groupby('user_id', as_index=False).agg({'event_time': 'first'}).rename(columns={'event_time': 'first_ts'})\n",
    "profiles = events.merge(first_action, how='left', on='user_id').copy()\n",
    "# profiles.info()\n",
    "profiles['dt'] =  pd.to_datetime(profiles['first_ts']).dt.date\n",
    "\n",
    "profiles"
   ]
  },
  {
   "cell_type": "markdown",
   "metadata": {},
   "source": [
    "**Рассчитаем начало сессии**"
   ]
  },
  {
   "cell_type": "code",
   "execution_count": 21,
   "metadata": {},
   "outputs": [
    {
     "data": {
      "text/html": [
       "<div>\n",
       "<style scoped>\n",
       "    .dataframe tbody tr th:only-of-type {\n",
       "        vertical-align: middle;\n",
       "    }\n",
       "\n",
       "    .dataframe tbody tr th {\n",
       "        vertical-align: top;\n",
       "    }\n",
       "\n",
       "    .dataframe thead th {\n",
       "        text-align: right;\n",
       "    }\n",
       "</style>\n",
       "<table border=\"1\" class=\"dataframe\">\n",
       "  <thead>\n",
       "    <tr style=\"text-align: right;\">\n",
       "      <th></th>\n",
       "      <th>event_time</th>\n",
       "      <th>event_name</th>\n",
       "      <th>user_id</th>\n",
       "      <th>time_spent</th>\n",
       "      <th>session_id</th>\n",
       "      <th>first_ts</th>\n",
       "      <th>dt</th>\n",
       "      <th>session_start</th>\n",
       "    </tr>\n",
       "  </thead>\n",
       "  <tbody>\n",
       "    <tr>\n",
       "      <th>0</th>\n",
       "      <td>2019-10-07 13:39:45.989359</td>\n",
       "      <td>tips_show</td>\n",
       "      <td>0001b1d5-b74a-4cbf-aeb0-7df5947bf349</td>\n",
       "      <td>NaT</td>\n",
       "      <td>1</td>\n",
       "      <td>2019-10-07 13:39:45.989359</td>\n",
       "      <td>2019-10-07</td>\n",
       "      <td>2019-10-07 13:39:45.989359</td>\n",
       "    </tr>\n",
       "    <tr>\n",
       "      <th>1</th>\n",
       "      <td>2019-10-07 13:40:31.052909</td>\n",
       "      <td>tips_show</td>\n",
       "      <td>0001b1d5-b74a-4cbf-aeb0-7df5947bf349</td>\n",
       "      <td>0 days 00:00:45.063550</td>\n",
       "      <td>1</td>\n",
       "      <td>2019-10-07 13:39:45.989359</td>\n",
       "      <td>2019-10-07</td>\n",
       "      <td>2019-10-07 13:39:45.989359</td>\n",
       "    </tr>\n",
       "    <tr>\n",
       "      <th>2</th>\n",
       "      <td>2019-10-07 13:41:05.722489</td>\n",
       "      <td>tips_show</td>\n",
       "      <td>0001b1d5-b74a-4cbf-aeb0-7df5947bf349</td>\n",
       "      <td>0 days 00:00:34.669580</td>\n",
       "      <td>1</td>\n",
       "      <td>2019-10-07 13:39:45.989359</td>\n",
       "      <td>2019-10-07</td>\n",
       "      <td>2019-10-07 13:39:45.989359</td>\n",
       "    </tr>\n",
       "    <tr>\n",
       "      <th>3</th>\n",
       "      <td>2019-10-07 13:43:20.735461</td>\n",
       "      <td>tips_show</td>\n",
       "      <td>0001b1d5-b74a-4cbf-aeb0-7df5947bf349</td>\n",
       "      <td>0 days 00:02:15.012972</td>\n",
       "      <td>1</td>\n",
       "      <td>2019-10-07 13:39:45.989359</td>\n",
       "      <td>2019-10-07</td>\n",
       "      <td>2019-10-07 13:39:45.989359</td>\n",
       "    </tr>\n",
       "    <tr>\n",
       "      <th>4</th>\n",
       "      <td>2019-10-07 13:45:30.917502</td>\n",
       "      <td>tips_show</td>\n",
       "      <td>0001b1d5-b74a-4cbf-aeb0-7df5947bf349</td>\n",
       "      <td>0 days 00:02:10.182041</td>\n",
       "      <td>1</td>\n",
       "      <td>2019-10-07 13:39:45.989359</td>\n",
       "      <td>2019-10-07</td>\n",
       "      <td>2019-10-07 13:39:45.989359</td>\n",
       "    </tr>\n",
       "    <tr>\n",
       "      <th>...</th>\n",
       "      <td>...</td>\n",
       "      <td>...</td>\n",
       "      <td>...</td>\n",
       "      <td>...</td>\n",
       "      <td>...</td>\n",
       "      <td>...</td>\n",
       "      <td>...</td>\n",
       "      <td>...</td>\n",
       "    </tr>\n",
       "    <tr>\n",
       "      <th>74192</th>\n",
       "      <td>2019-11-03 15:51:23.959572</td>\n",
       "      <td>tips_show</td>\n",
       "      <td>fffb9e79-b927-4dbb-9b48-7fd09b23a62b</td>\n",
       "      <td>0 days 00:00:27.886483</td>\n",
       "      <td>10975</td>\n",
       "      <td>2019-10-12 00:57:21.241896</td>\n",
       "      <td>2019-10-12</td>\n",
       "      <td>2019-11-03 15:36:01.007440</td>\n",
       "    </tr>\n",
       "    <tr>\n",
       "      <th>74193</th>\n",
       "      <td>2019-11-03 15:51:57.899997</td>\n",
       "      <td>contacts_show</td>\n",
       "      <td>fffb9e79-b927-4dbb-9b48-7fd09b23a62b</td>\n",
       "      <td>0 days 00:00:33.940425</td>\n",
       "      <td>10975</td>\n",
       "      <td>2019-10-12 00:57:21.241896</td>\n",
       "      <td>2019-10-12</td>\n",
       "      <td>2019-11-03 15:36:01.007440</td>\n",
       "    </tr>\n",
       "    <tr>\n",
       "      <th>74194</th>\n",
       "      <td>2019-11-03 16:07:40.932077</td>\n",
       "      <td>tips_show</td>\n",
       "      <td>fffb9e79-b927-4dbb-9b48-7fd09b23a62b</td>\n",
       "      <td>0 days 00:15:43.032080</td>\n",
       "      <td>10975</td>\n",
       "      <td>2019-10-12 00:57:21.241896</td>\n",
       "      <td>2019-10-12</td>\n",
       "      <td>2019-11-03 15:36:01.007440</td>\n",
       "    </tr>\n",
       "    <tr>\n",
       "      <th>74195</th>\n",
       "      <td>2019-11-03 16:08:18.202734</td>\n",
       "      <td>tips_show</td>\n",
       "      <td>fffb9e79-b927-4dbb-9b48-7fd09b23a62b</td>\n",
       "      <td>0 days 00:00:37.270657</td>\n",
       "      <td>10975</td>\n",
       "      <td>2019-10-12 00:57:21.241896</td>\n",
       "      <td>2019-10-12</td>\n",
       "      <td>2019-11-03 15:36:01.007440</td>\n",
       "    </tr>\n",
       "    <tr>\n",
       "      <th>74196</th>\n",
       "      <td>2019-11-03 16:08:25.388712</td>\n",
       "      <td>tips_show</td>\n",
       "      <td>fffb9e79-b927-4dbb-9b48-7fd09b23a62b</td>\n",
       "      <td>0 days 00:00:07.185978</td>\n",
       "      <td>10975</td>\n",
       "      <td>2019-10-12 00:57:21.241896</td>\n",
       "      <td>2019-10-12</td>\n",
       "      <td>2019-11-03 15:36:01.007440</td>\n",
       "    </tr>\n",
       "  </tbody>\n",
       "</table>\n",
       "<p>74197 rows × 8 columns</p>\n",
       "</div>"
      ],
      "text/plain": [
       "                      event_time     event_name  \\\n",
       "0     2019-10-07 13:39:45.989359      tips_show   \n",
       "1     2019-10-07 13:40:31.052909      tips_show   \n",
       "2     2019-10-07 13:41:05.722489      tips_show   \n",
       "3     2019-10-07 13:43:20.735461      tips_show   \n",
       "4     2019-10-07 13:45:30.917502      tips_show   \n",
       "...                          ...            ...   \n",
       "74192 2019-11-03 15:51:23.959572      tips_show   \n",
       "74193 2019-11-03 15:51:57.899997  contacts_show   \n",
       "74194 2019-11-03 16:07:40.932077      tips_show   \n",
       "74195 2019-11-03 16:08:18.202734      tips_show   \n",
       "74196 2019-11-03 16:08:25.388712      tips_show   \n",
       "\n",
       "                                    user_id             time_spent  \\\n",
       "0      0001b1d5-b74a-4cbf-aeb0-7df5947bf349                    NaT   \n",
       "1      0001b1d5-b74a-4cbf-aeb0-7df5947bf349 0 days 00:00:45.063550   \n",
       "2      0001b1d5-b74a-4cbf-aeb0-7df5947bf349 0 days 00:00:34.669580   \n",
       "3      0001b1d5-b74a-4cbf-aeb0-7df5947bf349 0 days 00:02:15.012972   \n",
       "4      0001b1d5-b74a-4cbf-aeb0-7df5947bf349 0 days 00:02:10.182041   \n",
       "...                                     ...                    ...   \n",
       "74192  fffb9e79-b927-4dbb-9b48-7fd09b23a62b 0 days 00:00:27.886483   \n",
       "74193  fffb9e79-b927-4dbb-9b48-7fd09b23a62b 0 days 00:00:33.940425   \n",
       "74194  fffb9e79-b927-4dbb-9b48-7fd09b23a62b 0 days 00:15:43.032080   \n",
       "74195  fffb9e79-b927-4dbb-9b48-7fd09b23a62b 0 days 00:00:37.270657   \n",
       "74196  fffb9e79-b927-4dbb-9b48-7fd09b23a62b 0 days 00:00:07.185978   \n",
       "\n",
       "       session_id                   first_ts          dt  \\\n",
       "0               1 2019-10-07 13:39:45.989359  2019-10-07   \n",
       "1               1 2019-10-07 13:39:45.989359  2019-10-07   \n",
       "2               1 2019-10-07 13:39:45.989359  2019-10-07   \n",
       "3               1 2019-10-07 13:39:45.989359  2019-10-07   \n",
       "4               1 2019-10-07 13:39:45.989359  2019-10-07   \n",
       "...           ...                        ...         ...   \n",
       "74192       10975 2019-10-12 00:57:21.241896  2019-10-12   \n",
       "74193       10975 2019-10-12 00:57:21.241896  2019-10-12   \n",
       "74194       10975 2019-10-12 00:57:21.241896  2019-10-12   \n",
       "74195       10975 2019-10-12 00:57:21.241896  2019-10-12   \n",
       "74196       10975 2019-10-12 00:57:21.241896  2019-10-12   \n",
       "\n",
       "                   session_start  \n",
       "0     2019-10-07 13:39:45.989359  \n",
       "1     2019-10-07 13:39:45.989359  \n",
       "2     2019-10-07 13:39:45.989359  \n",
       "3     2019-10-07 13:39:45.989359  \n",
       "4     2019-10-07 13:39:45.989359  \n",
       "...                          ...  \n",
       "74192 2019-11-03 15:36:01.007440  \n",
       "74193 2019-11-03 15:36:01.007440  \n",
       "74194 2019-11-03 15:36:01.007440  \n",
       "74195 2019-11-03 15:36:01.007440  \n",
       "74196 2019-11-03 15:36:01.007440  \n",
       "\n",
       "[74197 rows x 8 columns]"
      ]
     },
     "execution_count": 21,
     "metadata": {},
     "output_type": "execute_result"
    }
   ],
   "source": [
    "session_start = profiles.groupby('session_id', as_index=False).agg({'event_time': 'first'}).rename(columns={'event_time': 'session_start'})\n",
    "\n",
    "profiles = profiles.merge(session_start, how='left', on='session_id').copy() \n",
    "# profiles.info()\n",
    "profiles['dt'] = pd.to_datetime(profiles['dt']).dt.date\n",
    "profiles"
   ]
  },
  {
   "cell_type": "code",
   "execution_count": 22,
   "metadata": {},
   "outputs": [],
   "source": [
    "def get_retention(\n",
    "    profiles, \n",
    "    observation_date, \n",
    "    horizon_days, \n",
    "    dimensions=[], \n",
    "    ignore_horizon=False\n",
    "):\n",
    "    # исключаем пользователей, не «доживших» до горизонта анализа\n",
    "    last_suitable_acquisition_date = observation_date\n",
    "    if not ignore_horizon:\n",
    "        last_suitable_acquisition_date = observation_date - timedelta(\n",
    "            days=horizon_days - 1\n",
    "        )\n",
    "    result_raw = profiles.query('dt <= @last_suitable_acquisition_date')\n",
    "\n",
    "    result_raw['lifetime'] = (\n",
    "        result_raw['session_start'] - result_raw['first_ts']\n",
    "    ).dt.days\n",
    "\n",
    "    # рассчитываем удержание\n",
    "    result_grouped = result_raw.pivot_table(\n",
    "        index=dimensions, columns='lifetime', values='user_id', aggfunc='nunique'\n",
    "    )\n",
    "    cohort_sizes = (\n",
    "        result_raw.groupby(dimensions)\n",
    "        .agg({'user_id': 'nunique'})\n",
    "        .rename(columns={'user_id': 'cohort_size'})\n",
    "    )\n",
    "    result_grouped = cohort_sizes.merge(\n",
    "        result_grouped, on=dimensions, how='left'\n",
    "    ).fillna(0)\n",
    "    result_grouped = result_grouped.div(result_grouped['cohort_size'], axis=0)\n",
    "\n",
    "    # исключаем все лайфтаймы, превышающие горизонт анализа\n",
    "    result_grouped = result_grouped[\n",
    "        ['cohort_size'] + list(range(horizon_days))\n",
    "    ]\n",
    "\n",
    "    # восстанавливаем столбец с размерами когорт\n",
    "    result_grouped['cohort_size'] = cohort_sizes\n",
    "\n",
    "    # возвращаем таблицу удержания и сырые данные\n",
    "    return result_raw, result_grouped\n",
    "\n",
    "# получаем сырые данные и готовую таблицу\n",
    "\n"
   ]
  },
  {
   "cell_type": "markdown",
   "metadata": {},
   "source": [
    "**Расчитаем Retention Rate по 14 дням лайфтайма для когорт с 7 по 21 число(с учетом горизонта анализа)**"
   ]
  },
  {
   "cell_type": "code",
   "execution_count": 23,
   "metadata": {},
   "outputs": [
    {
     "data": {
      "text/html": [
       "<div>\n",
       "<style scoped>\n",
       "    .dataframe tbody tr th:only-of-type {\n",
       "        vertical-align: middle;\n",
       "    }\n",
       "\n",
       "    .dataframe tbody tr th {\n",
       "        vertical-align: top;\n",
       "    }\n",
       "\n",
       "    .dataframe thead th {\n",
       "        text-align: right;\n",
       "    }\n",
       "</style>\n",
       "<table border=\"1\" class=\"dataframe\">\n",
       "  <thead>\n",
       "    <tr style=\"text-align: right;\">\n",
       "      <th></th>\n",
       "      <th>cohort_size</th>\n",
       "      <th>0</th>\n",
       "      <th>1</th>\n",
       "      <th>2</th>\n",
       "      <th>3</th>\n",
       "      <th>4</th>\n",
       "      <th>5</th>\n",
       "      <th>6</th>\n",
       "      <th>7</th>\n",
       "      <th>8</th>\n",
       "      <th>9</th>\n",
       "      <th>10</th>\n",
       "      <th>11</th>\n",
       "      <th>12</th>\n",
       "      <th>13</th>\n",
       "    </tr>\n",
       "    <tr>\n",
       "      <th>dt</th>\n",
       "      <th></th>\n",
       "      <th></th>\n",
       "      <th></th>\n",
       "      <th></th>\n",
       "      <th></th>\n",
       "      <th></th>\n",
       "      <th></th>\n",
       "      <th></th>\n",
       "      <th></th>\n",
       "      <th></th>\n",
       "      <th></th>\n",
       "      <th></th>\n",
       "      <th></th>\n",
       "      <th></th>\n",
       "      <th></th>\n",
       "    </tr>\n",
       "  </thead>\n",
       "  <tbody>\n",
       "    <tr>\n",
       "      <th>2019-10-07</th>\n",
       "      <td>204</td>\n",
       "      <td>1.0</td>\n",
       "      <td>0.117647</td>\n",
       "      <td>0.093137</td>\n",
       "      <td>0.107843</td>\n",
       "      <td>0.053922</td>\n",
       "      <td>0.034314</td>\n",
       "      <td>0.058824</td>\n",
       "      <td>0.078431</td>\n",
       "      <td>0.053922</td>\n",
       "      <td>0.049020</td>\n",
       "      <td>0.049020</td>\n",
       "      <td>0.034314</td>\n",
       "      <td>0.024510</td>\n",
       "      <td>0.058824</td>\n",
       "    </tr>\n",
       "    <tr>\n",
       "      <th>2019-10-08</th>\n",
       "      <td>167</td>\n",
       "      <td>1.0</td>\n",
       "      <td>0.161677</td>\n",
       "      <td>0.125749</td>\n",
       "      <td>0.053892</td>\n",
       "      <td>0.041916</td>\n",
       "      <td>0.065868</td>\n",
       "      <td>0.053892</td>\n",
       "      <td>0.071856</td>\n",
       "      <td>0.053892</td>\n",
       "      <td>0.035928</td>\n",
       "      <td>0.059880</td>\n",
       "      <td>0.023952</td>\n",
       "      <td>0.029940</td>\n",
       "      <td>0.029940</td>\n",
       "    </tr>\n",
       "    <tr>\n",
       "      <th>2019-10-09</th>\n",
       "      <td>176</td>\n",
       "      <td>1.0</td>\n",
       "      <td>0.073864</td>\n",
       "      <td>0.062500</td>\n",
       "      <td>0.056818</td>\n",
       "      <td>0.068182</td>\n",
       "      <td>0.068182</td>\n",
       "      <td>0.056818</td>\n",
       "      <td>0.073864</td>\n",
       "      <td>0.056818</td>\n",
       "      <td>0.034091</td>\n",
       "      <td>0.022727</td>\n",
       "      <td>0.028409</td>\n",
       "      <td>0.034091</td>\n",
       "      <td>0.056818</td>\n",
       "    </tr>\n",
       "    <tr>\n",
       "      <th>2019-10-10</th>\n",
       "      <td>174</td>\n",
       "      <td>1.0</td>\n",
       "      <td>0.086207</td>\n",
       "      <td>0.103448</td>\n",
       "      <td>0.080460</td>\n",
       "      <td>0.091954</td>\n",
       "      <td>0.080460</td>\n",
       "      <td>0.068966</td>\n",
       "      <td>0.051724</td>\n",
       "      <td>0.080460</td>\n",
       "      <td>0.034483</td>\n",
       "      <td>0.034483</td>\n",
       "      <td>0.051724</td>\n",
       "      <td>0.045977</td>\n",
       "      <td>0.040230</td>\n",
       "    </tr>\n",
       "    <tr>\n",
       "      <th>2019-10-11</th>\n",
       "      <td>136</td>\n",
       "      <td>1.0</td>\n",
       "      <td>0.088235</td>\n",
       "      <td>0.117647</td>\n",
       "      <td>0.095588</td>\n",
       "      <td>0.088235</td>\n",
       "      <td>0.073529</td>\n",
       "      <td>0.066176</td>\n",
       "      <td>0.044118</td>\n",
       "      <td>0.014706</td>\n",
       "      <td>0.044118</td>\n",
       "      <td>0.036765</td>\n",
       "      <td>0.036765</td>\n",
       "      <td>0.051471</td>\n",
       "      <td>0.029412</td>\n",
       "    </tr>\n",
       "    <tr>\n",
       "      <th>2019-10-12</th>\n",
       "      <td>125</td>\n",
       "      <td>1.0</td>\n",
       "      <td>0.128000</td>\n",
       "      <td>0.160000</td>\n",
       "      <td>0.056000</td>\n",
       "      <td>0.064000</td>\n",
       "      <td>0.088000</td>\n",
       "      <td>0.080000</td>\n",
       "      <td>0.088000</td>\n",
       "      <td>0.080000</td>\n",
       "      <td>0.064000</td>\n",
       "      <td>0.064000</td>\n",
       "      <td>0.040000</td>\n",
       "      <td>0.072000</td>\n",
       "      <td>0.048000</td>\n",
       "    </tr>\n",
       "    <tr>\n",
       "      <th>2019-10-13</th>\n",
       "      <td>148</td>\n",
       "      <td>1.0</td>\n",
       "      <td>0.128378</td>\n",
       "      <td>0.067568</td>\n",
       "      <td>0.054054</td>\n",
       "      <td>0.067568</td>\n",
       "      <td>0.054054</td>\n",
       "      <td>0.054054</td>\n",
       "      <td>0.047297</td>\n",
       "      <td>0.047297</td>\n",
       "      <td>0.047297</td>\n",
       "      <td>0.040541</td>\n",
       "      <td>0.040541</td>\n",
       "      <td>0.047297</td>\n",
       "      <td>0.047297</td>\n",
       "    </tr>\n",
       "    <tr>\n",
       "      <th>2019-10-14</th>\n",
       "      <td>185</td>\n",
       "      <td>1.0</td>\n",
       "      <td>0.113514</td>\n",
       "      <td>0.102703</td>\n",
       "      <td>0.102703</td>\n",
       "      <td>0.081081</td>\n",
       "      <td>0.070270</td>\n",
       "      <td>0.048649</td>\n",
       "      <td>0.043243</td>\n",
       "      <td>0.075676</td>\n",
       "      <td>0.037838</td>\n",
       "      <td>0.037838</td>\n",
       "      <td>0.048649</td>\n",
       "      <td>0.016216</td>\n",
       "      <td>0.059459</td>\n",
       "    </tr>\n",
       "    <tr>\n",
       "      <th>2019-10-15</th>\n",
       "      <td>186</td>\n",
       "      <td>1.0</td>\n",
       "      <td>0.134409</td>\n",
       "      <td>0.086022</td>\n",
       "      <td>0.075269</td>\n",
       "      <td>0.053763</td>\n",
       "      <td>0.053763</td>\n",
       "      <td>0.080645</td>\n",
       "      <td>0.075269</td>\n",
       "      <td>0.064516</td>\n",
       "      <td>0.021505</td>\n",
       "      <td>0.037634</td>\n",
       "      <td>0.037634</td>\n",
       "      <td>0.032258</td>\n",
       "      <td>0.037634</td>\n",
       "    </tr>\n",
       "    <tr>\n",
       "      <th>2019-10-16</th>\n",
       "      <td>166</td>\n",
       "      <td>1.0</td>\n",
       "      <td>0.126506</td>\n",
       "      <td>0.072289</td>\n",
       "      <td>0.030120</td>\n",
       "      <td>0.048193</td>\n",
       "      <td>0.060241</td>\n",
       "      <td>0.042169</td>\n",
       "      <td>0.054217</td>\n",
       "      <td>0.060241</td>\n",
       "      <td>0.042169</td>\n",
       "      <td>0.024096</td>\n",
       "      <td>0.036145</td>\n",
       "      <td>0.048193</td>\n",
       "      <td>0.042169</td>\n",
       "    </tr>\n",
       "    <tr>\n",
       "      <th>2019-10-17</th>\n",
       "      <td>170</td>\n",
       "      <td>1.0</td>\n",
       "      <td>0.141176</td>\n",
       "      <td>0.129412</td>\n",
       "      <td>0.088235</td>\n",
       "      <td>0.088235</td>\n",
       "      <td>0.094118</td>\n",
       "      <td>0.094118</td>\n",
       "      <td>0.047059</td>\n",
       "      <td>0.047059</td>\n",
       "      <td>0.035294</td>\n",
       "      <td>0.035294</td>\n",
       "      <td>0.076471</td>\n",
       "      <td>0.029412</td>\n",
       "      <td>0.041176</td>\n",
       "    </tr>\n",
       "    <tr>\n",
       "      <th>2019-10-18</th>\n",
       "      <td>156</td>\n",
       "      <td>1.0</td>\n",
       "      <td>0.083333</td>\n",
       "      <td>0.096154</td>\n",
       "      <td>0.096154</td>\n",
       "      <td>0.057692</td>\n",
       "      <td>0.064103</td>\n",
       "      <td>0.064103</td>\n",
       "      <td>0.076923</td>\n",
       "      <td>0.064103</td>\n",
       "      <td>0.032051</td>\n",
       "      <td>0.038462</td>\n",
       "      <td>0.025641</td>\n",
       "      <td>0.051282</td>\n",
       "      <td>0.038462</td>\n",
       "    </tr>\n",
       "    <tr>\n",
       "      <th>2019-10-19</th>\n",
       "      <td>159</td>\n",
       "      <td>1.0</td>\n",
       "      <td>0.094340</td>\n",
       "      <td>0.113208</td>\n",
       "      <td>0.069182</td>\n",
       "      <td>0.025157</td>\n",
       "      <td>0.056604</td>\n",
       "      <td>0.062893</td>\n",
       "      <td>0.062893</td>\n",
       "      <td>0.031447</td>\n",
       "      <td>0.044025</td>\n",
       "      <td>0.037736</td>\n",
       "      <td>0.025157</td>\n",
       "      <td>0.031447</td>\n",
       "      <td>0.018868</td>\n",
       "    </tr>\n",
       "    <tr>\n",
       "      <th>2019-10-20</th>\n",
       "      <td>144</td>\n",
       "      <td>1.0</td>\n",
       "      <td>0.104167</td>\n",
       "      <td>0.076389</td>\n",
       "      <td>0.048611</td>\n",
       "      <td>0.069444</td>\n",
       "      <td>0.062500</td>\n",
       "      <td>0.041667</td>\n",
       "      <td>0.069444</td>\n",
       "      <td>0.048611</td>\n",
       "      <td>0.027778</td>\n",
       "      <td>0.013889</td>\n",
       "      <td>0.020833</td>\n",
       "      <td>0.034722</td>\n",
       "      <td>0.006944</td>\n",
       "    </tr>\n",
       "    <tr>\n",
       "      <th>2019-10-21</th>\n",
       "      <td>161</td>\n",
       "      <td>1.0</td>\n",
       "      <td>0.093168</td>\n",
       "      <td>0.086957</td>\n",
       "      <td>0.099379</td>\n",
       "      <td>0.037267</td>\n",
       "      <td>0.037267</td>\n",
       "      <td>0.049689</td>\n",
       "      <td>0.093168</td>\n",
       "      <td>0.037267</td>\n",
       "      <td>0.024845</td>\n",
       "      <td>0.037267</td>\n",
       "      <td>0.024845</td>\n",
       "      <td>0.006211</td>\n",
       "      <td>0.006211</td>\n",
       "    </tr>\n",
       "  </tbody>\n",
       "</table>\n",
       "</div>"
      ],
      "text/plain": [
       "            cohort_size    0         1         2         3         4  \\\n",
       "dt                                                                     \n",
       "2019-10-07          204  1.0  0.117647  0.093137  0.107843  0.053922   \n",
       "2019-10-08          167  1.0  0.161677  0.125749  0.053892  0.041916   \n",
       "2019-10-09          176  1.0  0.073864  0.062500  0.056818  0.068182   \n",
       "2019-10-10          174  1.0  0.086207  0.103448  0.080460  0.091954   \n",
       "2019-10-11          136  1.0  0.088235  0.117647  0.095588  0.088235   \n",
       "2019-10-12          125  1.0  0.128000  0.160000  0.056000  0.064000   \n",
       "2019-10-13          148  1.0  0.128378  0.067568  0.054054  0.067568   \n",
       "2019-10-14          185  1.0  0.113514  0.102703  0.102703  0.081081   \n",
       "2019-10-15          186  1.0  0.134409  0.086022  0.075269  0.053763   \n",
       "2019-10-16          166  1.0  0.126506  0.072289  0.030120  0.048193   \n",
       "2019-10-17          170  1.0  0.141176  0.129412  0.088235  0.088235   \n",
       "2019-10-18          156  1.0  0.083333  0.096154  0.096154  0.057692   \n",
       "2019-10-19          159  1.0  0.094340  0.113208  0.069182  0.025157   \n",
       "2019-10-20          144  1.0  0.104167  0.076389  0.048611  0.069444   \n",
       "2019-10-21          161  1.0  0.093168  0.086957  0.099379  0.037267   \n",
       "\n",
       "                   5         6         7         8         9        10  \\\n",
       "dt                                                                       \n",
       "2019-10-07  0.034314  0.058824  0.078431  0.053922  0.049020  0.049020   \n",
       "2019-10-08  0.065868  0.053892  0.071856  0.053892  0.035928  0.059880   \n",
       "2019-10-09  0.068182  0.056818  0.073864  0.056818  0.034091  0.022727   \n",
       "2019-10-10  0.080460  0.068966  0.051724  0.080460  0.034483  0.034483   \n",
       "2019-10-11  0.073529  0.066176  0.044118  0.014706  0.044118  0.036765   \n",
       "2019-10-12  0.088000  0.080000  0.088000  0.080000  0.064000  0.064000   \n",
       "2019-10-13  0.054054  0.054054  0.047297  0.047297  0.047297  0.040541   \n",
       "2019-10-14  0.070270  0.048649  0.043243  0.075676  0.037838  0.037838   \n",
       "2019-10-15  0.053763  0.080645  0.075269  0.064516  0.021505  0.037634   \n",
       "2019-10-16  0.060241  0.042169  0.054217  0.060241  0.042169  0.024096   \n",
       "2019-10-17  0.094118  0.094118  0.047059  0.047059  0.035294  0.035294   \n",
       "2019-10-18  0.064103  0.064103  0.076923  0.064103  0.032051  0.038462   \n",
       "2019-10-19  0.056604  0.062893  0.062893  0.031447  0.044025  0.037736   \n",
       "2019-10-20  0.062500  0.041667  0.069444  0.048611  0.027778  0.013889   \n",
       "2019-10-21  0.037267  0.049689  0.093168  0.037267  0.024845  0.037267   \n",
       "\n",
       "                  11        12        13  \n",
       "dt                                        \n",
       "2019-10-07  0.034314  0.024510  0.058824  \n",
       "2019-10-08  0.023952  0.029940  0.029940  \n",
       "2019-10-09  0.028409  0.034091  0.056818  \n",
       "2019-10-10  0.051724  0.045977  0.040230  \n",
       "2019-10-11  0.036765  0.051471  0.029412  \n",
       "2019-10-12  0.040000  0.072000  0.048000  \n",
       "2019-10-13  0.040541  0.047297  0.047297  \n",
       "2019-10-14  0.048649  0.016216  0.059459  \n",
       "2019-10-15  0.037634  0.032258  0.037634  \n",
       "2019-10-16  0.036145  0.048193  0.042169  \n",
       "2019-10-17  0.076471  0.029412  0.041176  \n",
       "2019-10-18  0.025641  0.051282  0.038462  \n",
       "2019-10-19  0.025157  0.031447  0.018868  \n",
       "2019-10-20  0.020833  0.034722  0.006944  \n",
       "2019-10-21  0.024845  0.006211  0.006211  "
      ]
     },
     "execution_count": 23,
     "metadata": {},
     "output_type": "execute_result"
    }
   ],
   "source": [
    "retention_raw, retention = get_retention(\n",
    "    profiles, datetime(2019, 11, 3).date(), 14, dimensions=['dt'], ignore_horizon=False\n",
    ")\n",
    "retention"
   ]
  },
  {
   "cell_type": "markdown",
   "metadata": {},
   "source": [
    "**Построим тепловую карту**"
   ]
  },
  {
   "cell_type": "code",
   "execution_count": 24,
   "metadata": {
    "scrolled": false
   },
   "outputs": [
    {
     "data": {
      "image/png": "[encoded data removed]",
      "text/plain": [
       "<Figure size 1152x720 with 1 Axes>"
      ]
     },
     "metadata": {
      "needs_background": "light"
     },
     "output_type": "display_data"
    }
   ],
   "source": [
    "\n",
    "\n",
    "plt.figure(figsize=(16, 10))  \n",
    "ax = sns.heatmap(\n",
    "    retention.drop(columns=['cohort_size', 0]),  \n",
    "    annot=True,  \n",
    "    fmt='.2%',  \n",
    "    cbar=False,\n",
    "    cmap= 'spring',\n",
    "    linewidths=2,\n",
    "    linecolor='black'\n",
    ")\n",
    "ax.set_title('Тепловая карта удержания.', fontsize=18)\n",
    "ax.set_ylabel('Kогорты по датам', fontsize=14)\n",
    "ax.set_xlabel('Лайфтайм', fontsize=14);\n"
   ]
  },
  {
   "cell_type": "markdown",
   "metadata": {},
   "source": [
    "### Конверсия"
   ]
  },
  {
   "cell_type": "markdown",
   "metadata": {},
   "source": [
    "**Сначала мы расчитаем общую конверсию по проекту**"
   ]
  },
  {
   "cell_type": "code",
   "execution_count": 25,
   "metadata": {},
   "outputs": [
    {
     "name": "stdout",
     "output_type": "stream",
     "text": [
      "Конверсия по проекту составляет: 0.22851153039832284\n"
     ]
    }
   ],
   "source": [
    "conversion_all = profiles.query('event_name==\"contacts_show\"').groupby('user_id').agg({'user_id': 'nunique'}).count() \n",
    "conversion_all_count = profiles.groupby('user_id').agg({'user_id': 'nunique'}).count()\n",
    "\n",
    "print(f\"Конверсия по проекту составляет: {(conversion_all / conversion_all_count)['user_id']}\")"
   ]
  },
  {
   "cell_type": "markdown",
   "metadata": {},
   "source": []
  },
  {
   "cell_type": "markdown",
   "metadata": {},
   "source": []
  },
  {
   "cell_type": "code",
   "execution_count": 26,
   "metadata": {},
   "outputs": [
    {
     "data": {
      "text/html": [
       "<div>\n",
       "<style scoped>\n",
       "    .dataframe tbody tr th:only-of-type {\n",
       "        vertical-align: middle;\n",
       "    }\n",
       "\n",
       "    .dataframe tbody tr th {\n",
       "        vertical-align: top;\n",
       "    }\n",
       "\n",
       "    .dataframe thead th {\n",
       "        text-align: right;\n",
       "    }\n",
       "</style>\n",
       "<table border=\"1\" class=\"dataframe\">\n",
       "  <thead>\n",
       "    <tr style=\"text-align: right;\">\n",
       "      <th></th>\n",
       "      <th>user_id</th>\n",
       "      <th>event_dt</th>\n",
       "    </tr>\n",
       "  </thead>\n",
       "  <tbody>\n",
       "    <tr>\n",
       "      <th>50</th>\n",
       "      <td>00157779-810c-4498-9e05-a1e9e3cedf93</td>\n",
       "      <td>2019-10-20 19:17:18.659799</td>\n",
       "    </tr>\n",
       "    <tr>\n",
       "      <th>54</th>\n",
       "      <td>00157779-810c-4498-9e05-a1e9e3cedf93</td>\n",
       "      <td>2019-10-20 19:23:11.839947</td>\n",
       "    </tr>\n",
       "    <tr>\n",
       "      <th>56</th>\n",
       "      <td>00157779-810c-4498-9e05-a1e9e3cedf93</td>\n",
       "      <td>2019-10-20 19:30:31.912891</td>\n",
       "    </tr>\n",
       "    <tr>\n",
       "      <th>60</th>\n",
       "      <td>00157779-810c-4498-9e05-a1e9e3cedf93</td>\n",
       "      <td>2019-10-20 20:04:53.349091</td>\n",
       "    </tr>\n",
       "    <tr>\n",
       "      <th>78</th>\n",
       "      <td>00157779-810c-4498-9e05-a1e9e3cedf93</td>\n",
       "      <td>2019-10-29 21:26:40.258472</td>\n",
       "    </tr>\n",
       "    <tr>\n",
       "      <th>...</th>\n",
       "      <td>...</td>\n",
       "      <td>...</td>\n",
       "    </tr>\n",
       "    <tr>\n",
       "      <th>74173</th>\n",
       "      <td>fffb9e79-b927-4dbb-9b48-7fd09b23a62b</td>\n",
       "      <td>2019-11-03 14:38:51.134084</td>\n",
       "    </tr>\n",
       "    <tr>\n",
       "      <th>74175</th>\n",
       "      <td>fffb9e79-b927-4dbb-9b48-7fd09b23a62b</td>\n",
       "      <td>2019-11-03 14:41:24.780546</td>\n",
       "    </tr>\n",
       "    <tr>\n",
       "      <th>74177</th>\n",
       "      <td>fffb9e79-b927-4dbb-9b48-7fd09b23a62b</td>\n",
       "      <td>2019-11-03 14:42:26.444553</td>\n",
       "    </tr>\n",
       "    <tr>\n",
       "      <th>74188</th>\n",
       "      <td>fffb9e79-b927-4dbb-9b48-7fd09b23a62b</td>\n",
       "      <td>2019-11-03 15:48:05.420247</td>\n",
       "    </tr>\n",
       "    <tr>\n",
       "      <th>74193</th>\n",
       "      <td>fffb9e79-b927-4dbb-9b48-7fd09b23a62b</td>\n",
       "      <td>2019-11-03 15:51:57.899997</td>\n",
       "    </tr>\n",
       "  </tbody>\n",
       "</table>\n",
       "<p>4529 rows × 2 columns</p>\n",
       "</div>"
      ],
      "text/plain": [
       "                                    user_id                   event_dt\n",
       "50     00157779-810c-4498-9e05-a1e9e3cedf93 2019-10-20 19:17:18.659799\n",
       "54     00157779-810c-4498-9e05-a1e9e3cedf93 2019-10-20 19:23:11.839947\n",
       "56     00157779-810c-4498-9e05-a1e9e3cedf93 2019-10-20 19:30:31.912891\n",
       "60     00157779-810c-4498-9e05-a1e9e3cedf93 2019-10-20 20:04:53.349091\n",
       "78     00157779-810c-4498-9e05-a1e9e3cedf93 2019-10-29 21:26:40.258472\n",
       "...                                     ...                        ...\n",
       "74173  fffb9e79-b927-4dbb-9b48-7fd09b23a62b 2019-11-03 14:38:51.134084\n",
       "74175  fffb9e79-b927-4dbb-9b48-7fd09b23a62b 2019-11-03 14:41:24.780546\n",
       "74177  fffb9e79-b927-4dbb-9b48-7fd09b23a62b 2019-11-03 14:42:26.444553\n",
       "74188  fffb9e79-b927-4dbb-9b48-7fd09b23a62b 2019-11-03 15:48:05.420247\n",
       "74193  fffb9e79-b927-4dbb-9b48-7fd09b23a62b 2019-11-03 15:51:57.899997\n",
       "\n",
       "[4529 rows x 2 columns]"
      ]
     },
     "execution_count": 26,
     "metadata": {},
     "output_type": "execute_result"
    }
   ],
   "source": [
    "time_action = profiles.query('event_name == \"contacts_show\"')[['user_id', 'event_time']]\n",
    "time_action.rename(columns={'event_time': 'event_dt'}, inplace=True)\n",
    "time_action"
   ]
  },
  {
   "cell_type": "code",
   "execution_count": 27,
   "metadata": {},
   "outputs": [],
   "source": [
    "def get_conversion(\n",
    "    profiles,\n",
    "    time_action,\n",
    "    observation_date,\n",
    "    horizon_days,\n",
    "    dimensions=[],\n",
    "    ignore_horizon=False,\n",
    "):\n",
    "\n",
    "    # исключаем пользователей, не «доживших» до горизонта анализа\n",
    "    last_suitable_acquisition_date = observation_date\n",
    "    if not ignore_horizon:\n",
    "        last_suitable_acquisition_date = observation_date - timedelta(\n",
    "            days=horizon_days - 1\n",
    "        )\n",
    "    result_raw = profiles.query('dt <= @last_suitable_acquisition_date')\n",
    "\n",
    "    # определяем дату и время первого целевого действия для каждого пользователя\n",
    "    first_act = (\n",
    "        time_action.sort_values(by=['user_id', 'event_dt'])\n",
    "        .groupby('user_id')\n",
    "        .agg({'event_dt': 'first'})\n",
    "        .reset_index()\n",
    "    )\n",
    "\n",
    "    # добавляем данные о целевых действиях \n",
    "    result_raw = result_raw.merge(\n",
    "        first_act[['user_id', 'event_dt']], on='user_id', how='left'\n",
    "    )\n",
    "\n",
    "    # рассчитываем лайфтайм для каждого целевого действия\n",
    "    result_raw['lifetime'] = (\n",
    "        result_raw['event_dt'] - result_raw['first_ts']\n",
    "    ).dt.days\n",
    "\n",
    "    # группируем по cohort, если в dimensions ничего нет\n",
    "    if len(dimensions) == 0:\n",
    "        result_raw['cohort'] = 'All users'\n",
    "        dimensions = dimensions + ['cohort']\n",
    "\n",
    "    # функция для группировки таблицы по желаемым признакам\n",
    "    def group_by_dimensions(df, dims, horizon_days):\n",
    "        # строим «треугольную» таблицу конверсии\n",
    "        result = df.pivot_table(\n",
    "            index=dims, columns='lifetime', values='user_id', aggfunc='nunique'\n",
    "        )\n",
    "        # считаем сумму с накоплением для каждой строки\n",
    "        result = result.fillna(0).cumsum(axis = 1)\n",
    "        # вычисляем размеры когорт\n",
    "        cohort_sizes = (\n",
    "            df.groupby(dims)\n",
    "            .agg({'user_id': 'nunique'})\n",
    "            .rename(columns={'user_id': 'cohort_size'})\n",
    "        )\n",
    "        # добавляем размеры когорт в таблицу конверсии\n",
    "        result = cohort_sizes.merge(result, on=dims, how='left').fillna(0)\n",
    "        # делим каждую «ячейку» в строке на размер когорты\n",
    "        # и получаем conversion rate\n",
    "        result = result.div(result['cohort_size'], axis=0)\n",
    "        # исключаем все лайфтаймы, превышающие горизонт анализа\n",
    "        result = result[['cohort_size'] + list(range(horizon_days))]\n",
    "        # восстанавливаем размеры когорт\n",
    "        result['cohort_size'] = cohort_sizes\n",
    "        return result\n",
    "\n",
    "    # получаем таблицу конверсии\n",
    "    result_grouped = group_by_dimensions(result_raw, dimensions, horizon_days)\n",
    "\n",
    "    # для таблицы динамики конверсии убираем 'cohort' из dimensions\n",
    "    if 'cohort' in dimensions: \n",
    "        dimensions = []\n",
    "\n",
    "    # получаем таблицу динамики конверсии\n",
    "    result_in_time = group_by_dimensions(\n",
    "        result_raw, dimensions + ['dt'], horizon_days\n",
    "    )\n",
    "\n",
    "    # возвращаем обе таблицы и сырые данные\n",
    "    return result_raw, result_grouped, result_in_time "
   ]
  },
  {
   "cell_type": "code",
   "execution_count": 28,
   "metadata": {},
   "outputs": [
    {
     "data": {
      "text/html": [
       "<div>\n",
       "<style scoped>\n",
       "    .dataframe tbody tr th:only-of-type {\n",
       "        vertical-align: middle;\n",
       "    }\n",
       "\n",
       "    .dataframe tbody tr th {\n",
       "        vertical-align: top;\n",
       "    }\n",
       "\n",
       "    .dataframe thead th {\n",
       "        text-align: right;\n",
       "    }\n",
       "</style>\n",
       "<table border=\"1\" class=\"dataframe\">\n",
       "  <thead>\n",
       "    <tr style=\"text-align: right;\">\n",
       "      <th></th>\n",
       "      <th>cohort_size</th>\n",
       "      <th>0.0</th>\n",
       "      <th>1.0</th>\n",
       "      <th>2.0</th>\n",
       "      <th>3.0</th>\n",
       "      <th>4.0</th>\n",
       "      <th>5.0</th>\n",
       "      <th>6.0</th>\n",
       "      <th>7.0</th>\n",
       "      <th>8.0</th>\n",
       "      <th>9.0</th>\n",
       "      <th>10.0</th>\n",
       "      <th>11.0</th>\n",
       "      <th>12.0</th>\n",
       "      <th>13.0</th>\n",
       "    </tr>\n",
       "    <tr>\n",
       "      <th>cohort</th>\n",
       "      <th></th>\n",
       "      <th></th>\n",
       "      <th></th>\n",
       "      <th></th>\n",
       "      <th></th>\n",
       "      <th></th>\n",
       "      <th></th>\n",
       "      <th></th>\n",
       "      <th></th>\n",
       "      <th></th>\n",
       "      <th></th>\n",
       "      <th></th>\n",
       "      <th></th>\n",
       "      <th></th>\n",
       "      <th></th>\n",
       "    </tr>\n",
       "  </thead>\n",
       "  <tbody>\n",
       "    <tr>\n",
       "      <th>All users</th>\n",
       "      <td>2457</td>\n",
       "      <td>0.179894</td>\n",
       "      <td>0.186813</td>\n",
       "      <td>0.19129</td>\n",
       "      <td>0.196581</td>\n",
       "      <td>0.201872</td>\n",
       "      <td>0.205942</td>\n",
       "      <td>0.20757</td>\n",
       "      <td>0.209605</td>\n",
       "      <td>0.211233</td>\n",
       "      <td>0.214896</td>\n",
       "      <td>0.217745</td>\n",
       "      <td>0.218559</td>\n",
       "      <td>0.220187</td>\n",
       "      <td>0.221815</td>\n",
       "    </tr>\n",
       "  </tbody>\n",
       "</table>\n",
       "</div>"
      ],
      "text/plain": [
       "           cohort_size       0.0       1.0      2.0       3.0       4.0  \\\n",
       "cohort                                                                    \n",
       "All users         2457  0.179894  0.186813  0.19129  0.196581  0.201872   \n",
       "\n",
       "                5.0      6.0       7.0       8.0       9.0      10.0  \\\n",
       "cohort                                                                 \n",
       "All users  0.205942  0.20757  0.209605  0.211233  0.214896  0.217745   \n",
       "\n",
       "               11.0      12.0      13.0  \n",
       "cohort                                   \n",
       "All users  0.218559  0.220187  0.221815  "
      ]
     },
     "execution_count": 28,
     "metadata": {},
     "output_type": "execute_result"
    }
   ],
   "source": [
    "conversion_raw, conversion, conversion_history = get_conversion(profiles, time_action, datetime(2019, 11, 3).date(), 14)\n",
    "conversion"
   ]
  },
  {
   "cell_type": "code",
   "execution_count": 29,
   "metadata": {},
   "outputs": [
    {
     "data": {
      "text/plain": [
       "<Figure size 864x504 with 0 Axes>"
      ]
     },
     "metadata": {},
     "output_type": "display_data"
    },
    {
     "data": {
      "image/png": "[encoded data removed]",
      "text/plain": [
       "<Figure size 432x288 with 1 Axes>"
      ]
     },
     "metadata": {
      "needs_background": "light"
     },
     "output_type": "display_data"
    }
   ],
   "source": [
    "plt.figure(figsize=(12, 7))\n",
    "\n",
    "report = conversion.drop(columns = ['cohort_size'])\n",
    "\n",
    "ax =report.T.plot(grid=True, xticks=list(report.columns.values),color='r',) \n",
    "\n",
    "ax.set_title('Конверсия', fontsize=18)\n",
    "ax.set_ylabel('% конверсии', fontsize=14)\n",
    "ax.set_xlabel('Лайфтайм', fontsize=14);\n",
    "\n",
    "plt.show()"
   ]
  },
  {
   "cell_type": "markdown",
   "metadata": {},
   "source": [
    "### Конверсия в целевое действие — просмотр контактов\n",
    "<a id=\"h_10\"></a>\n",
    "\n",
    "[К оглавлению](#head)"
   ]
  },
  {
   "cell_type": "markdown",
   "metadata": {},
   "source": [
    "**Выводим конверсию целевого действия с остальными действиями пользователей**"
   ]
  },
  {
   "cell_type": "markdown",
   "metadata": {},
   "source": [
    "1. `tips_show` → `contacts_show`"
   ]
  },
  {
   "cell_type": "code",
   "execution_count": 30,
   "metadata": {},
   "outputs": [
    {
     "data": {
      "text/plain": [
       "2801"
      ]
     },
     "execution_count": 30,
     "metadata": {},
     "output_type": "execute_result"
    }
   ],
   "source": [
    "#количество пользователей, совершивших действие tips_show\n",
    "tips_show = profiles.query('event_name == \"tips_show\"')['user_id']\n",
    "tips_show.nunique()"
   ]
  },
  {
   "cell_type": "markdown",
   "metadata": {},
   "source": [
    "**Рекомендованные объявления посмотрели 2801 человек**"
   ]
  },
  {
   "cell_type": "code",
   "execution_count": 31,
   "metadata": {},
   "outputs": [
    {
     "name": "stdout",
     "output_type": "stream",
     "text": [
      "516\n"
     ]
    }
   ],
   "source": [
    "#количество пользователей, совершивших действие contacts_show\n",
    "users_tips_show = profiles.query('user_id in @tips_show')\n",
    "\n",
    "print(users_tips_show.query('event_name == \"contacts_show\"')['user_id'].nunique())"
   ]
  },
  {
   "cell_type": "markdown",
   "metadata": {},
   "source": [
    "**516 пользователей,которые посмотрели рекомендованные объявления и посмотрели контакты**"
   ]
  },
  {
   "cell_type": "code",
   "execution_count": 32,
   "metadata": {},
   "outputs": [
    {
     "data": {
      "text/plain": [
       "18.42"
      ]
     },
     "execution_count": 32,
     "metadata": {},
     "output_type": "execute_result"
    }
   ],
   "source": [
    "#расчёт конверсии\n",
    "round(users_tips_show.query('event_name == \"contacts_show\"')['user_id'].nunique() / users_tips_show['user_id'].nunique() * 100,2)"
   ]
  },
  {
   "cell_type": "markdown",
   "metadata": {},
   "source": [
    "**Конверсия составляет 18.42%**"
   ]
  },
  {
   "cell_type": "markdown",
   "metadata": {},
   "source": [
    "2. `advert_open` → `contacts_show`"
   ]
  },
  {
   "cell_type": "code",
   "execution_count": 33,
   "metadata": {},
   "outputs": [
    {
     "data": {
      "text/plain": [
       "751"
      ]
     },
     "execution_count": 33,
     "metadata": {},
     "output_type": "execute_result"
    }
   ],
   "source": [
    "#количество пользователей, совершивших действие advert_open\n",
    "advert_open = profiles.query('event_name == \"advert_open\"')['user_id']\n",
    "advert_open.nunique()"
   ]
  },
  {
   "cell_type": "markdown",
   "metadata": {},
   "source": [
    "**Открыли карточку объявления 751 человек**"
   ]
  },
  {
   "cell_type": "code",
   "execution_count": 34,
   "metadata": {},
   "outputs": [
    {
     "name": "stdout",
     "output_type": "stream",
     "text": [
      "138\n"
     ]
    }
   ],
   "source": [
    "#количество пользователей, совершивших действие contacts_show\n",
    "advert_open_users = profiles.query('user_id in @advert_open')\n",
    "\n",
    "print(advert_open_users.query('event_name == \"contacts_show\"')['user_id'].nunique())"
   ]
  },
  {
   "cell_type": "markdown",
   "metadata": {},
   "source": [
    "**138 пользователей открыли карточку объявления и посмотрели контакты**"
   ]
  },
  {
   "cell_type": "code",
   "execution_count": 35,
   "metadata": {},
   "outputs": [
    {
     "data": {
      "text/plain": [
       "18.38"
      ]
     },
     "execution_count": 35,
     "metadata": {},
     "output_type": "execute_result"
    }
   ],
   "source": [
    "#расчёт конверсии\n",
    "round(advert_open_users.query('event_name == \"contacts_show\"')['user_id'].nunique() / advert_open_users['user_id'].nunique() * 100,2)"
   ]
  },
  {
   "cell_type": "markdown",
   "metadata": {},
   "source": [
    "**Конверсия составляет 18.38%**"
   ]
  },
  {
   "cell_type": "markdown",
   "metadata": {},
   "source": [
    "3. `photos_show` → `contacts_show`"
   ]
  },
  {
   "cell_type": "code",
   "execution_count": 36,
   "metadata": {},
   "outputs": [
    {
     "data": {
      "text/plain": [
       "1095"
      ]
     },
     "execution_count": 36,
     "metadata": {},
     "output_type": "execute_result"
    }
   ],
   "source": [
    "#количество пользователей, совершивших действие photos_show\n",
    "photos_show = profiles.query('event_name == \"photos_show\"')['user_id']\n",
    "photos_show.nunique()"
   ]
  },
  {
   "cell_type": "markdown",
   "metadata": {},
   "source": [
    "**Посмотрели фотографию в объявлении 1095 человек**"
   ]
  },
  {
   "cell_type": "code",
   "execution_count": 37,
   "metadata": {},
   "outputs": [
    {
     "name": "stdout",
     "output_type": "stream",
     "text": [
      "339\n"
     ]
    }
   ],
   "source": [
    "#количество пользователей, совершивших действие contacts_show\n",
    "photos_show_users = profiles.query('user_id in @photos_show')\n",
    "\n",
    "print(photos_show_users.query('event_name == \"contacts_show\"')['user_id'].nunique())"
   ]
  },
  {
   "cell_type": "markdown",
   "metadata": {},
   "source": [
    "**339 пользователей опосмотрели фотографию в объявлении и посмотрели контакты**"
   ]
  },
  {
   "cell_type": "code",
   "execution_count": 38,
   "metadata": {},
   "outputs": [
    {
     "data": {
      "text/plain": [
       "30.96"
      ]
     },
     "execution_count": 38,
     "metadata": {},
     "output_type": "execute_result"
    }
   ],
   "source": [
    "#расчёт конверсии\n",
    "round(photos_show_users.query('event_name == \"contacts_show\"')['user_id'].nunique() / photos_show_users['user_id'].nunique() * 100,2)"
   ]
  },
  {
   "cell_type": "markdown",
   "metadata": {},
   "source": [
    "**Конверсия составляет 30.96%**"
   ]
  },
  {
   "cell_type": "markdown",
   "metadata": {},
   "source": [
    "4. `tips_click` → `contacts_show`"
   ]
  },
  {
   "cell_type": "code",
   "execution_count": 39,
   "metadata": {},
   "outputs": [
    {
     "data": {
      "text/plain": [
       "322"
      ]
     },
     "execution_count": 39,
     "metadata": {},
     "output_type": "execute_result"
    }
   ],
   "source": [
    "#количество пользователей, совершивших действие tips_click\n",
    "tips_click = profiles.query('event_name == \"tips_click\"')['user_id']\n",
    "tips_click.nunique()"
   ]
  },
  {
   "cell_type": "markdown",
   "metadata": {},
   "source": [
    "**332 пользователя кликнули по рекомендованному объявлению**"
   ]
  },
  {
   "cell_type": "code",
   "execution_count": 40,
   "metadata": {},
   "outputs": [
    {
     "name": "stdout",
     "output_type": "stream",
     "text": [
      "100\n"
     ]
    }
   ],
   "source": [
    "#количество пользователей, совершивших действие contacts_show\n",
    "tips_click_users = profiles.query('user_id in @tips_click')\n",
    "\n",
    "print(tips_click_users.query('event_name == \"contacts_show\"')['user_id'].nunique())"
   ]
  },
  {
   "cell_type": "markdown",
   "metadata": {},
   "source": [
    "**100 человек кликнули по рекомендованному объявлению и посмотрели контакты**"
   ]
  },
  {
   "cell_type": "code",
   "execution_count": 41,
   "metadata": {},
   "outputs": [
    {
     "data": {
      "text/plain": [
       "31.06"
      ]
     },
     "execution_count": 41,
     "metadata": {},
     "output_type": "execute_result"
    }
   ],
   "source": [
    "#расчёт конверсии\n",
    "round(tips_click_users.query('event_name == \"contacts_show\"')['user_id'].nunique() / tips_click_users['user_id'].nunique() * 100,2)"
   ]
  },
  {
   "cell_type": "markdown",
   "metadata": {},
   "source": [
    "**Конверсия составляет 31.06%**"
   ]
  },
  {
   "cell_type": "markdown",
   "metadata": {},
   "source": [
    "5. `map` → `contacts_show`"
   ]
  },
  {
   "cell_type": "code",
   "execution_count": 42,
   "metadata": {},
   "outputs": [
    {
     "data": {
      "text/plain": [
       "1456"
      ]
     },
     "execution_count": 42,
     "metadata": {},
     "output_type": "execute_result"
    }
   ],
   "source": [
    "#количество пользователей, совершивших действие map\n",
    "map = profiles.query('event_name == \"map\"')['user_id']\n",
    "map.nunique()"
   ]
  },
  {
   "cell_type": "markdown",
   "metadata": {},
   "source": [
    "**1456 пользователей открыли карту размещенных объявлений**"
   ]
  },
  {
   "cell_type": "code",
   "execution_count": 43,
   "metadata": {},
   "outputs": [
    {
     "name": "stdout",
     "output_type": "stream",
     "text": [
      "289\n"
     ]
    }
   ],
   "source": [
    "#количество пользователей, совершивших действие contacts_show\n",
    "map_users = profiles.query('user_id in @map')\n",
    "\n",
    "print(map_users.query('event_name == \"contacts_show\"')['user_id'].nunique())"
   ]
  },
  {
   "cell_type": "markdown",
   "metadata": {},
   "source": [
    "**289 человек открыли карту размещенных объявлений и посмотрели контакты**"
   ]
  },
  {
   "cell_type": "code",
   "execution_count": 44,
   "metadata": {},
   "outputs": [
    {
     "data": {
      "text/plain": [
       "19.85"
      ]
     },
     "execution_count": 44,
     "metadata": {},
     "output_type": "execute_result"
    }
   ],
   "source": [
    "#расчёт конверсии\n",
    "round(map_users.query('event_name == \"contacts_show\"')['user_id'].nunique() / map_users['user_id'].nunique() * 100,2)"
   ]
  },
  {
   "cell_type": "markdown",
   "metadata": {},
   "source": [
    "**Конверсия составляет 19.85%**"
   ]
  },
  {
   "cell_type": "markdown",
   "metadata": {},
   "source": [
    "5. `search` → `contacts_show`"
   ]
  },
  {
   "cell_type": "code",
   "execution_count": 45,
   "metadata": {},
   "outputs": [
    {
     "data": {
      "text/plain": [
       "1666"
      ]
     },
     "execution_count": 45,
     "metadata": {},
     "output_type": "execute_result"
    }
   ],
   "source": [
    "#количество пользователей, совершивших действие search\n",
    "search = profiles.query('event_name == \"search\"')['user_id']\n",
    "search.nunique()"
   ]
  },
  {
   "cell_type": "markdown",
   "metadata": {},
   "source": [
    "**1666 осуществляли поиск по сайту**"
   ]
  },
  {
   "cell_type": "code",
   "execution_count": 46,
   "metadata": {},
   "outputs": [
    {
     "name": "stdout",
     "output_type": "stream",
     "text": [
      "289\n"
     ]
    }
   ],
   "source": [
    "#количество пользователей, совершивших действие contacts_show\n",
    "search_users = profiles.query('user_id in @search')\n",
    "\n",
    "print(map_users.query('event_name == \"contacts_show\"')['user_id'].nunique())"
   ]
  },
  {
   "cell_type": "markdown",
   "metadata": {},
   "source": [
    "**289 осуществляли поиск по сайту и посмотрели контакты**"
   ]
  },
  {
   "cell_type": "code",
   "execution_count": 47,
   "metadata": {},
   "outputs": [
    {
     "data": {
      "text/plain": [
       "22.63"
      ]
     },
     "execution_count": 47,
     "metadata": {},
     "output_type": "execute_result"
    }
   ],
   "source": [
    "#расчёт конверсии\n",
    "round(search_users.query('event_name == \"contacts_show\"')['user_id'].nunique() / search_users['user_id'].nunique() * 100,2)"
   ]
  },
  {
   "cell_type": "markdown",
   "metadata": {},
   "source": [
    "**Конверсия составляет 22.63%**"
   ]
  },
  {
   "cell_type": "markdown",
   "metadata": {},
   "source": [
    "6. `favorites_add` → `contacts_show`"
   ]
  },
  {
   "cell_type": "code",
   "execution_count": 48,
   "metadata": {},
   "outputs": [
    {
     "data": {
      "text/plain": [
       "351"
      ]
     },
     "execution_count": 48,
     "metadata": {},
     "output_type": "execute_result"
    }
   ],
   "source": [
    "#количество пользователей, совершивших действие favorites_add\n",
    "favorites_add = profiles.query('event_name == \"favorites_add\"')['user_id']\n",
    "favorites_add.nunique()"
   ]
  },
  {
   "cell_type": "markdown",
   "metadata": {},
   "source": [
    "**351 пользователь добавил объявление в избранное**"
   ]
  },
  {
   "cell_type": "code",
   "execution_count": 49,
   "metadata": {},
   "outputs": [
    {
     "name": "stdout",
     "output_type": "stream",
     "text": [
      "136\n"
     ]
    }
   ],
   "source": [
    "#количество пользователей, совершивших действие contacts_show\n",
    "favorites_add_users = profiles.query('user_id in @favorites_add')\n",
    "\n",
    "print(favorites_add_users.query('event_name == \"contacts_show\"')['user_id'].nunique())"
   ]
  },
  {
   "cell_type": "markdown",
   "metadata": {},
   "source": [
    "**136 пользователей добавили объявление в избранное и посмотрели контакты**"
   ]
  },
  {
   "cell_type": "code",
   "execution_count": 50,
   "metadata": {},
   "outputs": [
    {
     "data": {
      "text/plain": [
       "38.75"
      ]
     },
     "execution_count": 50,
     "metadata": {},
     "output_type": "execute_result"
    }
   ],
   "source": [
    "#расчёт конверсии\n",
    "round(favorites_add_users.query('event_name == \"contacts_show\"')['user_id'].nunique() / favorites_add_users['user_id'].nunique() * 100,2)"
   ]
  },
  {
   "cell_type": "markdown",
   "metadata": {},
   "source": [
    "**Конверсия составляет 38.75%**"
   ]
  },
  {
   "cell_type": "markdown",
   "metadata": {},
   "source": [
    "`Вывод`\n",
    "\n",
    "<mark>Самая большая конверсия в целевое действие(просмотр контактов) из действия \"favorites_add\" - добавление объявления в избранное(38.75%). На втором месте по конверсии действие \"tips_click\" 31.06%, а на третьем 'photos_show' 30.96%. Нам это говорит о том, что пользователи активно кликают на предложенные объявления, а также ознакамливаются с фотографиями в карточке. Пользователи, которые просто открывают объявления реже всего переходят в просмотры контактов - конверсия этих пользователей составляет 18.38%. \n",
    "    Вообще, конверсия из действия \"favorites_add\" меня не то что удивила, но захотелось попродробнее расмотреть этот момент в шаге со статистическими тестами<mark>\n"
   ]
  },
  {
   "cell_type": "markdown",
   "metadata": {},
   "source": [
    "### Частота действий"
   ]
  },
  {
   "cell_type": "code",
   "execution_count": 51,
   "metadata": {},
   "outputs": [
    {
     "data": {
      "image/png": "[encoded data removed]",
      "text/plain": [
       "<Figure size 864x504 with 1 Axes>"
      ]
     },
     "metadata": {
      "needs_background": "light"
     },
     "output_type": "display_data"
    }
   ],
   "source": [
    "frequency = profiles.groupby('dt', as_index=False).agg({'event_name': 'count'})\n",
    "\n",
    "plt.figure(figsize=(12, 7))\n",
    "\n",
    "sns.lineplot(data=frequency, x='dt', y='event_name')\n",
    "plt.title('Частота действий')\n",
    "plt.ylabel('Количество действий')\n",
    "plt.xlabel('Даты')\n",
    "plt.xticks(rotation= 35);"
   ]
  },
  {
   "cell_type": "markdown",
   "metadata": {},
   "source": [
    "**Хочу дополнительно взглянуть на среднюю и медианную продолжительность сессии**"
   ]
  },
  {
   "cell_type": "code",
   "execution_count": 52,
   "metadata": {},
   "outputs": [],
   "source": [
    "session_end = profiles.groupby('session_id', as_index=False).agg({'event_time': 'last'}).rename(columns={'event_time': 'session_end'})\n",
    "\n",
    "profiles = profiles.merge(session_end, how='left', on='session_id').copy() \n",
    "\n",
    "profiles['time_diff'] = (profiles['session_end']-profiles['session_start']).astype('timedelta64[m]')"
   ]
  },
  {
   "cell_type": "code",
   "execution_count": 53,
   "metadata": {},
   "outputs": [
    {
     "data": {
      "text/plain": [
       "0.0      5148\n",
       "4.0      2178\n",
       "2.0      2131\n",
       "1.0      2087\n",
       "3.0      2085\n",
       "         ... \n",
       "96.0       34\n",
       "104.0      32\n",
       "118.0      29\n",
       "135.0      27\n",
       "79.0       25\n",
       "Name: time_diff, Length: 126, dtype: int64"
      ]
     },
     "execution_count": 53,
     "metadata": {},
     "output_type": "execute_result"
    }
   ],
   "source": [
    "profiles['time_diff'].value_counts()"
   ]
  },
  {
   "cell_type": "code",
   "execution_count": 54,
   "metadata": {},
   "outputs": [
    {
     "name": "stdout",
     "output_type": "stream",
     "text": [
      " Среднее время продолжительности сессии равно: 26.59 минут\n",
      " Медианное время продолжительности сессии равно: 18.0 минут\n"
     ]
    }
   ],
   "source": [
    "profiles.groupby('session_id', as_index=False).agg({'session_start': 'first', 'session_end': 'first', 'time_diff': 'first'})\n",
    "session_duration_mean = profiles['time_diff'].mean().round(2)\n",
    "session_duration_median = profiles['time_diff'].median().round(2)\n",
    "print(f' Среднее время продолжительности сессии равно: {session_duration_mean} минут')\n",
    "print(f' Медианное время продолжительности сессии равно: {session_duration_median} минут')"
   ]
  },
  {
   "cell_type": "markdown",
   "metadata": {},
   "source": [
    "**У нас имеются \"нулевые\" сессии(длительность меньше минуты). Нужно посмотреть, какие действия совершались в такие сессии, возможно мы выявим технические неполадки**"
   ]
  },
  {
   "cell_type": "code",
   "execution_count": 55,
   "metadata": {},
   "outputs": [
    {
     "data": {
      "text/plain": [
       "tips_show        1783\n",
       "photos_show      1177\n",
       "search           1079\n",
       "contacts_show     434\n",
       "map               245\n",
       "advert_open       220\n",
       "contacts_call     110\n",
       "favorites_add      69\n",
       "tips_click         31\n",
       "Name: event_name, dtype: int64"
      ]
     },
     "execution_count": 55,
     "metadata": {},
     "output_type": "execute_result"
    }
   ],
   "source": [
    "profiles.query('time_diff == 0')['event_name'].value_counts()"
   ]
  },
  {
   "cell_type": "markdown",
   "metadata": {},
   "source": [
    "Большинство событий, которые длились менее 1 минуты - `tips_show`. Очевидно пользователям неинтересны рекомендованные объявления, а действие `tips_click`(пользователь кликнул по рекомендованному объявлению) - совершает ну очень мало юзеров в такие сессии."
   ]
  },
  {
   "cell_type": "markdown",
   "metadata": {},
   "source": [
    "`Общий вывод по исследовательскому анализу:`\n",
    "\n",
    "<span style=\"color:red\">Самое частое событие, с которым сталкиваются пользователи это `tips_show`. Наиболее частые временные интервалы между совершением действий - от 0 до 5 минут. Длительные интервалы между действиями встречаются довольно редко: визуализируя показатели удержания в когортах по дате с 2019-10-07 по 2019-10-21, можно заметить, что есть когорты с высоким и низким rr. Возможно, это зависит от качества трафика и рекламной кампании по привлечению пользователей в конкретный день. Конверсия в день 14 достигает 22%. Общий коэффициент конверсии составил 22,8%. Наши пользователи обычно не тратят больше минуты на просмотр рекомендованных объявлений или фотографий.</span>"
   ]
  },
  {
   "cell_type": "markdown",
   "metadata": {},
   "source": [
    "<div class=\"alert alert-block alert-success\">✔️\n",
    "    \n",
    "\n",
    "__Комментарий от тимлида №1__\n",
    "\n",
    "Всё верно. Согласен с расчетом\n",
    "</div>"
   ]
  },
  {
   "cell_type": "markdown",
   "metadata": {},
   "source": [
    "### Сегментация"
   ]
  },
  {
   "cell_type": "markdown",
   "metadata": {},
   "source": [
    "<mark>Я приняла решение сегментировать пользователей на основе источника, из которого они скачали наше приложение.\n",
    "Мы проверим, влияет ли источник притока пользователей на показатели удержания или конверсии.<mark>\n",
    "    `дополнение:`\n",
    "    Возможно, источник может иметь высокий Retention Rate, но низкий Conversion Rate, что фактически сводит на нет высокий RR."
   ]
  },
  {
   "cell_type": "code",
   "execution_count": 56,
   "metadata": {},
   "outputs": [
    {
     "name": "stdout",
     "output_type": "stream",
     "text": [
      "['other' 'yandex' 'google']\n",
      "yandex    1934\n",
      "other     1230\n",
      "google    1129\n",
      "Name: source, dtype: int64\n"
     ]
    }
   ],
   "source": [
    "print(source.source.unique())\n",
    "print(source.source.value_counts())"
   ]
  },
  {
   "cell_type": "code",
   "execution_count": 57,
   "metadata": {},
   "outputs": [],
   "source": [
    "profiles = profiles.merge(source, on='user_id', how='left')\n",
    "profiles['dt'] = pd.to_datetime(profiles['dt']).dt.date"
   ]
  },
  {
   "cell_type": "code",
   "execution_count": 58,
   "metadata": {},
   "outputs": [
    {
     "data": {
      "text/html": [
       "<div>\n",
       "<style scoped>\n",
       "    .dataframe tbody tr th:only-of-type {\n",
       "        vertical-align: middle;\n",
       "    }\n",
       "\n",
       "    .dataframe tbody tr th {\n",
       "        vertical-align: top;\n",
       "    }\n",
       "\n",
       "    .dataframe thead th {\n",
       "        text-align: right;\n",
       "    }\n",
       "</style>\n",
       "<table border=\"1\" class=\"dataframe\">\n",
       "  <thead>\n",
       "    <tr style=\"text-align: right;\">\n",
       "      <th></th>\n",
       "      <th>cohort_size</th>\n",
       "      <th>0</th>\n",
       "      <th>1</th>\n",
       "      <th>2</th>\n",
       "      <th>3</th>\n",
       "      <th>4</th>\n",
       "      <th>5</th>\n",
       "      <th>6</th>\n",
       "      <th>7</th>\n",
       "      <th>8</th>\n",
       "      <th>9</th>\n",
       "      <th>10</th>\n",
       "      <th>11</th>\n",
       "      <th>12</th>\n",
       "      <th>13</th>\n",
       "    </tr>\n",
       "    <tr>\n",
       "      <th>source</th>\n",
       "      <th></th>\n",
       "      <th></th>\n",
       "      <th></th>\n",
       "      <th></th>\n",
       "      <th></th>\n",
       "      <th></th>\n",
       "      <th></th>\n",
       "      <th></th>\n",
       "      <th></th>\n",
       "      <th></th>\n",
       "      <th></th>\n",
       "      <th></th>\n",
       "      <th></th>\n",
       "      <th></th>\n",
       "      <th></th>\n",
       "    </tr>\n",
       "  </thead>\n",
       "  <tbody>\n",
       "    <tr>\n",
       "      <th>google</th>\n",
       "      <td>655</td>\n",
       "      <td>1.0</td>\n",
       "      <td>0.117557</td>\n",
       "      <td>0.090076</td>\n",
       "      <td>0.076336</td>\n",
       "      <td>0.054962</td>\n",
       "      <td>0.042748</td>\n",
       "      <td>0.070229</td>\n",
       "      <td>0.070229</td>\n",
       "      <td>0.053435</td>\n",
       "      <td>0.044275</td>\n",
       "      <td>0.042748</td>\n",
       "      <td>0.042748</td>\n",
       "      <td>0.042748</td>\n",
       "      <td>0.030534</td>\n",
       "    </tr>\n",
       "    <tr>\n",
       "      <th>other</th>\n",
       "      <td>688</td>\n",
       "      <td>1.0</td>\n",
       "      <td>0.101744</td>\n",
       "      <td>0.111919</td>\n",
       "      <td>0.068314</td>\n",
       "      <td>0.058140</td>\n",
       "      <td>0.081395</td>\n",
       "      <td>0.058140</td>\n",
       "      <td>0.056686</td>\n",
       "      <td>0.059593</td>\n",
       "      <td>0.033430</td>\n",
       "      <td>0.030523</td>\n",
       "      <td>0.034884</td>\n",
       "      <td>0.036337</td>\n",
       "      <td>0.050872</td>\n",
       "    </tr>\n",
       "    <tr>\n",
       "      <th>yandex</th>\n",
       "      <td>1114</td>\n",
       "      <td>1.0</td>\n",
       "      <td>0.114901</td>\n",
       "      <td>0.095153</td>\n",
       "      <td>0.078995</td>\n",
       "      <td>0.069120</td>\n",
       "      <td>0.064632</td>\n",
       "      <td>0.058348</td>\n",
       "      <td>0.067325</td>\n",
       "      <td>0.052962</td>\n",
       "      <td>0.036804</td>\n",
       "      <td>0.039497</td>\n",
       "      <td>0.035009</td>\n",
       "      <td>0.031418</td>\n",
       "      <td>0.035009</td>\n",
       "    </tr>\n",
       "  </tbody>\n",
       "</table>\n",
       "</div>"
      ],
      "text/plain": [
       "        cohort_size    0         1         2         3         4         5  \\\n",
       "source                                                                       \n",
       "google          655  1.0  0.117557  0.090076  0.076336  0.054962  0.042748   \n",
       "other           688  1.0  0.101744  0.111919  0.068314  0.058140  0.081395   \n",
       "yandex         1114  1.0  0.114901  0.095153  0.078995  0.069120  0.064632   \n",
       "\n",
       "               6         7         8         9        10        11        12  \\\n",
       "source                                                                         \n",
       "google  0.070229  0.070229  0.053435  0.044275  0.042748  0.042748  0.042748   \n",
       "other   0.058140  0.056686  0.059593  0.033430  0.030523  0.034884  0.036337   \n",
       "yandex  0.058348  0.067325  0.052962  0.036804  0.039497  0.035009  0.031418   \n",
       "\n",
       "              13  \n",
       "source            \n",
       "google  0.030534  \n",
       "other   0.050872  \n",
       "yandex  0.035009  "
      ]
     },
     "execution_count": 58,
     "metadata": {},
     "output_type": "execute_result"
    }
   ],
   "source": [
    "retention_raw, retention = get_retention(profiles, datetime(2019, 11, 3).date(), 14, 'source', ignore_horizon=False)\n",
    "retention"
   ]
  },
  {
   "cell_type": "code",
   "execution_count": 59,
   "metadata": {},
   "outputs": [
    {
     "data": {
      "image/png": "[encoded data removed]",
      "text/plain": [
       "<Figure size 1152x432 with 1 Axes>"
      ]
     },
     "metadata": {
      "needs_background": "light"
     },
     "output_type": "display_data"
    }
   ],
   "source": [
    "plt.figure(figsize=(16, 6))\n",
    "\n",
    "ax = sns.heatmap(retention.drop(columns=['cohort_size', 0]),\n",
    "                 annot=True,\n",
    "                 fmt='.2%',\n",
    "                 cbar=False,\n",
    "                cmap= 'spring',\n",
    "                linewidths=2,\n",
    "                linecolor='black')\n",
    "ax.set_title('Тепловая карта удержания', fontsize=18)\n",
    "ax.set_ylabel('Источник', fontsize=14)\n",
    "ax.set_xlabel('Лайфтайм', fontsize=14);"
   ]
  },
  {
   "cell_type": "markdown",
   "metadata": {},
   "source": [
    "**Шок! Источник `others` на последний день лайфтайма показывает самый высокий показатель Retention Rate, хотя на первый день он наоборот был самым низким, а на 5 день показал резкий рост, очень интересно, что случилось в этот день. Вообще, стабильность здесь есть только у пользователей с источника `yandex`, хоть и выражается она стабильным падением удержания, но зато они на 14 день оказались на втором месте. Пользователи из `google` тоже удивили - их RR плавно снижался 5 дней, но на 6(и зафиксировался на 7) день лайфтайма подскочил вверх, но затем всё пошло на убыли и этот источник показал самый низкий показатель Retention Rate. Слишком много вопросов, давайте посмотрим на показатели конверсий этих групп**"
   ]
  },
  {
   "cell_type": "code",
   "execution_count": 60,
   "metadata": {},
   "outputs": [
    {
     "data": {
      "text/html": [
       "<div>\n",
       "<style scoped>\n",
       "    .dataframe tbody tr th:only-of-type {\n",
       "        vertical-align: middle;\n",
       "    }\n",
       "\n",
       "    .dataframe tbody tr th {\n",
       "        vertical-align: top;\n",
       "    }\n",
       "\n",
       "    .dataframe thead th {\n",
       "        text-align: right;\n",
       "    }\n",
       "</style>\n",
       "<table border=\"1\" class=\"dataframe\">\n",
       "  <thead>\n",
       "    <tr style=\"text-align: right;\">\n",
       "      <th></th>\n",
       "      <th>cohort_size</th>\n",
       "      <th>0.0</th>\n",
       "      <th>1.0</th>\n",
       "      <th>2.0</th>\n",
       "      <th>3.0</th>\n",
       "      <th>4.0</th>\n",
       "      <th>5.0</th>\n",
       "      <th>6.0</th>\n",
       "      <th>7.0</th>\n",
       "      <th>8.0</th>\n",
       "      <th>9.0</th>\n",
       "      <th>10.0</th>\n",
       "      <th>11.0</th>\n",
       "      <th>12.0</th>\n",
       "      <th>13.0</th>\n",
       "    </tr>\n",
       "    <tr>\n",
       "      <th>source</th>\n",
       "      <th></th>\n",
       "      <th></th>\n",
       "      <th></th>\n",
       "      <th></th>\n",
       "      <th></th>\n",
       "      <th></th>\n",
       "      <th></th>\n",
       "      <th></th>\n",
       "      <th></th>\n",
       "      <th></th>\n",
       "      <th></th>\n",
       "      <th></th>\n",
       "      <th></th>\n",
       "      <th></th>\n",
       "      <th></th>\n",
       "    </tr>\n",
       "  </thead>\n",
       "  <tbody>\n",
       "    <tr>\n",
       "      <th>google</th>\n",
       "      <td>655</td>\n",
       "      <td>0.187786</td>\n",
       "      <td>0.192366</td>\n",
       "      <td>0.193893</td>\n",
       "      <td>0.201527</td>\n",
       "      <td>0.204580</td>\n",
       "      <td>0.207634</td>\n",
       "      <td>0.210687</td>\n",
       "      <td>0.212214</td>\n",
       "      <td>0.212214</td>\n",
       "      <td>0.216794</td>\n",
       "      <td>0.221374</td>\n",
       "      <td>0.221374</td>\n",
       "      <td>0.224427</td>\n",
       "      <td>0.224427</td>\n",
       "    </tr>\n",
       "    <tr>\n",
       "      <th>other</th>\n",
       "      <td>688</td>\n",
       "      <td>0.139535</td>\n",
       "      <td>0.149709</td>\n",
       "      <td>0.156977</td>\n",
       "      <td>0.158430</td>\n",
       "      <td>0.162791</td>\n",
       "      <td>0.167151</td>\n",
       "      <td>0.170058</td>\n",
       "      <td>0.171512</td>\n",
       "      <td>0.175872</td>\n",
       "      <td>0.181686</td>\n",
       "      <td>0.184593</td>\n",
       "      <td>0.184593</td>\n",
       "      <td>0.187500</td>\n",
       "      <td>0.188953</td>\n",
       "    </tr>\n",
       "    <tr>\n",
       "      <th>yandex</th>\n",
       "      <td>1114</td>\n",
       "      <td>0.200180</td>\n",
       "      <td>0.206463</td>\n",
       "      <td>0.210952</td>\n",
       "      <td>0.217235</td>\n",
       "      <td>0.224417</td>\n",
       "      <td>0.228905</td>\n",
       "      <td>0.228905</td>\n",
       "      <td>0.231598</td>\n",
       "      <td>0.232496</td>\n",
       "      <td>0.234291</td>\n",
       "      <td>0.236086</td>\n",
       "      <td>0.237882</td>\n",
       "      <td>0.237882</td>\n",
       "      <td>0.240575</td>\n",
       "    </tr>\n",
       "  </tbody>\n",
       "</table>\n",
       "</div>"
      ],
      "text/plain": [
       "        cohort_size       0.0       1.0       2.0       3.0       4.0  \\\n",
       "source                                                                  \n",
       "google          655  0.187786  0.192366  0.193893  0.201527  0.204580   \n",
       "other           688  0.139535  0.149709  0.156977  0.158430  0.162791   \n",
       "yandex         1114  0.200180  0.206463  0.210952  0.217235  0.224417   \n",
       "\n",
       "             5.0       6.0       7.0       8.0       9.0      10.0      11.0  \\\n",
       "source                                                                         \n",
       "google  0.207634  0.210687  0.212214  0.212214  0.216794  0.221374  0.221374   \n",
       "other   0.167151  0.170058  0.171512  0.175872  0.181686  0.184593  0.184593   \n",
       "yandex  0.228905  0.228905  0.231598  0.232496  0.234291  0.236086  0.237882   \n",
       "\n",
       "            12.0      13.0  \n",
       "source                      \n",
       "google  0.224427  0.224427  \n",
       "other   0.187500  0.188953  \n",
       "yandex  0.237882  0.240575  "
      ]
     },
     "execution_count": 60,
     "metadata": {},
     "output_type": "execute_result"
    }
   ],
   "source": [
    "conversion_raw, conversion, conversion_history = get_conversion(\n",
    "    profiles, time_action, datetime(2019, 11, 3).date(), 14, ['source']\n",
    ")\n",
    "conversion"
   ]
  },
  {
   "cell_type": "code",
   "execution_count": 61,
   "metadata": {},
   "outputs": [
    {
     "data": {
      "text/plain": [
       "<Figure size 1152x576 with 0 Axes>"
      ]
     },
     "metadata": {},
     "output_type": "display_data"
    },
    {
     "data": {
      "image/png": "[encoded data removed]",
      "text/plain": [
       "<Figure size 432x288 with 1 Axes>"
      ]
     },
     "metadata": {
      "needs_background": "light"
     },
     "output_type": "display_data"
    }
   ],
   "source": [
    "plt.figure(figsize = (16, 8)) \n",
    "report = conversion.drop(columns = ['cohort_size'])\n",
    "report.T.plot(grid=True, xticks=list(report.columns.values)) \n",
    "ax.set_title('Конверсия по источникам', fontsize=18)\n",
    "ax.set_ylabel('%', fontsize=14)\n",
    "ax.set_xlabel('Лайфтайм', fontsize=14);\n",
    "plt.show()"
   ]
  },
  {
   "cell_type": "markdown",
   "metadata": {},
   "source": [
    "**Шок2! Пользователи из источника `other` имеют самые высокие показатели удержания, но самые низкие показатели конверсии. У `yandex`, напротив, они самые высокие. Сравнивая показатели конверсии и удержания, можно сделать вывод, что `yandex` является лидером по этим показателям (2 место по Retention Rate и 1 место по Conversion Rate).**"
   ]
  },
  {
   "cell_type": "markdown",
   "metadata": {},
   "source": [
    "`Общий вывод по сегментации:`\n",
    "\n",
    "<span style=\"color:red\">Мы сегментировали пользователей по трём источникам,с которых пользователь установил приложение( `others`,`yandex`,`google`), чтобы проверить,влияет ли источник притока пользователей на показатели удержания или конверсии.\n",
    "Открытия оказались впечатляющими: </span>\n",
    "    \n",
    "- Результаты RR показали, что лидирует источник `other`(5.09%), на втором месте `yandex`(3,50%), замыкает `google`(3.05%)(на 14 день).\n",
    "- Расчёт и визуализация CR говорят о том, что конверсия пользователей с `google` (22%) и `yandex` (24%) превосходят `other`(18%)(на 14 день) \n",
    "    \n",
    "**Перейдём к статистическим тестам, где мы проверим, есть ли статистически важная разница между конверсиями источников `yandex` и`google`**\n",
    "    \n"
   ]
  },
  {
   "cell_type": "markdown",
   "metadata": {},
   "source": [
    "### Проверка статистических гипотез"
   ]
  },
  {
   "cell_type": "markdown",
   "metadata": {},
   "source": [
    "1. **Некоторые пользователи установили приложение по ссылке из yandex, другие — из google. Проверим гипотезу: две эти группы демонстрируют разную конверсию в просмотры контактов.**"
   ]
  },
  {
   "cell_type": "markdown",
   "metadata": {},
   "source": [
    "*Сформулируем нулевую и альтернативную гипотезу*"
   ]
  },
  {
   "cell_type": "markdown",
   "metadata": {},
   "source": [
    "- `H₀`:  *статистически значимых различий между конверсиями пользователей из источников источников google, yandex, other нет*.\n",
    "- `H₁`:  *статистически значимые различия между конверсиями пользователей из источников google, yandex, other есть.*"
   ]
  },
  {
   "cell_type": "code",
   "execution_count": 62,
   "metadata": {},
   "outputs": [],
   "source": [
    "contacts_show_users = profiles.query('event_name ==\"contacts_show\"').pivot_table(index='user_id',\\\n",
    "                                                                                 values='source',\\\n",
    "                                                                                 aggfunc='first').reset_index()\n",
    "\n",
    "contacts_show_users_from_yandex = len(contacts_show_users.query('source ==\"yandex\"')) \n",
    "contacts_show_users_from_google = len(contacts_show_users.query('source ==\"google\"')) \n",
    "contacts_show_users_from_other = len(contacts_show_users.query('source ==\"other\"')) \n",
    "\n",
    "\n",
    "all_users_source = profiles.pivot_table(index='user_id',\\\n",
    "                                        values='source',\\\n",
    "                                        aggfunc='first').reset_index()\n",
    "\n",
    "\n",
    "all_users_from_yandex = len(all_users_source.query('source ==\"yandex\"')) \n",
    "all_users_from_google = len(all_users_source.query('source ==\"google\"')) \n",
    "all_users_from_other = len(all_users_source.query('source ==\"other\"'))"
   ]
  },
  {
   "cell_type": "code",
   "execution_count": 63,
   "metadata": {},
   "outputs": [],
   "source": [
    "def z_stat_test(successes, trials, alpha):  \n",
    "\n",
    "    alpha = alpha\n",
    "    successes = successes\n",
    "    trials = trials\n",
    "\n",
    "    # пропорция успехов в первой группе:\n",
    "    p1 = successes[0]/trials[0]\n",
    "\n",
    "    # пропорция успехов во второй группе:\n",
    "    p2 = successes[1]/trials[1]\n",
    "    \n",
    "    print(successes[0], successes[1], trials[0], trials[1])\n",
    "\n",
    "    # пропорция успехов в комбинированном датасете:\n",
    "    p_combined = (successes[0] + successes[1]) / (trials[0] + trials[1])\n",
    "\n",
    "    # разница пропорций в датасетах\n",
    "    difference = p1 - p2\n",
    "\n",
    "    # считаем статистику в ст.отклонениях стандартного нормального распределения\n",
    "    z_value = difference / math.sqrt(p_combined * (1 - p_combined) * (1/trials[0] + 1/trials[1]))\n",
    "\n",
    "    # задаем стандартное нормальное распределение (среднее 0, ст.отклонение 1)\n",
    "    distr = st.norm(0, 1) \n",
    "\n",
    "    # считаем статистику в ст.отклонениях стандартного нормального распределения\n",
    "    z_value = difference / math.sqrt(\n",
    "        p_combined * (1 - p_combined) * (1 / trials[0] + 1 / trials[1])\n",
    "    )\n",
    "\n",
    "    # задаем стандартное нормальное распределение (среднее 0, ст.отклонение 1)\n",
    "    distr = st.norm(0, 1)\n",
    "\n",
    "    p_value = (1 - distr.cdf(abs(z_value))) * 2\n",
    "\n",
    "    print('p-значение: ', p_value)\n",
    "\n",
    "    if p_value < alpha:\n",
    "        print('Отвергаем нулевую гипотезу: между долями есть значимая разница')\n",
    "    else:\n",
    "        print(\n",
    "            'Не получилось отвергнуть нулевую гипотезу, нет оснований считать доли разными'\n",
    "        )"
   ]
  },
  {
   "cell_type": "markdown",
   "metadata": {},
   "source": [
    "Перейдём к сравнению `Yandex` и `Google`:"
   ]
  },
  {
   "cell_type": "code",
   "execution_count": 64,
   "metadata": {},
   "outputs": [
    {
     "name": "stdout",
     "output_type": "stream",
     "text": [
      "478 275 1934 1129\n",
      "p-значение:  0.8244316027993777\n",
      "Не получилось отвергнуть нулевую гипотезу, нет оснований считать доли разными\n"
     ]
    }
   ],
   "source": [
    "yandex_und_google_comparison = [contacts_show_users_from_yandex, contacts_show_users_from_google]\n",
    "all_user_yandex_und_google = [all_users_from_yandex, all_users_from_google]\n",
    "z_stat_test(yandex_und_google_comparison, all_user_yandex_und_google, .05)"
   ]
  },
  {
   "cell_type": "markdown",
   "metadata": {},
   "source": [
    "<mark>Разницы конверсий в группах яндекса и гугла не обнаружено</mark>"
   ]
  },
  {
   "cell_type": "markdown",
   "metadata": {},
   "source": [
    "Сравним  `Yandex` и `Other`:"
   ]
  },
  {
   "cell_type": "code",
   "execution_count": 65,
   "metadata": {},
   "outputs": [
    {
     "name": "stdout",
     "output_type": "stream",
     "text": [
      "478 228 1934 1230\n",
      "p-значение:  4.7142597613403225e-05\n",
      "Отвергаем нулевую гипотезу: между долями есть значимая разница\n"
     ]
    }
   ],
   "source": [
    "yandex_und_other_comparison = [contacts_show_users_from_yandex, contacts_show_users_from_other]\n",
    "all_user_yandex_und_other = [all_users_from_yandex, all_users_from_other]\n",
    "z_stat_test(yandex_und_other_comparison, all_user_yandex_und_other, .05)"
   ]
  },
  {
   "cell_type": "markdown",
   "metadata": {},
   "source": [
    "<mark>Между группами `Yandex` и `Other` имеется статистическая разность конверсий</mark>"
   ]
  },
  {
   "cell_type": "markdown",
   "metadata": {},
   "source": [
    "Сравнениваем `Google` и `Other`:"
   ]
  },
  {
   "cell_type": "code",
   "execution_count": 66,
   "metadata": {},
   "outputs": [
    {
     "name": "stdout",
     "output_type": "stream",
     "text": [
      "275 228 1129 1230\n",
      "p-значение:  0.0005640941887214979\n",
      "Отвергаем нулевую гипотезу: между долями есть значимая разница\n"
     ]
    }
   ],
   "source": [
    "google_und_other_comparison = [contacts_show_users_from_google, contacts_show_users_from_other]\n",
    "all_user_google_und_other = [all_users_from_google, all_users_from_other]\n",
    "z_stat_test(google_und_other_comparison, all_user_google_und_other, .05)"
   ]
  },
  {
   "cell_type": "markdown",
   "metadata": {},
   "source": [
    "<mark>Между группами `Google` и `Other` имеется статистическая разность конверсий</mark>"
   ]
  },
  {
   "cell_type": "markdown",
   "metadata": {},
   "source": [
    "2. **На этапе расчёта конверсий в целевое действие, было принято решение рассмотреть пользователей, которые добавили карточку в избранное имеют большую конверсию в целевое действие в сравнении с группой, совершивших только contacts_show.**"
   ]
  },
  {
   "cell_type": "markdown",
   "metadata": {},
   "source": [
    "*Итак, сформулируем нулевую и альтернативные гипотезы*\n",
    "\n",
    "- `H₀`:  *статистически значимых различий между группой, совершивших действия favorites_add и contacts_show и группой, совершивших только contacts_show нет стат значимых различий.*.\n",
    "- `H₁`:  *есть статистически значимые различия между группой, совершивших действия favorites_add и contacts_show и группой, совершивших только contacts_show.*"
   ]
  },
  {
   "cell_type": "code",
   "execution_count": 67,
   "metadata": {},
   "outputs": [
    {
     "name": "stdout",
     "output_type": "stream",
     "text": [
      "Пользователей, добавивших карточку объявления в избранное: 351, из них совершили целевое действие 136\n",
      "Пользователей, не добавлявивших карточку объявления в избранное: 4287, из них совершили целевое действие 981\n"
     ]
    }
   ],
   "source": [
    "favorites_add_users = list(profiles.query('event_name==\"favorites_add\"')['user_id'].unique())\n",
    "not_in_favorites_add_users = list(profiles.query('event_name!=\"favorites_add\"')['user_id'].unique())\n",
    "\n",
    "contacts_show_und_favorites_add = len(profiles.query('event_name ==\"contacts_show\" and user_id in @favorites_add_users')['user_id'].unique())\n",
    "contacts_show_und_not_favorites_add = len(profiles.query('event_name ==\"contacts_show\" and user_id in @not_in_favorites_add_users')['user_id'].unique())\n",
    "\n",
    "print(f'Пользователей, добавивших карточку объявления в избранное: {len(favorites_add_users)}, из них совершили целевое действие {contacts_show_und_favorites_add}')\n",
    "print(f'Пользователей, не добавлявивших карточку объявления в избранное: {len(not_in_favorites_add_users)}, из них совершили целевое действие {contacts_show_und_not_favorites_add}')"
   ]
  },
  {
   "cell_type": "markdown",
   "metadata": {},
   "source": [
    "**`Проведём тест`**"
   ]
  },
  {
   "cell_type": "code",
   "execution_count": 68,
   "metadata": {},
   "outputs": [
    {
     "name": "stdout",
     "output_type": "stream",
     "text": [
      "136 981 351 4287\n",
      "p-значение:  2.3512747304721415e-11\n",
      "Отвергаем нулевую гипотезу: между долями есть значимая разница\n"
     ]
    }
   ],
   "source": [
    "group = [contacts_show_und_favorites_add, contacts_show_und_not_favorites_add]\n",
    "fav_and_not = [len(favorites_add_users), len(not_in_favorites_add_users)]\n",
    "z_stat_test(group, fav_and_not, .05)"
   ]
  },
  {
   "cell_type": "markdown",
   "metadata": {},
   "source": [
    "<mark>Данные говорят о том, что пользователи, добавившие объявление в избранное чаще соврешают целевое действие contacts_show. Статитстический тест подтвердил значимую разницу.</mark>"
   ]
  },
  {
   "cell_type": "markdown",
   "metadata": {},
   "source": [
    "### Вывод:"
   ]
  },
  {
   "cell_type": "markdown",
   "metadata": {},
   "source": [
    "*Данные взяты за период с 2019-10-07 по 2019-11-03. Столбцы в данных были переименованы. Пропусков и дубликатов не обнаружено.4293 уникальных пользователя пришли из трех различных источников: google, yandex и other. *\n",
    "\n",
    "**Для работы с данными были определены сессии пользователей продолжительностью 20 минут. Также было рассчитано время начала и окончания каждой сессии. Дата первого действия каждого пользователя была определена для анализа когорты по датам.**\n",
    "\n",
    "**В среднем каждый пользователь совершал 2,5 сеанса.**\n",
    "\n",
    "**Сегментируя пользователей по источникам, мы видим, что показатели удержания варьируются в зависимости от источника:**\n",
    "\n",
    "- google - 11,76% в первый день и 3% на 14 день.\n",
    "- other - 10,17% в первый день и 5% на 14 день.\n",
    "- yandex - 11,5% в первый день и 3,5% на 14 день.\n",
    "\n",
    "\n",
    "**Сегментирование пользователей по тому же источнику дает следующие показатели конверсии:**\n",
    "\n",
    "- yandex - 20% в первый день и 24% на 14 день.\n",
    "- google - 19% в первый день и 22% на 14 день.\n",
    "- other - 14% в первый день и 19% на 14 день.\n",
    "\n",
    "\n",
    "**Таким образом, пользователи из источника yandex не имеют самого высокого показателя удержания, но у них самый высокий показатель конверсии, что статистически значимо по сравнению с источником \"other\".**\n",
    "\n",
    "\n",
    "**Статистические тесты отвергают гипотезу о том, что разница в конверсии между группами пользователей из источников Яндекс и Google значительна: тот же тест между группами \"yandex\" и \"other\" и \"google и other\" показывает, что существует статистически значимая разница, т.е. эти группы пользователей показали разницу в конверсии.** \n",
    "\n",
    "\n",
    "**После проведения статистических тестов была подтверждена гипотеза о том, что пользователи, которые изначально добавили товар в избранное, с большей вероятностью совершат целевое действие contact_show по сравнению с пользователями, которые не добавили товар в избранное.*\n",
    "\n",
    "\n",
    "\n",
    "**Рекомендация**.\n",
    "\n",
    "- Пользователи с Яндекса имеют более высокие показатели удержания и конверсии, предлагаю отделу маркетинга финансировать именно этот источник. Так же на основе предоставленного мной исследования RR проанализировать и выснить, что повлияло на увеличение показателей источников 'other' и 'google'.\n"
   ]
  },
  {
   "cell_type": "markdown",
   "metadata": {},
   "source": [
    "**Ссылка на презентацию:**\n",
    "https://disk.yandex.ru/i/br27J8irpVNucQ"
   ]
  },
  {
   "cell_type": "markdown",
   "metadata": {},
   "source": [
    "**Ссылка на дашборд**\n",
    "https://public.tableau.com/app/profile/alyona.ryabinina/viz/2_16825615247120/2?publish=yes"
   ]
  },
  {
   "cell_type": "code",
   "execution_count": null,
   "metadata": {},
   "outputs": [],
   "source": []
  }
 ],
 "metadata": {
  "ExecuteTimeLog": [
   {
    "duration": 1977,
    "start_time": "2023-04-05T01:20:02.965Z"
   },
   {
    "duration": 343,
    "start_time": "2023-04-05T02:35:33.137Z"
   },
   {
    "duration": 113,
    "start_time": "2023-04-05T02:35:47.706Z"
   },
   {
    "duration": 11,
    "start_time": "2023-04-05T02:36:00.754Z"
   },
   {
    "duration": 34,
    "start_time": "2023-04-05T02:36:21.019Z"
   },
   {
    "duration": 22,
    "start_time": "2023-04-05T02:36:33.774Z"
   },
   {
    "duration": 77,
    "start_time": "2023-04-05T02:36:47.853Z"
   },
   {
    "duration": 133,
    "start_time": "2023-04-05T02:36:58.385Z"
   },
   {
    "duration": 27,
    "start_time": "2023-04-05T02:37:07.433Z"
   },
   {
    "duration": 23,
    "start_time": "2023-04-05T02:37:23.722Z"
   },
   {
    "duration": 278,
    "start_time": "2023-04-05T02:37:40.488Z"
   },
   {
    "duration": 471,
    "start_time": "2023-04-05T03:57:51.280Z"
   },
   {
    "duration": 271,
    "start_time": "2023-04-05T03:58:11.256Z"
   },
   {
    "duration": 274,
    "start_time": "2023-04-05T03:58:41.409Z"
   },
   {
    "duration": 12,
    "start_time": "2023-04-05T04:04:30.221Z"
   },
   {
    "duration": 3,
    "start_time": "2023-04-05T04:04:45.571Z"
   },
   {
    "duration": 11,
    "start_time": "2023-04-05T04:04:47.756Z"
   },
   {
    "duration": 15,
    "start_time": "2023-04-05T04:05:35.438Z"
   },
   {
    "duration": 30,
    "start_time": "2023-04-05T04:06:15.794Z"
   },
   {
    "duration": 32,
    "start_time": "2023-04-05T04:06:22.130Z"
   },
   {
    "duration": 5,
    "start_time": "2023-04-05T04:08:03.921Z"
   },
   {
    "duration": 267,
    "start_time": "2023-04-05T04:08:04.340Z"
   },
   {
    "duration": 25,
    "start_time": "2023-04-05T04:08:09.001Z"
   },
   {
    "duration": 26,
    "start_time": "2023-04-05T04:08:22.947Z"
   },
   {
    "duration": 31,
    "start_time": "2023-04-05T04:09:00.641Z"
   },
   {
    "duration": 40,
    "start_time": "2023-04-05T04:10:20.915Z"
   },
   {
    "duration": 17,
    "start_time": "2023-04-05T04:10:36.582Z"
   },
   {
    "duration": 23,
    "start_time": "2023-04-05T04:14:47.940Z"
   },
   {
    "duration": 25,
    "start_time": "2023-04-05T04:15:00.575Z"
   },
   {
    "duration": 657,
    "start_time": "2023-04-05T04:16:38.735Z"
   },
   {
    "duration": 10,
    "start_time": "2023-04-05T04:17:59.504Z"
   },
   {
    "duration": 7,
    "start_time": "2023-04-05T04:18:09.998Z"
   },
   {
    "duration": 7,
    "start_time": "2023-04-05T04:18:20.233Z"
   },
   {
    "duration": 18,
    "start_time": "2023-04-05T04:18:20.739Z"
   },
   {
    "duration": 32,
    "start_time": "2023-04-05T04:21:28.837Z"
   },
   {
    "duration": 670,
    "start_time": "2023-04-05T04:22:45.017Z"
   },
   {
    "duration": 21,
    "start_time": "2023-04-05T04:24:36.909Z"
   },
   {
    "duration": 25,
    "start_time": "2023-04-05T04:24:46.732Z"
   },
   {
    "duration": 26,
    "start_time": "2023-04-05T04:24:54.752Z"
   },
   {
    "duration": 20,
    "start_time": "2023-04-05T04:25:05.298Z"
   },
   {
    "duration": 28,
    "start_time": "2023-04-05T04:25:21.735Z"
   },
   {
    "duration": 17,
    "start_time": "2023-04-05T04:25:33.411Z"
   },
   {
    "duration": 1529,
    "start_time": "2023-04-05T04:25:53.531Z"
   },
   {
    "duration": 466,
    "start_time": "2023-04-05T04:25:55.062Z"
   },
   {
    "duration": 0,
    "start_time": "2023-04-05T04:25:55.530Z"
   },
   {
    "duration": 0,
    "start_time": "2023-04-05T04:25:55.531Z"
   },
   {
    "duration": 0,
    "start_time": "2023-04-05T04:25:55.533Z"
   },
   {
    "duration": 0,
    "start_time": "2023-04-05T04:25:55.534Z"
   },
   {
    "duration": 0,
    "start_time": "2023-04-05T04:25:55.535Z"
   },
   {
    "duration": 0,
    "start_time": "2023-04-05T04:25:55.536Z"
   },
   {
    "duration": 0,
    "start_time": "2023-04-05T04:25:55.536Z"
   },
   {
    "duration": 223,
    "start_time": "2023-04-05T04:26:15.373Z"
   },
   {
    "duration": 268,
    "start_time": "2023-04-05T04:26:25.356Z"
   },
   {
    "duration": 1385,
    "start_time": "2023-04-05T04:26:47.531Z"
   },
   {
    "duration": 299,
    "start_time": "2023-04-05T04:26:48.918Z"
   },
   {
    "duration": 43,
    "start_time": "2023-04-05T04:26:49.219Z"
   },
   {
    "duration": 46,
    "start_time": "2023-04-05T04:26:49.265Z"
   },
   {
    "duration": 14,
    "start_time": "2023-04-05T04:26:49.313Z"
   },
   {
    "duration": 69,
    "start_time": "2023-04-05T04:26:49.328Z"
   },
   {
    "duration": 29,
    "start_time": "2023-04-05T04:26:49.399Z"
   },
   {
    "duration": 39,
    "start_time": "2023-04-05T04:26:49.430Z"
   },
   {
    "duration": 45,
    "start_time": "2023-04-05T04:26:49.470Z"
   },
   {
    "duration": 42,
    "start_time": "2023-04-05T04:31:18.834Z"
   },
   {
    "duration": 37,
    "start_time": "2023-04-05T04:31:30.580Z"
   },
   {
    "duration": 1197,
    "start_time": "2023-04-05T04:32:46.435Z"
   },
   {
    "duration": 32,
    "start_time": "2023-04-05T04:34:11.620Z"
   },
   {
    "duration": 689,
    "start_time": "2023-04-05T04:34:20.696Z"
   },
   {
    "duration": 25,
    "start_time": "2023-04-05T04:37:56.313Z"
   },
   {
    "duration": 30,
    "start_time": "2023-04-05T04:38:40.360Z"
   },
   {
    "duration": 10,
    "start_time": "2023-04-05T04:40:03.827Z"
   },
   {
    "duration": 5,
    "start_time": "2023-04-05T04:40:31.775Z"
   },
   {
    "duration": 10,
    "start_time": "2023-04-05T04:40:40.143Z"
   },
   {
    "duration": 30,
    "start_time": "2023-04-05T04:42:21.452Z"
   },
   {
    "duration": 21,
    "start_time": "2023-04-05T04:43:14.462Z"
   },
   {
    "duration": 778,
    "start_time": "2023-04-05T04:43:51.108Z"
   },
   {
    "duration": 674,
    "start_time": "2023-04-05T04:44:20.960Z"
   },
   {
    "duration": 26,
    "start_time": "2023-04-05T04:48:54.251Z"
   },
   {
    "duration": 36,
    "start_time": "2023-04-05T04:49:03.370Z"
   },
   {
    "duration": 60,
    "start_time": "2023-04-05T04:49:09.071Z"
   },
   {
    "duration": 54,
    "start_time": "2023-04-05T04:49:33.301Z"
   },
   {
    "duration": 17,
    "start_time": "2023-04-05T04:55:31.355Z"
   },
   {
    "duration": 788,
    "start_time": "2023-04-05T04:56:33.036Z"
   },
   {
    "duration": 721,
    "start_time": "2023-04-05T04:57:30.479Z"
   },
   {
    "duration": 984,
    "start_time": "2023-04-05T04:57:49.586Z"
   },
   {
    "duration": 671,
    "start_time": "2023-04-05T04:58:21.331Z"
   },
   {
    "duration": 674,
    "start_time": "2023-04-05T04:58:42.167Z"
   },
   {
    "duration": 1360,
    "start_time": "2023-04-05T04:58:50.441Z"
   },
   {
    "duration": 475,
    "start_time": "2023-04-05T04:58:51.803Z"
   },
   {
    "duration": 40,
    "start_time": "2023-04-05T04:58:52.280Z"
   },
   {
    "duration": 56,
    "start_time": "2023-04-05T04:58:52.341Z"
   },
   {
    "duration": 42,
    "start_time": "2023-04-05T04:58:52.400Z"
   },
   {
    "duration": 37,
    "start_time": "2023-04-05T04:58:52.444Z"
   },
   {
    "duration": 721,
    "start_time": "2023-04-05T04:58:52.483Z"
   },
   {
    "duration": 24,
    "start_time": "2023-04-05T04:58:53.206Z"
   },
   {
    "duration": 58,
    "start_time": "2023-04-05T04:58:53.232Z"
   },
   {
    "duration": 194,
    "start_time": "2023-04-05T04:58:53.294Z"
   },
   {
    "duration": 0,
    "start_time": "2023-04-05T04:58:53.490Z"
   },
   {
    "duration": 0,
    "start_time": "2023-04-05T04:58:53.492Z"
   },
   {
    "duration": 713,
    "start_time": "2023-04-05T04:59:16.359Z"
   },
   {
    "duration": 1064,
    "start_time": "2023-04-05T04:59:24.088Z"
   },
   {
    "duration": 684,
    "start_time": "2023-04-05T04:59:49.559Z"
   },
   {
    "duration": 708,
    "start_time": "2023-04-05T05:00:07.263Z"
   },
   {
    "duration": 12,
    "start_time": "2023-04-05T05:01:22.622Z"
   },
   {
    "duration": 4,
    "start_time": "2023-04-05T05:01:28.861Z"
   },
   {
    "duration": 13,
    "start_time": "2023-04-05T05:05:31.121Z"
   },
   {
    "duration": 132,
    "start_time": "2023-04-05T05:05:36.925Z"
   },
   {
    "duration": 31,
    "start_time": "2023-04-05T05:06:00.904Z"
   },
   {
    "duration": 30,
    "start_time": "2023-04-05T05:08:21.931Z"
   },
   {
    "duration": 1752,
    "start_time": "2023-04-05T05:12:08.444Z"
   },
   {
    "duration": 46,
    "start_time": "2023-04-05T05:12:18.146Z"
   },
   {
    "duration": 55,
    "start_time": "2023-04-05T05:12:23.284Z"
   },
   {
    "duration": 47,
    "start_time": "2023-04-05T05:13:01.987Z"
   },
   {
    "duration": 27,
    "start_time": "2023-04-05T05:13:12.382Z"
   },
   {
    "duration": 7,
    "start_time": "2023-04-05T05:15:48.354Z"
   },
   {
    "duration": 963,
    "start_time": "2023-04-05T05:17:31.898Z"
   },
   {
    "duration": 6,
    "start_time": "2023-04-05T05:21:24.843Z"
   },
   {
    "duration": 594,
    "start_time": "2023-04-05T05:21:27.231Z"
   },
   {
    "duration": 314,
    "start_time": "2023-04-05T05:21:55.760Z"
   },
   {
    "duration": 14,
    "start_time": "2023-04-05T05:25:21.296Z"
   },
   {
    "duration": 25,
    "start_time": "2023-04-05T05:25:24.866Z"
   },
   {
    "duration": 37,
    "start_time": "2023-04-05T05:25:52.513Z"
   },
   {
    "duration": 14,
    "start_time": "2023-04-05T05:26:42.100Z"
   },
   {
    "duration": 58,
    "start_time": "2023-04-05T05:27:45.228Z"
   },
   {
    "duration": 345,
    "start_time": "2023-04-05T05:28:03.203Z"
   },
   {
    "duration": 365,
    "start_time": "2023-04-05T05:28:07.529Z"
   },
   {
    "duration": 343,
    "start_time": "2023-04-05T05:28:23.291Z"
   },
   {
    "duration": 331,
    "start_time": "2023-04-05T05:28:33.360Z"
   },
   {
    "duration": 1775,
    "start_time": "2023-04-05T05:28:45.335Z"
   },
   {
    "duration": 445,
    "start_time": "2023-04-05T05:28:47.114Z"
   },
   {
    "duration": 42,
    "start_time": "2023-04-05T05:28:47.561Z"
   },
   {
    "duration": 66,
    "start_time": "2023-04-05T05:28:47.606Z"
   },
   {
    "duration": 16,
    "start_time": "2023-04-05T05:28:47.674Z"
   },
   {
    "duration": 26,
    "start_time": "2023-04-05T05:28:47.692Z"
   },
   {
    "duration": 409,
    "start_time": "2023-04-05T05:28:47.720Z"
   },
   {
    "duration": 28,
    "start_time": "2023-04-05T05:28:48.131Z"
   },
   {
    "duration": 27,
    "start_time": "2023-04-05T05:28:48.163Z"
   },
   {
    "duration": 133,
    "start_time": "2023-04-05T05:28:48.194Z"
   },
   {
    "duration": 1,
    "start_time": "2023-04-05T05:28:48.329Z"
   },
   {
    "duration": 0,
    "start_time": "2023-04-05T05:28:48.331Z"
   },
   {
    "duration": 459,
    "start_time": "2023-04-05T05:28:58.404Z"
   },
   {
    "duration": 59,
    "start_time": "2023-04-05T05:29:24.175Z"
   },
   {
    "duration": 29,
    "start_time": "2023-04-05T05:30:05.295Z"
   },
   {
    "duration": 380,
    "start_time": "2023-04-05T05:30:23.872Z"
   },
   {
    "duration": 1565,
    "start_time": "2023-04-05T05:30:37.608Z"
   },
   {
    "duration": 404,
    "start_time": "2023-04-05T05:30:39.176Z"
   },
   {
    "duration": 42,
    "start_time": "2023-04-05T05:30:39.582Z"
   },
   {
    "duration": 47,
    "start_time": "2023-04-05T05:30:39.644Z"
   },
   {
    "duration": 17,
    "start_time": "2023-04-05T05:30:39.693Z"
   },
   {
    "duration": 53,
    "start_time": "2023-04-05T05:30:39.713Z"
   },
   {
    "duration": 487,
    "start_time": "2023-04-05T05:30:39.768Z"
   },
   {
    "duration": 15,
    "start_time": "2023-04-05T05:30:40.257Z"
   },
   {
    "duration": 29,
    "start_time": "2023-04-05T05:30:40.274Z"
   },
   {
    "duration": 150,
    "start_time": "2023-04-05T05:30:40.307Z"
   },
   {
    "duration": 1,
    "start_time": "2023-04-05T05:30:40.462Z"
   },
   {
    "duration": 0,
    "start_time": "2023-04-05T05:30:40.464Z"
   },
   {
    "duration": 1497,
    "start_time": "2023-04-05T05:37:58.204Z"
   },
   {
    "duration": 371,
    "start_time": "2023-04-05T05:37:59.704Z"
   },
   {
    "duration": 28,
    "start_time": "2023-04-05T05:38:00.077Z"
   },
   {
    "duration": 83,
    "start_time": "2023-04-05T05:38:00.109Z"
   },
   {
    "duration": 16,
    "start_time": "2023-04-05T05:38:00.194Z"
   },
   {
    "duration": 76,
    "start_time": "2023-04-05T05:38:00.212Z"
   },
   {
    "duration": 404,
    "start_time": "2023-04-05T05:38:00.291Z"
   },
   {
    "duration": 13,
    "start_time": "2023-04-05T05:38:00.697Z"
   },
   {
    "duration": 85,
    "start_time": "2023-04-05T05:38:00.713Z"
   },
   {
    "duration": 132,
    "start_time": "2023-04-05T05:38:00.801Z"
   },
   {
    "duration": 0,
    "start_time": "2023-04-05T05:38:00.935Z"
   },
   {
    "duration": 0,
    "start_time": "2023-04-05T05:38:00.936Z"
   },
   {
    "duration": 29,
    "start_time": "2023-04-05T05:38:10.372Z"
   },
   {
    "duration": 23,
    "start_time": "2023-04-05T05:38:31.397Z"
   },
   {
    "duration": 27,
    "start_time": "2023-04-05T05:39:15.860Z"
   },
   {
    "duration": 369,
    "start_time": "2023-04-05T05:39:22.733Z"
   },
   {
    "duration": 1465,
    "start_time": "2023-04-05T05:39:39.938Z"
   },
   {
    "duration": 322,
    "start_time": "2023-04-05T05:39:41.405Z"
   },
   {
    "duration": 41,
    "start_time": "2023-04-05T05:39:41.730Z"
   },
   {
    "duration": 62,
    "start_time": "2023-04-05T05:39:41.774Z"
   },
   {
    "duration": 27,
    "start_time": "2023-04-05T05:39:41.837Z"
   },
   {
    "duration": 34,
    "start_time": "2023-04-05T05:39:41.866Z"
   },
   {
    "duration": 380,
    "start_time": "2023-04-05T05:39:41.902Z"
   },
   {
    "duration": 12,
    "start_time": "2023-04-05T05:39:42.284Z"
   },
   {
    "duration": 24,
    "start_time": "2023-04-05T05:39:42.298Z"
   },
   {
    "duration": 136,
    "start_time": "2023-04-05T05:39:42.324Z"
   },
   {
    "duration": 0,
    "start_time": "2023-04-05T05:39:42.463Z"
   },
   {
    "duration": 0,
    "start_time": "2023-04-05T05:39:42.464Z"
   },
   {
    "duration": 842,
    "start_time": "2023-04-05T05:40:55.900Z"
   },
   {
    "duration": 864,
    "start_time": "2023-04-05T05:41:06.795Z"
   },
   {
    "duration": 1528,
    "start_time": "2023-04-05T05:41:15.637Z"
   },
   {
    "duration": 349,
    "start_time": "2023-04-05T05:41:17.167Z"
   },
   {
    "duration": 50,
    "start_time": "2023-04-05T05:41:17.518Z"
   },
   {
    "duration": 57,
    "start_time": "2023-04-05T05:41:17.570Z"
   },
   {
    "duration": 19,
    "start_time": "2023-04-05T05:41:17.629Z"
   },
   {
    "duration": 54,
    "start_time": "2023-04-05T05:41:17.656Z"
   },
   {
    "duration": 754,
    "start_time": "2023-04-05T05:41:17.712Z"
   },
   {
    "duration": 16,
    "start_time": "2023-04-05T05:41:18.469Z"
   },
   {
    "duration": 37,
    "start_time": "2023-04-05T05:41:18.488Z"
   },
   {
    "duration": 144,
    "start_time": "2023-04-05T05:41:18.528Z"
   },
   {
    "duration": 0,
    "start_time": "2023-04-05T05:41:18.674Z"
   },
   {
    "duration": 0,
    "start_time": "2023-04-05T05:41:18.675Z"
   },
   {
    "duration": 787,
    "start_time": "2023-04-05T05:41:47.148Z"
   },
   {
    "duration": 1793,
    "start_time": "2023-04-05T05:42:09.833Z"
   },
   {
    "duration": 360,
    "start_time": "2023-04-05T05:42:11.629Z"
   },
   {
    "duration": 35,
    "start_time": "2023-04-05T05:42:11.991Z"
   },
   {
    "duration": 83,
    "start_time": "2023-04-05T05:42:12.044Z"
   },
   {
    "duration": 25,
    "start_time": "2023-04-05T05:42:12.129Z"
   },
   {
    "duration": 92,
    "start_time": "2023-04-05T05:42:12.156Z"
   },
   {
    "duration": 770,
    "start_time": "2023-04-05T05:42:12.250Z"
   },
   {
    "duration": 23,
    "start_time": "2023-04-05T05:42:13.023Z"
   },
   {
    "duration": 37,
    "start_time": "2023-04-05T05:42:13.047Z"
   },
   {
    "duration": 161,
    "start_time": "2023-04-05T05:42:13.088Z"
   },
   {
    "duration": 0,
    "start_time": "2023-04-05T05:42:13.253Z"
   },
   {
    "duration": 0,
    "start_time": "2023-04-05T05:42:13.255Z"
   },
   {
    "duration": 16,
    "start_time": "2023-04-05T05:42:39.095Z"
   },
   {
    "duration": 58,
    "start_time": "2023-04-05T05:43:24.229Z"
   },
   {
    "duration": 53,
    "start_time": "2023-04-05T05:44:03.332Z"
   },
   {
    "duration": 9,
    "start_time": "2023-04-05T05:44:51.006Z"
   },
   {
    "duration": 87,
    "start_time": "2023-04-05T05:45:20.569Z"
   },
   {
    "duration": 147,
    "start_time": "2023-04-05T05:45:49.962Z"
   },
   {
    "duration": 44,
    "start_time": "2023-04-05T05:46:08.808Z"
   },
   {
    "duration": 8,
    "start_time": "2023-04-05T05:46:39.470Z"
   },
   {
    "duration": 7,
    "start_time": "2023-04-05T05:46:42.316Z"
   },
   {
    "duration": 7,
    "start_time": "2023-04-05T05:46:50.974Z"
   },
   {
    "duration": 21,
    "start_time": "2023-04-05T05:46:59.519Z"
   },
   {
    "duration": 197,
    "start_time": "2023-04-05T05:47:10.116Z"
   },
   {
    "duration": 23,
    "start_time": "2023-04-05T05:47:20.867Z"
   },
   {
    "duration": 454,
    "start_time": "2023-04-05T05:47:21.840Z"
   },
   {
    "duration": 5,
    "start_time": "2023-04-05T07:10:17.159Z"
   },
   {
    "duration": 23,
    "start_time": "2023-04-05T07:10:56.944Z"
   },
   {
    "duration": 25,
    "start_time": "2023-04-05T07:12:56.256Z"
   },
   {
    "duration": 46,
    "start_time": "2023-04-05T07:13:01.715Z"
   },
   {
    "duration": 22,
    "start_time": "2023-04-05T07:13:26.403Z"
   },
   {
    "duration": 34,
    "start_time": "2023-04-05T07:13:31.179Z"
   },
   {
    "duration": 36,
    "start_time": "2023-04-05T07:13:37.404Z"
   },
   {
    "duration": 28,
    "start_time": "2023-04-05T07:14:05.270Z"
   },
   {
    "duration": 5,
    "start_time": "2023-04-05T07:14:12.681Z"
   },
   {
    "duration": 20,
    "start_time": "2023-04-05T07:14:14.569Z"
   },
   {
    "duration": 44,
    "start_time": "2023-04-05T07:14:32.191Z"
   },
   {
    "duration": 44,
    "start_time": "2023-04-05T07:14:49.862Z"
   },
   {
    "duration": 21,
    "start_time": "2023-04-05T07:22:28.059Z"
   },
   {
    "duration": 10,
    "start_time": "2023-04-05T07:22:49.752Z"
   },
   {
    "duration": 65,
    "start_time": "2023-04-05T07:23:05.152Z"
   },
   {
    "duration": 72,
    "start_time": "2023-04-05T07:23:19.558Z"
   },
   {
    "duration": 88,
    "start_time": "2023-04-05T07:28:26.676Z"
   },
   {
    "duration": 5,
    "start_time": "2023-04-05T07:36:58.853Z"
   },
   {
    "duration": 104,
    "start_time": "2023-04-05T07:36:58.860Z"
   },
   {
    "duration": 9,
    "start_time": "2023-04-05T07:37:04.060Z"
   },
   {
    "duration": 104,
    "start_time": "2023-04-05T07:37:04.856Z"
   },
   {
    "duration": 20,
    "start_time": "2023-04-05T07:38:35.490Z"
   },
   {
    "duration": 41,
    "start_time": "2023-04-05T07:39:22.758Z"
   },
   {
    "duration": 1163,
    "start_time": "2023-04-05T07:39:32.699Z"
   },
   {
    "duration": 1583,
    "start_time": "2023-04-07T02:05:36.684Z"
   },
   {
    "duration": 385,
    "start_time": "2023-04-07T02:05:38.269Z"
   },
   {
    "duration": 31,
    "start_time": "2023-04-07T02:05:38.656Z"
   },
   {
    "duration": 35,
    "start_time": "2023-04-07T02:05:38.690Z"
   },
   {
    "duration": 17,
    "start_time": "2023-04-07T02:05:38.727Z"
   },
   {
    "duration": 49,
    "start_time": "2023-04-07T02:05:38.746Z"
   },
   {
    "duration": 667,
    "start_time": "2023-04-07T02:05:38.797Z"
   },
   {
    "duration": 10,
    "start_time": "2023-04-07T02:05:39.466Z"
   },
   {
    "duration": 13,
    "start_time": "2023-04-07T02:05:39.486Z"
   },
   {
    "duration": 18,
    "start_time": "2023-04-07T02:05:39.501Z"
   },
   {
    "duration": 4,
    "start_time": "2023-04-07T02:05:39.521Z"
   },
   {
    "duration": 94,
    "start_time": "2023-04-07T02:05:39.526Z"
   },
   {
    "duration": 3,
    "start_time": "2023-04-07T02:39:45.760Z"
   },
   {
    "duration": 12,
    "start_time": "2023-04-07T02:39:45.765Z"
   },
   {
    "duration": 6,
    "start_time": "2023-04-07T02:40:08.686Z"
   },
   {
    "duration": 82,
    "start_time": "2023-04-07T02:40:13.830Z"
   },
   {
    "duration": 77,
    "start_time": "2023-04-07T02:40:26.404Z"
   },
   {
    "duration": 151,
    "start_time": "2023-04-07T02:40:40.606Z"
   },
   {
    "duration": 14,
    "start_time": "2023-04-07T02:40:58.906Z"
   },
   {
    "duration": 16,
    "start_time": "2023-04-07T02:41:25.651Z"
   },
   {
    "duration": 8,
    "start_time": "2023-04-07T02:42:05.946Z"
   },
   {
    "duration": 1405,
    "start_time": "2023-04-10T01:07:45.748Z"
   },
   {
    "duration": 391,
    "start_time": "2023-04-10T01:07:47.155Z"
   },
   {
    "duration": 22,
    "start_time": "2023-04-10T01:07:47.547Z"
   },
   {
    "duration": 30,
    "start_time": "2023-04-10T01:07:47.570Z"
   },
   {
    "duration": 38,
    "start_time": "2023-04-10T01:07:47.601Z"
   },
   {
    "duration": 32,
    "start_time": "2023-04-10T01:07:47.641Z"
   },
   {
    "duration": 602,
    "start_time": "2023-04-10T01:07:47.674Z"
   },
   {
    "duration": 11,
    "start_time": "2023-04-10T01:07:48.277Z"
   },
   {
    "duration": 14,
    "start_time": "2023-04-10T01:07:48.289Z"
   },
   {
    "duration": 34,
    "start_time": "2023-04-10T01:07:48.305Z"
   },
   {
    "duration": 4,
    "start_time": "2023-04-10T01:07:48.341Z"
   },
   {
    "duration": 68,
    "start_time": "2023-04-10T01:07:48.347Z"
   },
   {
    "duration": 23,
    "start_time": "2023-04-10T01:07:48.416Z"
   },
   {
    "duration": 5,
    "start_time": "2023-04-10T01:07:48.440Z"
   },
   {
    "duration": 1568,
    "start_time": "2023-04-10T01:07:48.446Z"
   },
   {
    "duration": 23,
    "start_time": "2023-04-10T01:25:58.364Z"
   },
   {
    "duration": 12,
    "start_time": "2023-04-10T01:26:15.551Z"
   },
   {
    "duration": 23,
    "start_time": "2023-04-10T01:26:23.266Z"
   },
   {
    "duration": 39,
    "start_time": "2023-04-10T01:26:27.668Z"
   },
   {
    "duration": 15,
    "start_time": "2023-04-10T01:26:28.464Z"
   },
   {
    "duration": 21,
    "start_time": "2023-04-10T01:26:36.119Z"
   },
   {
    "duration": 10,
    "start_time": "2023-04-10T01:26:46.210Z"
   },
   {
    "duration": 21,
    "start_time": "2023-04-10T01:27:39.960Z"
   },
   {
    "duration": 21,
    "start_time": "2023-04-10T01:27:45.584Z"
   },
   {
    "duration": 37,
    "start_time": "2023-04-10T01:28:10.925Z"
   },
   {
    "duration": 49,
    "start_time": "2023-04-10T01:31:35.409Z"
   },
   {
    "duration": 35,
    "start_time": "2023-04-10T01:31:46.382Z"
   },
   {
    "duration": 59,
    "start_time": "2023-04-10T01:31:56.820Z"
   },
   {
    "duration": 94,
    "start_time": "2023-04-10T01:33:38.789Z"
   },
   {
    "duration": 51,
    "start_time": "2023-04-10T01:55:28.721Z"
   },
   {
    "duration": 42,
    "start_time": "2023-04-10T01:56:29.725Z"
   },
   {
    "duration": 76,
    "start_time": "2023-04-10T01:56:34.640Z"
   },
   {
    "duration": 48,
    "start_time": "2023-04-10T01:56:51.881Z"
   },
   {
    "duration": 53,
    "start_time": "2023-04-10T01:57:02.976Z"
   },
   {
    "duration": 45,
    "start_time": "2023-04-10T01:58:59.690Z"
   },
   {
    "duration": 12,
    "start_time": "2023-04-10T01:59:40.691Z"
   },
   {
    "duration": 425,
    "start_time": "2023-04-10T02:00:17.433Z"
   },
   {
    "duration": 402,
    "start_time": "2023-04-10T02:01:57.556Z"
   },
   {
    "duration": 5,
    "start_time": "2023-04-10T02:02:24.997Z"
   },
   {
    "duration": 14,
    "start_time": "2023-04-10T02:02:32.665Z"
   },
   {
    "duration": 425,
    "start_time": "2023-04-10T02:02:43.284Z"
   },
   {
    "duration": 420,
    "start_time": "2023-04-10T02:02:58.795Z"
   },
   {
    "duration": 473,
    "start_time": "2023-04-10T02:03:10.618Z"
   },
   {
    "duration": 200,
    "start_time": "2023-04-10T02:11:23.389Z"
   },
   {
    "duration": 515,
    "start_time": "2023-04-10T02:11:34.651Z"
   },
   {
    "duration": 368,
    "start_time": "2023-04-10T02:11:44.668Z"
   },
   {
    "duration": 513,
    "start_time": "2023-04-10T02:11:51.474Z"
   },
   {
    "duration": 132,
    "start_time": "2023-04-10T02:14:04.639Z"
   },
   {
    "duration": 428,
    "start_time": "2023-04-10T02:14:28.293Z"
   },
   {
    "duration": 356,
    "start_time": "2023-04-10T02:14:37.158Z"
   },
   {
    "duration": 43,
    "start_time": "2023-04-10T02:15:08.319Z"
   },
   {
    "duration": 11,
    "start_time": "2023-04-10T02:15:09.394Z"
   },
   {
    "duration": 1213,
    "start_time": "2023-04-10T02:15:18.238Z"
   },
   {
    "duration": 292,
    "start_time": "2023-04-10T02:15:19.453Z"
   },
   {
    "duration": 25,
    "start_time": "2023-04-10T02:15:19.747Z"
   },
   {
    "duration": 35,
    "start_time": "2023-04-10T02:15:19.774Z"
   },
   {
    "duration": 34,
    "start_time": "2023-04-10T02:15:19.810Z"
   },
   {
    "duration": 26,
    "start_time": "2023-04-10T02:15:19.846Z"
   },
   {
    "duration": 63,
    "start_time": "2023-04-10T02:15:19.874Z"
   },
   {
    "duration": 11,
    "start_time": "2023-04-10T02:15:19.939Z"
   },
   {
    "duration": 15,
    "start_time": "2023-04-10T02:15:19.951Z"
   },
   {
    "duration": 47,
    "start_time": "2023-04-10T02:15:19.968Z"
   },
   {
    "duration": 33,
    "start_time": "2023-04-10T02:15:20.017Z"
   },
   {
    "duration": 445,
    "start_time": "2023-04-10T02:15:20.052Z"
   },
   {
    "duration": 18,
    "start_time": "2023-04-10T02:15:20.499Z"
   },
   {
    "duration": 5,
    "start_time": "2023-04-10T02:15:20.535Z"
   },
   {
    "duration": 121,
    "start_time": "2023-04-10T02:15:20.541Z"
   },
   {
    "duration": 0,
    "start_time": "2023-04-10T02:15:20.663Z"
   },
   {
    "duration": 0,
    "start_time": "2023-04-10T02:15:20.664Z"
   },
   {
    "duration": 0,
    "start_time": "2023-04-10T02:15:20.665Z"
   },
   {
    "duration": 9,
    "start_time": "2023-04-10T02:15:33.517Z"
   },
   {
    "duration": 11,
    "start_time": "2023-04-10T02:16:03.160Z"
   },
   {
    "duration": 384,
    "start_time": "2023-04-10T02:20:14.990Z"
   },
   {
    "duration": 383,
    "start_time": "2023-04-10T02:20:30.742Z"
   },
   {
    "duration": 15,
    "start_time": "2023-04-10T02:29:33.287Z"
   },
   {
    "duration": 24,
    "start_time": "2023-04-10T02:29:45.268Z"
   },
   {
    "duration": 22,
    "start_time": "2023-04-10T02:29:56.481Z"
   },
   {
    "duration": 305,
    "start_time": "2023-04-10T02:32:37.463Z"
   },
   {
    "duration": 16,
    "start_time": "2023-04-10T02:33:02.447Z"
   },
   {
    "duration": 19,
    "start_time": "2023-04-10T02:33:14.213Z"
   },
   {
    "duration": 18,
    "start_time": "2023-04-10T02:33:59.371Z"
   },
   {
    "duration": 22,
    "start_time": "2023-04-10T02:34:40.671Z"
   },
   {
    "duration": 1243,
    "start_time": "2023-04-10T02:34:48.917Z"
   },
   {
    "duration": 346,
    "start_time": "2023-04-10T02:34:50.163Z"
   },
   {
    "duration": 34,
    "start_time": "2023-04-10T02:34:50.511Z"
   },
   {
    "duration": 33,
    "start_time": "2023-04-10T02:34:50.547Z"
   },
   {
    "duration": 14,
    "start_time": "2023-04-10T02:34:50.582Z"
   },
   {
    "duration": 46,
    "start_time": "2023-04-10T02:34:50.598Z"
   },
   {
    "duration": 46,
    "start_time": "2023-04-10T02:34:50.645Z"
   },
   {
    "duration": 10,
    "start_time": "2023-04-10T02:34:50.693Z"
   },
   {
    "duration": 31,
    "start_time": "2023-04-10T02:34:50.704Z"
   },
   {
    "duration": 47,
    "start_time": "2023-04-10T02:34:50.738Z"
   },
   {
    "duration": 21,
    "start_time": "2023-04-10T02:34:50.786Z"
   },
   {
    "duration": 456,
    "start_time": "2023-04-10T02:34:50.835Z"
   },
   {
    "duration": 18,
    "start_time": "2023-04-10T02:34:51.293Z"
   },
   {
    "duration": 41,
    "start_time": "2023-04-10T02:34:51.313Z"
   },
   {
    "duration": 4,
    "start_time": "2023-04-10T02:34:51.356Z"
   },
   {
    "duration": 155,
    "start_time": "2023-04-10T02:34:51.362Z"
   },
   {
    "duration": 0,
    "start_time": "2023-04-10T02:34:51.519Z"
   },
   {
    "duration": 0,
    "start_time": "2023-04-10T02:34:51.520Z"
   },
   {
    "duration": 0,
    "start_time": "2023-04-10T02:34:51.521Z"
   },
   {
    "duration": 1229,
    "start_time": "2023-04-10T05:07:16.560Z"
   },
   {
    "duration": 354,
    "start_time": "2023-04-10T05:07:17.790Z"
   },
   {
    "duration": 22,
    "start_time": "2023-04-10T05:07:18.146Z"
   },
   {
    "duration": 31,
    "start_time": "2023-04-10T05:07:18.170Z"
   },
   {
    "duration": 36,
    "start_time": "2023-04-10T05:07:18.203Z"
   },
   {
    "duration": 23,
    "start_time": "2023-04-10T05:07:18.241Z"
   },
   {
    "duration": 45,
    "start_time": "2023-04-10T05:07:18.266Z"
   },
   {
    "duration": 30,
    "start_time": "2023-04-10T05:07:18.312Z"
   },
   {
    "duration": 27,
    "start_time": "2023-04-10T05:07:18.344Z"
   },
   {
    "duration": 81,
    "start_time": "2023-04-10T05:07:18.373Z"
   },
   {
    "duration": 25,
    "start_time": "2023-04-10T05:07:18.456Z"
   },
   {
    "duration": 442,
    "start_time": "2023-04-10T05:07:18.483Z"
   },
   {
    "duration": 19,
    "start_time": "2023-04-10T05:07:18.927Z"
   },
   {
    "duration": 38,
    "start_time": "2023-04-10T05:07:18.948Z"
   },
   {
    "duration": 4,
    "start_time": "2023-04-10T05:07:18.989Z"
   },
   {
    "duration": 115,
    "start_time": "2023-04-10T05:07:18.995Z"
   },
   {
    "duration": 0,
    "start_time": "2023-04-10T05:07:19.112Z"
   },
   {
    "duration": 0,
    "start_time": "2023-04-10T05:07:19.113Z"
   },
   {
    "duration": 0,
    "start_time": "2023-04-10T05:07:19.115Z"
   },
   {
    "duration": 13,
    "start_time": "2023-04-10T05:09:07.215Z"
   },
   {
    "duration": 12,
    "start_time": "2023-04-10T05:09:33.005Z"
   },
   {
    "duration": 23,
    "start_time": "2023-04-10T05:09:51.285Z"
   },
   {
    "duration": 357,
    "start_time": "2023-04-10T05:10:05.298Z"
   },
   {
    "duration": 1280,
    "start_time": "2023-04-10T05:13:07.643Z"
   },
   {
    "duration": 252,
    "start_time": "2023-04-10T05:13:08.925Z"
   },
   {
    "duration": 23,
    "start_time": "2023-04-10T05:13:09.178Z"
   },
   {
    "duration": 63,
    "start_time": "2023-04-10T05:13:09.203Z"
   },
   {
    "duration": 19,
    "start_time": "2023-04-10T05:13:09.268Z"
   },
   {
    "duration": 24,
    "start_time": "2023-04-10T05:13:09.288Z"
   },
   {
    "duration": 63,
    "start_time": "2023-04-10T05:13:09.314Z"
   },
   {
    "duration": 11,
    "start_time": "2023-04-10T05:13:09.379Z"
   },
   {
    "duration": 22,
    "start_time": "2023-04-10T05:13:09.391Z"
   },
   {
    "duration": 52,
    "start_time": "2023-04-10T05:13:09.415Z"
   },
   {
    "duration": 20,
    "start_time": "2023-04-10T05:13:09.468Z"
   },
   {
    "duration": 453,
    "start_time": "2023-04-10T05:13:09.489Z"
   },
   {
    "duration": 15,
    "start_time": "2023-04-10T05:13:09.944Z"
   },
   {
    "duration": 310,
    "start_time": "2023-04-10T05:13:09.960Z"
   },
   {
    "duration": 113,
    "start_time": "2023-04-10T05:13:10.272Z"
   },
   {
    "duration": 0,
    "start_time": "2023-04-10T05:13:10.387Z"
   },
   {
    "duration": 0,
    "start_time": "2023-04-10T05:13:10.388Z"
   },
   {
    "duration": 0,
    "start_time": "2023-04-10T05:13:10.390Z"
   },
   {
    "duration": 0,
    "start_time": "2023-04-10T05:13:10.391Z"
   },
   {
    "duration": 0,
    "start_time": "2023-04-10T05:13:10.393Z"
   },
   {
    "duration": 1235,
    "start_time": "2023-04-10T05:24:25.885Z"
   },
   {
    "duration": 9,
    "start_time": "2023-04-10T05:24:56.024Z"
   },
   {
    "duration": 16,
    "start_time": "2023-04-10T05:25:08.034Z"
   },
   {
    "duration": 22,
    "start_time": "2023-04-10T05:28:13.219Z"
   },
   {
    "duration": 47,
    "start_time": "2023-04-10T05:28:20.610Z"
   },
   {
    "duration": 1383,
    "start_time": "2023-04-10T05:32:58.370Z"
   },
   {
    "duration": 1610,
    "start_time": "2023-04-11T23:46:54.355Z"
   },
   {
    "duration": 268,
    "start_time": "2023-04-11T23:46:55.967Z"
   },
   {
    "duration": 23,
    "start_time": "2023-04-11T23:46:56.237Z"
   },
   {
    "duration": 34,
    "start_time": "2023-04-11T23:46:56.262Z"
   },
   {
    "duration": 40,
    "start_time": "2023-04-11T23:46:56.297Z"
   },
   {
    "duration": 24,
    "start_time": "2023-04-11T23:46:56.339Z"
   },
   {
    "duration": 52,
    "start_time": "2023-04-11T23:46:56.365Z"
   },
   {
    "duration": 23,
    "start_time": "2023-04-11T23:46:56.419Z"
   },
   {
    "duration": 17,
    "start_time": "2023-04-11T23:46:56.444Z"
   },
   {
    "duration": 49,
    "start_time": "2023-04-11T23:46:56.463Z"
   },
   {
    "duration": 38,
    "start_time": "2023-04-11T23:46:56.514Z"
   },
   {
    "duration": 477,
    "start_time": "2023-04-11T23:46:56.553Z"
   },
   {
    "duration": 7,
    "start_time": "2023-04-12T00:00:34.794Z"
   },
   {
    "duration": 1,
    "start_time": "2023-04-12T00:01:00.931Z"
   },
   {
    "duration": 20,
    "start_time": "2023-04-12T00:01:24.654Z"
   },
   {
    "duration": 352,
    "start_time": "2023-04-12T00:03:56.254Z"
   },
   {
    "duration": 342,
    "start_time": "2023-04-12T00:04:07.743Z"
   },
   {
    "duration": 359,
    "start_time": "2023-04-12T00:04:19.255Z"
   },
   {
    "duration": 327,
    "start_time": "2023-04-12T00:04:43.646Z"
   },
   {
    "duration": 1089,
    "start_time": "2023-04-12T00:05:20.707Z"
   },
   {
    "duration": 687,
    "start_time": "2023-04-12T00:06:11.655Z"
   },
   {
    "duration": 319,
    "start_time": "2023-04-12T00:06:46.887Z"
   },
   {
    "duration": 38,
    "start_time": "2023-04-12T00:07:02.794Z"
   },
   {
    "duration": 18,
    "start_time": "2023-04-12T00:08:50.922Z"
   },
   {
    "duration": 16,
    "start_time": "2023-04-12T00:08:57.346Z"
   },
   {
    "duration": 375,
    "start_time": "2023-04-12T00:10:25.108Z"
   },
   {
    "duration": 101,
    "start_time": "2023-04-12T00:10:34.986Z"
   },
   {
    "duration": 22,
    "start_time": "2023-04-12T00:10:39.074Z"
   },
   {
    "duration": 6,
    "start_time": "2023-04-12T00:11:15.594Z"
   },
   {
    "duration": 21,
    "start_time": "2023-04-12T00:11:23.434Z"
   },
   {
    "duration": 22,
    "start_time": "2023-04-12T00:11:52.674Z"
   },
   {
    "duration": 24,
    "start_time": "2023-04-12T00:13:42.214Z"
   },
   {
    "duration": 14,
    "start_time": "2023-04-12T00:22:02.614Z"
   },
   {
    "duration": 28,
    "start_time": "2023-04-12T00:22:16.575Z"
   },
   {
    "duration": 23,
    "start_time": "2023-04-12T00:23:27.655Z"
   },
   {
    "duration": 11,
    "start_time": "2023-04-12T00:27:08.627Z"
   },
   {
    "duration": 41,
    "start_time": "2023-04-12T00:27:17.853Z"
   },
   {
    "duration": 1313,
    "start_time": "2023-04-12T00:27:31.134Z"
   },
   {
    "duration": 421,
    "start_time": "2023-04-12T00:27:32.449Z"
   },
   {
    "duration": 26,
    "start_time": "2023-04-12T00:27:32.871Z"
   },
   {
    "duration": 61,
    "start_time": "2023-04-12T00:27:32.899Z"
   },
   {
    "duration": 14,
    "start_time": "2023-04-12T00:27:32.961Z"
   },
   {
    "duration": 32,
    "start_time": "2023-04-12T00:27:32.976Z"
   },
   {
    "duration": 52,
    "start_time": "2023-04-12T00:27:33.010Z"
   },
   {
    "duration": 9,
    "start_time": "2023-04-12T00:27:33.064Z"
   },
   {
    "duration": 15,
    "start_time": "2023-04-12T00:27:33.075Z"
   },
   {
    "duration": 12,
    "start_time": "2023-04-12T00:27:33.092Z"
   },
   {
    "duration": 123,
    "start_time": "2023-04-12T00:27:33.105Z"
   },
   {
    "duration": 23,
    "start_time": "2023-04-12T00:28:38.534Z"
   },
   {
    "duration": 4,
    "start_time": "2023-04-12T00:29:13.405Z"
   },
   {
    "duration": 76,
    "start_time": "2023-04-12T00:29:34.414Z"
   },
   {
    "duration": 60,
    "start_time": "2023-04-12T00:30:08.562Z"
   },
   {
    "duration": 4,
    "start_time": "2023-04-12T00:30:32.462Z"
   },
   {
    "duration": 52,
    "start_time": "2023-04-12T00:30:38.658Z"
   },
   {
    "duration": 55,
    "start_time": "2023-04-12T00:30:48.560Z"
   },
   {
    "duration": 72,
    "start_time": "2023-04-12T00:31:01.395Z"
   },
   {
    "duration": 84,
    "start_time": "2023-04-12T00:31:04.913Z"
   },
   {
    "duration": 101,
    "start_time": "2023-04-12T00:31:49.613Z"
   },
   {
    "duration": 71,
    "start_time": "2023-04-12T00:31:53.785Z"
   },
   {
    "duration": 5,
    "start_time": "2023-04-12T00:32:26.953Z"
   },
   {
    "duration": 71,
    "start_time": "2023-04-12T00:32:27.834Z"
   },
   {
    "duration": 22,
    "start_time": "2023-04-12T00:33:23.126Z"
   },
   {
    "duration": 482,
    "start_time": "2023-04-12T00:33:39.325Z"
   },
   {
    "duration": 16,
    "start_time": "2023-04-12T00:34:03.360Z"
   },
   {
    "duration": 13,
    "start_time": "2023-04-12T00:35:20.886Z"
   },
   {
    "duration": 57,
    "start_time": "2023-04-12T00:35:35.758Z"
   },
   {
    "duration": 4,
    "start_time": "2023-04-12T00:37:11.721Z"
   },
   {
    "duration": 66,
    "start_time": "2023-04-12T00:37:13.743Z"
   },
   {
    "duration": 613,
    "start_time": "2023-04-12T00:41:05.246Z"
   },
   {
    "duration": 45,
    "start_time": "2023-04-12T00:42:38.134Z"
   },
   {
    "duration": 80,
    "start_time": "2023-04-12T00:43:34.715Z"
   },
   {
    "duration": 7,
    "start_time": "2023-04-12T00:44:17.662Z"
   },
   {
    "duration": 8,
    "start_time": "2023-04-12T00:44:25.576Z"
   },
   {
    "duration": 20,
    "start_time": "2023-04-12T00:44:37.566Z"
   },
   {
    "duration": 23,
    "start_time": "2023-04-12T00:44:45.574Z"
   },
   {
    "duration": 6,
    "start_time": "2023-04-12T00:45:22.786Z"
   },
   {
    "duration": 7,
    "start_time": "2023-04-12T00:45:41.794Z"
   },
   {
    "duration": 14,
    "start_time": "2023-04-12T00:45:53.594Z"
   },
   {
    "duration": 1394,
    "start_time": "2023-04-12T00:46:48.333Z"
   },
   {
    "duration": 7,
    "start_time": "2023-04-12T01:02:41.861Z"
   },
   {
    "duration": 8,
    "start_time": "2023-04-12T01:03:26.268Z"
   },
   {
    "duration": 12,
    "start_time": "2023-04-12T01:03:31.066Z"
   },
   {
    "duration": 4,
    "start_time": "2023-04-12T01:04:04.408Z"
   },
   {
    "duration": 100,
    "start_time": "2023-04-12T01:04:06.790Z"
   },
   {
    "duration": 4,
    "start_time": "2023-04-12T01:04:51.508Z"
   },
   {
    "duration": 98,
    "start_time": "2023-04-12T01:04:53.015Z"
   },
   {
    "duration": 5,
    "start_time": "2023-04-12T01:05:55.208Z"
   },
   {
    "duration": 5,
    "start_time": "2023-04-12T01:06:26.491Z"
   },
   {
    "duration": 3,
    "start_time": "2023-04-12T01:07:55.099Z"
   },
   {
    "duration": 5,
    "start_time": "2023-04-12T01:08:00.659Z"
   },
   {
    "duration": 15,
    "start_time": "2023-04-12T01:10:47.100Z"
   },
   {
    "duration": 18,
    "start_time": "2023-04-12T01:11:06.088Z"
   },
   {
    "duration": 9,
    "start_time": "2023-04-12T01:11:35.955Z"
   },
   {
    "duration": 1795,
    "start_time": "2023-04-12T01:12:02.669Z"
   },
   {
    "duration": 5,
    "start_time": "2023-04-12T01:12:36.271Z"
   },
   {
    "duration": 43,
    "start_time": "2023-04-12T01:13:28.884Z"
   },
   {
    "duration": 40,
    "start_time": "2023-04-12T01:15:34.488Z"
   },
   {
    "duration": 35,
    "start_time": "2023-04-12T01:15:43.218Z"
   },
   {
    "duration": 14,
    "start_time": "2023-04-12T01:16:09.588Z"
   },
   {
    "duration": 18,
    "start_time": "2023-04-12T01:16:25.788Z"
   },
   {
    "duration": 24,
    "start_time": "2023-04-12T01:16:33.068Z"
   },
   {
    "duration": 13,
    "start_time": "2023-04-12T01:17:16.268Z"
   },
   {
    "duration": 14,
    "start_time": "2023-04-12T01:17:32.384Z"
   },
   {
    "duration": 5,
    "start_time": "2023-04-12T01:17:40.061Z"
   },
   {
    "duration": 7,
    "start_time": "2023-04-12T01:17:46.517Z"
   },
   {
    "duration": 11,
    "start_time": "2023-04-12T01:18:04.058Z"
   },
   {
    "duration": 5,
    "start_time": "2023-04-12T01:18:36.125Z"
   },
   {
    "duration": 255,
    "start_time": "2023-04-12T01:18:54.368Z"
   },
   {
    "duration": 1666,
    "start_time": "2023-04-12T01:19:26.808Z"
   },
   {
    "duration": 12,
    "start_time": "2023-04-12T01:20:14.359Z"
   },
   {
    "duration": 2327,
    "start_time": "2023-04-12T01:20:54.161Z"
   },
   {
    "duration": 12,
    "start_time": "2023-04-12T01:21:17.707Z"
   },
   {
    "duration": 359,
    "start_time": "2023-04-12T01:21:31.449Z"
   },
   {
    "duration": 15,
    "start_time": "2023-04-12T01:22:10.388Z"
   },
   {
    "duration": 1991,
    "start_time": "2023-04-12T01:22:32.553Z"
   },
   {
    "duration": 13,
    "start_time": "2023-04-12T01:25:12.588Z"
   },
   {
    "duration": 10,
    "start_time": "2023-04-12T01:25:24.408Z"
   },
   {
    "duration": 1272,
    "start_time": "2023-04-12T01:25:33.557Z"
   },
   {
    "duration": 314,
    "start_time": "2023-04-12T01:25:34.831Z"
   },
   {
    "duration": 23,
    "start_time": "2023-04-12T01:25:35.146Z"
   },
   {
    "duration": 34,
    "start_time": "2023-04-12T01:25:35.171Z"
   },
   {
    "duration": 40,
    "start_time": "2023-04-12T01:25:35.207Z"
   },
   {
    "duration": 31,
    "start_time": "2023-04-12T01:25:35.249Z"
   },
   {
    "duration": 598,
    "start_time": "2023-04-12T01:25:35.282Z"
   },
   {
    "duration": 10,
    "start_time": "2023-04-12T01:25:35.881Z"
   },
   {
    "duration": 19,
    "start_time": "2023-04-12T01:25:35.892Z"
   },
   {
    "duration": 10,
    "start_time": "2023-04-12T01:25:35.913Z"
   },
   {
    "duration": 108,
    "start_time": "2023-04-12T01:25:35.924Z"
   },
   {
    "duration": 0,
    "start_time": "2023-04-12T01:25:36.034Z"
   },
   {
    "duration": 0,
    "start_time": "2023-04-12T01:25:36.035Z"
   },
   {
    "duration": 0,
    "start_time": "2023-04-12T01:25:36.036Z"
   },
   {
    "duration": 0,
    "start_time": "2023-04-12T01:25:36.037Z"
   },
   {
    "duration": 0,
    "start_time": "2023-04-12T01:25:36.038Z"
   },
   {
    "duration": 0,
    "start_time": "2023-04-12T01:25:36.039Z"
   },
   {
    "duration": 0,
    "start_time": "2023-04-12T01:25:36.040Z"
   },
   {
    "duration": 0,
    "start_time": "2023-04-12T01:25:36.041Z"
   },
   {
    "duration": 0,
    "start_time": "2023-04-12T01:25:36.043Z"
   },
   {
    "duration": 0,
    "start_time": "2023-04-12T01:25:36.044Z"
   },
   {
    "duration": 0,
    "start_time": "2023-04-12T01:25:36.045Z"
   },
   {
    "duration": 4,
    "start_time": "2023-04-12T01:25:51.659Z"
   },
   {
    "duration": 1239,
    "start_time": "2023-04-12T01:26:02.048Z"
   },
   {
    "duration": 314,
    "start_time": "2023-04-12T01:26:03.289Z"
   },
   {
    "duration": 41,
    "start_time": "2023-04-12T01:26:03.605Z"
   },
   {
    "duration": 34,
    "start_time": "2023-04-12T01:26:03.648Z"
   },
   {
    "duration": 23,
    "start_time": "2023-04-12T01:26:03.684Z"
   },
   {
    "duration": 51,
    "start_time": "2023-04-12T01:26:03.709Z"
   },
   {
    "duration": 568,
    "start_time": "2023-04-12T01:26:03.762Z"
   },
   {
    "duration": 10,
    "start_time": "2023-04-12T01:26:04.334Z"
   },
   {
    "duration": 15,
    "start_time": "2023-04-12T01:26:04.345Z"
   },
   {
    "duration": 4,
    "start_time": "2023-04-12T01:26:04.361Z"
   },
   {
    "duration": 4,
    "start_time": "2023-04-12T01:26:04.366Z"
   },
   {
    "duration": 9,
    "start_time": "2023-04-12T01:26:04.372Z"
   },
   {
    "duration": 14,
    "start_time": "2023-04-12T01:26:04.382Z"
   },
   {
    "duration": 47,
    "start_time": "2023-04-12T01:26:04.398Z"
   },
   {
    "duration": 5,
    "start_time": "2023-04-12T01:26:04.446Z"
   },
   {
    "duration": 36,
    "start_time": "2023-04-12T01:26:04.453Z"
   },
   {
    "duration": 19,
    "start_time": "2023-04-12T01:26:04.491Z"
   },
   {
    "duration": 48,
    "start_time": "2023-04-12T01:26:04.512Z"
   },
   {
    "duration": 7,
    "start_time": "2023-04-12T01:26:04.562Z"
   },
   {
    "duration": 10,
    "start_time": "2023-04-12T01:26:04.572Z"
   },
   {
    "duration": 14,
    "start_time": "2023-04-12T01:26:04.584Z"
   },
   {
    "duration": 280,
    "start_time": "2023-04-12T01:26:04.600Z"
   },
   {
    "duration": 5,
    "start_time": "2023-04-12T01:27:11.448Z"
   },
   {
    "duration": 10,
    "start_time": "2023-04-12T01:27:19.960Z"
   },
   {
    "duration": 398,
    "start_time": "2023-04-12T01:28:25.636Z"
   },
   {
    "duration": 23,
    "start_time": "2023-04-12T01:35:05.576Z"
   },
   {
    "duration": 1408,
    "start_time": "2023-04-12T01:35:19.628Z"
   },
   {
    "duration": 458,
    "start_time": "2023-04-12T01:35:21.040Z"
   },
   {
    "duration": 46,
    "start_time": "2023-04-12T01:35:21.500Z"
   },
   {
    "duration": 41,
    "start_time": "2023-04-12T01:35:21.550Z"
   },
   {
    "duration": 16,
    "start_time": "2023-04-12T01:35:21.592Z"
   },
   {
    "duration": 57,
    "start_time": "2023-04-12T01:35:21.610Z"
   },
   {
    "duration": 29,
    "start_time": "2023-04-12T01:35:21.669Z"
   },
   {
    "duration": 11,
    "start_time": "2023-04-12T01:35:21.699Z"
   },
   {
    "duration": 15,
    "start_time": "2023-04-12T01:35:21.736Z"
   },
   {
    "duration": 2071,
    "start_time": "2023-04-12T01:35:21.755Z"
   },
   {
    "duration": 0,
    "start_time": "2023-04-12T01:35:23.828Z"
   },
   {
    "duration": 0,
    "start_time": "2023-04-12T01:35:23.829Z"
   },
   {
    "duration": 658,
    "start_time": "2023-04-12T01:35:49.208Z"
   },
   {
    "duration": 1283,
    "start_time": "2023-04-12T01:35:58.189Z"
   },
   {
    "duration": 292,
    "start_time": "2023-04-12T01:35:59.474Z"
   },
   {
    "duration": 22,
    "start_time": "2023-04-12T01:35:59.768Z"
   },
   {
    "duration": 66,
    "start_time": "2023-04-12T01:35:59.792Z"
   },
   {
    "duration": 14,
    "start_time": "2023-04-12T01:35:59.861Z"
   },
   {
    "duration": 24,
    "start_time": "2023-04-12T01:35:59.876Z"
   },
   {
    "duration": 721,
    "start_time": "2023-04-12T01:35:59.901Z"
   },
   {
    "duration": 15,
    "start_time": "2023-04-12T01:36:00.624Z"
   },
   {
    "duration": 33,
    "start_time": "2023-04-12T01:36:00.643Z"
   },
   {
    "duration": 17,
    "start_time": "2023-04-12T01:36:00.678Z"
   },
   {
    "duration": 30,
    "start_time": "2023-04-12T01:36:00.697Z"
   },
   {
    "duration": 32,
    "start_time": "2023-04-12T01:36:00.728Z"
   },
   {
    "duration": 55,
    "start_time": "2023-04-12T01:40:10.177Z"
   },
   {
    "duration": 7,
    "start_time": "2023-04-12T01:40:11.448Z"
   },
   {
    "duration": 20,
    "start_time": "2023-04-12T01:40:12.965Z"
   },
   {
    "duration": 6,
    "start_time": "2023-04-12T01:40:14.881Z"
   },
   {
    "duration": 11,
    "start_time": "2023-04-12T01:40:29.038Z"
   },
   {
    "duration": 4,
    "start_time": "2023-04-12T01:40:38.829Z"
   },
   {
    "duration": 15,
    "start_time": "2023-04-12T01:40:45.361Z"
   },
   {
    "duration": 408,
    "start_time": "2023-04-12T01:40:51.321Z"
   },
   {
    "duration": 19,
    "start_time": "2023-04-12T01:56:55.759Z"
   },
   {
    "duration": 856,
    "start_time": "2023-04-12T01:57:19.221Z"
   },
   {
    "duration": 872,
    "start_time": "2023-04-12T01:57:27.629Z"
   },
   {
    "duration": 794,
    "start_time": "2023-04-12T01:57:33.010Z"
   },
   {
    "duration": 826,
    "start_time": "2023-04-12T02:03:37.469Z"
   },
   {
    "duration": 855,
    "start_time": "2023-04-12T02:03:42.460Z"
   },
   {
    "duration": 1279,
    "start_time": "2023-04-12T02:04:02.668Z"
   },
   {
    "duration": 364,
    "start_time": "2023-04-12T02:04:03.952Z"
   },
   {
    "duration": 43,
    "start_time": "2023-04-12T02:04:04.317Z"
   },
   {
    "duration": 43,
    "start_time": "2023-04-12T02:04:04.362Z"
   },
   {
    "duration": 14,
    "start_time": "2023-04-12T02:04:04.406Z"
   },
   {
    "duration": 57,
    "start_time": "2023-04-12T02:04:04.421Z"
   },
   {
    "duration": 671,
    "start_time": "2023-04-12T02:04:04.480Z"
   },
   {
    "duration": 12,
    "start_time": "2023-04-12T02:04:05.161Z"
   },
   {
    "duration": 26,
    "start_time": "2023-04-12T02:04:05.175Z"
   },
   {
    "duration": 5,
    "start_time": "2023-04-12T02:04:05.203Z"
   },
   {
    "duration": 49,
    "start_time": "2023-04-12T02:04:05.209Z"
   },
   {
    "duration": 18,
    "start_time": "2023-04-12T02:04:05.264Z"
   },
   {
    "duration": 83,
    "start_time": "2023-04-12T02:04:05.284Z"
   },
   {
    "duration": 9,
    "start_time": "2023-04-12T02:04:05.368Z"
   },
   {
    "duration": 34,
    "start_time": "2023-04-12T02:04:05.379Z"
   },
   {
    "duration": 5,
    "start_time": "2023-04-12T02:04:05.415Z"
   },
   {
    "duration": 29,
    "start_time": "2023-04-12T02:04:05.422Z"
   },
   {
    "duration": 17,
    "start_time": "2023-04-12T02:04:05.453Z"
   },
   {
    "duration": 23,
    "start_time": "2023-04-12T02:04:05.472Z"
   },
   {
    "duration": 407,
    "start_time": "2023-04-12T02:04:05.497Z"
   },
   {
    "duration": 869,
    "start_time": "2023-04-12T02:04:05.906Z"
   },
   {
    "duration": 16,
    "start_time": "2023-04-12T02:05:01.721Z"
   },
   {
    "duration": 1011,
    "start_time": "2023-04-12T02:06:24.309Z"
   },
   {
    "duration": 191,
    "start_time": "2023-04-12T02:08:00.882Z"
   },
   {
    "duration": 826,
    "start_time": "2023-04-12T02:08:25.089Z"
   },
   {
    "duration": 1856,
    "start_time": "2023-04-12T02:08:51.480Z"
   },
   {
    "duration": 59,
    "start_time": "2023-04-12T02:09:29.017Z"
   },
   {
    "duration": 1433,
    "start_time": "2023-04-12T02:09:58.354Z"
   },
   {
    "duration": 336,
    "start_time": "2023-04-12T02:09:59.789Z"
   },
   {
    "duration": 42,
    "start_time": "2023-04-12T02:10:00.135Z"
   },
   {
    "duration": 45,
    "start_time": "2023-04-12T02:10:00.179Z"
   },
   {
    "duration": 33,
    "start_time": "2023-04-12T02:10:00.226Z"
   },
   {
    "duration": 38,
    "start_time": "2023-04-12T02:10:00.261Z"
   },
   {
    "duration": 727,
    "start_time": "2023-04-12T02:10:00.301Z"
   },
   {
    "duration": 22,
    "start_time": "2023-04-12T02:10:01.030Z"
   },
   {
    "duration": 53,
    "start_time": "2023-04-12T02:10:01.054Z"
   },
   {
    "duration": 19,
    "start_time": "2023-04-12T02:10:01.109Z"
   },
   {
    "duration": 56,
    "start_time": "2023-04-12T02:10:01.130Z"
   },
   {
    "duration": 35,
    "start_time": "2023-04-12T02:10:01.187Z"
   },
   {
    "duration": 105,
    "start_time": "2023-04-12T02:10:01.223Z"
   },
   {
    "duration": 16,
    "start_time": "2023-04-12T02:10:01.330Z"
   },
   {
    "duration": 46,
    "start_time": "2023-04-12T02:10:01.349Z"
   },
   {
    "duration": 52,
    "start_time": "2023-04-12T02:10:01.397Z"
   },
   {
    "duration": 12,
    "start_time": "2023-04-12T02:10:01.451Z"
   },
   {
    "duration": 37,
    "start_time": "2023-04-12T02:10:01.465Z"
   },
   {
    "duration": 98,
    "start_time": "2023-04-12T02:10:01.504Z"
   },
   {
    "duration": 432,
    "start_time": "2023-04-12T02:10:01.604Z"
   },
   {
    "duration": 1574,
    "start_time": "2023-04-12T02:10:02.046Z"
   },
   {
    "duration": 296,
    "start_time": "2023-04-12T02:11:52.708Z"
   },
   {
    "duration": 250,
    "start_time": "2023-04-12T02:12:30.770Z"
   },
   {
    "duration": 111,
    "start_time": "2023-04-12T02:19:20.449Z"
   },
   {
    "duration": 97,
    "start_time": "2023-04-12T02:19:26.468Z"
   },
   {
    "duration": 99,
    "start_time": "2023-04-12T02:19:51.728Z"
   },
   {
    "duration": 101,
    "start_time": "2023-04-12T02:20:05.040Z"
   },
   {
    "duration": 108,
    "start_time": "2023-04-12T02:20:19.008Z"
   },
   {
    "duration": 81,
    "start_time": "2023-04-12T02:20:36.668Z"
   },
   {
    "duration": 117,
    "start_time": "2023-04-12T02:21:08.107Z"
   },
   {
    "duration": 77,
    "start_time": "2023-04-12T02:21:40.568Z"
   },
   {
    "duration": 73,
    "start_time": "2023-04-12T02:21:46.936Z"
   },
   {
    "duration": 115,
    "start_time": "2023-04-12T02:22:10.091Z"
   },
   {
    "duration": 1460,
    "start_time": "2023-04-12T02:22:28.808Z"
   },
   {
    "duration": 21,
    "start_time": "2023-04-12T02:22:35.036Z"
   },
   {
    "duration": 21,
    "start_time": "2023-04-12T02:22:51.496Z"
   },
   {
    "duration": 1239,
    "start_time": "2023-04-12T02:23:35.810Z"
   },
   {
    "duration": 324,
    "start_time": "2023-04-12T02:23:37.051Z"
   },
   {
    "duration": 22,
    "start_time": "2023-04-12T02:23:37.377Z"
   },
   {
    "duration": 52,
    "start_time": "2023-04-12T02:23:37.400Z"
   },
   {
    "duration": 14,
    "start_time": "2023-04-12T02:23:37.455Z"
   },
   {
    "duration": 20,
    "start_time": "2023-04-12T02:23:37.471Z"
   },
   {
    "duration": 578,
    "start_time": "2023-04-12T02:23:37.492Z"
   },
   {
    "duration": 11,
    "start_time": "2023-04-12T02:23:38.072Z"
   },
   {
    "duration": 16,
    "start_time": "2023-04-12T02:23:38.084Z"
   },
   {
    "duration": 5,
    "start_time": "2023-04-12T02:23:38.102Z"
   },
   {
    "duration": 9,
    "start_time": "2023-04-12T02:23:38.108Z"
   },
   {
    "duration": 4,
    "start_time": "2023-04-12T02:23:38.134Z"
   },
   {
    "duration": 55,
    "start_time": "2023-04-12T02:23:38.140Z"
   },
   {
    "duration": 6,
    "start_time": "2023-04-12T02:23:38.198Z"
   },
   {
    "duration": 36,
    "start_time": "2023-04-12T02:23:38.205Z"
   },
   {
    "duration": 5,
    "start_time": "2023-04-12T02:23:38.243Z"
   },
   {
    "duration": 10,
    "start_time": "2023-04-12T02:23:38.249Z"
   },
   {
    "duration": 6,
    "start_time": "2023-04-12T02:23:38.260Z"
   },
   {
    "duration": 14,
    "start_time": "2023-04-12T02:23:38.267Z"
   },
   {
    "duration": 341,
    "start_time": "2023-04-12T02:23:38.282Z"
   },
   {
    "duration": 1388,
    "start_time": "2023-04-12T02:23:38.624Z"
   },
   {
    "duration": 121,
    "start_time": "2023-04-12T02:23:40.014Z"
   },
   {
    "duration": 0,
    "start_time": "2023-04-12T02:23:40.137Z"
   },
   {
    "duration": 0,
    "start_time": "2023-04-12T02:23:40.138Z"
   },
   {
    "duration": 33,
    "start_time": "2023-04-12T02:33:54.430Z"
   },
   {
    "duration": 274,
    "start_time": "2023-04-12T02:34:10.477Z"
   },
   {
    "duration": 222,
    "start_time": "2023-04-12T02:34:13.951Z"
   },
   {
    "duration": 33,
    "start_time": "2023-04-12T02:40:27.949Z"
   },
   {
    "duration": 24,
    "start_time": "2023-04-12T02:41:08.321Z"
   },
   {
    "duration": 7,
    "start_time": "2023-04-12T02:41:37.905Z"
   },
   {
    "duration": 29,
    "start_time": "2023-04-12T02:41:56.750Z"
   },
   {
    "duration": 1252,
    "start_time": "2023-04-12T02:42:04.069Z"
   },
   {
    "duration": 349,
    "start_time": "2023-04-12T02:42:05.323Z"
   },
   {
    "duration": 20,
    "start_time": "2023-04-12T02:42:05.673Z"
   },
   {
    "duration": 45,
    "start_time": "2023-04-12T02:42:05.695Z"
   },
   {
    "duration": 13,
    "start_time": "2023-04-12T02:42:05.743Z"
   },
   {
    "duration": 41,
    "start_time": "2023-04-12T02:42:05.758Z"
   },
   {
    "duration": 541,
    "start_time": "2023-04-12T02:42:05.800Z"
   },
   {
    "duration": 10,
    "start_time": "2023-04-12T02:42:06.342Z"
   },
   {
    "duration": 47,
    "start_time": "2023-04-12T02:42:06.354Z"
   },
   {
    "duration": 12,
    "start_time": "2023-04-12T02:42:06.403Z"
   },
   {
    "duration": 42,
    "start_time": "2023-04-12T02:42:06.417Z"
   },
   {
    "duration": 25,
    "start_time": "2023-04-12T02:42:06.460Z"
   },
   {
    "duration": 70,
    "start_time": "2023-04-12T02:42:06.486Z"
   },
   {
    "duration": 5,
    "start_time": "2023-04-12T02:42:06.559Z"
   },
   {
    "duration": 37,
    "start_time": "2023-04-12T02:42:06.565Z"
   },
   {
    "duration": 25,
    "start_time": "2023-04-12T02:42:06.603Z"
   },
   {
    "duration": 32,
    "start_time": "2023-04-12T02:42:06.629Z"
   },
   {
    "duration": 32,
    "start_time": "2023-04-12T02:42:06.663Z"
   },
   {
    "duration": 21,
    "start_time": "2023-04-12T02:42:06.697Z"
   },
   {
    "duration": 371,
    "start_time": "2023-04-12T02:42:06.720Z"
   },
   {
    "duration": 1371,
    "start_time": "2023-04-12T02:42:07.092Z"
   },
   {
    "duration": 263,
    "start_time": "2023-04-12T02:42:08.464Z"
   },
   {
    "duration": 217,
    "start_time": "2023-04-12T02:42:08.729Z"
   },
   {
    "duration": 255,
    "start_time": "2023-04-12T02:42:08.948Z"
   },
   {
    "duration": 0,
    "start_time": "2023-04-12T02:42:09.205Z"
   },
   {
    "duration": 28,
    "start_time": "2023-04-12T02:46:47.747Z"
   },
   {
    "duration": 14,
    "start_time": "2023-04-12T02:46:56.024Z"
   },
   {
    "duration": 19,
    "start_time": "2023-04-12T02:47:06.023Z"
   },
   {
    "duration": 33,
    "start_time": "2023-04-12T02:49:02.238Z"
   },
   {
    "duration": 32,
    "start_time": "2023-04-12T03:00:17.989Z"
   },
   {
    "duration": 38,
    "start_time": "2023-04-12T03:00:54.289Z"
   },
   {
    "duration": 31,
    "start_time": "2023-04-12T03:01:12.377Z"
   },
   {
    "duration": 11,
    "start_time": "2023-04-12T03:02:32.829Z"
   },
   {
    "duration": 9,
    "start_time": "2023-04-12T03:02:51.230Z"
   },
   {
    "duration": 71,
    "start_time": "2023-04-12T03:03:59.849Z"
   },
   {
    "duration": 75,
    "start_time": "2023-04-12T03:04:05.105Z"
   },
   {
    "duration": 20,
    "start_time": "2023-04-12T03:04:36.390Z"
   },
   {
    "duration": 75,
    "start_time": "2023-04-12T03:04:50.769Z"
   },
   {
    "duration": 21,
    "start_time": "2023-04-12T03:05:08.437Z"
   },
   {
    "duration": 23,
    "start_time": "2023-04-12T03:06:00.729Z"
   },
   {
    "duration": 22,
    "start_time": "2023-04-12T03:06:06.021Z"
   },
   {
    "duration": 20,
    "start_time": "2023-04-12T03:06:43.329Z"
   },
   {
    "duration": 21,
    "start_time": "2023-04-12T03:07:14.157Z"
   },
   {
    "duration": 1793,
    "start_time": "2023-04-12T05:10:41.583Z"
   },
   {
    "duration": 559,
    "start_time": "2023-04-12T05:10:43.378Z"
   },
   {
    "duration": 24,
    "start_time": "2023-04-12T05:10:43.938Z"
   },
   {
    "duration": 59,
    "start_time": "2023-04-12T05:10:43.964Z"
   },
   {
    "duration": 16,
    "start_time": "2023-04-12T05:10:44.030Z"
   },
   {
    "duration": 25,
    "start_time": "2023-04-12T05:10:44.047Z"
   },
   {
    "duration": 773,
    "start_time": "2023-04-12T05:10:44.075Z"
   },
   {
    "duration": 11,
    "start_time": "2023-04-12T05:10:44.851Z"
   },
   {
    "duration": 31,
    "start_time": "2023-04-12T05:10:44.864Z"
   },
   {
    "duration": 16,
    "start_time": "2023-04-12T05:10:44.900Z"
   },
   {
    "duration": 19,
    "start_time": "2023-04-12T05:10:44.918Z"
   },
   {
    "duration": 4,
    "start_time": "2023-04-12T05:10:44.940Z"
   },
   {
    "duration": 81,
    "start_time": "2023-04-12T05:10:44.945Z"
   },
   {
    "duration": 8,
    "start_time": "2023-04-12T05:10:45.029Z"
   },
   {
    "duration": 28,
    "start_time": "2023-04-12T05:10:45.039Z"
   },
   {
    "duration": 6,
    "start_time": "2023-04-12T05:10:45.069Z"
   },
   {
    "duration": 54,
    "start_time": "2023-04-12T05:10:45.077Z"
   },
   {
    "duration": 10,
    "start_time": "2023-04-12T05:10:45.133Z"
   },
   {
    "duration": 15,
    "start_time": "2023-04-12T05:10:45.145Z"
   },
   {
    "duration": 488,
    "start_time": "2023-04-12T05:10:45.162Z"
   },
   {
    "duration": 1734,
    "start_time": "2023-04-12T05:10:45.652Z"
   },
   {
    "duration": 359,
    "start_time": "2023-04-12T05:10:47.390Z"
   },
   {
    "duration": 282,
    "start_time": "2023-04-12T05:10:47.751Z"
   },
   {
    "duration": 11,
    "start_time": "2023-04-12T05:10:48.035Z"
   },
   {
    "duration": 50,
    "start_time": "2023-04-12T05:10:48.048Z"
   },
   {
    "duration": 119,
    "start_time": "2023-04-12T05:10:48.102Z"
   },
   {
    "duration": 0,
    "start_time": "2023-04-12T05:10:48.223Z"
   },
   {
    "duration": 177,
    "start_time": "2023-04-12T05:11:15.284Z"
   },
   {
    "duration": 41,
    "start_time": "2023-04-12T05:11:34.075Z"
   },
   {
    "duration": 46,
    "start_time": "2023-04-12T05:16:01.656Z"
   },
   {
    "duration": 29,
    "start_time": "2023-04-12T05:16:07.055Z"
   },
   {
    "duration": 28,
    "start_time": "2023-04-12T05:16:15.319Z"
   },
   {
    "duration": 30,
    "start_time": "2023-04-12T05:16:41.710Z"
   },
   {
    "duration": 10,
    "start_time": "2023-04-12T05:17:17.816Z"
   },
   {
    "duration": 19,
    "start_time": "2023-04-12T05:17:42.300Z"
   },
   {
    "duration": 31,
    "start_time": "2023-04-12T05:17:50.139Z"
   },
   {
    "duration": 55,
    "start_time": "2023-04-12T05:18:25.123Z"
   },
   {
    "duration": 5,
    "start_time": "2023-04-12T05:19:51.443Z"
   },
   {
    "duration": 8,
    "start_time": "2023-04-12T05:20:24.911Z"
   },
   {
    "duration": 233,
    "start_time": "2023-04-12T06:10:53.265Z"
   },
   {
    "duration": 62,
    "start_time": "2023-04-12T06:11:14.485Z"
   },
   {
    "duration": 21,
    "start_time": "2023-04-12T06:11:20.037Z"
   },
   {
    "duration": 26,
    "start_time": "2023-04-12T06:11:29.659Z"
   },
   {
    "duration": 40,
    "start_time": "2023-04-12T06:13:19.010Z"
   },
   {
    "duration": 34,
    "start_time": "2023-04-12T06:15:20.719Z"
   },
   {
    "duration": 39,
    "start_time": "2023-04-12T06:15:43.909Z"
   },
   {
    "duration": 337,
    "start_time": "2023-04-12T06:15:46.923Z"
   },
   {
    "duration": 363,
    "start_time": "2023-04-12T06:17:54.188Z"
   },
   {
    "duration": 370,
    "start_time": "2023-04-12T06:19:04.884Z"
   },
   {
    "duration": 30,
    "start_time": "2023-04-12T06:26:59.330Z"
   },
   {
    "duration": 470,
    "start_time": "2023-04-12T06:27:14.771Z"
   },
   {
    "duration": 139,
    "start_time": "2023-04-12T06:27:33.071Z"
   },
   {
    "duration": 206,
    "start_time": "2023-04-12T06:27:59.520Z"
   },
   {
    "duration": 252,
    "start_time": "2023-04-12T06:28:54.516Z"
   },
   {
    "duration": 252,
    "start_time": "2023-04-12T06:29:18.859Z"
   },
   {
    "duration": 250,
    "start_time": "2023-04-12T06:29:37.671Z"
   },
   {
    "duration": 19,
    "start_time": "2023-04-12T06:30:50.814Z"
   },
   {
    "duration": 299,
    "start_time": "2023-04-12T06:30:59.795Z"
   },
   {
    "duration": 25,
    "start_time": "2023-04-12T06:34:10.751Z"
   },
   {
    "duration": 70,
    "start_time": "2023-04-12T06:36:55.432Z"
   },
   {
    "duration": 79,
    "start_time": "2023-04-12T06:37:32.652Z"
   },
   {
    "duration": 1462,
    "start_time": "2023-04-12T06:37:50.351Z"
   },
   {
    "duration": 316,
    "start_time": "2023-04-12T06:37:51.816Z"
   },
   {
    "duration": 24,
    "start_time": "2023-04-12T06:37:52.134Z"
   },
   {
    "duration": 66,
    "start_time": "2023-04-12T06:37:52.160Z"
   },
   {
    "duration": 15,
    "start_time": "2023-04-12T06:37:52.229Z"
   },
   {
    "duration": 23,
    "start_time": "2023-04-12T06:37:52.246Z"
   },
   {
    "duration": 736,
    "start_time": "2023-04-12T06:37:52.271Z"
   },
   {
    "duration": 17,
    "start_time": "2023-04-12T06:37:53.012Z"
   },
   {
    "duration": 17,
    "start_time": "2023-04-12T06:37:53.031Z"
   },
   {
    "duration": 5,
    "start_time": "2023-04-12T06:37:53.050Z"
   },
   {
    "duration": 9,
    "start_time": "2023-04-12T06:37:53.056Z"
   },
   {
    "duration": 49,
    "start_time": "2023-04-12T06:37:53.067Z"
   },
   {
    "duration": 64,
    "start_time": "2023-04-12T06:37:53.118Z"
   },
   {
    "duration": 10,
    "start_time": "2023-04-12T06:37:53.185Z"
   },
   {
    "duration": 46,
    "start_time": "2023-04-12T06:37:53.197Z"
   },
   {
    "duration": 6,
    "start_time": "2023-04-12T06:37:53.244Z"
   },
   {
    "duration": 7,
    "start_time": "2023-04-12T06:37:53.252Z"
   },
   {
    "duration": 13,
    "start_time": "2023-04-12T06:37:53.260Z"
   },
   {
    "duration": 20,
    "start_time": "2023-04-12T06:37:53.274Z"
   },
   {
    "duration": 446,
    "start_time": "2023-04-12T06:37:53.296Z"
   },
   {
    "duration": 1798,
    "start_time": "2023-04-12T06:37:53.744Z"
   },
   {
    "duration": 23,
    "start_time": "2023-04-12T06:37:55.544Z"
   },
   {
    "duration": 345,
    "start_time": "2023-04-12T06:37:55.569Z"
   },
   {
    "duration": 790,
    "start_time": "2023-04-12T06:37:55.917Z"
   },
   {
    "duration": 297,
    "start_time": "2023-04-12T06:37:56.711Z"
   },
   {
    "duration": 28,
    "start_time": "2023-04-12T06:37:57.011Z"
   },
   {
    "duration": 21,
    "start_time": "2023-04-12T06:37:57.041Z"
   },
   {
    "duration": 74,
    "start_time": "2023-04-12T06:37:57.064Z"
   },
   {
    "duration": 375,
    "start_time": "2023-04-12T06:37:57.140Z"
   },
   {
    "duration": 121,
    "start_time": "2023-04-12T06:37:57.517Z"
   },
   {
    "duration": 325,
    "start_time": "2023-04-12T06:46:20.681Z"
   },
   {
    "duration": 100,
    "start_time": "2023-04-12T07:58:55.816Z"
   },
   {
    "duration": 1515,
    "start_time": "2023-04-14T01:15:06.573Z"
   },
   {
    "duration": 424,
    "start_time": "2023-04-14T01:15:08.091Z"
   },
   {
    "duration": 36,
    "start_time": "2023-04-14T01:15:08.517Z"
   },
   {
    "duration": 37,
    "start_time": "2023-04-14T01:15:08.555Z"
   },
   {
    "duration": 14,
    "start_time": "2023-04-14T01:15:08.594Z"
   },
   {
    "duration": 48,
    "start_time": "2023-04-14T01:15:08.609Z"
   },
   {
    "duration": 604,
    "start_time": "2023-04-14T01:15:08.658Z"
   },
   {
    "duration": 10,
    "start_time": "2023-04-14T01:15:09.264Z"
   },
   {
    "duration": 19,
    "start_time": "2023-04-14T01:15:09.275Z"
   },
   {
    "duration": 7,
    "start_time": "2023-04-14T01:15:09.295Z"
   },
   {
    "duration": 6,
    "start_time": "2023-04-14T01:15:09.304Z"
   },
   {
    "duration": 26,
    "start_time": "2023-04-14T01:15:09.312Z"
   },
   {
    "duration": 74,
    "start_time": "2023-04-14T01:15:09.341Z"
   },
   {
    "duration": 5,
    "start_time": "2023-04-14T01:15:09.418Z"
   },
   {
    "duration": 43,
    "start_time": "2023-04-14T01:15:09.425Z"
   },
   {
    "duration": 6,
    "start_time": "2023-04-14T01:15:09.469Z"
   },
   {
    "duration": 6,
    "start_time": "2023-04-14T01:15:09.476Z"
   },
   {
    "duration": 6,
    "start_time": "2023-04-14T01:15:09.484Z"
   },
   {
    "duration": 15,
    "start_time": "2023-04-14T01:15:09.492Z"
   },
   {
    "duration": 449,
    "start_time": "2023-04-14T01:15:09.508Z"
   },
   {
    "duration": 1517,
    "start_time": "2023-04-14T01:15:09.958Z"
   },
   {
    "duration": 22,
    "start_time": "2023-04-14T01:15:11.477Z"
   },
   {
    "duration": 296,
    "start_time": "2023-04-14T01:15:11.500Z"
   },
   {
    "duration": 670,
    "start_time": "2023-04-14T01:15:11.797Z"
   },
   {
    "duration": 254,
    "start_time": "2023-04-14T01:15:12.468Z"
   },
   {
    "duration": 40,
    "start_time": "2023-04-14T01:15:12.723Z"
   },
   {
    "duration": 18,
    "start_time": "2023-04-14T01:15:12.765Z"
   },
   {
    "duration": 31,
    "start_time": "2023-04-14T01:15:12.785Z"
   },
   {
    "duration": 287,
    "start_time": "2023-04-14T01:15:12.834Z"
   },
   {
    "duration": 90,
    "start_time": "2023-04-14T01:15:13.122Z"
   },
   {
    "duration": 186,
    "start_time": "2023-04-14T01:15:13.213Z"
   },
   {
    "duration": 167,
    "start_time": "2023-04-14T02:37:29.813Z"
   },
   {
    "duration": 1908,
    "start_time": "2023-04-17T05:10:38.502Z"
   },
   {
    "duration": 487,
    "start_time": "2023-04-17T05:10:40.412Z"
   },
   {
    "duration": 57,
    "start_time": "2023-04-17T05:10:40.901Z"
   },
   {
    "duration": 81,
    "start_time": "2023-04-17T05:10:40.964Z"
   },
   {
    "duration": 45,
    "start_time": "2023-04-17T05:10:41.047Z"
   },
   {
    "duration": 69,
    "start_time": "2023-04-17T05:10:41.096Z"
   },
   {
    "duration": 1079,
    "start_time": "2023-04-17T05:10:41.167Z"
   },
   {
    "duration": 20,
    "start_time": "2023-04-17T05:10:42.249Z"
   },
   {
    "duration": 28,
    "start_time": "2023-04-17T05:10:42.271Z"
   },
   {
    "duration": 6,
    "start_time": "2023-04-17T05:10:42.302Z"
   },
   {
    "duration": 35,
    "start_time": "2023-04-17T05:10:42.310Z"
   },
   {
    "duration": 28,
    "start_time": "2023-04-17T05:10:42.349Z"
   },
   {
    "duration": 106,
    "start_time": "2023-04-17T05:10:42.380Z"
   },
   {
    "duration": 7,
    "start_time": "2023-04-17T05:10:42.491Z"
   },
   {
    "duration": 38,
    "start_time": "2023-04-17T05:10:42.500Z"
   },
   {
    "duration": 7,
    "start_time": "2023-04-17T05:10:42.539Z"
   },
   {
    "duration": 37,
    "start_time": "2023-04-17T05:10:42.550Z"
   },
   {
    "duration": 24,
    "start_time": "2023-04-17T05:10:42.589Z"
   },
   {
    "duration": 25,
    "start_time": "2023-04-17T05:10:42.615Z"
   },
   {
    "duration": 486,
    "start_time": "2023-04-17T05:10:42.644Z"
   },
   {
    "duration": 2089,
    "start_time": "2023-04-17T05:10:43.138Z"
   },
   {
    "duration": 34,
    "start_time": "2023-04-17T05:10:45.229Z"
   },
   {
    "duration": 434,
    "start_time": "2023-04-17T05:10:45.264Z"
   },
   {
    "duration": 866,
    "start_time": "2023-04-17T05:10:45.700Z"
   },
   {
    "duration": 346,
    "start_time": "2023-04-17T05:10:46.572Z"
   },
   {
    "duration": 44,
    "start_time": "2023-04-17T05:10:46.920Z"
   },
   {
    "duration": 39,
    "start_time": "2023-04-17T05:10:46.966Z"
   },
   {
    "duration": 67,
    "start_time": "2023-04-17T05:10:47.009Z"
   },
   {
    "duration": 426,
    "start_time": "2023-04-17T05:10:47.079Z"
   },
   {
    "duration": 243,
    "start_time": "2023-04-17T05:10:47.507Z"
   },
   {
    "duration": 57,
    "start_time": "2023-04-17T05:54:09.475Z"
   },
   {
    "duration": 23,
    "start_time": "2023-04-17T05:55:10.865Z"
   },
   {
    "duration": 35,
    "start_time": "2023-04-17T05:55:14.745Z"
   },
   {
    "duration": 1209,
    "start_time": "2023-04-17T05:55:25.384Z"
   },
   {
    "duration": 305,
    "start_time": "2023-04-17T05:55:26.595Z"
   },
   {
    "duration": 38,
    "start_time": "2023-04-17T05:55:26.901Z"
   },
   {
    "duration": 48,
    "start_time": "2023-04-17T05:55:26.941Z"
   },
   {
    "duration": 44,
    "start_time": "2023-04-17T05:55:26.992Z"
   },
   {
    "duration": 31,
    "start_time": "2023-04-17T05:55:27.037Z"
   },
   {
    "duration": 39,
    "start_time": "2023-04-17T05:55:27.070Z"
   },
   {
    "duration": 76,
    "start_time": "2023-04-17T06:00:44.738Z"
   },
   {
    "duration": 48,
    "start_time": "2023-04-17T06:01:48.391Z"
   },
   {
    "duration": 71,
    "start_time": "2023-04-17T06:02:32.693Z"
   },
   {
    "duration": 49,
    "start_time": "2023-04-17T06:02:42.887Z"
   },
   {
    "duration": 46,
    "start_time": "2023-04-17T06:03:13.885Z"
   },
   {
    "duration": 167,
    "start_time": "2023-04-17T06:03:24.781Z"
   },
   {
    "duration": 54,
    "start_time": "2023-04-17T06:04:15.159Z"
   },
   {
    "duration": 44,
    "start_time": "2023-04-17T06:08:55.415Z"
   },
   {
    "duration": 1730,
    "start_time": "2023-04-17T06:09:03.572Z"
   },
   {
    "duration": 437,
    "start_time": "2023-04-17T06:09:05.307Z"
   },
   {
    "duration": 38,
    "start_time": "2023-04-17T06:09:05.746Z"
   },
   {
    "duration": 78,
    "start_time": "2023-04-17T06:09:05.787Z"
   },
   {
    "duration": 25,
    "start_time": "2023-04-17T06:09:05.867Z"
   },
   {
    "duration": 66,
    "start_time": "2023-04-17T06:09:05.894Z"
   },
   {
    "duration": 962,
    "start_time": "2023-04-17T06:09:05.963Z"
   },
   {
    "duration": 67,
    "start_time": "2023-04-17T06:09:32.018Z"
   },
   {
    "duration": 44,
    "start_time": "2023-04-17T06:12:30.846Z"
   },
   {
    "duration": 1672,
    "start_time": "2023-04-17T06:13:39.135Z"
   },
   {
    "duration": 401,
    "start_time": "2023-04-17T06:13:40.812Z"
   },
   {
    "duration": 48,
    "start_time": "2023-04-17T06:13:41.222Z"
   },
   {
    "duration": 89,
    "start_time": "2023-04-17T06:13:41.274Z"
   },
   {
    "duration": 45,
    "start_time": "2023-04-17T06:13:41.364Z"
   },
   {
    "duration": 48,
    "start_time": "2023-04-17T06:13:41.411Z"
   },
   {
    "duration": 52,
    "start_time": "2023-04-17T06:13:41.461Z"
   },
   {
    "duration": 19,
    "start_time": "2023-04-17T06:14:18.391Z"
   },
   {
    "duration": 40,
    "start_time": "2023-04-17T06:14:22.691Z"
   },
   {
    "duration": 38,
    "start_time": "2023-04-17T06:17:48.015Z"
   },
   {
    "duration": 7,
    "start_time": "2023-04-17T06:18:05.320Z"
   },
   {
    "duration": 207,
    "start_time": "2023-04-17T06:22:16.517Z"
   },
   {
    "duration": 16,
    "start_time": "2023-04-17T06:22:21.485Z"
   },
   {
    "duration": 33,
    "start_time": "2023-04-17T06:22:27.286Z"
   },
   {
    "duration": 18,
    "start_time": "2023-04-17T06:22:36.517Z"
   },
   {
    "duration": 37,
    "start_time": "2023-04-17T06:22:40.557Z"
   },
   {
    "duration": 14,
    "start_time": "2023-04-17T06:37:06.233Z"
   },
   {
    "duration": 13,
    "start_time": "2023-04-17T06:37:12.216Z"
   },
   {
    "duration": 1534,
    "start_time": "2023-04-17T06:37:33.358Z"
   },
   {
    "duration": 365,
    "start_time": "2023-04-17T06:37:34.895Z"
   },
   {
    "duration": 41,
    "start_time": "2023-04-17T06:37:35.274Z"
   },
   {
    "duration": 71,
    "start_time": "2023-04-17T06:37:35.317Z"
   },
   {
    "duration": 28,
    "start_time": "2023-04-17T06:37:35.391Z"
   },
   {
    "duration": 71,
    "start_time": "2023-04-17T06:37:35.421Z"
   },
   {
    "duration": 70,
    "start_time": "2023-04-17T06:37:35.495Z"
   },
   {
    "duration": 60,
    "start_time": "2023-04-17T06:37:35.567Z"
   },
   {
    "duration": 69,
    "start_time": "2023-04-17T06:37:35.629Z"
   },
   {
    "duration": 28,
    "start_time": "2023-04-17T06:37:35.700Z"
   },
   {
    "duration": 161,
    "start_time": "2023-04-17T06:50:46.007Z"
   },
   {
    "duration": 11,
    "start_time": "2023-04-17T06:50:52.129Z"
   },
   {
    "duration": 1137,
    "start_time": "2023-04-17T06:52:00.700Z"
   },
   {
    "duration": 1119,
    "start_time": "2023-04-17T06:52:05.697Z"
   },
   {
    "duration": 1172,
    "start_time": "2023-04-17T06:52:29.871Z"
   },
   {
    "duration": 924,
    "start_time": "2023-04-17T06:53:10.109Z"
   },
   {
    "duration": 1179,
    "start_time": "2023-04-17T06:53:58.420Z"
   },
   {
    "duration": 1413,
    "start_time": "2023-04-17T06:54:15.026Z"
   },
   {
    "duration": 29,
    "start_time": "2023-04-17T07:02:25.105Z"
   },
   {
    "duration": 7,
    "start_time": "2023-04-17T07:03:24.320Z"
   },
   {
    "duration": 8,
    "start_time": "2023-04-17T07:04:14.882Z"
   },
   {
    "duration": 26,
    "start_time": "2023-04-17T07:05:00.363Z"
   },
   {
    "duration": 22,
    "start_time": "2023-04-17T07:05:06.260Z"
   },
   {
    "duration": 39,
    "start_time": "2023-04-17T07:06:16.137Z"
   },
   {
    "duration": 25,
    "start_time": "2023-04-17T07:06:18.756Z"
   },
   {
    "duration": 6,
    "start_time": "2023-04-17T07:06:36.996Z"
   },
   {
    "duration": 21,
    "start_time": "2023-04-17T07:09:21.756Z"
   },
   {
    "duration": 8,
    "start_time": "2023-04-17T07:09:59.155Z"
   },
   {
    "duration": 10,
    "start_time": "2023-04-17T07:10:18.846Z"
   },
   {
    "duration": 4,
    "start_time": "2023-04-17T07:10:38.859Z"
   },
   {
    "duration": 473,
    "start_time": "2023-04-17T07:10:59.972Z"
   },
   {
    "duration": 21,
    "start_time": "2023-04-17T07:12:42.733Z"
   },
   {
    "duration": 35,
    "start_time": "2023-04-17T07:22:20.961Z"
   },
   {
    "duration": 8,
    "start_time": "2023-04-17T07:22:24.938Z"
   },
   {
    "duration": 43,
    "start_time": "2023-04-17T07:22:25.433Z"
   },
   {
    "duration": 18,
    "start_time": "2023-04-17T07:22:26.159Z"
   },
   {
    "duration": 31,
    "start_time": "2023-04-17T07:22:27.273Z"
   },
   {
    "duration": 7,
    "start_time": "2023-04-17T07:22:30.411Z"
   },
   {
    "duration": 7,
    "start_time": "2023-04-17T07:22:30.825Z"
   },
   {
    "duration": 4,
    "start_time": "2023-04-17T07:22:31.314Z"
   },
   {
    "duration": 508,
    "start_time": "2023-04-17T07:22:31.911Z"
   },
   {
    "duration": 5,
    "start_time": "2023-04-17T07:30:47.610Z"
   },
   {
    "duration": 471,
    "start_time": "2023-04-17T07:32:20.131Z"
   },
   {
    "duration": 1285,
    "start_time": "2023-04-17T07:32:36.322Z"
   },
   {
    "duration": 1580,
    "start_time": "2023-04-17T07:32:54.106Z"
   },
   {
    "duration": 384,
    "start_time": "2023-04-17T07:32:55.688Z"
   },
   {
    "duration": 24,
    "start_time": "2023-04-17T07:32:56.074Z"
   },
   {
    "duration": 68,
    "start_time": "2023-04-17T07:32:56.100Z"
   },
   {
    "duration": 14,
    "start_time": "2023-04-17T07:32:56.170Z"
   },
   {
    "duration": 38,
    "start_time": "2023-04-17T07:32:56.186Z"
   },
   {
    "duration": 1701,
    "start_time": "2023-04-17T07:32:56.236Z"
   },
   {
    "duration": 0,
    "start_time": "2023-04-17T07:32:57.939Z"
   },
   {
    "duration": 0,
    "start_time": "2023-04-17T07:32:57.941Z"
   },
   {
    "duration": 0,
    "start_time": "2023-04-17T07:32:57.951Z"
   },
   {
    "duration": 0,
    "start_time": "2023-04-17T07:32:57.952Z"
   },
   {
    "duration": 0,
    "start_time": "2023-04-17T07:32:57.953Z"
   },
   {
    "duration": 0,
    "start_time": "2023-04-17T07:32:57.953Z"
   },
   {
    "duration": 0,
    "start_time": "2023-04-17T07:32:57.955Z"
   },
   {
    "duration": 0,
    "start_time": "2023-04-17T07:32:57.956Z"
   },
   {
    "duration": 0,
    "start_time": "2023-04-17T07:32:57.957Z"
   },
   {
    "duration": 0,
    "start_time": "2023-04-17T07:32:57.958Z"
   },
   {
    "duration": 419,
    "start_time": "2023-04-17T07:36:18.602Z"
   },
   {
    "duration": 578,
    "start_time": "2023-04-17T07:37:15.161Z"
   },
   {
    "duration": 238,
    "start_time": "2023-04-17T07:38:37.578Z"
   },
   {
    "duration": 447,
    "start_time": "2023-04-17T07:38:47.856Z"
   },
   {
    "duration": 474,
    "start_time": "2023-04-17T07:39:35.261Z"
   },
   {
    "duration": 1233,
    "start_time": "2023-04-17T07:39:57.187Z"
   },
   {
    "duration": 301,
    "start_time": "2023-04-17T07:39:58.422Z"
   },
   {
    "duration": 48,
    "start_time": "2023-04-17T07:39:58.725Z"
   },
   {
    "duration": 71,
    "start_time": "2023-04-17T07:39:58.776Z"
   },
   {
    "duration": 35,
    "start_time": "2023-04-17T07:39:58.849Z"
   },
   {
    "duration": 67,
    "start_time": "2023-04-17T07:39:58.886Z"
   },
   {
    "duration": 524,
    "start_time": "2023-04-17T07:39:58.956Z"
   },
   {
    "duration": 362,
    "start_time": "2023-04-17T07:39:59.481Z"
   },
   {
    "duration": 120,
    "start_time": "2023-04-17T07:39:59.848Z"
   },
   {
    "duration": 0,
    "start_time": "2023-04-17T07:39:59.971Z"
   },
   {
    "duration": 0,
    "start_time": "2023-04-17T07:39:59.972Z"
   },
   {
    "duration": 0,
    "start_time": "2023-04-17T07:39:59.975Z"
   },
   {
    "duration": 0,
    "start_time": "2023-04-17T07:39:59.977Z"
   },
   {
    "duration": 0,
    "start_time": "2023-04-17T07:39:59.978Z"
   },
   {
    "duration": 0,
    "start_time": "2023-04-17T07:39:59.980Z"
   },
   {
    "duration": 0,
    "start_time": "2023-04-17T07:39:59.981Z"
   },
   {
    "duration": 0,
    "start_time": "2023-04-17T07:39:59.982Z"
   },
   {
    "duration": 469,
    "start_time": "2023-04-17T07:41:36.756Z"
   },
   {
    "duration": 589,
    "start_time": "2023-04-17T07:41:41.157Z"
   },
   {
    "duration": 1381,
    "start_time": "2023-04-17T07:41:50.519Z"
   },
   {
    "duration": 311,
    "start_time": "2023-04-17T07:41:51.902Z"
   },
   {
    "duration": 45,
    "start_time": "2023-04-17T07:41:52.214Z"
   },
   {
    "duration": 41,
    "start_time": "2023-04-17T07:41:52.265Z"
   },
   {
    "duration": 44,
    "start_time": "2023-04-17T07:41:52.309Z"
   },
   {
    "duration": 35,
    "start_time": "2023-04-17T07:41:52.355Z"
   },
   {
    "duration": 582,
    "start_time": "2023-04-17T07:41:52.392Z"
   },
   {
    "duration": 381,
    "start_time": "2023-04-17T07:41:52.976Z"
   },
   {
    "duration": 128,
    "start_time": "2023-04-17T07:41:53.360Z"
   },
   {
    "duration": 0,
    "start_time": "2023-04-17T07:41:53.490Z"
   },
   {
    "duration": 0,
    "start_time": "2023-04-17T07:41:53.492Z"
   },
   {
    "duration": 0,
    "start_time": "2023-04-17T07:41:53.494Z"
   },
   {
    "duration": 0,
    "start_time": "2023-04-17T07:41:53.496Z"
   },
   {
    "duration": 0,
    "start_time": "2023-04-17T07:41:53.497Z"
   },
   {
    "duration": 0,
    "start_time": "2023-04-17T07:41:53.499Z"
   },
   {
    "duration": 0,
    "start_time": "2023-04-17T07:41:53.500Z"
   },
   {
    "duration": 0,
    "start_time": "2023-04-17T07:41:53.501Z"
   },
   {
    "duration": 541,
    "start_time": "2023-04-17T07:42:10.623Z"
   },
   {
    "duration": 39,
    "start_time": "2023-04-17T07:43:44.424Z"
   },
   {
    "duration": 359,
    "start_time": "2023-04-17T07:43:56.521Z"
   },
   {
    "duration": 462,
    "start_time": "2023-04-17T07:45:18.320Z"
   },
   {
    "duration": 485,
    "start_time": "2023-04-17T07:45:25.557Z"
   },
   {
    "duration": 439,
    "start_time": "2023-04-17T07:50:06.084Z"
   },
   {
    "duration": 525,
    "start_time": "2023-04-17T07:50:20.630Z"
   },
   {
    "duration": 15,
    "start_time": "2023-04-17T07:50:22.118Z"
   },
   {
    "duration": 530,
    "start_time": "2023-04-17T07:50:31.640Z"
   },
   {
    "duration": 1871,
    "start_time": "2023-04-18T00:42:40.360Z"
   },
   {
    "duration": 570,
    "start_time": "2023-04-18T00:42:42.233Z"
   },
   {
    "duration": 30,
    "start_time": "2023-04-18T00:42:42.806Z"
   },
   {
    "duration": 87,
    "start_time": "2023-04-18T00:42:42.838Z"
   },
   {
    "duration": 24,
    "start_time": "2023-04-18T00:42:42.928Z"
   },
   {
    "duration": 60,
    "start_time": "2023-04-18T00:42:42.957Z"
   },
   {
    "duration": 556,
    "start_time": "2023-04-18T00:42:43.019Z"
   },
   {
    "duration": 449,
    "start_time": "2023-04-18T00:42:43.577Z"
   },
   {
    "duration": 4241,
    "start_time": "2023-04-18T00:42:44.028Z"
   },
   {
    "duration": 0,
    "start_time": "2023-04-18T00:42:48.275Z"
   },
   {
    "duration": 0,
    "start_time": "2023-04-18T00:42:48.279Z"
   },
   {
    "duration": 0,
    "start_time": "2023-04-18T00:42:48.283Z"
   },
   {
    "duration": 0,
    "start_time": "2023-04-18T00:42:48.287Z"
   },
   {
    "duration": 0,
    "start_time": "2023-04-18T00:42:48.290Z"
   },
   {
    "duration": 0,
    "start_time": "2023-04-18T00:42:48.292Z"
   },
   {
    "duration": 0,
    "start_time": "2023-04-18T00:42:48.293Z"
   },
   {
    "duration": 59,
    "start_time": "2023-04-18T00:57:20.363Z"
   },
   {
    "duration": 62,
    "start_time": "2023-04-18T00:58:36.404Z"
   },
   {
    "duration": 61,
    "start_time": "2023-04-18T00:59:41.665Z"
   },
   {
    "duration": 109,
    "start_time": "2023-04-18T01:00:01.479Z"
   },
   {
    "duration": 88,
    "start_time": "2023-04-18T01:00:23.361Z"
   },
   {
    "duration": 126,
    "start_time": "2023-04-18T01:02:02.260Z"
   },
   {
    "duration": 167,
    "start_time": "2023-04-18T01:02:44.959Z"
   },
   {
    "duration": 17,
    "start_time": "2023-04-18T01:02:48.296Z"
   },
   {
    "duration": 17,
    "start_time": "2023-04-18T01:03:19.877Z"
   },
   {
    "duration": 15,
    "start_time": "2023-04-18T01:03:44.374Z"
   },
   {
    "duration": 13,
    "start_time": "2023-04-18T01:04:16.794Z"
   },
   {
    "duration": 496,
    "start_time": "2023-04-18T01:13:16.199Z"
   },
   {
    "duration": 559,
    "start_time": "2023-04-18T01:13:26.068Z"
   },
   {
    "duration": 77,
    "start_time": "2023-04-18T01:13:57.861Z"
   },
   {
    "duration": 581,
    "start_time": "2023-04-18T01:14:22.383Z"
   },
   {
    "duration": 95,
    "start_time": "2023-04-18T01:14:30.900Z"
   },
   {
    "duration": 12,
    "start_time": "2023-04-18T01:14:53.157Z"
   },
   {
    "duration": 16,
    "start_time": "2023-04-18T01:15:07.564Z"
   },
   {
    "duration": 27,
    "start_time": "2023-04-18T01:15:17.463Z"
   },
   {
    "duration": 15,
    "start_time": "2023-04-18T01:15:33.353Z"
   },
   {
    "duration": 51,
    "start_time": "2023-04-18T01:16:26.959Z"
   },
   {
    "duration": 7,
    "start_time": "2023-04-18T01:17:24.921Z"
   },
   {
    "duration": 17,
    "start_time": "2023-04-18T01:17:44.218Z"
   },
   {
    "duration": 14,
    "start_time": "2023-04-18T01:18:00.227Z"
   },
   {
    "duration": 19,
    "start_time": "2023-04-18T01:18:40.751Z"
   },
   {
    "duration": 194,
    "start_time": "2023-04-18T01:18:53.916Z"
   },
   {
    "duration": 6,
    "start_time": "2023-04-18T01:19:30.509Z"
   },
   {
    "duration": 2174,
    "start_time": "2023-04-18T01:19:32.935Z"
   },
   {
    "duration": 6,
    "start_time": "2023-04-18T01:19:41.104Z"
   },
   {
    "duration": 33,
    "start_time": "2023-04-18T01:20:02.613Z"
   },
   {
    "duration": 23,
    "start_time": "2023-04-18T01:20:08.600Z"
   },
   {
    "duration": 48,
    "start_time": "2023-04-18T01:21:18.130Z"
   },
   {
    "duration": 40,
    "start_time": "2023-04-18T01:21:55.118Z"
   },
   {
    "duration": 7,
    "start_time": "2023-04-18T01:22:35.402Z"
   },
   {
    "duration": 18,
    "start_time": "2023-04-18T01:22:38.829Z"
   },
   {
    "duration": 5,
    "start_time": "2023-04-18T01:22:40.792Z"
   },
   {
    "duration": 434,
    "start_time": "2023-04-18T01:22:42.555Z"
   },
   {
    "duration": 8,
    "start_time": "2023-04-18T01:27:37.112Z"
   },
   {
    "duration": 40,
    "start_time": "2023-04-18T01:27:42.055Z"
   },
   {
    "duration": 8,
    "start_time": "2023-04-18T01:27:51.678Z"
   },
   {
    "duration": 12,
    "start_time": "2023-04-18T01:28:01.390Z"
   },
   {
    "duration": 18,
    "start_time": "2023-04-18T01:28:06.088Z"
   },
   {
    "duration": 2,
    "start_time": "2023-04-18T01:28:07.022Z"
   },
   {
    "duration": 14,
    "start_time": "2023-04-18T01:28:07.865Z"
   },
   {
    "duration": 22,
    "start_time": "2023-04-18T01:29:23.034Z"
   },
   {
    "duration": 20,
    "start_time": "2023-04-18T01:29:39.611Z"
   },
   {
    "duration": 68,
    "start_time": "2023-04-18T01:31:04.919Z"
   },
   {
    "duration": 49,
    "start_time": "2023-04-18T01:31:17.701Z"
   },
   {
    "duration": 9,
    "start_time": "2023-04-18T01:34:30.102Z"
   },
   {
    "duration": 13,
    "start_time": "2023-04-18T01:34:53.198Z"
   },
   {
    "duration": 30,
    "start_time": "2023-04-18T01:35:24.284Z"
   },
   {
    "duration": 19,
    "start_time": "2023-04-18T01:36:49.576Z"
   },
   {
    "duration": 22,
    "start_time": "2023-04-18T01:37:18.230Z"
   },
   {
    "duration": 29,
    "start_time": "2023-04-18T01:37:54.432Z"
   },
   {
    "duration": 24,
    "start_time": "2023-04-18T01:37:58.388Z"
   },
   {
    "duration": 349,
    "start_time": "2023-04-18T01:38:26.877Z"
   },
   {
    "duration": 1487,
    "start_time": "2023-04-18T01:38:45.595Z"
   },
   {
    "duration": 433,
    "start_time": "2023-04-18T01:38:47.084Z"
   },
   {
    "duration": 44,
    "start_time": "2023-04-18T01:38:47.519Z"
   },
   {
    "duration": 60,
    "start_time": "2023-04-18T01:38:47.567Z"
   },
   {
    "duration": 24,
    "start_time": "2023-04-18T01:38:47.628Z"
   },
   {
    "duration": 62,
    "start_time": "2023-04-18T01:38:47.656Z"
   },
   {
    "duration": 584,
    "start_time": "2023-04-18T01:38:47.720Z"
   },
   {
    "duration": 87,
    "start_time": "2023-04-18T01:38:48.309Z"
   },
   {
    "duration": 20,
    "start_time": "2023-04-18T01:38:48.401Z"
   },
   {
    "duration": 2,
    "start_time": "2023-04-18T01:38:48.423Z"
   },
   {
    "duration": 40,
    "start_time": "2023-04-18T01:38:48.443Z"
   },
   {
    "duration": 40,
    "start_time": "2023-04-18T01:38:48.486Z"
   },
   {
    "duration": 150,
    "start_time": "2023-04-18T01:38:48.527Z"
   },
   {
    "duration": 0,
    "start_time": "2023-04-18T01:38:48.678Z"
   },
   {
    "duration": 0,
    "start_time": "2023-04-18T01:38:48.679Z"
   },
   {
    "duration": 0,
    "start_time": "2023-04-18T01:38:48.680Z"
   },
   {
    "duration": 0,
    "start_time": "2023-04-18T01:38:48.681Z"
   },
   {
    "duration": 0,
    "start_time": "2023-04-18T01:38:48.686Z"
   },
   {
    "duration": 30,
    "start_time": "2023-04-18T01:40:18.073Z"
   },
   {
    "duration": 415,
    "start_time": "2023-04-18T01:40:28.744Z"
   },
   {
    "duration": 30,
    "start_time": "2023-04-18T01:43:15.365Z"
   },
   {
    "duration": 12,
    "start_time": "2023-04-18T01:43:57.289Z"
   },
   {
    "duration": 11,
    "start_time": "2023-04-18T01:44:15.613Z"
   },
   {
    "duration": 33,
    "start_time": "2023-04-18T01:44:45.741Z"
   },
   {
    "duration": 19,
    "start_time": "2023-04-18T01:45:08.668Z"
   },
   {
    "duration": 13,
    "start_time": "2023-04-18T01:45:13.261Z"
   },
   {
    "duration": 35,
    "start_time": "2023-04-18T01:45:47.862Z"
   },
   {
    "duration": 38,
    "start_time": "2023-04-18T01:46:15.893Z"
   },
   {
    "duration": 10,
    "start_time": "2023-04-18T01:46:30.675Z"
   },
   {
    "duration": 37,
    "start_time": "2023-04-18T01:46:39.789Z"
   },
   {
    "duration": 38,
    "start_time": "2023-04-18T01:47:09.265Z"
   },
   {
    "duration": 65,
    "start_time": "2023-04-18T01:48:30.551Z"
   },
   {
    "duration": 109,
    "start_time": "2023-04-18T01:58:37.263Z"
   },
   {
    "duration": 120,
    "start_time": "2023-04-18T02:09:26.890Z"
   },
   {
    "duration": 60,
    "start_time": "2023-04-18T02:09:39.261Z"
   },
   {
    "duration": 131,
    "start_time": "2023-04-18T02:13:56.279Z"
   },
   {
    "duration": 157,
    "start_time": "2023-04-18T02:14:02.391Z"
   },
   {
    "duration": 185,
    "start_time": "2023-04-18T02:14:14.009Z"
   },
   {
    "duration": 54,
    "start_time": "2023-04-18T02:17:21.852Z"
   },
   {
    "duration": 27,
    "start_time": "2023-04-18T02:18:17.795Z"
   },
   {
    "duration": 50,
    "start_time": "2023-04-18T02:18:38.671Z"
   },
   {
    "duration": 609,
    "start_time": "2023-04-18T02:19:05.715Z"
   },
   {
    "duration": 59,
    "start_time": "2023-04-18T02:19:58.532Z"
   },
   {
    "duration": 51,
    "start_time": "2023-04-18T02:20:22.228Z"
   },
   {
    "duration": 56,
    "start_time": "2023-04-18T02:20:35.914Z"
   },
   {
    "duration": 474,
    "start_time": "2023-04-18T02:20:58.228Z"
   },
   {
    "duration": 97,
    "start_time": "2023-04-18T02:21:18.350Z"
   },
   {
    "duration": 103,
    "start_time": "2023-04-18T02:21:30.548Z"
   },
   {
    "duration": 417,
    "start_time": "2023-04-18T02:22:13.164Z"
   },
   {
    "duration": 7,
    "start_time": "2023-04-18T02:22:41.277Z"
   },
   {
    "duration": 5,
    "start_time": "2023-04-18T02:22:46.113Z"
   },
   {
    "duration": 54,
    "start_time": "2023-04-18T02:23:24.746Z"
   },
   {
    "duration": 2521,
    "start_time": "2023-04-18T02:25:02.278Z"
   },
   {
    "duration": 1386,
    "start_time": "2023-04-18T02:25:40.498Z"
   },
   {
    "duration": 2174,
    "start_time": "2023-04-18T02:28:33.323Z"
   },
   {
    "duration": 384,
    "start_time": "2023-04-18T02:28:50.561Z"
   },
   {
    "duration": 392,
    "start_time": "2023-04-18T02:30:24.792Z"
   },
   {
    "duration": 1727,
    "start_time": "2023-04-18T04:17:51.488Z"
   },
   {
    "duration": 456,
    "start_time": "2023-04-18T04:17:53.218Z"
   },
   {
    "duration": 31,
    "start_time": "2023-04-18T04:17:53.675Z"
   },
   {
    "duration": 66,
    "start_time": "2023-04-18T04:17:53.709Z"
   },
   {
    "duration": 17,
    "start_time": "2023-04-18T04:17:53.777Z"
   },
   {
    "duration": 51,
    "start_time": "2023-04-18T04:17:53.797Z"
   },
   {
    "duration": 515,
    "start_time": "2023-04-18T04:17:53.850Z"
   },
   {
    "duration": 439,
    "start_time": "2023-04-18T04:17:54.368Z"
   },
   {
    "duration": 135,
    "start_time": "2023-04-18T04:17:54.809Z"
   },
   {
    "duration": 0,
    "start_time": "2023-04-18T04:17:54.947Z"
   },
   {
    "duration": 0,
    "start_time": "2023-04-18T04:17:54.948Z"
   },
   {
    "duration": 0,
    "start_time": "2023-04-18T04:17:54.950Z"
   },
   {
    "duration": 0,
    "start_time": "2023-04-18T04:17:54.951Z"
   },
   {
    "duration": 0,
    "start_time": "2023-04-18T04:17:54.973Z"
   },
   {
    "duration": 0,
    "start_time": "2023-04-18T04:17:54.974Z"
   },
   {
    "duration": 0,
    "start_time": "2023-04-18T04:17:54.976Z"
   },
   {
    "duration": 0,
    "start_time": "2023-04-18T04:17:54.977Z"
   },
   {
    "duration": 0,
    "start_time": "2023-04-18T04:17:54.978Z"
   },
   {
    "duration": 10,
    "start_time": "2023-04-18T04:30:50.063Z"
   },
   {
    "duration": 884,
    "start_time": "2023-04-18T04:31:16.629Z"
   },
   {
    "duration": 12,
    "start_time": "2023-04-18T04:31:44.771Z"
   },
   {
    "duration": 231,
    "start_time": "2023-04-18T04:31:47.229Z"
   },
   {
    "duration": 441,
    "start_time": "2023-04-18T04:32:40.224Z"
   },
   {
    "duration": 28,
    "start_time": "2023-04-18T04:33:57.055Z"
   },
   {
    "duration": 11,
    "start_time": "2023-04-18T04:34:06.925Z"
   },
   {
    "duration": 105,
    "start_time": "2023-04-18T04:34:35.393Z"
   },
   {
    "duration": 6,
    "start_time": "2023-04-18T04:34:43.456Z"
   },
   {
    "duration": 8,
    "start_time": "2023-04-18T04:34:45.436Z"
   },
   {
    "duration": 1576,
    "start_time": "2023-04-18T04:34:53.412Z"
   },
   {
    "duration": 436,
    "start_time": "2023-04-18T04:34:54.991Z"
   },
   {
    "duration": 41,
    "start_time": "2023-04-18T04:34:55.430Z"
   },
   {
    "duration": 42,
    "start_time": "2023-04-18T04:34:55.473Z"
   },
   {
    "duration": 17,
    "start_time": "2023-04-18T04:34:55.517Z"
   },
   {
    "duration": 44,
    "start_time": "2023-04-18T04:34:55.536Z"
   },
   {
    "duration": 518,
    "start_time": "2023-04-18T04:34:55.582Z"
   },
   {
    "duration": 8,
    "start_time": "2023-04-18T04:34:56.102Z"
   },
   {
    "duration": 94,
    "start_time": "2023-04-18T04:34:56.113Z"
   },
   {
    "duration": 8,
    "start_time": "2023-04-18T04:34:56.211Z"
   },
   {
    "duration": 24,
    "start_time": "2023-04-18T04:34:56.222Z"
   },
   {
    "duration": 80,
    "start_time": "2023-04-18T04:34:56.248Z"
   },
   {
    "duration": 34,
    "start_time": "2023-04-18T04:34:56.330Z"
   },
   {
    "duration": 29,
    "start_time": "2023-04-18T04:34:56.366Z"
   },
   {
    "duration": 454,
    "start_time": "2023-04-18T04:34:56.397Z"
   },
   {
    "duration": 3,
    "start_time": "2023-04-18T04:34:56.852Z"
   },
   {
    "duration": 11,
    "start_time": "2023-04-18T04:34:56.859Z"
   },
   {
    "duration": 23,
    "start_time": "2023-04-18T04:34:56.872Z"
   },
   {
    "duration": 9,
    "start_time": "2023-04-18T04:34:56.897Z"
   },
   {
    "duration": 1299,
    "start_time": "2023-04-18T04:35:37.174Z"
   },
   {
    "duration": 354,
    "start_time": "2023-04-18T04:35:38.474Z"
   },
   {
    "duration": 42,
    "start_time": "2023-04-18T04:35:38.829Z"
   },
   {
    "duration": 91,
    "start_time": "2023-04-18T04:35:38.874Z"
   },
   {
    "duration": 85,
    "start_time": "2023-04-18T04:35:38.967Z"
   },
   {
    "duration": 23,
    "start_time": "2023-04-18T04:35:39.054Z"
   },
   {
    "duration": 484,
    "start_time": "2023-04-18T04:35:39.079Z"
   },
   {
    "duration": 8,
    "start_time": "2023-04-18T04:35:39.565Z"
   },
   {
    "duration": 114,
    "start_time": "2023-04-18T04:35:39.576Z"
   },
   {
    "duration": 8,
    "start_time": "2023-04-18T04:35:39.693Z"
   },
   {
    "duration": 7,
    "start_time": "2023-04-18T04:35:39.704Z"
   },
   {
    "duration": 81,
    "start_time": "2023-04-18T04:35:39.713Z"
   },
   {
    "duration": 30,
    "start_time": "2023-04-18T04:35:39.796Z"
   },
   {
    "duration": 55,
    "start_time": "2023-04-18T04:35:39.829Z"
   },
   {
    "duration": 407,
    "start_time": "2023-04-18T04:35:39.886Z"
   },
   {
    "duration": 2,
    "start_time": "2023-04-18T04:35:40.295Z"
   },
   {
    "duration": 12,
    "start_time": "2023-04-18T04:35:40.299Z"
   },
   {
    "duration": 5,
    "start_time": "2023-04-18T04:35:40.313Z"
   },
   {
    "duration": 8,
    "start_time": "2023-04-18T04:35:40.319Z"
   },
   {
    "duration": 458,
    "start_time": "2023-04-18T04:45:12.467Z"
   },
   {
    "duration": 446,
    "start_time": "2023-04-18T04:45:44.605Z"
   },
   {
    "duration": 19,
    "start_time": "2023-04-18T04:47:54.771Z"
   },
   {
    "duration": 7,
    "start_time": "2023-04-18T04:49:31.939Z"
   },
   {
    "duration": 6,
    "start_time": "2023-04-18T04:49:32.604Z"
   },
   {
    "duration": 30,
    "start_time": "2023-04-18T04:49:46.746Z"
   },
   {
    "duration": 133,
    "start_time": "2023-04-18T04:50:27.881Z"
   },
   {
    "duration": 10,
    "start_time": "2023-04-18T04:51:17.598Z"
   },
   {
    "duration": 53,
    "start_time": "2023-04-18T04:53:50.898Z"
   },
   {
    "duration": 54,
    "start_time": "2023-04-18T04:54:03.642Z"
   },
   {
    "duration": 495,
    "start_time": "2023-04-18T05:04:27.798Z"
   },
   {
    "duration": 6,
    "start_time": "2023-04-18T05:04:32.803Z"
   },
   {
    "duration": 6,
    "start_time": "2023-04-18T05:04:33.637Z"
   },
   {
    "duration": 55,
    "start_time": "2023-04-18T05:04:35.498Z"
   },
   {
    "duration": 23,
    "start_time": "2023-04-18T05:04:44.576Z"
   },
   {
    "duration": 8,
    "start_time": "2023-04-18T05:12:29.932Z"
   },
   {
    "duration": 64,
    "start_time": "2023-04-18T05:12:47.952Z"
   },
   {
    "duration": 9,
    "start_time": "2023-04-18T05:13:01.775Z"
   },
   {
    "duration": 499,
    "start_time": "2023-04-18T05:13:02.691Z"
   },
   {
    "duration": 426,
    "start_time": "2023-04-18T05:20:15.560Z"
   },
   {
    "duration": 456,
    "start_time": "2023-04-18T05:21:11.339Z"
   },
   {
    "duration": 827,
    "start_time": "2023-04-18T05:24:18.104Z"
   },
   {
    "duration": 410,
    "start_time": "2023-04-18T05:25:30.050Z"
   },
   {
    "duration": 521,
    "start_time": "2023-04-18T05:26:01.367Z"
   },
   {
    "duration": 8,
    "start_time": "2023-04-18T05:27:05.647Z"
   },
   {
    "duration": 6,
    "start_time": "2023-04-18T05:27:07.532Z"
   },
   {
    "duration": 26,
    "start_time": "2023-04-18T05:27:20.784Z"
   },
   {
    "duration": 27,
    "start_time": "2023-04-18T05:28:10.967Z"
   },
   {
    "duration": 28,
    "start_time": "2023-04-18T05:28:24.358Z"
   },
   {
    "duration": 434,
    "start_time": "2023-04-18T05:28:29.738Z"
   },
   {
    "duration": 540,
    "start_time": "2023-04-18T05:29:29.720Z"
   },
   {
    "duration": 7,
    "start_time": "2023-04-18T05:30:49.437Z"
   },
   {
    "duration": 472,
    "start_time": "2023-04-18T05:30:55.212Z"
   },
   {
    "duration": 81,
    "start_time": "2023-04-18T05:32:44.235Z"
   },
   {
    "duration": 209,
    "start_time": "2023-04-18T05:32:46.541Z"
   },
   {
    "duration": 7,
    "start_time": "2023-04-18T05:33:09.540Z"
   },
   {
    "duration": 7,
    "start_time": "2023-04-18T05:33:14.238Z"
   },
   {
    "duration": 15,
    "start_time": "2023-04-18T05:33:16.957Z"
   },
   {
    "duration": 9,
    "start_time": "2023-04-18T05:33:37.617Z"
   },
   {
    "duration": 16,
    "start_time": "2023-04-18T05:33:38.617Z"
   },
   {
    "duration": 6,
    "start_time": "2023-04-18T05:34:01.626Z"
   },
   {
    "duration": 6,
    "start_time": "2023-04-18T05:34:08.664Z"
   },
   {
    "duration": 375,
    "start_time": "2023-04-18T05:34:11.246Z"
   },
   {
    "duration": 5,
    "start_time": "2023-04-18T05:41:58.108Z"
   },
   {
    "duration": 3022,
    "start_time": "2023-04-18T05:41:58.903Z"
   },
   {
    "duration": 9,
    "start_time": "2023-04-18T05:44:17.625Z"
   },
   {
    "duration": 503,
    "start_time": "2023-04-18T05:44:20.141Z"
   },
   {
    "duration": 884,
    "start_time": "2023-04-18T05:45:22.611Z"
   },
   {
    "duration": 8,
    "start_time": "2023-04-18T05:45:39.751Z"
   },
   {
    "duration": 6,
    "start_time": "2023-04-18T05:45:41.217Z"
   },
   {
    "duration": 6,
    "start_time": "2023-04-18T05:46:10.118Z"
   },
   {
    "duration": 7,
    "start_time": "2023-04-18T05:47:49.100Z"
   },
   {
    "duration": 480,
    "start_time": "2023-04-18T05:47:50.617Z"
   },
   {
    "duration": 7,
    "start_time": "2023-04-18T05:48:24.391Z"
   },
   {
    "duration": 472,
    "start_time": "2023-04-18T05:48:25.299Z"
   },
   {
    "duration": 10,
    "start_time": "2023-04-18T05:57:51.828Z"
   },
   {
    "duration": 504,
    "start_time": "2023-04-18T05:57:51.927Z"
   },
   {
    "duration": 1522,
    "start_time": "2023-04-18T05:58:21.211Z"
   },
   {
    "duration": 498,
    "start_time": "2023-04-18T05:58:22.735Z"
   },
   {
    "duration": 44,
    "start_time": "2023-04-18T05:58:23.235Z"
   },
   {
    "duration": 37,
    "start_time": "2023-04-18T05:58:23.281Z"
   },
   {
    "duration": 44,
    "start_time": "2023-04-18T05:58:23.320Z"
   },
   {
    "duration": 24,
    "start_time": "2023-04-18T05:58:23.365Z"
   },
   {
    "duration": 557,
    "start_time": "2023-04-18T05:58:23.391Z"
   },
   {
    "duration": 10,
    "start_time": "2023-04-18T05:58:23.951Z"
   },
   {
    "duration": 129,
    "start_time": "2023-04-18T05:58:23.963Z"
   },
   {
    "duration": 0,
    "start_time": "2023-04-18T05:58:24.094Z"
   },
   {
    "duration": 0,
    "start_time": "2023-04-18T05:58:24.096Z"
   },
   {
    "duration": 0,
    "start_time": "2023-04-18T05:58:24.097Z"
   },
   {
    "duration": 0,
    "start_time": "2023-04-18T05:58:24.098Z"
   },
   {
    "duration": 0,
    "start_time": "2023-04-18T05:58:24.098Z"
   },
   {
    "duration": 0,
    "start_time": "2023-04-18T05:58:24.100Z"
   },
   {
    "duration": 0,
    "start_time": "2023-04-18T05:58:24.101Z"
   },
   {
    "duration": 0,
    "start_time": "2023-04-18T05:58:24.102Z"
   },
   {
    "duration": 0,
    "start_time": "2023-04-18T05:58:24.104Z"
   },
   {
    "duration": 0,
    "start_time": "2023-04-18T05:58:24.105Z"
   },
   {
    "duration": 429,
    "start_time": "2023-04-18T06:00:33.524Z"
   },
   {
    "duration": 17,
    "start_time": "2023-04-18T06:07:15.481Z"
   },
   {
    "duration": 6,
    "start_time": "2023-04-18T06:07:45.193Z"
   },
   {
    "duration": 13,
    "start_time": "2023-04-18T06:08:05.557Z"
   },
   {
    "duration": 5,
    "start_time": "2023-04-18T06:08:28.625Z"
   },
   {
    "duration": 10,
    "start_time": "2023-04-18T06:08:43.495Z"
   },
   {
    "duration": 19,
    "start_time": "2023-04-18T06:09:26.611Z"
   },
   {
    "duration": 9,
    "start_time": "2023-04-18T06:12:32.576Z"
   },
   {
    "duration": 6,
    "start_time": "2023-04-18T06:13:29.909Z"
   },
   {
    "duration": 562,
    "start_time": "2023-04-18T06:13:30.997Z"
   },
   {
    "duration": 6,
    "start_time": "2023-04-18T06:14:02.433Z"
   },
   {
    "duration": 515,
    "start_time": "2023-04-18T06:14:03.479Z"
   },
   {
    "duration": 6,
    "start_time": "2023-04-18T06:20:11.007Z"
   },
   {
    "duration": 908,
    "start_time": "2023-04-18T06:20:13.547Z"
   },
   {
    "duration": 6,
    "start_time": "2023-04-18T06:20:31.035Z"
   },
   {
    "duration": 229,
    "start_time": "2023-04-18T06:20:34.067Z"
   },
   {
    "duration": 16,
    "start_time": "2023-04-18T06:20:58.001Z"
   },
   {
    "duration": 502,
    "start_time": "2023-04-18T06:21:18.562Z"
   },
   {
    "duration": 36,
    "start_time": "2023-04-18T06:22:02.317Z"
   },
   {
    "duration": 8,
    "start_time": "2023-04-18T06:22:09.781Z"
   },
   {
    "duration": 29628,
    "start_time": "2023-04-18T06:22:11.017Z"
   },
   {
    "duration": 7,
    "start_time": "2023-04-18T06:25:14.564Z"
   },
   {
    "duration": 1235,
    "start_time": "2023-04-18T06:25:15.704Z"
   },
   {
    "duration": 6,
    "start_time": "2023-04-18T06:31:34.356Z"
   },
   {
    "duration": 959,
    "start_time": "2023-04-18T06:31:35.876Z"
   },
   {
    "duration": 74,
    "start_time": "2023-04-18T06:32:22.425Z"
   },
   {
    "duration": 493,
    "start_time": "2023-04-18T06:32:48.660Z"
   },
   {
    "duration": 560,
    "start_time": "2023-04-18T06:32:57.882Z"
   },
   {
    "duration": 478,
    "start_time": "2023-04-18T06:33:41.306Z"
   },
   {
    "duration": 537,
    "start_time": "2023-04-18T06:33:57.975Z"
   },
   {
    "duration": 5,
    "start_time": "2023-04-18T06:36:55.446Z"
   },
   {
    "duration": 569,
    "start_time": "2023-04-18T06:37:39.117Z"
   },
   {
    "duration": 526,
    "start_time": "2023-04-18T06:38:49.200Z"
   },
   {
    "duration": 921,
    "start_time": "2023-04-18T06:44:39.321Z"
   },
   {
    "duration": 60,
    "start_time": "2023-04-18T06:47:40.364Z"
   },
   {
    "duration": 158,
    "start_time": "2023-04-18T06:47:53.564Z"
   },
   {
    "duration": 7,
    "start_time": "2023-04-18T06:49:46.480Z"
   },
   {
    "duration": 27,
    "start_time": "2023-04-18T06:49:47.758Z"
   },
   {
    "duration": 8,
    "start_time": "2023-04-18T06:50:02.717Z"
   },
   {
    "duration": 28540,
    "start_time": "2023-04-18T06:50:03.527Z"
   },
   {
    "duration": 9,
    "start_time": "2023-04-18T06:51:53.768Z"
   },
   {
    "duration": 761,
    "start_time": "2023-04-18T06:51:55.290Z"
   },
   {
    "duration": 7,
    "start_time": "2023-04-18T06:52:56.380Z"
   },
   {
    "duration": 1628,
    "start_time": "2023-04-18T06:52:56.825Z"
   },
   {
    "duration": 7,
    "start_time": "2023-04-18T06:53:13.170Z"
   },
   {
    "duration": 30551,
    "start_time": "2023-04-18T06:53:13.767Z"
   },
   {
    "duration": 8,
    "start_time": "2023-04-18T06:54:16.481Z"
   },
   {
    "duration": 1333,
    "start_time": "2023-04-18T06:54:17.306Z"
   },
   {
    "duration": 669,
    "start_time": "2023-04-18T06:54:53.069Z"
   },
   {
    "duration": 724,
    "start_time": "2023-04-18T06:55:14.070Z"
   },
   {
    "duration": 675,
    "start_time": "2023-04-18T06:55:39.920Z"
   },
   {
    "duration": 1524,
    "start_time": "2023-04-18T06:57:31.558Z"
   },
   {
    "duration": 325,
    "start_time": "2023-04-18T06:57:33.084Z"
   },
   {
    "duration": 25,
    "start_time": "2023-04-18T06:57:33.410Z"
   },
   {
    "duration": 64,
    "start_time": "2023-04-18T06:57:33.437Z"
   },
   {
    "duration": 15,
    "start_time": "2023-04-18T06:57:33.503Z"
   },
   {
    "duration": 58,
    "start_time": "2023-04-18T06:57:33.520Z"
   },
   {
    "duration": 607,
    "start_time": "2023-04-18T06:57:33.581Z"
   },
   {
    "duration": 49,
    "start_time": "2023-04-18T06:57:34.190Z"
   },
   {
    "duration": 20,
    "start_time": "2023-04-18T06:57:34.240Z"
   },
   {
    "duration": 12,
    "start_time": "2023-04-18T06:57:34.264Z"
   },
   {
    "duration": 30702,
    "start_time": "2023-04-18T06:57:34.278Z"
   },
   {
    "duration": 8,
    "start_time": "2023-04-18T06:58:04.983Z"
   },
   {
    "duration": 9,
    "start_time": "2023-04-18T06:58:04.992Z"
   },
   {
    "duration": 127,
    "start_time": "2023-04-18T06:58:05.002Z"
   },
   {
    "duration": 0,
    "start_time": "2023-04-18T06:58:05.131Z"
   },
   {
    "duration": 0,
    "start_time": "2023-04-18T06:58:05.132Z"
   },
   {
    "duration": 0,
    "start_time": "2023-04-18T06:58:05.133Z"
   },
   {
    "duration": 0,
    "start_time": "2023-04-18T06:58:05.134Z"
   },
   {
    "duration": 0,
    "start_time": "2023-04-18T06:58:05.135Z"
   },
   {
    "duration": 0,
    "start_time": "2023-04-18T06:58:05.136Z"
   },
   {
    "duration": 7,
    "start_time": "2023-04-18T06:58:58.145Z"
   },
   {
    "duration": 30966,
    "start_time": "2023-04-18T06:58:59.281Z"
   },
   {
    "duration": 7,
    "start_time": "2023-04-18T07:02:35.308Z"
   },
   {
    "duration": 471,
    "start_time": "2023-04-18T07:02:36.652Z"
   },
   {
    "duration": 7,
    "start_time": "2023-04-18T07:03:04.376Z"
   },
   {
    "duration": 44,
    "start_time": "2023-04-18T07:03:06.513Z"
   },
   {
    "duration": 10,
    "start_time": "2023-04-18T07:03:27.762Z"
   },
   {
    "duration": 320,
    "start_time": "2023-04-18T07:03:30.326Z"
   },
   {
    "duration": 6,
    "start_time": "2023-04-18T07:03:45.710Z"
   },
   {
    "duration": 50,
    "start_time": "2023-04-18T07:03:46.145Z"
   },
   {
    "duration": 7,
    "start_time": "2023-04-18T07:06:55.982Z"
   },
   {
    "duration": 55,
    "start_time": "2023-04-18T07:06:56.973Z"
   },
   {
    "duration": 6,
    "start_time": "2023-04-18T07:07:40.529Z"
   },
   {
    "duration": 20,
    "start_time": "2023-04-18T07:07:41.678Z"
   },
   {
    "duration": 11,
    "start_time": "2023-04-18T07:08:05.963Z"
   },
   {
    "duration": 49,
    "start_time": "2023-04-18T07:08:06.822Z"
   },
   {
    "duration": 6,
    "start_time": "2023-04-18T07:09:16.931Z"
   },
   {
    "duration": 37,
    "start_time": "2023-04-18T07:09:17.710Z"
   },
   {
    "duration": 71,
    "start_time": "2023-04-18T07:10:27.532Z"
   },
   {
    "duration": 1632,
    "start_time": "2023-04-18T07:10:46.061Z"
   },
   {
    "duration": 347,
    "start_time": "2023-04-18T07:10:47.695Z"
   },
   {
    "duration": 46,
    "start_time": "2023-04-18T07:10:48.044Z"
   },
   {
    "duration": 38,
    "start_time": "2023-04-18T07:10:48.092Z"
   },
   {
    "duration": 33,
    "start_time": "2023-04-18T07:10:48.133Z"
   },
   {
    "duration": 44,
    "start_time": "2023-04-18T07:10:48.167Z"
   },
   {
    "duration": 610,
    "start_time": "2023-04-18T07:10:48.213Z"
   },
   {
    "duration": 7,
    "start_time": "2023-04-18T07:10:48.824Z"
   },
   {
    "duration": 70,
    "start_time": "2023-04-18T07:10:48.833Z"
   },
   {
    "duration": 6,
    "start_time": "2023-04-18T07:10:48.906Z"
   },
   {
    "duration": 14,
    "start_time": "2023-04-18T07:10:48.914Z"
   },
   {
    "duration": 160,
    "start_time": "2023-04-18T07:10:48.930Z"
   },
   {
    "duration": 0,
    "start_time": "2023-04-18T07:10:49.093Z"
   },
   {
    "duration": 0,
    "start_time": "2023-04-18T07:10:49.095Z"
   },
   {
    "duration": 0,
    "start_time": "2023-04-18T07:10:49.097Z"
   },
   {
    "duration": 0,
    "start_time": "2023-04-18T07:10:49.098Z"
   },
   {
    "duration": 0,
    "start_time": "2023-04-18T07:10:49.101Z"
   },
   {
    "duration": 0,
    "start_time": "2023-04-18T07:10:49.102Z"
   },
   {
    "duration": 26,
    "start_time": "2023-04-18T07:11:17.214Z"
   },
   {
    "duration": 72,
    "start_time": "2023-04-18T07:14:24.439Z"
   },
   {
    "duration": 14,
    "start_time": "2023-04-18T07:15:57.138Z"
   },
   {
    "duration": 7,
    "start_time": "2023-04-18T07:16:06.732Z"
   },
   {
    "duration": 7,
    "start_time": "2023-04-18T07:16:09.587Z"
   },
   {
    "duration": 19,
    "start_time": "2023-04-18T07:16:13.114Z"
   },
   {
    "duration": 22,
    "start_time": "2023-04-18T07:16:36.246Z"
   },
   {
    "duration": 27,
    "start_time": "2023-04-18T07:16:58.973Z"
   },
   {
    "duration": 8,
    "start_time": "2023-04-18T07:17:39.843Z"
   },
   {
    "duration": 3,
    "start_time": "2023-04-18T07:20:18.123Z"
   },
   {
    "duration": 3,
    "start_time": "2023-04-18T07:20:23.279Z"
   },
   {
    "duration": 2,
    "start_time": "2023-04-18T07:20:26.424Z"
   },
   {
    "duration": 4,
    "start_time": "2023-04-18T07:20:30.172Z"
   },
   {
    "duration": 7,
    "start_time": "2023-04-18T07:21:47.536Z"
   },
   {
    "duration": 826,
    "start_time": "2023-04-18T07:21:59.324Z"
   },
   {
    "duration": 6,
    "start_time": "2023-04-18T07:22:22.717Z"
   },
   {
    "duration": 763,
    "start_time": "2023-04-18T07:22:23.287Z"
   },
   {
    "duration": 7,
    "start_time": "2023-04-18T07:23:55.476Z"
   },
   {
    "duration": 61,
    "start_time": "2023-04-18T07:23:56.368Z"
   },
   {
    "duration": 7,
    "start_time": "2023-04-18T07:24:17.466Z"
   },
   {
    "duration": 338,
    "start_time": "2023-04-18T07:24:18.511Z"
   },
   {
    "duration": 6,
    "start_time": "2023-04-18T07:25:13.042Z"
   },
   {
    "duration": 8,
    "start_time": "2023-04-18T07:25:43.083Z"
   },
   {
    "duration": 332,
    "start_time": "2023-04-18T07:25:46.210Z"
   },
   {
    "duration": 1322,
    "start_time": "2023-04-18T07:25:54.665Z"
   },
   {
    "duration": 410,
    "start_time": "2023-04-18T07:25:55.989Z"
   },
   {
    "duration": 26,
    "start_time": "2023-04-18T07:25:56.401Z"
   },
   {
    "duration": 67,
    "start_time": "2023-04-18T07:25:56.429Z"
   },
   {
    "duration": 15,
    "start_time": "2023-04-18T07:25:56.498Z"
   },
   {
    "duration": 24,
    "start_time": "2023-04-18T07:25:56.515Z"
   },
   {
    "duration": 596,
    "start_time": "2023-04-18T07:25:56.563Z"
   },
   {
    "duration": 13,
    "start_time": "2023-04-18T07:25:57.162Z"
   },
   {
    "duration": 144,
    "start_time": "2023-04-18T07:25:57.178Z"
   },
   {
    "duration": 0,
    "start_time": "2023-04-18T07:25:57.324Z"
   },
   {
    "duration": 0,
    "start_time": "2023-04-18T07:25:57.325Z"
   },
   {
    "duration": 0,
    "start_time": "2023-04-18T07:25:57.326Z"
   },
   {
    "duration": 0,
    "start_time": "2023-04-18T07:25:57.328Z"
   },
   {
    "duration": 0,
    "start_time": "2023-04-18T07:25:57.329Z"
   },
   {
    "duration": 0,
    "start_time": "2023-04-18T07:25:57.331Z"
   },
   {
    "duration": 0,
    "start_time": "2023-04-18T07:25:57.332Z"
   },
   {
    "duration": 0,
    "start_time": "2023-04-18T07:25:57.333Z"
   },
   {
    "duration": 0,
    "start_time": "2023-04-18T07:25:57.334Z"
   },
   {
    "duration": 0,
    "start_time": "2023-04-18T07:25:57.336Z"
   },
   {
    "duration": 30082,
    "start_time": "2023-04-18T07:26:18.455Z"
   },
   {
    "duration": 9,
    "start_time": "2023-04-18T07:27:09.613Z"
   },
   {
    "duration": 29877,
    "start_time": "2023-04-18T07:27:10.650Z"
   },
   {
    "duration": 8,
    "start_time": "2023-04-18T07:28:28.546Z"
   },
   {
    "duration": 458,
    "start_time": "2023-04-18T07:28:30.738Z"
   },
   {
    "duration": 7,
    "start_time": "2023-04-18T07:37:06.247Z"
   },
   {
    "duration": 5,
    "start_time": "2023-04-18T07:37:06.962Z"
   },
   {
    "duration": 409,
    "start_time": "2023-04-18T07:37:24.927Z"
   },
   {
    "duration": 11,
    "start_time": "2023-04-18T07:39:04.058Z"
   },
   {
    "duration": 58,
    "start_time": "2023-04-18T07:39:08.165Z"
   },
   {
    "duration": 899,
    "start_time": "2023-04-18T07:39:14.907Z"
   },
   {
    "duration": 1369,
    "start_time": "2023-04-18T07:39:39.763Z"
   },
   {
    "duration": 373,
    "start_time": "2023-04-18T07:39:41.134Z"
   },
   {
    "duration": 25,
    "start_time": "2023-04-18T07:39:41.509Z"
   },
   {
    "duration": 55,
    "start_time": "2023-04-18T07:39:41.536Z"
   },
   {
    "duration": 16,
    "start_time": "2023-04-18T07:39:41.592Z"
   },
   {
    "duration": 29,
    "start_time": "2023-04-18T07:39:41.610Z"
   },
   {
    "duration": 501,
    "start_time": "2023-04-18T07:39:41.640Z"
   },
   {
    "duration": 6,
    "start_time": "2023-04-18T07:39:42.142Z"
   },
   {
    "duration": 512,
    "start_time": "2023-04-18T07:39:42.150Z"
   },
   {
    "duration": 62,
    "start_time": "2023-04-18T07:39:42.665Z"
   },
   {
    "duration": 1018,
    "start_time": "2023-04-18T07:39:42.729Z"
   },
   {
    "duration": 0,
    "start_time": "2023-04-18T07:39:43.749Z"
   },
   {
    "duration": 0,
    "start_time": "2023-04-18T07:39:43.750Z"
   },
   {
    "duration": 0,
    "start_time": "2023-04-18T07:39:43.752Z"
   },
   {
    "duration": 0,
    "start_time": "2023-04-18T07:39:43.753Z"
   },
   {
    "duration": 0,
    "start_time": "2023-04-18T07:39:43.754Z"
   },
   {
    "duration": 0,
    "start_time": "2023-04-18T07:39:43.755Z"
   },
   {
    "duration": 0,
    "start_time": "2023-04-18T07:39:43.756Z"
   },
   {
    "duration": 0,
    "start_time": "2023-04-18T07:39:43.758Z"
   },
   {
    "duration": 7,
    "start_time": "2023-04-18T07:51:20.233Z"
   },
   {
    "duration": 436,
    "start_time": "2023-04-18T07:51:20.612Z"
   },
   {
    "duration": 8,
    "start_time": "2023-04-18T07:53:00.528Z"
   },
   {
    "duration": 414,
    "start_time": "2023-04-18T07:53:01.344Z"
   },
   {
    "duration": 6,
    "start_time": "2023-04-18T07:53:08.313Z"
   },
   {
    "duration": 487,
    "start_time": "2023-04-18T07:53:09.512Z"
   },
   {
    "duration": 1272,
    "start_time": "2023-04-18T07:53:18.109Z"
   },
   {
    "duration": 391,
    "start_time": "2023-04-18T07:53:19.383Z"
   },
   {
    "duration": 42,
    "start_time": "2023-04-18T07:53:19.776Z"
   },
   {
    "duration": 67,
    "start_time": "2023-04-18T07:53:19.820Z"
   },
   {
    "duration": 21,
    "start_time": "2023-04-18T07:53:19.890Z"
   },
   {
    "duration": 50,
    "start_time": "2023-04-18T07:53:19.913Z"
   },
   {
    "duration": 534,
    "start_time": "2023-04-18T07:53:19.966Z"
   },
   {
    "duration": 7,
    "start_time": "2023-04-18T07:53:20.501Z"
   },
   {
    "duration": 550,
    "start_time": "2023-04-18T07:53:20.509Z"
   },
   {
    "duration": 60,
    "start_time": "2023-04-18T07:53:21.061Z"
   },
   {
    "duration": 870,
    "start_time": "2023-04-18T07:53:21.123Z"
   },
   {
    "duration": 0,
    "start_time": "2023-04-18T07:53:21.995Z"
   },
   {
    "duration": 0,
    "start_time": "2023-04-18T07:53:21.996Z"
   },
   {
    "duration": 0,
    "start_time": "2023-04-18T07:53:21.998Z"
   },
   {
    "duration": 0,
    "start_time": "2023-04-18T07:53:21.999Z"
   },
   {
    "duration": 0,
    "start_time": "2023-04-18T07:53:22.000Z"
   },
   {
    "duration": 0,
    "start_time": "2023-04-18T07:53:22.001Z"
   },
   {
    "duration": 0,
    "start_time": "2023-04-18T07:53:22.002Z"
   },
   {
    "duration": 0,
    "start_time": "2023-04-18T07:53:22.003Z"
   },
   {
    "duration": 1456,
    "start_time": "2023-04-19T01:45:09.008Z"
   },
   {
    "duration": 436,
    "start_time": "2023-04-19T01:45:10.466Z"
   },
   {
    "duration": 43,
    "start_time": "2023-04-19T01:45:10.904Z"
   },
   {
    "duration": 38,
    "start_time": "2023-04-19T01:45:10.952Z"
   },
   {
    "duration": 13,
    "start_time": "2023-04-19T01:45:10.992Z"
   },
   {
    "duration": 38,
    "start_time": "2023-04-19T01:45:11.007Z"
   },
   {
    "duration": 512,
    "start_time": "2023-04-19T01:45:11.047Z"
   },
   {
    "duration": 5,
    "start_time": "2023-04-19T01:45:11.563Z"
   },
   {
    "duration": 523,
    "start_time": "2023-04-19T01:45:11.569Z"
   },
   {
    "duration": 70,
    "start_time": "2023-04-19T01:45:12.094Z"
   },
   {
    "duration": 1606,
    "start_time": "2023-04-19T01:45:12.165Z"
   },
   {
    "duration": 0,
    "start_time": "2023-04-19T01:45:13.773Z"
   },
   {
    "duration": 0,
    "start_time": "2023-04-19T01:45:13.774Z"
   },
   {
    "duration": 0,
    "start_time": "2023-04-19T01:45:13.775Z"
   },
   {
    "duration": 0,
    "start_time": "2023-04-19T01:45:13.776Z"
   },
   {
    "duration": 0,
    "start_time": "2023-04-19T01:45:13.777Z"
   },
   {
    "duration": 1,
    "start_time": "2023-04-19T01:45:13.778Z"
   },
   {
    "duration": 0,
    "start_time": "2023-04-19T01:45:13.780Z"
   },
   {
    "duration": 0,
    "start_time": "2023-04-19T01:45:13.781Z"
   },
   {
    "duration": 7,
    "start_time": "2023-04-19T01:54:48.308Z"
   },
   {
    "duration": 454,
    "start_time": "2023-04-19T01:54:49.957Z"
   },
   {
    "duration": 4,
    "start_time": "2023-04-19T01:56:58.059Z"
   },
   {
    "duration": 10,
    "start_time": "2023-04-19T01:57:16.986Z"
   },
   {
    "duration": 19392,
    "start_time": "2023-04-19T01:57:33.834Z"
   },
   {
    "duration": 224,
    "start_time": "2023-04-19T01:58:21.120Z"
   },
   {
    "duration": 3,
    "start_time": "2023-04-19T01:59:18.417Z"
   },
   {
    "duration": 3,
    "start_time": "2023-04-19T01:59:42.411Z"
   },
   {
    "duration": 11438,
    "start_time": "2023-04-19T02:01:48.172Z"
   },
   {
    "duration": 6257,
    "start_time": "2023-04-19T02:03:48.568Z"
   },
   {
    "duration": 6608,
    "start_time": "2023-04-19T02:05:00.050Z"
   },
   {
    "duration": 3,
    "start_time": "2023-04-19T02:05:35.274Z"
   },
   {
    "duration": 3,
    "start_time": "2023-04-19T02:05:51.267Z"
   },
   {
    "duration": 3,
    "start_time": "2023-04-19T02:05:56.056Z"
   },
   {
    "duration": 531,
    "start_time": "2023-04-19T02:06:25.787Z"
   },
   {
    "duration": 2595,
    "start_time": "2023-04-19T02:06:33.258Z"
   },
   {
    "duration": 1558,
    "start_time": "2023-04-19T02:06:35.856Z"
   },
   {
    "duration": 0,
    "start_time": "2023-04-19T02:06:37.417Z"
   },
   {
    "duration": 0,
    "start_time": "2023-04-19T02:06:37.418Z"
   },
   {
    "duration": 0,
    "start_time": "2023-04-19T02:06:37.419Z"
   },
   {
    "duration": 0,
    "start_time": "2023-04-19T02:06:37.420Z"
   },
   {
    "duration": 0,
    "start_time": "2023-04-19T02:06:37.421Z"
   },
   {
    "duration": 0,
    "start_time": "2023-04-19T02:06:37.422Z"
   },
   {
    "duration": 0,
    "start_time": "2023-04-19T02:06:37.423Z"
   },
   {
    "duration": 0,
    "start_time": "2023-04-19T02:06:37.434Z"
   },
   {
    "duration": 0,
    "start_time": "2023-04-19T02:06:37.435Z"
   },
   {
    "duration": 0,
    "start_time": "2023-04-19T02:06:37.435Z"
   },
   {
    "duration": 0,
    "start_time": "2023-04-19T02:06:37.436Z"
   },
   {
    "duration": 0,
    "start_time": "2023-04-19T02:06:37.436Z"
   },
   {
    "duration": 0,
    "start_time": "2023-04-19T02:06:37.437Z"
   },
   {
    "duration": 0,
    "start_time": "2023-04-19T02:06:37.438Z"
   },
   {
    "duration": 0,
    "start_time": "2023-04-19T02:06:37.438Z"
   },
   {
    "duration": 0,
    "start_time": "2023-04-19T02:06:37.439Z"
   },
   {
    "duration": 0,
    "start_time": "2023-04-19T02:06:37.440Z"
   },
   {
    "duration": 0,
    "start_time": "2023-04-19T02:06:37.440Z"
   },
   {
    "duration": 0,
    "start_time": "2023-04-19T02:06:37.441Z"
   },
   {
    "duration": 0,
    "start_time": "2023-04-19T02:06:37.441Z"
   },
   {
    "duration": 15,
    "start_time": "2023-04-19T02:07:08.067Z"
   },
   {
    "duration": 4,
    "start_time": "2023-04-19T02:07:14.834Z"
   },
   {
    "duration": 2281,
    "start_time": "2023-04-19T02:07:21.967Z"
   },
   {
    "duration": 1396,
    "start_time": "2023-04-19T02:07:24.250Z"
   },
   {
    "duration": 378,
    "start_time": "2023-04-19T02:07:25.648Z"
   },
   {
    "duration": 25,
    "start_time": "2023-04-19T02:07:26.034Z"
   },
   {
    "duration": 120,
    "start_time": "2023-04-19T02:07:26.060Z"
   },
   {
    "duration": 12,
    "start_time": "2023-04-19T02:07:26.181Z"
   },
   {
    "duration": 21,
    "start_time": "2023-04-19T02:07:26.195Z"
   },
   {
    "duration": 699,
    "start_time": "2023-04-19T02:07:26.217Z"
   },
   {
    "duration": 199,
    "start_time": "2023-04-19T02:07:26.918Z"
   },
   {
    "duration": 4255,
    "start_time": "2023-04-19T02:07:27.119Z"
   },
   {
    "duration": 2,
    "start_time": "2023-04-19T02:07:31.376Z"
   },
   {
    "duration": 64,
    "start_time": "2023-04-19T02:07:31.380Z"
   },
   {
    "duration": 38,
    "start_time": "2023-04-19T02:07:31.446Z"
   },
   {
    "duration": 59,
    "start_time": "2023-04-19T02:07:31.486Z"
   },
   {
    "duration": 27,
    "start_time": "2023-04-19T02:07:31.547Z"
   },
   {
    "duration": 27,
    "start_time": "2023-04-19T02:07:31.576Z"
   },
   {
    "duration": 48,
    "start_time": "2023-04-19T02:07:31.605Z"
   },
   {
    "duration": 33,
    "start_time": "2023-04-19T02:07:31.654Z"
   },
   {
    "duration": 32,
    "start_time": "2023-04-19T02:07:31.689Z"
   },
   {
    "duration": 36,
    "start_time": "2023-04-19T02:07:31.723Z"
   },
   {
    "duration": 28,
    "start_time": "2023-04-19T02:07:31.760Z"
   },
   {
    "duration": 40,
    "start_time": "2023-04-19T02:07:31.790Z"
   },
   {
    "duration": 2276,
    "start_time": "2023-04-19T02:08:39.027Z"
   },
   {
    "duration": 2052,
    "start_time": "2023-04-19T02:08:49.501Z"
   },
   {
    "duration": 134,
    "start_time": "2023-04-19T02:09:02.031Z"
   },
   {
    "duration": 9,
    "start_time": "2023-04-19T02:09:17.234Z"
   },
   {
    "duration": 5,
    "start_time": "2023-04-19T02:09:19.319Z"
   },
   {
    "duration": 3,
    "start_time": "2023-04-19T02:09:20.192Z"
   },
   {
    "duration": 5,
    "start_time": "2023-04-19T02:09:22.309Z"
   },
   {
    "duration": 2075,
    "start_time": "2023-04-19T02:09:29.205Z"
   },
   {
    "duration": 6341,
    "start_time": "2023-04-19T02:10:48.311Z"
   },
   {
    "duration": 1014,
    "start_time": "2023-04-19T02:11:34.209Z"
   },
   {
    "duration": 885,
    "start_time": "2023-04-19T02:12:07.965Z"
   },
   {
    "duration": 361,
    "start_time": "2023-04-19T02:13:40.519Z"
   },
   {
    "duration": 451,
    "start_time": "2023-04-19T02:14:05.847Z"
   },
   {
    "duration": 333,
    "start_time": "2023-04-19T02:14:29.549Z"
   },
   {
    "duration": 938,
    "start_time": "2023-04-19T02:16:00.354Z"
   },
   {
    "duration": 836,
    "start_time": "2023-04-19T02:16:17.809Z"
   },
   {
    "duration": 872,
    "start_time": "2023-04-19T02:16:56.844Z"
   },
   {
    "duration": 953,
    "start_time": "2023-04-19T02:17:18.948Z"
   },
   {
    "duration": 2881,
    "start_time": "2023-04-19T02:21:26.116Z"
   },
   {
    "duration": 23,
    "start_time": "2023-04-19T02:22:04.789Z"
   },
   {
    "duration": 21,
    "start_time": "2023-04-19T02:22:17.002Z"
   },
   {
    "duration": 31,
    "start_time": "2023-04-19T02:22:30.827Z"
   },
   {
    "duration": 2462,
    "start_time": "2023-04-19T02:23:13.812Z"
   },
   {
    "duration": 1374,
    "start_time": "2023-04-19T02:23:16.276Z"
   },
   {
    "duration": 348,
    "start_time": "2023-04-19T02:23:17.652Z"
   },
   {
    "duration": 18,
    "start_time": "2023-04-19T02:23:18.002Z"
   },
   {
    "duration": 28,
    "start_time": "2023-04-19T02:23:18.043Z"
   },
   {
    "duration": 12,
    "start_time": "2023-04-19T02:23:18.073Z"
   },
   {
    "duration": 20,
    "start_time": "2023-04-19T02:23:18.086Z"
   },
   {
    "duration": 680,
    "start_time": "2023-04-19T02:23:18.107Z"
   },
   {
    "duration": 200,
    "start_time": "2023-04-19T02:23:18.788Z"
   },
   {
    "duration": 2917,
    "start_time": "2023-04-19T02:23:18.989Z"
   },
   {
    "duration": 21,
    "start_time": "2023-04-19T02:23:21.907Z"
   },
   {
    "duration": 20,
    "start_time": "2023-04-19T02:23:21.930Z"
   },
   {
    "duration": 8,
    "start_time": "2023-04-19T02:23:21.951Z"
   },
   {
    "duration": 9,
    "start_time": "2023-04-19T02:23:21.960Z"
   },
   {
    "duration": 14,
    "start_time": "2023-04-19T02:23:21.970Z"
   },
   {
    "duration": 5,
    "start_time": "2023-04-19T02:23:21.986Z"
   },
   {
    "duration": 4,
    "start_time": "2023-04-19T02:23:21.993Z"
   },
   {
    "duration": 6,
    "start_time": "2023-04-19T02:23:21.999Z"
   },
   {
    "duration": 6,
    "start_time": "2023-04-19T02:23:22.006Z"
   },
   {
    "duration": 5,
    "start_time": "2023-04-19T02:23:22.014Z"
   },
   {
    "duration": 11,
    "start_time": "2023-04-19T02:23:22.020Z"
   },
   {
    "duration": 22,
    "start_time": "2023-04-19T02:23:22.032Z"
   },
   {
    "duration": 7,
    "start_time": "2023-04-19T02:23:22.056Z"
   },
   {
    "duration": 5476,
    "start_time": "2023-04-19T02:26:49.773Z"
   },
   {
    "duration": 18842,
    "start_time": "2023-04-19T04:26:14.450Z"
   },
   {
    "duration": 1666,
    "start_time": "2023-04-19T04:26:33.294Z"
   },
   {
    "duration": 636,
    "start_time": "2023-04-19T04:26:34.962Z"
   },
   {
    "duration": 30,
    "start_time": "2023-04-19T04:26:35.599Z"
   },
   {
    "duration": 42,
    "start_time": "2023-04-19T04:26:35.631Z"
   },
   {
    "duration": 13,
    "start_time": "2023-04-19T04:26:35.674Z"
   },
   {
    "duration": 22,
    "start_time": "2023-04-19T04:26:35.689Z"
   },
   {
    "duration": 707,
    "start_time": "2023-04-19T04:26:35.712Z"
   },
   {
    "duration": 278,
    "start_time": "2023-04-19T04:26:36.421Z"
   },
   {
    "duration": 2304,
    "start_time": "2023-04-19T04:26:36.702Z"
   },
   {
    "duration": 2,
    "start_time": "2023-04-19T04:26:39.009Z"
   },
   {
    "duration": 7,
    "start_time": "2023-04-19T04:26:39.013Z"
   },
   {
    "duration": 6,
    "start_time": "2023-04-19T04:26:39.021Z"
   },
   {
    "duration": 19,
    "start_time": "2023-04-19T04:26:39.028Z"
   },
   {
    "duration": 5,
    "start_time": "2023-04-19T04:26:39.048Z"
   },
   {
    "duration": 6,
    "start_time": "2023-04-19T04:26:39.055Z"
   },
   {
    "duration": 8,
    "start_time": "2023-04-19T04:26:39.062Z"
   },
   {
    "duration": 7,
    "start_time": "2023-04-19T04:26:39.072Z"
   },
   {
    "duration": 7,
    "start_time": "2023-04-19T04:26:39.080Z"
   },
   {
    "duration": 5,
    "start_time": "2023-04-19T04:26:39.088Z"
   },
   {
    "duration": 5,
    "start_time": "2023-04-19T04:26:39.094Z"
   },
   {
    "duration": 5,
    "start_time": "2023-04-19T04:26:39.100Z"
   },
   {
    "duration": 2621,
    "start_time": "2023-04-19T05:22:26.063Z"
   },
   {
    "duration": 1456,
    "start_time": "2023-04-19T05:22:28.687Z"
   },
   {
    "duration": 353,
    "start_time": "2023-04-19T05:22:30.145Z"
   },
   {
    "duration": 21,
    "start_time": "2023-04-19T05:22:30.500Z"
   },
   {
    "duration": 66,
    "start_time": "2023-04-19T05:22:30.534Z"
   },
   {
    "duration": 32,
    "start_time": "2023-04-19T05:22:30.602Z"
   },
   {
    "duration": 73,
    "start_time": "2023-04-19T05:22:30.636Z"
   },
   {
    "duration": 785,
    "start_time": "2023-04-19T05:22:30.711Z"
   },
   {
    "duration": 228,
    "start_time": "2023-04-19T05:22:31.498Z"
   },
   {
    "duration": 2255,
    "start_time": "2023-04-19T05:22:31.727Z"
   },
   {
    "duration": 4,
    "start_time": "2023-04-19T05:22:33.984Z"
   },
   {
    "duration": 20,
    "start_time": "2023-04-19T05:22:33.989Z"
   },
   {
    "duration": 6,
    "start_time": "2023-04-19T05:22:34.011Z"
   },
   {
    "duration": 7,
    "start_time": "2023-04-19T05:22:34.019Z"
   },
   {
    "duration": 16,
    "start_time": "2023-04-19T05:22:34.028Z"
   },
   {
    "duration": 10,
    "start_time": "2023-04-19T05:22:34.046Z"
   },
   {
    "duration": 6,
    "start_time": "2023-04-19T05:22:34.058Z"
   },
   {
    "duration": 11,
    "start_time": "2023-04-19T05:22:34.066Z"
   },
   {
    "duration": 11,
    "start_time": "2023-04-19T05:22:34.079Z"
   },
   {
    "duration": 30,
    "start_time": "2023-04-19T05:22:34.092Z"
   },
   {
    "duration": 10,
    "start_time": "2023-04-19T05:22:34.124Z"
   },
   {
    "duration": 6,
    "start_time": "2023-04-19T05:22:34.138Z"
   },
   {
    "duration": 2414,
    "start_time": "2023-04-19T05:22:59.503Z"
   },
   {
    "duration": 6173,
    "start_time": "2023-04-19T05:23:47.196Z"
   },
   {
    "duration": 2883,
    "start_time": "2023-04-19T05:24:41.079Z"
   },
   {
    "duration": 1633,
    "start_time": "2023-04-19T05:24:43.965Z"
   },
   {
    "duration": 303,
    "start_time": "2023-04-19T05:24:45.600Z"
   },
   {
    "duration": 29,
    "start_time": "2023-04-19T05:24:45.905Z"
   },
   {
    "duration": 48,
    "start_time": "2023-04-19T05:24:45.936Z"
   },
   {
    "duration": 14,
    "start_time": "2023-04-19T05:24:45.985Z"
   },
   {
    "duration": 44,
    "start_time": "2023-04-19T05:24:46.001Z"
   },
   {
    "duration": 976,
    "start_time": "2023-04-19T05:24:46.047Z"
   },
   {
    "duration": 235,
    "start_time": "2023-04-19T05:24:47.027Z"
   },
   {
    "duration": 6117,
    "start_time": "2023-04-19T05:24:47.264Z"
   },
   {
    "duration": 4,
    "start_time": "2023-04-19T05:24:53.383Z"
   },
   {
    "duration": 14,
    "start_time": "2023-04-19T05:24:53.389Z"
   },
   {
    "duration": 6,
    "start_time": "2023-04-19T05:24:53.406Z"
   },
   {
    "duration": 17,
    "start_time": "2023-04-19T05:24:53.414Z"
   },
   {
    "duration": 21,
    "start_time": "2023-04-19T05:24:53.433Z"
   },
   {
    "duration": 9,
    "start_time": "2023-04-19T05:24:53.457Z"
   },
   {
    "duration": 9,
    "start_time": "2023-04-19T05:24:53.468Z"
   },
   {
    "duration": 6,
    "start_time": "2023-04-19T05:24:53.479Z"
   },
   {
    "duration": 7,
    "start_time": "2023-04-19T05:24:53.487Z"
   },
   {
    "duration": 9,
    "start_time": "2023-04-19T05:24:53.496Z"
   },
   {
    "duration": 14,
    "start_time": "2023-04-19T05:24:53.506Z"
   },
   {
    "duration": 6,
    "start_time": "2023-04-19T05:24:53.522Z"
   },
   {
    "duration": 8682,
    "start_time": "2023-04-19T05:26:52.629Z"
   },
   {
    "duration": 5,
    "start_time": "2023-04-19T05:27:32.859Z"
   },
   {
    "duration": 10056,
    "start_time": "2023-04-19T05:27:33.797Z"
   },
   {
    "duration": 119,
    "start_time": "2023-04-19T05:43:10.622Z"
   },
   {
    "duration": 2,
    "start_time": "2023-04-19T05:43:35.866Z"
   },
   {
    "duration": 8884,
    "start_time": "2023-04-19T05:43:36.810Z"
   },
   {
    "duration": 36,
    "start_time": "2023-04-19T05:43:45.838Z"
   },
   {
    "duration": 42,
    "start_time": "2023-04-19T05:43:53.575Z"
   },
   {
    "duration": 2682,
    "start_time": "2023-04-19T05:45:54.389Z"
   },
   {
    "duration": 6104,
    "start_time": "2023-04-19T07:53:59.611Z"
   },
   {
    "duration": 3266,
    "start_time": "2023-04-19T07:54:05.719Z"
   },
   {
    "duration": 401,
    "start_time": "2023-04-19T07:54:08.986Z"
   },
   {
    "duration": 18,
    "start_time": "2023-04-19T07:54:09.389Z"
   },
   {
    "duration": 43,
    "start_time": "2023-04-19T07:54:09.409Z"
   },
   {
    "duration": 22,
    "start_time": "2023-04-19T07:54:09.457Z"
   },
   {
    "duration": 25,
    "start_time": "2023-04-19T07:54:09.481Z"
   },
   {
    "duration": 765,
    "start_time": "2023-04-19T07:54:09.508Z"
   },
   {
    "duration": 44,
    "start_time": "2023-04-19T07:54:10.274Z"
   },
   {
    "duration": 511,
    "start_time": "2023-04-19T07:54:10.319Z"
   },
   {
    "duration": 4056,
    "start_time": "2023-04-19T07:54:10.831Z"
   },
   {
    "duration": 3,
    "start_time": "2023-04-19T07:54:14.890Z"
   },
   {
    "duration": 14,
    "start_time": "2023-04-19T07:54:14.895Z"
   },
   {
    "duration": 10,
    "start_time": "2023-04-19T07:54:14.910Z"
   },
   {
    "duration": 9,
    "start_time": "2023-04-19T07:54:14.922Z"
   },
   {
    "duration": 43,
    "start_time": "2023-04-19T07:54:14.933Z"
   },
   {
    "duration": 13,
    "start_time": "2023-04-19T07:54:14.978Z"
   },
   {
    "duration": 8,
    "start_time": "2023-04-19T07:54:14.993Z"
   },
   {
    "duration": 73,
    "start_time": "2023-04-19T07:54:15.003Z"
   },
   {
    "duration": 8,
    "start_time": "2023-04-19T07:54:15.079Z"
   },
   {
    "duration": 10,
    "start_time": "2023-04-19T07:54:15.089Z"
   },
   {
    "duration": 6,
    "start_time": "2023-04-19T07:54:15.101Z"
   },
   {
    "duration": 5,
    "start_time": "2023-04-19T07:54:15.109Z"
   },
   {
    "duration": 79,
    "start_time": "2023-04-19T08:02:58.718Z"
   },
   {
    "duration": 36,
    "start_time": "2023-04-19T08:03:08.687Z"
   },
   {
    "duration": 44,
    "start_time": "2023-04-19T08:03:29.759Z"
   },
   {
    "duration": 2918,
    "start_time": "2023-04-19T08:04:01.363Z"
   },
   {
    "duration": 3253,
    "start_time": "2023-04-19T08:05:26.563Z"
   },
   {
    "duration": 33,
    "start_time": "2023-04-19T08:06:23.897Z"
   },
   {
    "duration": 3493,
    "start_time": "2023-04-19T08:06:36.415Z"
   },
   {
    "duration": 5,
    "start_time": "2023-04-19T08:06:39.911Z"
   },
   {
    "duration": 407,
    "start_time": "2023-04-19T08:06:39.918Z"
   },
   {
    "duration": 38,
    "start_time": "2023-04-19T08:06:40.327Z"
   },
   {
    "duration": 46,
    "start_time": "2023-04-19T08:06:40.367Z"
   },
   {
    "duration": 15,
    "start_time": "2023-04-19T08:06:40.415Z"
   },
   {
    "duration": 60,
    "start_time": "2023-04-19T08:06:40.434Z"
   },
   {
    "duration": 778,
    "start_time": "2023-04-19T08:06:40.496Z"
   },
   {
    "duration": 3,
    "start_time": "2023-04-19T08:06:41.276Z"
   },
   {
    "duration": 4341,
    "start_time": "2023-04-19T08:06:41.282Z"
   },
   {
    "duration": 5,
    "start_time": "2023-04-19T08:06:45.625Z"
   },
   {
    "duration": 47,
    "start_time": "2023-04-19T08:06:45.632Z"
   },
   {
    "duration": 6,
    "start_time": "2023-04-19T08:06:45.680Z"
   },
   {
    "duration": 13,
    "start_time": "2023-04-19T08:06:45.688Z"
   },
   {
    "duration": 8,
    "start_time": "2023-04-19T08:06:45.703Z"
   },
   {
    "duration": 17,
    "start_time": "2023-04-19T08:06:45.713Z"
   },
   {
    "duration": 47,
    "start_time": "2023-04-19T08:06:45.732Z"
   },
   {
    "duration": 7,
    "start_time": "2023-04-19T08:06:45.782Z"
   },
   {
    "duration": 15,
    "start_time": "2023-04-19T08:06:45.791Z"
   },
   {
    "duration": 6,
    "start_time": "2023-04-19T08:06:45.808Z"
   },
   {
    "duration": 6,
    "start_time": "2023-04-19T08:06:45.816Z"
   },
   {
    "duration": 40,
    "start_time": "2023-04-19T08:06:45.824Z"
   },
   {
    "duration": 37,
    "start_time": "2023-04-19T08:07:29.837Z"
   },
   {
    "duration": 41,
    "start_time": "2023-04-19T08:07:34.224Z"
   },
   {
    "duration": 3112,
    "start_time": "2023-04-19T08:24:48.291Z"
   },
   {
    "duration": 1730,
    "start_time": "2023-04-19T08:24:51.406Z"
   },
   {
    "duration": 379,
    "start_time": "2023-04-19T08:24:53.139Z"
   },
   {
    "duration": 52,
    "start_time": "2023-04-19T08:24:53.522Z"
   },
   {
    "duration": 49,
    "start_time": "2023-04-19T08:24:53.576Z"
   },
   {
    "duration": 29,
    "start_time": "2023-04-19T08:24:53.629Z"
   },
   {
    "duration": 65,
    "start_time": "2023-04-19T08:24:53.660Z"
   },
   {
    "duration": 1021,
    "start_time": "2023-04-19T08:24:53.726Z"
   },
   {
    "duration": 257,
    "start_time": "2023-04-19T08:24:54.749Z"
   },
   {
    "duration": 4152,
    "start_time": "2023-04-19T08:24:55.008Z"
   },
   {
    "duration": 3,
    "start_time": "2023-04-19T08:24:59.162Z"
   },
   {
    "duration": 22,
    "start_time": "2023-04-19T08:24:59.167Z"
   },
   {
    "duration": 68,
    "start_time": "2023-04-19T08:24:59.191Z"
   },
   {
    "duration": 32,
    "start_time": "2023-04-19T08:24:59.261Z"
   },
   {
    "duration": 31,
    "start_time": "2023-04-19T08:24:59.294Z"
   },
   {
    "duration": 34,
    "start_time": "2023-04-19T08:24:59.327Z"
   },
   {
    "duration": 15,
    "start_time": "2023-04-19T08:24:59.362Z"
   },
   {
    "duration": 9,
    "start_time": "2023-04-19T08:24:59.379Z"
   },
   {
    "duration": 5,
    "start_time": "2023-04-19T08:24:59.390Z"
   },
   {
    "duration": 7,
    "start_time": "2023-04-19T08:24:59.396Z"
   },
   {
    "duration": 10,
    "start_time": "2023-04-19T08:24:59.404Z"
   },
   {
    "duration": 6,
    "start_time": "2023-04-19T08:24:59.415Z"
   },
   {
    "duration": 7,
    "start_time": "2023-04-19T08:33:28.756Z"
   },
   {
    "duration": 225,
    "start_time": "2023-04-19T08:33:48.534Z"
   },
   {
    "duration": 23381,
    "start_time": "2023-04-20T00:56:55.170Z"
   },
   {
    "duration": 2108,
    "start_time": "2023-04-20T00:57:18.553Z"
   },
   {
    "duration": 506,
    "start_time": "2023-04-20T00:57:20.662Z"
   },
   {
    "duration": 35,
    "start_time": "2023-04-20T00:57:21.184Z"
   },
   {
    "duration": 68,
    "start_time": "2023-04-20T00:57:21.221Z"
   },
   {
    "duration": 18,
    "start_time": "2023-04-20T00:57:21.291Z"
   },
   {
    "duration": 58,
    "start_time": "2023-04-20T00:57:21.311Z"
   },
   {
    "duration": 781,
    "start_time": "2023-04-20T00:57:21.370Z"
   },
   {
    "duration": 256,
    "start_time": "2023-04-20T00:57:22.153Z"
   },
   {
    "duration": 9,
    "start_time": "2023-04-20T00:57:22.411Z"
   },
   {
    "duration": 193,
    "start_time": "2023-04-20T00:57:22.422Z"
   },
   {
    "duration": 0,
    "start_time": "2023-04-20T00:57:22.616Z"
   },
   {
    "duration": 0,
    "start_time": "2023-04-20T00:57:22.617Z"
   },
   {
    "duration": 0,
    "start_time": "2023-04-20T00:57:22.618Z"
   },
   {
    "duration": 0,
    "start_time": "2023-04-20T00:57:22.619Z"
   },
   {
    "duration": 0,
    "start_time": "2023-04-20T00:57:22.620Z"
   },
   {
    "duration": 0,
    "start_time": "2023-04-20T00:57:22.621Z"
   },
   {
    "duration": 0,
    "start_time": "2023-04-20T00:57:22.626Z"
   },
   {
    "duration": 0,
    "start_time": "2023-04-20T00:57:22.627Z"
   },
   {
    "duration": 0,
    "start_time": "2023-04-20T00:57:22.629Z"
   },
   {
    "duration": 0,
    "start_time": "2023-04-20T00:57:22.630Z"
   },
   {
    "duration": 5,
    "start_time": "2023-04-20T00:59:50.216Z"
   },
   {
    "duration": 21,
    "start_time": "2023-04-20T00:59:51.047Z"
   },
   {
    "duration": 5,
    "start_time": "2023-04-20T01:00:08.617Z"
   },
   {
    "duration": 19,
    "start_time": "2023-04-20T01:00:09.137Z"
   },
   {
    "duration": 5,
    "start_time": "2023-04-20T01:01:03.961Z"
   },
   {
    "duration": 26602,
    "start_time": "2023-04-20T01:01:05.014Z"
   },
   {
    "duration": 13,
    "start_time": "2023-04-20T01:02:22.568Z"
   },
   {
    "duration": 19,
    "start_time": "2023-04-20T01:02:23.424Z"
   },
   {
    "duration": 5,
    "start_time": "2023-04-20T01:02:46.558Z"
   },
   {
    "duration": 19,
    "start_time": "2023-04-20T01:02:49.527Z"
   },
   {
    "duration": 25,
    "start_time": "2023-04-20T01:02:55.898Z"
   },
   {
    "duration": 2453,
    "start_time": "2023-04-20T01:03:59.963Z"
   },
   {
    "duration": 1492,
    "start_time": "2023-04-20T01:04:02.419Z"
   },
   {
    "duration": 342,
    "start_time": "2023-04-20T01:04:03.917Z"
   },
   {
    "duration": 36,
    "start_time": "2023-04-20T01:04:04.261Z"
   },
   {
    "duration": 50,
    "start_time": "2023-04-20T01:04:04.299Z"
   },
   {
    "duration": 12,
    "start_time": "2023-04-20T01:04:04.351Z"
   },
   {
    "duration": 77,
    "start_time": "2023-04-20T01:04:04.365Z"
   },
   {
    "duration": 809,
    "start_time": "2023-04-20T01:04:04.444Z"
   },
   {
    "duration": 260,
    "start_time": "2023-04-20T01:04:05.254Z"
   },
   {
    "duration": 8,
    "start_time": "2023-04-20T01:04:05.516Z"
   },
   {
    "duration": 198,
    "start_time": "2023-04-20T01:04:05.526Z"
   },
   {
    "duration": 0,
    "start_time": "2023-04-20T01:04:05.726Z"
   },
   {
    "duration": 0,
    "start_time": "2023-04-20T01:04:05.726Z"
   },
   {
    "duration": 0,
    "start_time": "2023-04-20T01:04:05.727Z"
   },
   {
    "duration": 0,
    "start_time": "2023-04-20T01:04:05.728Z"
   },
   {
    "duration": 0,
    "start_time": "2023-04-20T01:04:05.729Z"
   },
   {
    "duration": 0,
    "start_time": "2023-04-20T01:04:05.731Z"
   },
   {
    "duration": 0,
    "start_time": "2023-04-20T01:04:05.733Z"
   },
   {
    "duration": 0,
    "start_time": "2023-04-20T01:04:05.737Z"
   },
   {
    "duration": 0,
    "start_time": "2023-04-20T01:04:05.739Z"
   },
   {
    "duration": 0,
    "start_time": "2023-04-20T01:04:05.742Z"
   },
   {
    "duration": 8,
    "start_time": "2023-04-20T01:04:45.220Z"
   },
   {
    "duration": 23891,
    "start_time": "2023-04-20T01:04:45.798Z"
   },
   {
    "duration": 25,
    "start_time": "2023-04-20T01:10:08.603Z"
   },
   {
    "duration": 2266,
    "start_time": "2023-04-20T01:12:18.945Z"
   },
   {
    "duration": 1383,
    "start_time": "2023-04-20T01:12:21.214Z"
   },
   {
    "duration": 337,
    "start_time": "2023-04-20T01:12:22.599Z"
   },
   {
    "duration": 18,
    "start_time": "2023-04-20T01:12:22.938Z"
   },
   {
    "duration": 84,
    "start_time": "2023-04-20T01:12:22.957Z"
   },
   {
    "duration": 11,
    "start_time": "2023-04-20T01:12:23.042Z"
   },
   {
    "duration": 71,
    "start_time": "2023-04-20T01:12:23.055Z"
   },
   {
    "duration": 775,
    "start_time": "2023-04-20T01:12:23.127Z"
   },
   {
    "duration": 131,
    "start_time": "2023-04-20T01:12:23.907Z"
   },
   {
    "duration": 0,
    "start_time": "2023-04-20T01:12:24.040Z"
   },
   {
    "duration": 0,
    "start_time": "2023-04-20T01:12:24.042Z"
   },
   {
    "duration": 0,
    "start_time": "2023-04-20T01:12:24.043Z"
   },
   {
    "duration": 0,
    "start_time": "2023-04-20T01:12:24.044Z"
   },
   {
    "duration": 0,
    "start_time": "2023-04-20T01:12:24.045Z"
   },
   {
    "duration": 0,
    "start_time": "2023-04-20T01:12:24.045Z"
   },
   {
    "duration": 0,
    "start_time": "2023-04-20T01:12:24.046Z"
   },
   {
    "duration": 0,
    "start_time": "2023-04-20T01:12:24.047Z"
   },
   {
    "duration": 0,
    "start_time": "2023-04-20T01:12:24.048Z"
   },
   {
    "duration": 45,
    "start_time": "2023-04-20T01:12:37.757Z"
   },
   {
    "duration": 21,
    "start_time": "2023-04-20T01:12:45.941Z"
   },
   {
    "duration": 205,
    "start_time": "2023-04-20T01:13:06.266Z"
   },
   {
    "duration": 3678,
    "start_time": "2023-04-20T01:14:02.425Z"
   },
   {
    "duration": 46,
    "start_time": "2023-04-20T01:14:21.412Z"
   },
   {
    "duration": 3034,
    "start_time": "2023-04-20T01:17:17.579Z"
   },
   {
    "duration": 1172,
    "start_time": "2023-04-20T01:21:56.483Z"
   },
   {
    "duration": 73,
    "start_time": "2023-04-20T01:25:04.140Z"
   },
   {
    "duration": 7,
    "start_time": "2023-04-20T01:26:36.433Z"
   },
   {
    "duration": 17,
    "start_time": "2023-04-20T01:26:44.158Z"
   },
   {
    "duration": 9,
    "start_time": "2023-04-20T01:27:05.249Z"
   },
   {
    "duration": 10,
    "start_time": "2023-04-20T01:27:35.598Z"
   },
   {
    "duration": 18,
    "start_time": "2023-04-20T01:27:46.098Z"
   },
   {
    "duration": 16334,
    "start_time": "2023-04-20T03:45:12.564Z"
   },
   {
    "duration": 1673,
    "start_time": "2023-04-20T03:45:28.900Z"
   },
   {
    "duration": 492,
    "start_time": "2023-04-20T03:45:30.576Z"
   },
   {
    "duration": 27,
    "start_time": "2023-04-20T03:45:31.070Z"
   },
   {
    "duration": 50,
    "start_time": "2023-04-20T03:45:31.098Z"
   },
   {
    "duration": 14,
    "start_time": "2023-04-20T03:45:31.150Z"
   },
   {
    "duration": 39,
    "start_time": "2023-04-20T03:45:31.166Z"
   },
   {
    "duration": 748,
    "start_time": "2023-04-20T03:45:31.206Z"
   },
   {
    "duration": 204,
    "start_time": "2023-04-20T03:45:31.956Z"
   },
   {
    "duration": 2953,
    "start_time": "2023-04-20T03:45:32.162Z"
   },
   {
    "duration": 91,
    "start_time": "2023-04-20T03:45:35.117Z"
   },
   {
    "duration": 9,
    "start_time": "2023-04-20T03:45:35.210Z"
   },
   {
    "duration": 24,
    "start_time": "2023-04-20T03:45:35.221Z"
   },
   {
    "duration": 154,
    "start_time": "2023-04-20T03:45:35.247Z"
   },
   {
    "duration": 0,
    "start_time": "2023-04-20T03:45:35.403Z"
   },
   {
    "duration": 0,
    "start_time": "2023-04-20T03:45:35.404Z"
   },
   {
    "duration": 0,
    "start_time": "2023-04-20T03:45:35.406Z"
   },
   {
    "duration": 0,
    "start_time": "2023-04-20T03:45:35.407Z"
   },
   {
    "duration": 0,
    "start_time": "2023-04-20T03:45:35.408Z"
   },
   {
    "duration": 0,
    "start_time": "2023-04-20T03:45:35.410Z"
   },
   {
    "duration": 19,
    "start_time": "2023-04-20T04:01:40.783Z"
   },
   {
    "duration": 716,
    "start_time": "2023-04-20T04:02:08.340Z"
   },
   {
    "duration": 29,
    "start_time": "2023-04-20T04:02:35.341Z"
   },
   {
    "duration": 26116,
    "start_time": "2023-04-20T04:02:45.397Z"
   },
   {
    "duration": 2344,
    "start_time": "2023-04-20T04:09:24.280Z"
   },
   {
    "duration": 1383,
    "start_time": "2023-04-20T04:09:26.626Z"
   },
   {
    "duration": 349,
    "start_time": "2023-04-20T04:09:28.011Z"
   },
   {
    "duration": 31,
    "start_time": "2023-04-20T04:09:28.362Z"
   },
   {
    "duration": 29,
    "start_time": "2023-04-20T04:09:28.394Z"
   },
   {
    "duration": 15,
    "start_time": "2023-04-20T04:09:28.425Z"
   },
   {
    "duration": 42,
    "start_time": "2023-04-20T04:09:28.442Z"
   },
   {
    "duration": 676,
    "start_time": "2023-04-20T04:09:28.485Z"
   },
   {
    "duration": 187,
    "start_time": "2023-04-20T04:09:29.163Z"
   },
   {
    "duration": 2595,
    "start_time": "2023-04-20T04:09:29.352Z"
   },
   {
    "duration": 78,
    "start_time": "2023-04-20T04:09:31.948Z"
   },
   {
    "duration": 9,
    "start_time": "2023-04-20T04:09:32.028Z"
   },
   {
    "duration": 19,
    "start_time": "2023-04-20T04:09:32.039Z"
   },
   {
    "duration": 41,
    "start_time": "2023-04-20T04:09:32.060Z"
   },
   {
    "duration": 25634,
    "start_time": "2023-04-20T04:09:32.103Z"
   },
   {
    "duration": 2,
    "start_time": "2023-04-20T04:09:57.739Z"
   },
   {
    "duration": 13,
    "start_time": "2023-04-20T04:09:57.743Z"
   },
   {
    "duration": 26,
    "start_time": "2023-04-20T04:09:57.757Z"
   },
   {
    "duration": 9,
    "start_time": "2023-04-20T04:09:57.785Z"
   },
   {
    "duration": 48,
    "start_time": "2023-04-20T04:12:31.489Z"
   },
   {
    "duration": 1181,
    "start_time": "2023-04-20T04:16:24.908Z"
   },
   {
    "duration": 110,
    "start_time": "2023-04-20T04:16:51.488Z"
   },
   {
    "duration": 26586,
    "start_time": "2023-04-20T04:17:03.588Z"
   },
   {
    "duration": 378,
    "start_time": "2023-04-20T04:23:10.423Z"
   },
   {
    "duration": 86,
    "start_time": "2023-04-20T04:24:28.707Z"
   },
   {
    "duration": 96,
    "start_time": "2023-04-20T04:25:24.316Z"
   },
   {
    "duration": 2,
    "start_time": "2023-04-20T04:25:55.459Z"
   },
   {
    "duration": 103,
    "start_time": "2023-04-20T04:27:13.422Z"
   },
   {
    "duration": 119,
    "start_time": "2023-04-20T04:27:23.915Z"
   },
   {
    "duration": 175,
    "start_time": "2023-04-20T04:27:38.946Z"
   },
   {
    "duration": 13043,
    "start_time": "2023-04-20T04:28:34.698Z"
   },
   {
    "duration": 106,
    "start_time": "2023-04-20T04:31:05.885Z"
   },
   {
    "duration": 2491,
    "start_time": "2023-04-20T04:31:35.032Z"
   },
   {
    "duration": 1507,
    "start_time": "2023-04-20T04:31:37.525Z"
   },
   {
    "duration": 419,
    "start_time": "2023-04-20T04:31:39.033Z"
   },
   {
    "duration": 18,
    "start_time": "2023-04-20T04:31:39.454Z"
   },
   {
    "duration": 43,
    "start_time": "2023-04-20T04:31:39.474Z"
   },
   {
    "duration": 14,
    "start_time": "2023-04-20T04:31:39.519Z"
   },
   {
    "duration": 26,
    "start_time": "2023-04-20T04:31:39.534Z"
   },
   {
    "duration": 783,
    "start_time": "2023-04-20T04:31:39.562Z"
   },
   {
    "duration": 119,
    "start_time": "2023-04-20T04:31:40.347Z"
   },
   {
    "duration": 208,
    "start_time": "2023-04-20T04:31:40.468Z"
   },
   {
    "duration": 13678,
    "start_time": "2023-04-20T04:31:40.678Z"
   },
   {
    "duration": 304,
    "start_time": "2023-04-20T04:31:54.358Z"
   },
   {
    "duration": 0,
    "start_time": "2023-04-20T04:31:54.664Z"
   },
   {
    "duration": 0,
    "start_time": "2023-04-20T04:31:54.665Z"
   },
   {
    "duration": 0,
    "start_time": "2023-04-20T04:31:54.666Z"
   },
   {
    "duration": 0,
    "start_time": "2023-04-20T04:31:54.667Z"
   },
   {
    "duration": 141,
    "start_time": "2023-04-20T04:33:03.730Z"
   },
   {
    "duration": 802,
    "start_time": "2023-04-20T04:34:04.441Z"
   },
   {
    "duration": 930,
    "start_time": "2023-04-20T04:34:31.600Z"
   },
   {
    "duration": 824,
    "start_time": "2023-04-20T04:35:11.912Z"
   },
   {
    "duration": 851,
    "start_time": "2023-04-20T04:35:41.597Z"
   },
   {
    "duration": 101,
    "start_time": "2023-04-20T04:35:46.229Z"
   },
   {
    "duration": 110,
    "start_time": "2023-04-20T04:35:59.745Z"
   },
   {
    "duration": 376,
    "start_time": "2023-04-20T04:36:10.501Z"
   },
   {
    "duration": 396,
    "start_time": "2023-04-20T04:36:51.897Z"
   },
   {
    "duration": 378,
    "start_time": "2023-04-20T04:37:25.991Z"
   },
   {
    "duration": 3502,
    "start_time": "2023-04-20T04:41:37.732Z"
   },
   {
    "duration": 115,
    "start_time": "2023-04-20T04:42:32.745Z"
   },
   {
    "duration": 406,
    "start_time": "2023-04-20T04:45:24.421Z"
   },
   {
    "duration": 2606,
    "start_time": "2023-04-20T04:52:31.422Z"
   },
   {
    "duration": 1529,
    "start_time": "2023-04-20T04:52:34.032Z"
   },
   {
    "duration": 464,
    "start_time": "2023-04-20T04:52:35.563Z"
   },
   {
    "duration": 19,
    "start_time": "2023-04-20T04:52:36.029Z"
   },
   {
    "duration": 45,
    "start_time": "2023-04-20T04:52:36.050Z"
   },
   {
    "duration": 14,
    "start_time": "2023-04-20T04:52:36.097Z"
   },
   {
    "duration": 27,
    "start_time": "2023-04-20T04:52:36.114Z"
   },
   {
    "duration": 847,
    "start_time": "2023-04-20T04:52:36.143Z"
   },
   {
    "duration": 122,
    "start_time": "2023-04-20T04:52:36.996Z"
   },
   {
    "duration": 144,
    "start_time": "2023-04-20T04:52:37.120Z"
   },
   {
    "duration": 0,
    "start_time": "2023-04-20T04:52:37.267Z"
   },
   {
    "duration": 0,
    "start_time": "2023-04-20T04:52:37.268Z"
   },
   {
    "duration": 0,
    "start_time": "2023-04-20T04:52:37.269Z"
   },
   {
    "duration": 0,
    "start_time": "2023-04-20T04:52:37.270Z"
   },
   {
    "duration": 0,
    "start_time": "2023-04-20T04:52:37.285Z"
   },
   {
    "duration": 94,
    "start_time": "2023-04-20T04:53:19.708Z"
   },
   {
    "duration": 116,
    "start_time": "2023-04-20T04:53:33.649Z"
   },
   {
    "duration": 109,
    "start_time": "2023-04-20T04:53:59.432Z"
   },
   {
    "duration": 173,
    "start_time": "2023-04-20T05:11:25.933Z"
   },
   {
    "duration": 105,
    "start_time": "2023-04-20T05:11:33.231Z"
   },
   {
    "duration": 116,
    "start_time": "2023-04-20T05:12:02.585Z"
   },
   {
    "duration": 115,
    "start_time": "2023-04-20T05:12:11.059Z"
   },
   {
    "duration": 440,
    "start_time": "2023-04-20T05:12:52.404Z"
   },
   {
    "duration": 210,
    "start_time": "2023-04-20T05:13:38.856Z"
   },
   {
    "duration": 403,
    "start_time": "2023-04-20T05:13:43.387Z"
   },
   {
    "duration": 424,
    "start_time": "2023-04-20T05:13:52.474Z"
   },
   {
    "duration": 455,
    "start_time": "2023-04-20T05:21:31.678Z"
   },
   {
    "duration": 551,
    "start_time": "2023-04-20T05:23:27.341Z"
   },
   {
    "duration": 3091,
    "start_time": "2023-04-20T05:27:04.031Z"
   },
   {
    "duration": 1923,
    "start_time": "2023-04-20T05:27:07.125Z"
   },
   {
    "duration": 377,
    "start_time": "2023-04-20T05:27:09.050Z"
   },
   {
    "duration": 27,
    "start_time": "2023-04-20T05:27:09.430Z"
   },
   {
    "duration": 72,
    "start_time": "2023-04-20T05:27:09.460Z"
   },
   {
    "duration": 24,
    "start_time": "2023-04-20T05:27:09.534Z"
   },
   {
    "duration": 51,
    "start_time": "2023-04-20T05:27:09.560Z"
   },
   {
    "duration": 1259,
    "start_time": "2023-04-20T05:27:09.613Z"
   },
   {
    "duration": 158,
    "start_time": "2023-04-20T05:27:10.874Z"
   },
   {
    "duration": 528,
    "start_time": "2023-04-20T05:27:11.034Z"
   },
   {
    "duration": 16,
    "start_time": "2023-04-20T06:00:09.052Z"
   },
   {
    "duration": 190,
    "start_time": "2023-04-20T06:02:12.740Z"
   },
   {
    "duration": 81,
    "start_time": "2023-04-20T06:02:27.023Z"
   },
   {
    "duration": 82,
    "start_time": "2023-04-20T06:03:49.164Z"
   },
   {
    "duration": 5,
    "start_time": "2023-04-20T06:04:15.230Z"
   },
   {
    "duration": 90,
    "start_time": "2023-04-20T06:04:19.439Z"
   },
   {
    "duration": 91,
    "start_time": "2023-04-20T06:04:35.965Z"
   },
   {
    "duration": 99,
    "start_time": "2023-04-20T06:04:50.307Z"
   },
   {
    "duration": 103,
    "start_time": "2023-04-20T06:14:31.813Z"
   },
   {
    "duration": 32,
    "start_time": "2023-04-20T06:23:20.429Z"
   },
   {
    "duration": 18,
    "start_time": "2023-04-20T06:27:50.108Z"
   },
   {
    "duration": 37,
    "start_time": "2023-04-20T06:28:00.918Z"
   },
   {
    "duration": 985,
    "start_time": "2023-04-20T06:28:26.152Z"
   },
   {
    "duration": 10579,
    "start_time": "2023-04-20T06:28:38.348Z"
   },
   {
    "duration": 10896,
    "start_time": "2023-04-20T06:28:58.267Z"
   },
   {
    "duration": 10093,
    "start_time": "2023-04-20T06:29:32.855Z"
   },
   {
    "duration": 20,
    "start_time": "2023-04-20T06:29:50.752Z"
   },
   {
    "duration": 66,
    "start_time": "2023-04-20T06:31:40.581Z"
   },
   {
    "duration": 77,
    "start_time": "2023-04-20T06:31:51.386Z"
   },
   {
    "duration": 87,
    "start_time": "2023-04-20T06:31:58.962Z"
   },
   {
    "duration": 109,
    "start_time": "2023-04-20T06:32:08.012Z"
   },
   {
    "duration": 90,
    "start_time": "2023-04-20T06:34:31.665Z"
   },
   {
    "duration": 98,
    "start_time": "2023-04-20T06:34:44.333Z"
   },
   {
    "duration": 93,
    "start_time": "2023-04-20T06:35:02.171Z"
   },
   {
    "duration": 547,
    "start_time": "2023-04-20T06:35:43.528Z"
   },
   {
    "duration": 3,
    "start_time": "2023-04-20T06:35:48.779Z"
   },
   {
    "duration": 15725,
    "start_time": "2023-04-20T06:36:47.014Z"
   },
   {
    "duration": 1254,
    "start_time": "2023-04-20T06:41:38.520Z"
   },
   {
    "duration": 21217,
    "start_time": "2023-04-20T06:42:12.570Z"
   },
   {
    "duration": 26,
    "start_time": "2023-04-20T06:43:00.523Z"
   },
   {
    "duration": 110,
    "start_time": "2023-04-20T06:48:02.329Z"
   },
   {
    "duration": 3508,
    "start_time": "2023-04-20T06:49:00.839Z"
   },
   {
    "duration": 1783,
    "start_time": "2023-04-20T06:49:04.350Z"
   },
   {
    "duration": 578,
    "start_time": "2023-04-20T06:49:06.135Z"
   },
   {
    "duration": 29,
    "start_time": "2023-04-20T06:49:06.721Z"
   },
   {
    "duration": 60,
    "start_time": "2023-04-20T06:49:06.753Z"
   },
   {
    "duration": 25,
    "start_time": "2023-04-20T06:49:06.816Z"
   },
   {
    "duration": 22,
    "start_time": "2023-04-20T06:49:06.843Z"
   },
   {
    "duration": 1010,
    "start_time": "2023-04-20T06:49:06.867Z"
   },
   {
    "duration": 157,
    "start_time": "2023-04-20T06:49:07.880Z"
   },
   {
    "duration": 512,
    "start_time": "2023-04-20T06:49:08.039Z"
   },
   {
    "duration": 21,
    "start_time": "2023-04-20T06:49:08.553Z"
   },
   {
    "duration": 123,
    "start_time": "2023-04-20T06:49:08.576Z"
   },
   {
    "duration": 143,
    "start_time": "2023-04-20T06:50:53.825Z"
   },
   {
    "duration": 218,
    "start_time": "2023-04-20T06:51:25.661Z"
   },
   {
    "duration": 6213,
    "start_time": "2023-04-20T06:51:26.827Z"
   },
   {
    "duration": 737,
    "start_time": "2023-04-20T06:52:56.750Z"
   },
   {
    "duration": 12,
    "start_time": "2023-04-20T06:53:11.519Z"
   },
   {
    "duration": 5,
    "start_time": "2023-04-20T06:53:29.127Z"
   },
   {
    "duration": 2724,
    "start_time": "2023-04-20T06:53:38.657Z"
   },
   {
    "duration": 1608,
    "start_time": "2023-04-20T06:53:41.383Z"
   },
   {
    "duration": 404,
    "start_time": "2023-04-20T06:53:42.992Z"
   },
   {
    "duration": 29,
    "start_time": "2023-04-20T06:53:43.399Z"
   },
   {
    "duration": 32,
    "start_time": "2023-04-20T06:53:43.430Z"
   },
   {
    "duration": 30,
    "start_time": "2023-04-20T06:53:43.464Z"
   },
   {
    "duration": 30,
    "start_time": "2023-04-20T06:53:43.496Z"
   },
   {
    "duration": 1056,
    "start_time": "2023-04-20T06:53:43.527Z"
   },
   {
    "duration": 127,
    "start_time": "2023-04-20T06:53:44.592Z"
   },
   {
    "duration": 430,
    "start_time": "2023-04-20T06:53:44.722Z"
   },
   {
    "duration": 15,
    "start_time": "2023-04-20T06:53:45.154Z"
   },
   {
    "duration": 98,
    "start_time": "2023-04-20T06:53:45.171Z"
   },
   {
    "duration": 235,
    "start_time": "2023-04-20T06:53:45.271Z"
   },
   {
    "duration": 5728,
    "start_time": "2023-04-20T06:53:45.512Z"
   },
   {
    "duration": 681,
    "start_time": "2023-04-20T06:53:51.242Z"
   },
   {
    "duration": 5,
    "start_time": "2023-04-20T06:53:51.925Z"
   },
   {
    "duration": 2791,
    "start_time": "2023-04-20T06:56:30.512Z"
   },
   {
    "duration": 1575,
    "start_time": "2023-04-20T06:56:33.305Z"
   },
   {
    "duration": 373,
    "start_time": "2023-04-20T06:56:34.882Z"
   },
   {
    "duration": 20,
    "start_time": "2023-04-20T06:56:35.257Z"
   },
   {
    "duration": 48,
    "start_time": "2023-04-20T06:56:35.285Z"
   },
   {
    "duration": 16,
    "start_time": "2023-04-20T06:56:35.335Z"
   },
   {
    "duration": 41,
    "start_time": "2023-04-20T06:56:35.353Z"
   },
   {
    "duration": 857,
    "start_time": "2023-04-20T06:56:35.396Z"
   },
   {
    "duration": 150,
    "start_time": "2023-04-20T06:56:36.254Z"
   },
   {
    "duration": 446,
    "start_time": "2023-04-20T06:56:36.410Z"
   },
   {
    "duration": 16,
    "start_time": "2023-04-20T06:56:36.858Z"
   },
   {
    "duration": 93,
    "start_time": "2023-04-20T06:56:36.885Z"
   },
   {
    "duration": 245,
    "start_time": "2023-04-20T06:56:36.980Z"
   },
   {
    "duration": 6900,
    "start_time": "2023-04-20T06:56:37.226Z"
   },
   {
    "duration": 837,
    "start_time": "2023-04-20T06:56:44.128Z"
   },
   {
    "duration": 5,
    "start_time": "2023-04-20T06:56:44.967Z"
   },
   {
    "duration": 1816,
    "start_time": "2023-04-20T07:07:13.018Z"
   },
   {
    "duration": 452,
    "start_time": "2023-04-20T07:07:14.835Z"
   },
   {
    "duration": 37,
    "start_time": "2023-04-20T07:07:15.289Z"
   },
   {
    "duration": 37,
    "start_time": "2023-04-20T07:07:15.327Z"
   },
   {
    "duration": 32,
    "start_time": "2023-04-20T07:07:15.366Z"
   },
   {
    "duration": 31,
    "start_time": "2023-04-20T07:07:15.402Z"
   },
   {
    "duration": 975,
    "start_time": "2023-04-20T07:07:15.435Z"
   },
   {
    "duration": 139,
    "start_time": "2023-04-20T07:07:16.420Z"
   },
   {
    "duration": 484,
    "start_time": "2023-04-20T07:07:16.562Z"
   },
   {
    "duration": 21,
    "start_time": "2023-04-20T07:07:17.047Z"
   },
   {
    "duration": 135,
    "start_time": "2023-04-20T07:07:17.069Z"
   },
   {
    "duration": 254,
    "start_time": "2023-04-20T07:07:17.206Z"
   },
   {
    "duration": 6599,
    "start_time": "2023-04-20T07:07:17.463Z"
   },
   {
    "duration": 1001,
    "start_time": "2023-04-20T07:07:24.065Z"
   },
   {
    "duration": 76,
    "start_time": "2023-04-20T07:19:34.258Z"
   },
   {
    "duration": 8,
    "start_time": "2023-04-20T07:19:39.541Z"
   },
   {
    "duration": 1561,
    "start_time": "2023-04-20T07:19:48.316Z"
   },
   {
    "duration": 482,
    "start_time": "2023-04-20T07:19:49.879Z"
   },
   {
    "duration": 28,
    "start_time": "2023-04-20T07:19:50.362Z"
   },
   {
    "duration": 43,
    "start_time": "2023-04-20T07:19:50.392Z"
   },
   {
    "duration": 15,
    "start_time": "2023-04-20T07:19:50.438Z"
   },
   {
    "duration": 57,
    "start_time": "2023-04-20T07:19:50.454Z"
   },
   {
    "duration": 879,
    "start_time": "2023-04-20T07:19:50.517Z"
   },
   {
    "duration": 136,
    "start_time": "2023-04-20T07:19:51.403Z"
   },
   {
    "duration": 512,
    "start_time": "2023-04-20T07:19:51.541Z"
   },
   {
    "duration": 14,
    "start_time": "2023-04-20T07:19:52.055Z"
   },
   {
    "duration": 90,
    "start_time": "2023-04-20T07:19:52.071Z"
   },
   {
    "duration": 32,
    "start_time": "2023-04-20T07:19:52.162Z"
   },
   {
    "duration": 25,
    "start_time": "2023-04-20T07:20:17.225Z"
   },
   {
    "duration": 25,
    "start_time": "2023-04-20T07:20:38.612Z"
   },
   {
    "duration": 900,
    "start_time": "2023-04-20T07:22:49.413Z"
   },
   {
    "duration": 53,
    "start_time": "2023-04-20T07:48:45.980Z"
   },
   {
    "duration": 48,
    "start_time": "2023-04-20T07:48:52.009Z"
   },
   {
    "duration": 60,
    "start_time": "2023-04-20T07:49:02.185Z"
   },
   {
    "duration": 44,
    "start_time": "2023-04-20T07:49:19.117Z"
   },
   {
    "duration": 46,
    "start_time": "2023-04-20T07:49:41.212Z"
   },
   {
    "duration": 26,
    "start_time": "2023-04-20T07:51:13.736Z"
   },
   {
    "duration": 48,
    "start_time": "2023-04-20T07:52:25.447Z"
   },
   {
    "duration": 43,
    "start_time": "2023-04-20T07:54:22.139Z"
   },
   {
    "duration": 209,
    "start_time": "2023-04-20T08:04:20.666Z"
   },
   {
    "duration": 207,
    "start_time": "2023-04-20T08:04:24.962Z"
   },
   {
    "duration": 190,
    "start_time": "2023-04-20T08:04:51.846Z"
   },
   {
    "duration": 707,
    "start_time": "2023-04-20T08:05:22.683Z"
   },
   {
    "duration": 790,
    "start_time": "2023-04-20T08:05:39.614Z"
   },
   {
    "duration": 1392,
    "start_time": "2023-04-20T08:05:45.825Z"
   },
   {
    "duration": 432,
    "start_time": "2023-04-20T08:05:47.219Z"
   },
   {
    "duration": 40,
    "start_time": "2023-04-20T08:05:47.653Z"
   },
   {
    "duration": 48,
    "start_time": "2023-04-20T08:05:47.696Z"
   },
   {
    "duration": 43,
    "start_time": "2023-04-20T08:05:47.746Z"
   },
   {
    "duration": 29,
    "start_time": "2023-04-20T08:05:47.791Z"
   },
   {
    "duration": 872,
    "start_time": "2023-04-20T08:05:47.823Z"
   },
   {
    "duration": 122,
    "start_time": "2023-04-20T08:05:48.698Z"
   },
   {
    "duration": 445,
    "start_time": "2023-04-20T08:05:48.822Z"
   },
   {
    "duration": 23,
    "start_time": "2023-04-20T08:05:49.269Z"
   },
   {
    "duration": 103,
    "start_time": "2023-04-20T08:05:49.295Z"
   },
   {
    "duration": 851,
    "start_time": "2023-04-20T08:05:49.400Z"
   },
   {
    "duration": 1792,
    "start_time": "2023-04-20T08:06:50.623Z"
   },
   {
    "duration": 407,
    "start_time": "2023-04-20T08:06:52.417Z"
   },
   {
    "duration": 28,
    "start_time": "2023-04-20T08:06:52.827Z"
   },
   {
    "duration": 59,
    "start_time": "2023-04-20T08:06:52.858Z"
   },
   {
    "duration": 21,
    "start_time": "2023-04-20T08:06:52.919Z"
   },
   {
    "duration": 46,
    "start_time": "2023-04-20T08:06:52.942Z"
   },
   {
    "duration": 1000,
    "start_time": "2023-04-20T08:06:52.991Z"
   },
   {
    "duration": 187,
    "start_time": "2023-04-20T08:06:53.994Z"
   },
   {
    "duration": 487,
    "start_time": "2023-04-20T08:06:54.183Z"
   },
   {
    "duration": 23,
    "start_time": "2023-04-20T08:06:54.673Z"
   },
   {
    "duration": 124,
    "start_time": "2023-04-20T08:06:54.698Z"
   },
   {
    "duration": 978,
    "start_time": "2023-04-20T08:06:54.824Z"
   },
   {
    "duration": 66,
    "start_time": "2023-04-20T08:07:48.761Z"
   },
   {
    "duration": 50,
    "start_time": "2023-04-20T08:08:17.821Z"
   },
   {
    "duration": 349,
    "start_time": "2023-04-20T08:08:23.162Z"
   },
   {
    "duration": 52,
    "start_time": "2023-04-20T08:08:40.015Z"
   },
   {
    "duration": 65,
    "start_time": "2023-04-20T08:14:34.690Z"
   },
   {
    "duration": 51,
    "start_time": "2023-04-20T08:14:49.886Z"
   },
   {
    "duration": 60,
    "start_time": "2023-04-20T08:15:04.145Z"
   },
   {
    "duration": 58,
    "start_time": "2023-04-20T08:15:14.596Z"
   },
   {
    "duration": 28,
    "start_time": "2023-04-20T08:15:54.652Z"
   },
   {
    "duration": 26,
    "start_time": "2023-04-20T08:16:07.617Z"
   },
   {
    "duration": 20,
    "start_time": "2023-04-20T08:16:29.122Z"
   },
   {
    "duration": 36,
    "start_time": "2023-04-20T08:17:13.951Z"
   },
   {
    "duration": 30,
    "start_time": "2023-04-20T08:17:25.285Z"
   },
   {
    "duration": 1496,
    "start_time": "2023-04-21T01:36:40.057Z"
   },
   {
    "duration": 368,
    "start_time": "2023-04-21T01:36:41.555Z"
   },
   {
    "duration": 32,
    "start_time": "2023-04-21T01:36:41.924Z"
   },
   {
    "duration": 31,
    "start_time": "2023-04-21T01:36:41.958Z"
   },
   {
    "duration": 13,
    "start_time": "2023-04-21T01:36:41.991Z"
   },
   {
    "duration": 45,
    "start_time": "2023-04-21T01:36:42.006Z"
   },
   {
    "duration": 494,
    "start_time": "2023-04-21T01:36:42.053Z"
   },
   {
    "duration": 157,
    "start_time": "2023-04-21T01:36:42.548Z"
   },
   {
    "duration": 490,
    "start_time": "2023-04-21T01:36:42.707Z"
   },
   {
    "duration": 19,
    "start_time": "2023-04-21T01:36:43.200Z"
   },
   {
    "duration": 749,
    "start_time": "2023-04-21T01:36:43.220Z"
   },
   {
    "duration": 73,
    "start_time": "2023-04-21T01:36:43.971Z"
   },
   {
    "duration": 0,
    "start_time": "2023-04-21T01:36:44.046Z"
   },
   {
    "duration": 146,
    "start_time": "2023-04-21T03:33:00.008Z"
   },
   {
    "duration": 34,
    "start_time": "2023-04-21T03:33:33.341Z"
   },
   {
    "duration": 51,
    "start_time": "2023-04-21T03:33:53.554Z"
   },
   {
    "duration": 12,
    "start_time": "2023-04-21T03:47:26.819Z"
   },
   {
    "duration": 5,
    "start_time": "2023-04-21T03:47:46.050Z"
   },
   {
    "duration": 28,
    "start_time": "2023-04-21T03:51:11.956Z"
   },
   {
    "duration": 11,
    "start_time": "2023-04-21T03:52:19.106Z"
   },
   {
    "duration": 31,
    "start_time": "2023-04-21T03:52:37.797Z"
   },
   {
    "duration": 29,
    "start_time": "2023-04-21T03:52:57.151Z"
   },
   {
    "duration": 30,
    "start_time": "2023-04-21T03:54:23.750Z"
   },
   {
    "duration": 1187,
    "start_time": "2023-04-21T04:32:51.720Z"
   },
   {
    "duration": 22,
    "start_time": "2023-04-21T04:33:33.914Z"
   },
   {
    "duration": 31,
    "start_time": "2023-04-21T04:33:40.172Z"
   },
   {
    "duration": 1272,
    "start_time": "2023-04-21T04:40:16.124Z"
   },
   {
    "duration": 385,
    "start_time": "2023-04-21T04:40:17.399Z"
   },
   {
    "duration": 24,
    "start_time": "2023-04-21T04:40:17.785Z"
   },
   {
    "duration": 49,
    "start_time": "2023-04-21T04:40:17.811Z"
   },
   {
    "duration": 15,
    "start_time": "2023-04-21T04:40:17.862Z"
   },
   {
    "duration": 26,
    "start_time": "2023-04-21T04:40:17.878Z"
   },
   {
    "duration": 510,
    "start_time": "2023-04-21T04:40:17.906Z"
   },
   {
    "duration": 158,
    "start_time": "2023-04-21T04:40:18.418Z"
   },
   {
    "duration": 387,
    "start_time": "2023-04-21T04:40:18.578Z"
   },
   {
    "duration": 17,
    "start_time": "2023-04-21T04:40:18.967Z"
   },
   {
    "duration": 757,
    "start_time": "2023-04-21T04:40:18.985Z"
   },
   {
    "duration": 32,
    "start_time": "2023-04-21T04:40:19.744Z"
   },
   {
    "duration": 140,
    "start_time": "2023-04-21T04:40:19.778Z"
   },
   {
    "duration": 46,
    "start_time": "2023-04-21T04:46:52.704Z"
   },
   {
    "duration": 55,
    "start_time": "2023-04-21T04:46:58.292Z"
   },
   {
    "duration": 58,
    "start_time": "2023-04-21T04:47:32.230Z"
   },
   {
    "duration": 56,
    "start_time": "2023-04-21T04:50:13.534Z"
   },
   {
    "duration": 85,
    "start_time": "2023-04-21T04:50:26.309Z"
   },
   {
    "duration": 55,
    "start_time": "2023-04-21T04:55:02.932Z"
   },
   {
    "duration": 63,
    "start_time": "2023-04-21T04:55:35.413Z"
   },
   {
    "duration": 77,
    "start_time": "2023-04-21T04:56:03.684Z"
   },
   {
    "duration": 91,
    "start_time": "2023-04-21T04:56:10.032Z"
   },
   {
    "duration": 1228,
    "start_time": "2023-04-21T04:56:45.436Z"
   },
   {
    "duration": 297,
    "start_time": "2023-04-21T04:56:46.667Z"
   },
   {
    "duration": 22,
    "start_time": "2023-04-21T04:56:46.965Z"
   },
   {
    "duration": 45,
    "start_time": "2023-04-21T04:56:46.989Z"
   },
   {
    "duration": 14,
    "start_time": "2023-04-21T04:56:47.036Z"
   },
   {
    "duration": 21,
    "start_time": "2023-04-21T04:56:47.051Z"
   },
   {
    "duration": 534,
    "start_time": "2023-04-21T04:56:47.073Z"
   },
   {
    "duration": 166,
    "start_time": "2023-04-21T04:56:47.609Z"
   },
   {
    "duration": 389,
    "start_time": "2023-04-21T04:56:47.777Z"
   },
   {
    "duration": 16,
    "start_time": "2023-04-21T04:56:48.168Z"
   },
   {
    "duration": 760,
    "start_time": "2023-04-21T04:56:48.185Z"
   },
   {
    "duration": 56,
    "start_time": "2023-04-21T04:56:48.947Z"
   },
   {
    "duration": 157,
    "start_time": "2023-04-21T04:57:13.619Z"
   },
   {
    "duration": 124,
    "start_time": "2023-04-21T04:58:23.272Z"
   },
   {
    "duration": 121,
    "start_time": "2023-04-21T04:58:31.742Z"
   },
   {
    "duration": 79,
    "start_time": "2023-04-21T04:59:30.355Z"
   },
   {
    "duration": 63,
    "start_time": "2023-04-21T05:00:55.426Z"
   },
   {
    "duration": 115,
    "start_time": "2023-04-21T05:01:01.704Z"
   },
   {
    "duration": 107,
    "start_time": "2023-04-21T05:02:10.006Z"
   },
   {
    "duration": 67,
    "start_time": "2023-04-21T05:03:03.509Z"
   },
   {
    "duration": 70,
    "start_time": "2023-04-21T05:04:36.533Z"
   },
   {
    "duration": 66,
    "start_time": "2023-04-21T05:04:49.097Z"
   },
   {
    "duration": 99,
    "start_time": "2023-04-21T05:05:01.000Z"
   },
   {
    "duration": 69,
    "start_time": "2023-04-21T05:05:23.180Z"
   },
   {
    "duration": 78,
    "start_time": "2023-04-21T05:06:31.687Z"
   },
   {
    "duration": 87,
    "start_time": "2023-04-21T05:06:38.393Z"
   },
   {
    "duration": 89,
    "start_time": "2023-04-21T05:07:17.511Z"
   },
   {
    "duration": 13,
    "start_time": "2023-04-21T05:13:39.715Z"
   },
   {
    "duration": 149,
    "start_time": "2023-04-21T05:14:09.570Z"
   },
   {
    "duration": 12,
    "start_time": "2023-04-21T05:14:44.708Z"
   },
   {
    "duration": 12,
    "start_time": "2023-04-21T05:15:00.652Z"
   },
   {
    "duration": 91,
    "start_time": "2023-04-21T05:20:45.856Z"
   },
   {
    "duration": 91,
    "start_time": "2023-04-21T05:22:35.431Z"
   },
   {
    "duration": 89,
    "start_time": "2023-04-21T05:22:41.135Z"
   },
   {
    "duration": 134,
    "start_time": "2023-04-21T05:23:15.888Z"
   },
   {
    "duration": 14,
    "start_time": "2023-04-21T05:30:57.298Z"
   },
   {
    "duration": 17,
    "start_time": "2023-04-21T05:31:01.539Z"
   },
   {
    "duration": 28,
    "start_time": "2023-04-21T05:34:44.809Z"
   },
   {
    "duration": 86,
    "start_time": "2023-04-21T05:40:24.054Z"
   },
   {
    "duration": 19,
    "start_time": "2023-04-21T05:40:34.980Z"
   },
   {
    "duration": 17,
    "start_time": "2023-04-21T05:40:50.743Z"
   },
   {
    "duration": 24,
    "start_time": "2023-04-21T05:40:57.234Z"
   },
   {
    "duration": 24,
    "start_time": "2023-04-21T05:41:24.270Z"
   },
   {
    "duration": 24,
    "start_time": "2023-04-21T05:41:40.358Z"
   },
   {
    "duration": 382,
    "start_time": "2023-04-21T05:44:44.857Z"
   },
   {
    "duration": 236,
    "start_time": "2023-04-21T05:45:00.704Z"
   },
   {
    "duration": 16,
    "start_time": "2023-04-21T07:09:33.849Z"
   },
   {
    "duration": 21,
    "start_time": "2023-04-21T07:09:59.726Z"
   },
   {
    "duration": 15,
    "start_time": "2023-04-21T07:10:07.512Z"
   },
   {
    "duration": 24,
    "start_time": "2023-04-21T07:10:40.421Z"
   },
   {
    "duration": 20,
    "start_time": "2023-04-21T07:11:26.020Z"
   },
   {
    "duration": 29,
    "start_time": "2023-04-21T07:11:31.721Z"
   },
   {
    "duration": 20,
    "start_time": "2023-04-21T07:13:10.242Z"
   },
   {
    "duration": 24,
    "start_time": "2023-04-21T07:13:15.225Z"
   },
   {
    "duration": 24,
    "start_time": "2023-04-21T07:13:49.555Z"
   },
   {
    "duration": 31,
    "start_time": "2023-04-21T07:14:40.560Z"
   },
   {
    "duration": 34,
    "start_time": "2023-04-21T07:14:45.165Z"
   },
   {
    "duration": 26,
    "start_time": "2023-04-21T07:15:57.783Z"
   },
   {
    "duration": 23,
    "start_time": "2023-04-21T07:16:12.912Z"
   },
   {
    "duration": 38,
    "start_time": "2023-04-21T07:16:19.657Z"
   },
   {
    "duration": 21,
    "start_time": "2023-04-21T07:31:32.611Z"
   },
   {
    "duration": 21,
    "start_time": "2023-04-21T07:31:49.448Z"
   },
   {
    "duration": 24,
    "start_time": "2023-04-21T07:34:27.020Z"
   },
   {
    "duration": 24,
    "start_time": "2023-04-21T07:48:24.067Z"
   },
   {
    "duration": 227,
    "start_time": "2023-04-21T07:53:16.980Z"
   },
   {
    "duration": 313,
    "start_time": "2023-04-21T07:53:27.687Z"
   },
   {
    "duration": 86,
    "start_time": "2023-04-21T07:54:24.374Z"
   },
   {
    "duration": 87,
    "start_time": "2023-04-21T07:54:27.837Z"
   },
   {
    "duration": 104,
    "start_time": "2023-04-21T07:59:25.044Z"
   },
   {
    "duration": 216,
    "start_time": "2023-04-21T08:01:18.732Z"
   },
   {
    "duration": 249,
    "start_time": "2023-04-21T08:01:31.245Z"
   },
   {
    "duration": 240,
    "start_time": "2023-04-21T08:01:45.488Z"
   },
   {
    "duration": 82,
    "start_time": "2023-04-21T08:02:51.947Z"
   },
   {
    "duration": 144,
    "start_time": "2023-04-21T08:03:22.882Z"
   },
   {
    "duration": 87,
    "start_time": "2023-04-21T08:03:28.281Z"
   },
   {
    "duration": 98,
    "start_time": "2023-04-21T08:03:33.863Z"
   },
   {
    "duration": 17058,
    "start_time": "2023-04-21T08:09:23.058Z"
   },
   {
    "duration": 309,
    "start_time": "2023-04-21T08:09:57.283Z"
   },
   {
    "duration": 4202,
    "start_time": "2023-04-21T08:11:08.369Z"
   },
   {
    "duration": 2461,
    "start_time": "2023-04-21T08:14:31.901Z"
   },
   {
    "duration": 4495,
    "start_time": "2023-04-21T08:14:37.770Z"
   },
   {
    "duration": 3402,
    "start_time": "2023-04-21T08:16:10.079Z"
   },
   {
    "duration": 1371,
    "start_time": "2023-04-24T01:25:29.058Z"
   },
   {
    "duration": 363,
    "start_time": "2023-04-24T01:25:30.434Z"
   },
   {
    "duration": 21,
    "start_time": "2023-04-24T01:25:30.798Z"
   },
   {
    "duration": 17103,
    "start_time": "2023-04-24T01:25:30.834Z"
   },
   {
    "duration": 205,
    "start_time": "2023-04-24T01:25:47.939Z"
   },
   {
    "duration": 2404,
    "start_time": "2023-04-24T01:25:48.146Z"
   },
   {
    "duration": 134,
    "start_time": "2023-04-24T01:25:50.551Z"
   },
   {
    "duration": 0,
    "start_time": "2023-04-24T01:25:50.686Z"
   },
   {
    "duration": 0,
    "start_time": "2023-04-24T01:25:50.688Z"
   },
   {
    "duration": 0,
    "start_time": "2023-04-24T01:25:50.689Z"
   },
   {
    "duration": 0,
    "start_time": "2023-04-24T01:25:50.690Z"
   },
   {
    "duration": 0,
    "start_time": "2023-04-24T01:25:50.691Z"
   },
   {
    "duration": 0,
    "start_time": "2023-04-24T01:25:50.692Z"
   },
   {
    "duration": 0,
    "start_time": "2023-04-24T01:25:50.693Z"
   },
   {
    "duration": 0,
    "start_time": "2023-04-24T01:25:50.695Z"
   },
   {
    "duration": 0,
    "start_time": "2023-04-24T01:25:50.696Z"
   },
   {
    "duration": 0,
    "start_time": "2023-04-24T01:25:50.698Z"
   },
   {
    "duration": 0,
    "start_time": "2023-04-24T01:25:50.700Z"
   },
   {
    "duration": 9,
    "start_time": "2023-04-24T01:26:27.514Z"
   },
   {
    "duration": 18,
    "start_time": "2023-04-24T01:26:49.143Z"
   },
   {
    "duration": 4,
    "start_time": "2023-04-24T01:27:18.036Z"
   },
   {
    "duration": 233,
    "start_time": "2023-04-24T01:27:18.042Z"
   },
   {
    "duration": 29,
    "start_time": "2023-04-24T01:27:18.277Z"
   },
   {
    "duration": 2184,
    "start_time": "2023-04-24T01:27:18.308Z"
   },
   {
    "duration": 3,
    "start_time": "2023-04-24T01:27:20.495Z"
   },
   {
    "duration": 1994,
    "start_time": "2023-04-24T01:27:20.499Z"
   },
   {
    "duration": 15,
    "start_time": "2023-04-24T01:27:22.494Z"
   },
   {
    "duration": 28,
    "start_time": "2023-04-24T01:27:22.511Z"
   },
   {
    "duration": 13,
    "start_time": "2023-04-24T01:27:22.541Z"
   },
   {
    "duration": 25,
    "start_time": "2023-04-24T01:27:22.555Z"
   },
   {
    "duration": 618,
    "start_time": "2023-04-24T01:27:22.581Z"
   },
   {
    "duration": 98,
    "start_time": "2023-04-24T01:27:23.201Z"
   },
   {
    "duration": 0,
    "start_time": "2023-04-24T01:27:23.301Z"
   },
   {
    "duration": 0,
    "start_time": "2023-04-24T01:27:23.302Z"
   },
   {
    "duration": 0,
    "start_time": "2023-04-24T01:27:23.303Z"
   },
   {
    "duration": 0,
    "start_time": "2023-04-24T01:27:23.304Z"
   },
   {
    "duration": 0,
    "start_time": "2023-04-24T01:27:23.305Z"
   },
   {
    "duration": 0,
    "start_time": "2023-04-24T01:27:23.305Z"
   },
   {
    "duration": 1395,
    "start_time": "2023-04-24T01:40:53.275Z"
   },
   {
    "duration": 357,
    "start_time": "2023-04-24T01:40:54.672Z"
   },
   {
    "duration": 19,
    "start_time": "2023-04-24T01:40:55.034Z"
   },
   {
    "duration": 2215,
    "start_time": "2023-04-24T01:40:55.055Z"
   },
   {
    "duration": 194,
    "start_time": "2023-04-24T01:40:57.272Z"
   },
   {
    "duration": 1978,
    "start_time": "2023-04-24T01:40:57.468Z"
   },
   {
    "duration": 13,
    "start_time": "2023-04-24T01:40:59.448Z"
   },
   {
    "duration": 27,
    "start_time": "2023-04-24T01:40:59.462Z"
   },
   {
    "duration": 12,
    "start_time": "2023-04-24T01:40:59.491Z"
   },
   {
    "duration": 30,
    "start_time": "2023-04-24T01:40:59.505Z"
   },
   {
    "duration": 690,
    "start_time": "2023-04-24T01:40:59.536Z"
   },
   {
    "duration": 113,
    "start_time": "2023-04-24T01:41:00.227Z"
   },
   {
    "duration": 493,
    "start_time": "2023-04-24T01:41:00.342Z"
   },
   {
    "duration": 70,
    "start_time": "2023-04-24T01:41:00.837Z"
   },
   {
    "duration": 106,
    "start_time": "2023-04-24T01:41:00.909Z"
   },
   {
    "duration": 18,
    "start_time": "2023-04-24T01:41:01.017Z"
   },
   {
    "duration": 72,
    "start_time": "2023-04-24T01:41:01.037Z"
   },
   {
    "duration": 444,
    "start_time": "2023-04-24T01:41:01.110Z"
   },
   {
    "duration": 170,
    "start_time": "2023-04-24T01:57:00.123Z"
   },
   {
    "duration": 16,
    "start_time": "2023-04-24T01:57:04.744Z"
   },
   {
    "duration": 11,
    "start_time": "2023-04-24T01:58:17.715Z"
   },
   {
    "duration": 16,
    "start_time": "2023-04-24T01:58:56.395Z"
   },
   {
    "duration": 21,
    "start_time": "2023-04-24T01:59:04.312Z"
   },
   {
    "duration": 111,
    "start_time": "2023-04-24T02:00:42.173Z"
   },
   {
    "duration": 98,
    "start_time": "2023-04-24T02:00:53.380Z"
   },
   {
    "duration": 1441,
    "start_time": "2023-04-24T02:14:54.632Z"
   },
   {
    "duration": 516,
    "start_time": "2023-04-24T02:14:56.075Z"
   },
   {
    "duration": 18,
    "start_time": "2023-04-24T02:14:56.593Z"
   },
   {
    "duration": 2266,
    "start_time": "2023-04-24T02:14:56.613Z"
   },
   {
    "duration": 223,
    "start_time": "2023-04-24T02:14:58.881Z"
   },
   {
    "duration": 2274,
    "start_time": "2023-04-24T02:14:59.106Z"
   },
   {
    "duration": 22,
    "start_time": "2023-04-24T02:15:01.383Z"
   },
   {
    "duration": 57,
    "start_time": "2023-04-24T02:15:01.407Z"
   },
   {
    "duration": 23,
    "start_time": "2023-04-24T02:15:01.466Z"
   },
   {
    "duration": 71,
    "start_time": "2023-04-24T02:15:01.490Z"
   },
   {
    "duration": 787,
    "start_time": "2023-04-24T02:15:01.563Z"
   },
   {
    "duration": 105,
    "start_time": "2023-04-24T02:15:02.352Z"
   },
   {
    "duration": 399,
    "start_time": "2023-04-24T02:15:02.459Z"
   },
   {
    "duration": 75,
    "start_time": "2023-04-24T02:15:02.860Z"
   },
   {
    "duration": 98,
    "start_time": "2023-04-24T02:15:02.937Z"
   },
   {
    "duration": 8,
    "start_time": "2023-04-24T02:15:03.036Z"
   },
   {
    "duration": 24,
    "start_time": "2023-04-24T02:15:03.045Z"
   },
   {
    "duration": 583,
    "start_time": "2023-04-24T02:15:03.071Z"
   },
   {
    "duration": 11,
    "start_time": "2023-04-24T02:15:03.656Z"
   },
   {
    "duration": 382,
    "start_time": "2023-04-24T02:15:03.669Z"
   },
   {
    "duration": 0,
    "start_time": "2023-04-24T02:15:04.052Z"
   },
   {
    "duration": 89,
    "start_time": "2023-04-24T02:15:52.913Z"
   },
   {
    "duration": 170,
    "start_time": "2023-04-24T02:15:59.465Z"
   },
   {
    "duration": 21,
    "start_time": "2023-04-24T02:16:24.034Z"
   },
   {
    "duration": 107,
    "start_time": "2023-04-24T02:16:52.627Z"
   },
   {
    "duration": 22,
    "start_time": "2023-04-24T02:18:08.715Z"
   },
   {
    "duration": 21,
    "start_time": "2023-04-24T02:18:22.450Z"
   },
   {
    "duration": 22,
    "start_time": "2023-04-24T02:18:31.954Z"
   },
   {
    "duration": 119,
    "start_time": "2023-04-24T02:18:48.058Z"
   },
   {
    "duration": 12,
    "start_time": "2023-04-24T02:27:35.193Z"
   },
   {
    "duration": 81,
    "start_time": "2023-04-24T02:28:03.857Z"
   },
   {
    "duration": 31,
    "start_time": "2023-04-24T02:30:45.930Z"
   },
   {
    "duration": 123,
    "start_time": "2023-04-24T02:31:23.171Z"
   },
   {
    "duration": 131,
    "start_time": "2023-04-24T02:31:53.987Z"
   },
   {
    "duration": 1394,
    "start_time": "2023-04-24T02:32:40.417Z"
   },
   {
    "duration": 294,
    "start_time": "2023-04-24T02:32:41.813Z"
   },
   {
    "duration": 26,
    "start_time": "2023-04-24T02:32:42.108Z"
   },
   {
    "duration": 2238,
    "start_time": "2023-04-24T02:32:42.136Z"
   },
   {
    "duration": 140,
    "start_time": "2023-04-24T02:32:44.376Z"
   },
   {
    "duration": 48,
    "start_time": "2023-04-24T02:32:44.518Z"
   },
   {
    "duration": 15,
    "start_time": "2023-04-24T02:32:44.568Z"
   },
   {
    "duration": 35,
    "start_time": "2023-04-24T02:32:44.585Z"
   },
   {
    "duration": 765,
    "start_time": "2023-04-24T02:32:44.622Z"
   },
   {
    "duration": 114,
    "start_time": "2023-04-24T02:32:45.389Z"
   },
   {
    "duration": 464,
    "start_time": "2023-04-24T02:32:45.505Z"
   },
   {
    "duration": 81,
    "start_time": "2023-04-24T02:32:45.971Z"
   },
   {
    "duration": 104,
    "start_time": "2023-04-24T02:32:46.054Z"
   },
   {
    "duration": 8,
    "start_time": "2023-04-24T02:32:46.160Z"
   },
   {
    "duration": 39,
    "start_time": "2023-04-24T02:32:46.169Z"
   },
   {
    "duration": 341,
    "start_time": "2023-04-24T02:32:46.210Z"
   },
   {
    "duration": 9,
    "start_time": "2023-04-24T02:32:46.553Z"
   },
   {
    "duration": 27,
    "start_time": "2023-04-24T02:32:46.564Z"
   },
   {
    "duration": 173,
    "start_time": "2023-04-24T02:32:46.592Z"
   },
   {
    "duration": 372,
    "start_time": "2023-04-24T02:39:20.953Z"
   },
   {
    "duration": 2464,
    "start_time": "2023-04-24T02:39:43.450Z"
   },
   {
    "duration": 372,
    "start_time": "2023-04-24T02:40:05.091Z"
   },
   {
    "duration": 184,
    "start_time": "2023-04-24T02:41:05.303Z"
   },
   {
    "duration": 8488,
    "start_time": "2023-04-24T02:41:13.350Z"
   },
   {
    "duration": 18,
    "start_time": "2023-04-24T02:44:19.848Z"
   },
   {
    "duration": 18,
    "start_time": "2023-04-24T02:44:39.541Z"
   },
   {
    "duration": 17,
    "start_time": "2023-04-24T02:45:15.270Z"
   },
   {
    "duration": 19,
    "start_time": "2023-04-24T02:45:26.252Z"
   },
   {
    "duration": 12,
    "start_time": "2023-04-24T02:45:48.126Z"
   },
   {
    "duration": 15,
    "start_time": "2023-04-24T02:46:10.770Z"
   },
   {
    "duration": 20,
    "start_time": "2023-04-24T02:46:32.919Z"
   },
   {
    "duration": 1637,
    "start_time": "2023-04-24T04:12:55.389Z"
   },
   {
    "duration": 397,
    "start_time": "2023-04-24T04:12:57.028Z"
   },
   {
    "duration": 24,
    "start_time": "2023-04-24T04:12:57.427Z"
   },
   {
    "duration": 180,
    "start_time": "2023-04-24T04:12:57.454Z"
   },
   {
    "duration": 36,
    "start_time": "2023-04-24T04:12:57.636Z"
   },
   {
    "duration": 65,
    "start_time": "2023-04-24T04:12:57.674Z"
   },
   {
    "duration": 26,
    "start_time": "2023-04-24T04:12:57.741Z"
   },
   {
    "duration": 546,
    "start_time": "2023-04-24T04:12:57.768Z"
   },
   {
    "duration": 188,
    "start_time": "2023-04-24T04:12:58.315Z"
   },
   {
    "duration": 497,
    "start_time": "2023-04-24T04:12:58.505Z"
   },
   {
    "duration": 843,
    "start_time": "2023-04-24T04:12:59.004Z"
   },
   {
    "duration": 119,
    "start_time": "2023-04-24T04:12:59.849Z"
   },
   {
    "duration": 20,
    "start_time": "2023-04-24T04:12:59.970Z"
   },
   {
    "duration": 31,
    "start_time": "2023-04-24T04:12:59.992Z"
   },
   {
    "duration": 402,
    "start_time": "2023-04-24T04:13:00.026Z"
   },
   {
    "duration": 18,
    "start_time": "2023-04-24T04:13:00.431Z"
   },
   {
    "duration": 81,
    "start_time": "2023-04-24T04:13:00.451Z"
   },
   {
    "duration": 192,
    "start_time": "2023-04-24T04:13:00.534Z"
   },
   {
    "duration": 20089,
    "start_time": "2023-04-24T04:13:00.729Z"
   },
   {
    "duration": 329,
    "start_time": "2023-04-24T04:13:20.820Z"
   },
   {
    "duration": 8382,
    "start_time": "2023-04-24T04:13:21.151Z"
   },
   {
    "duration": 32,
    "start_time": "2023-04-24T04:13:29.535Z"
   },
   {
    "duration": 52,
    "start_time": "2023-04-24T04:22:04.582Z"
   },
   {
    "duration": 8,
    "start_time": "2023-04-24T04:22:18.792Z"
   },
   {
    "duration": 1545,
    "start_time": "2023-04-24T04:22:53.286Z"
   },
   {
    "duration": 259,
    "start_time": "2023-04-24T04:22:54.833Z"
   },
   {
    "duration": 20,
    "start_time": "2023-04-24T04:22:55.094Z"
   },
   {
    "duration": 180,
    "start_time": "2023-04-24T04:22:55.116Z"
   },
   {
    "duration": 35,
    "start_time": "2023-04-24T04:22:55.297Z"
   },
   {
    "duration": 15,
    "start_time": "2023-04-24T04:22:55.334Z"
   },
   {
    "duration": 48,
    "start_time": "2023-04-24T04:22:55.350Z"
   },
   {
    "duration": 793,
    "start_time": "2023-04-24T04:22:55.400Z"
   },
   {
    "duration": 122,
    "start_time": "2023-04-24T04:22:56.195Z"
   },
   {
    "duration": 432,
    "start_time": "2023-04-24T04:22:56.319Z"
   },
   {
    "duration": 87,
    "start_time": "2023-04-24T04:22:56.753Z"
   },
   {
    "duration": 107,
    "start_time": "2023-04-24T04:22:56.842Z"
   },
   {
    "duration": 8,
    "start_time": "2023-04-24T04:22:56.951Z"
   },
   {
    "duration": 44,
    "start_time": "2023-04-24T04:22:56.960Z"
   },
   {
    "duration": 386,
    "start_time": "2023-04-24T04:22:57.006Z"
   },
   {
    "duration": 11,
    "start_time": "2023-04-24T04:22:57.394Z"
   },
   {
    "duration": 90,
    "start_time": "2023-04-24T04:22:57.406Z"
   },
   {
    "duration": 138,
    "start_time": "2023-04-24T04:22:57.497Z"
   },
   {
    "duration": 20,
    "start_time": "2023-04-24T04:22:57.637Z"
   },
   {
    "duration": 23,
    "start_time": "2023-04-24T04:23:35.301Z"
   },
   {
    "duration": 186,
    "start_time": "2023-04-24T04:29:47.416Z"
   },
   {
    "duration": 27,
    "start_time": "2023-04-24T04:31:08.095Z"
   },
   {
    "duration": 22,
    "start_time": "2023-04-24T04:31:39.562Z"
   },
   {
    "duration": 23,
    "start_time": "2023-04-24T04:31:52.460Z"
   },
   {
    "duration": 21,
    "start_time": "2023-04-24T04:32:46.403Z"
   },
   {
    "duration": 20,
    "start_time": "2023-04-24T04:32:54.129Z"
   },
   {
    "duration": 16,
    "start_time": "2023-04-24T04:33:01.894Z"
   },
   {
    "duration": 20,
    "start_time": "2023-04-24T04:36:41.002Z"
   },
   {
    "duration": 26,
    "start_time": "2023-04-24T04:37:07.558Z"
   },
   {
    "duration": 1513,
    "start_time": "2023-04-24T04:37:16.594Z"
   },
   {
    "duration": 332,
    "start_time": "2023-04-24T04:37:18.109Z"
   },
   {
    "duration": 22,
    "start_time": "2023-04-24T04:37:18.443Z"
   },
   {
    "duration": 197,
    "start_time": "2023-04-24T04:37:18.467Z"
   },
   {
    "duration": 44,
    "start_time": "2023-04-24T04:37:18.667Z"
   },
   {
    "duration": 14,
    "start_time": "2023-04-24T04:37:18.713Z"
   },
   {
    "duration": 30,
    "start_time": "2023-04-24T04:37:18.729Z"
   },
   {
    "duration": 804,
    "start_time": "2023-04-24T04:37:18.761Z"
   },
   {
    "duration": 121,
    "start_time": "2023-04-24T04:37:19.567Z"
   },
   {
    "duration": 434,
    "start_time": "2023-04-24T04:37:19.690Z"
   },
   {
    "duration": 86,
    "start_time": "2023-04-24T04:37:20.126Z"
   },
   {
    "duration": 112,
    "start_time": "2023-04-24T04:37:20.214Z"
   },
   {
    "duration": 9,
    "start_time": "2023-04-24T04:37:20.327Z"
   },
   {
    "duration": 30,
    "start_time": "2023-04-24T04:37:20.339Z"
   },
   {
    "duration": 1577,
    "start_time": "2023-04-24T04:42:27.725Z"
   },
   {
    "duration": 351,
    "start_time": "2023-04-24T04:42:29.304Z"
   },
   {
    "duration": 41,
    "start_time": "2023-04-24T04:42:29.657Z"
   },
   {
    "duration": 187,
    "start_time": "2023-04-24T04:42:29.701Z"
   },
   {
    "duration": 35,
    "start_time": "2023-04-24T04:42:29.891Z"
   },
   {
    "duration": 15,
    "start_time": "2023-04-24T04:42:29.928Z"
   },
   {
    "duration": 57,
    "start_time": "2023-04-24T04:42:29.945Z"
   },
   {
    "duration": 933,
    "start_time": "2023-04-24T04:42:30.004Z"
   },
   {
    "duration": 163,
    "start_time": "2023-04-24T04:42:30.940Z"
   },
   {
    "duration": 463,
    "start_time": "2023-04-24T04:42:31.105Z"
   },
   {
    "duration": 97,
    "start_time": "2023-04-24T04:42:31.570Z"
   },
   {
    "duration": 130,
    "start_time": "2023-04-24T04:42:31.670Z"
   },
   {
    "duration": 17,
    "start_time": "2023-04-24T04:42:31.803Z"
   },
   {
    "duration": 70,
    "start_time": "2023-04-24T04:42:31.825Z"
   },
   {
    "duration": 442,
    "start_time": "2023-04-24T04:42:31.898Z"
   },
   {
    "duration": 12,
    "start_time": "2023-04-24T04:42:32.342Z"
   },
   {
    "duration": 51,
    "start_time": "2023-04-24T04:42:32.356Z"
   },
   {
    "duration": 151,
    "start_time": "2023-04-24T04:42:32.409Z"
   },
   {
    "duration": 29,
    "start_time": "2023-04-24T04:42:32.562Z"
   },
   {
    "duration": 24,
    "start_time": "2023-04-24T04:42:32.593Z"
   },
   {
    "duration": 211,
    "start_time": "2023-04-24T04:42:32.619Z"
   },
   {
    "duration": 21,
    "start_time": "2023-04-24T04:44:20.567Z"
   },
   {
    "duration": 15,
    "start_time": "2023-04-24T04:51:29.525Z"
   },
   {
    "duration": 15,
    "start_time": "2023-04-24T04:51:41.334Z"
   },
   {
    "duration": 24,
    "start_time": "2023-04-24T04:52:52.038Z"
   },
   {
    "duration": 30,
    "start_time": "2023-04-24T04:53:01.411Z"
   },
   {
    "duration": 23,
    "start_time": "2023-04-24T04:53:14.821Z"
   },
   {
    "duration": 35,
    "start_time": "2023-04-24T04:53:18.596Z"
   },
   {
    "duration": 27,
    "start_time": "2023-04-24T04:54:01.517Z"
   },
   {
    "duration": 24,
    "start_time": "2023-04-24T04:54:06.963Z"
   },
   {
    "duration": 16,
    "start_time": "2023-04-24T04:54:09.563Z"
   },
   {
    "duration": 18,
    "start_time": "2023-04-24T04:54:27.811Z"
   },
   {
    "duration": 15,
    "start_time": "2023-04-24T04:54:49.316Z"
   },
   {
    "duration": 29,
    "start_time": "2023-04-24T04:55:20.324Z"
   },
   {
    "duration": 36,
    "start_time": "2023-04-24T04:55:56.498Z"
   },
   {
    "duration": 19,
    "start_time": "2023-04-24T04:56:13.962Z"
   },
   {
    "duration": 20,
    "start_time": "2023-04-24T04:56:16.603Z"
   },
   {
    "duration": 16,
    "start_time": "2023-04-24T04:56:23.811Z"
   },
   {
    "duration": 16,
    "start_time": "2023-04-24T04:57:21.451Z"
   },
   {
    "duration": 1534,
    "start_time": "2023-04-24T05:00:55.612Z"
   },
   {
    "duration": 321,
    "start_time": "2023-04-24T05:00:57.149Z"
   },
   {
    "duration": 32,
    "start_time": "2023-04-24T05:00:57.472Z"
   },
   {
    "duration": 229,
    "start_time": "2023-04-24T05:00:57.506Z"
   },
   {
    "duration": 38,
    "start_time": "2023-04-24T05:00:57.738Z"
   },
   {
    "duration": 21,
    "start_time": "2023-04-24T05:00:57.778Z"
   },
   {
    "duration": 42,
    "start_time": "2023-04-24T05:00:57.800Z"
   },
   {
    "duration": 807,
    "start_time": "2023-04-24T05:00:57.844Z"
   },
   {
    "duration": 125,
    "start_time": "2023-04-24T05:00:58.654Z"
   },
   {
    "duration": 473,
    "start_time": "2023-04-24T05:00:58.780Z"
   },
   {
    "duration": 91,
    "start_time": "2023-04-24T05:00:59.255Z"
   },
   {
    "duration": 114,
    "start_time": "2023-04-24T05:00:59.347Z"
   },
   {
    "duration": 9,
    "start_time": "2023-04-24T05:00:59.463Z"
   },
   {
    "duration": 33,
    "start_time": "2023-04-24T05:00:59.488Z"
   },
   {
    "duration": 400,
    "start_time": "2023-04-24T05:00:59.524Z"
   },
   {
    "duration": 12,
    "start_time": "2023-04-24T05:00:59.926Z"
   },
   {
    "duration": 56,
    "start_time": "2023-04-24T05:00:59.939Z"
   },
   {
    "duration": 146,
    "start_time": "2023-04-24T05:00:59.996Z"
   },
   {
    "duration": 23,
    "start_time": "2023-04-24T05:01:00.144Z"
   },
   {
    "duration": 43,
    "start_time": "2023-04-24T05:01:00.168Z"
   },
   {
    "duration": 27,
    "start_time": "2023-04-24T05:01:00.213Z"
   },
   {
    "duration": 55,
    "start_time": "2023-04-24T05:01:00.242Z"
   },
   {
    "duration": 19,
    "start_time": "2023-04-24T05:01:00.299Z"
   },
   {
    "duration": 25,
    "start_time": "2023-04-24T05:01:00.321Z"
   },
   {
    "duration": 1120,
    "start_time": "2023-04-24T05:02:14.209Z"
   },
   {
    "duration": 19,
    "start_time": "2023-04-24T05:05:04.321Z"
   },
   {
    "duration": 18,
    "start_time": "2023-04-24T05:05:14.249Z"
   },
   {
    "duration": 25,
    "start_time": "2023-04-24T05:05:35.644Z"
   },
   {
    "duration": 1576,
    "start_time": "2023-04-24T05:05:41.602Z"
   },
   {
    "duration": 296,
    "start_time": "2023-04-24T05:05:43.179Z"
   },
   {
    "duration": 31,
    "start_time": "2023-04-24T05:05:43.477Z"
   },
   {
    "duration": 195,
    "start_time": "2023-04-24T05:05:43.510Z"
   },
   {
    "duration": 35,
    "start_time": "2023-04-24T05:05:43.707Z"
   },
   {
    "duration": 15,
    "start_time": "2023-04-24T05:05:43.744Z"
   },
   {
    "duration": 47,
    "start_time": "2023-04-24T05:05:43.761Z"
   },
   {
    "duration": 808,
    "start_time": "2023-04-24T05:05:43.810Z"
   },
   {
    "duration": 140,
    "start_time": "2023-04-24T05:05:44.620Z"
   },
   {
    "duration": 508,
    "start_time": "2023-04-24T05:05:44.762Z"
   },
   {
    "duration": 96,
    "start_time": "2023-04-24T05:05:45.271Z"
   },
   {
    "duration": 123,
    "start_time": "2023-04-24T05:05:45.369Z"
   },
   {
    "duration": 11,
    "start_time": "2023-04-24T05:05:45.494Z"
   },
   {
    "duration": 55,
    "start_time": "2023-04-24T05:05:45.509Z"
   },
   {
    "duration": 447,
    "start_time": "2023-04-24T05:05:45.567Z"
   },
   {
    "duration": 14,
    "start_time": "2023-04-24T05:05:46.016Z"
   },
   {
    "duration": 83,
    "start_time": "2023-04-24T05:05:46.033Z"
   },
   {
    "duration": 128,
    "start_time": "2023-04-24T05:05:46.118Z"
   },
   {
    "duration": 22,
    "start_time": "2023-04-24T05:05:46.248Z"
   },
   {
    "duration": 39,
    "start_time": "2023-04-24T05:05:46.272Z"
   },
   {
    "duration": 26,
    "start_time": "2023-04-24T05:05:46.313Z"
   },
   {
    "duration": 15,
    "start_time": "2023-04-24T05:05:46.342Z"
   },
   {
    "duration": 41,
    "start_time": "2023-04-24T05:05:46.359Z"
   },
   {
    "duration": 215,
    "start_time": "2023-04-24T05:05:46.402Z"
   },
   {
    "duration": 20,
    "start_time": "2023-04-24T05:08:23.243Z"
   },
   {
    "duration": 1690,
    "start_time": "2023-04-24T05:09:09.402Z"
   },
   {
    "duration": 267,
    "start_time": "2023-04-24T05:09:11.094Z"
   },
   {
    "duration": 42,
    "start_time": "2023-04-24T05:09:11.364Z"
   },
   {
    "duration": 199,
    "start_time": "2023-04-24T05:09:11.408Z"
   },
   {
    "duration": 35,
    "start_time": "2023-04-24T05:09:11.610Z"
   },
   {
    "duration": 16,
    "start_time": "2023-04-24T05:09:11.647Z"
   },
   {
    "duration": 45,
    "start_time": "2023-04-24T05:09:11.665Z"
   },
   {
    "duration": 812,
    "start_time": "2023-04-24T05:09:11.712Z"
   },
   {
    "duration": 130,
    "start_time": "2023-04-24T05:09:12.527Z"
   },
   {
    "duration": 499,
    "start_time": "2023-04-24T05:09:12.659Z"
   },
   {
    "duration": 96,
    "start_time": "2023-04-24T05:09:13.160Z"
   },
   {
    "duration": 266,
    "start_time": "2023-04-24T05:09:13.258Z"
   },
   {
    "duration": 10,
    "start_time": "2023-04-24T05:09:13.526Z"
   },
   {
    "duration": 47,
    "start_time": "2023-04-24T05:09:13.539Z"
   },
   {
    "duration": 418,
    "start_time": "2023-04-24T05:09:13.589Z"
   },
   {
    "duration": 12,
    "start_time": "2023-04-24T05:09:14.009Z"
   },
   {
    "duration": 74,
    "start_time": "2023-04-24T05:09:14.023Z"
   },
   {
    "duration": 161,
    "start_time": "2023-04-24T05:09:14.099Z"
   },
   {
    "duration": 34,
    "start_time": "2023-04-24T05:09:14.289Z"
   },
   {
    "duration": 28,
    "start_time": "2023-04-24T05:09:14.326Z"
   },
   {
    "duration": 17,
    "start_time": "2023-04-24T05:09:14.387Z"
   },
   {
    "duration": 20,
    "start_time": "2023-04-24T05:09:14.407Z"
   },
   {
    "duration": 30,
    "start_time": "2023-04-24T05:09:14.430Z"
   },
   {
    "duration": 217,
    "start_time": "2023-04-24T05:09:14.462Z"
   },
   {
    "duration": 19,
    "start_time": "2023-04-24T05:10:27.033Z"
   },
   {
    "duration": 14,
    "start_time": "2023-04-24T05:18:18.191Z"
   },
   {
    "duration": 23,
    "start_time": "2023-04-24T05:19:11.247Z"
   },
   {
    "duration": 29,
    "start_time": "2023-04-24T05:19:47.078Z"
   },
   {
    "duration": 23,
    "start_time": "2023-04-24T05:20:09.840Z"
   },
   {
    "duration": 28,
    "start_time": "2023-04-24T05:20:17.998Z"
   },
   {
    "duration": 12,
    "start_time": "2023-04-24T05:27:32.831Z"
   },
   {
    "duration": 24,
    "start_time": "2023-04-24T05:27:40.409Z"
   },
   {
    "duration": 17,
    "start_time": "2023-04-24T05:27:55.296Z"
   },
   {
    "duration": 16,
    "start_time": "2023-04-24T05:27:57.361Z"
   },
   {
    "duration": 16,
    "start_time": "2023-04-24T05:28:28.577Z"
   },
   {
    "duration": 15,
    "start_time": "2023-04-24T05:36:04.800Z"
   },
   {
    "duration": 17,
    "start_time": "2023-04-24T05:37:15.801Z"
   },
   {
    "duration": 14,
    "start_time": "2023-04-24T05:38:10.959Z"
   },
   {
    "duration": 15,
    "start_time": "2023-04-24T05:40:37.247Z"
   },
   {
    "duration": 12,
    "start_time": "2023-04-24T05:40:45.447Z"
   },
   {
    "duration": 15,
    "start_time": "2023-04-24T05:41:58.082Z"
   },
   {
    "duration": 11,
    "start_time": "2023-04-24T05:42:35.079Z"
   },
   {
    "duration": 10,
    "start_time": "2023-04-24T05:42:44.038Z"
   },
   {
    "duration": 19,
    "start_time": "2023-04-24T05:44:00.645Z"
   },
   {
    "duration": 14,
    "start_time": "2023-04-24T05:44:08.839Z"
   },
   {
    "duration": 24,
    "start_time": "2023-04-24T05:45:49.558Z"
   },
   {
    "duration": 15,
    "start_time": "2023-04-24T05:46:36.678Z"
   },
   {
    "duration": 17,
    "start_time": "2023-04-24T05:48:36.798Z"
   },
   {
    "duration": 27,
    "start_time": "2023-04-24T05:49:15.149Z"
   },
   {
    "duration": 21,
    "start_time": "2023-04-24T05:49:19.044Z"
   },
   {
    "duration": 26,
    "start_time": "2023-04-24T05:50:36.837Z"
   },
   {
    "duration": 15,
    "start_time": "2023-04-24T05:50:56.718Z"
   },
   {
    "duration": 13,
    "start_time": "2023-04-24T05:52:28.957Z"
   },
   {
    "duration": 20,
    "start_time": "2023-04-24T05:53:21.597Z"
   },
   {
    "duration": 15,
    "start_time": "2023-04-24T05:53:51.573Z"
   },
   {
    "duration": 11,
    "start_time": "2023-04-24T05:55:21.996Z"
   },
   {
    "duration": 1590,
    "start_time": "2023-04-24T05:55:56.804Z"
   },
   {
    "duration": 419,
    "start_time": "2023-04-24T05:55:58.396Z"
   },
   {
    "duration": 22,
    "start_time": "2023-04-24T05:55:58.817Z"
   },
   {
    "duration": 197,
    "start_time": "2023-04-24T05:55:58.841Z"
   },
   {
    "duration": 35,
    "start_time": "2023-04-24T05:55:59.040Z"
   },
   {
    "duration": 58,
    "start_time": "2023-04-24T05:55:59.088Z"
   },
   {
    "duration": 46,
    "start_time": "2023-04-24T05:55:59.148Z"
   },
   {
    "duration": 817,
    "start_time": "2023-04-24T05:55:59.196Z"
   },
   {
    "duration": 130,
    "start_time": "2023-04-24T05:56:00.015Z"
   },
   {
    "duration": 574,
    "start_time": "2023-04-24T05:56:00.148Z"
   },
   {
    "duration": 122,
    "start_time": "2023-04-24T05:56:00.724Z"
   },
   {
    "duration": 138,
    "start_time": "2023-04-24T05:56:00.849Z"
   },
   {
    "duration": 12,
    "start_time": "2023-04-24T05:56:00.989Z"
   },
   {
    "duration": 65,
    "start_time": "2023-04-24T05:56:01.005Z"
   },
   {
    "duration": 429,
    "start_time": "2023-04-24T05:56:01.073Z"
   },
   {
    "duration": 13,
    "start_time": "2023-04-24T05:56:01.505Z"
   },
   {
    "duration": 135,
    "start_time": "2023-04-24T05:56:01.520Z"
   },
   {
    "duration": 148,
    "start_time": "2023-04-24T05:56:01.657Z"
   },
   {
    "duration": 27,
    "start_time": "2023-04-24T05:56:01.807Z"
   },
   {
    "duration": 99,
    "start_time": "2023-04-24T05:56:01.836Z"
   },
   {
    "duration": 101,
    "start_time": "2023-04-24T05:56:01.937Z"
   },
   {
    "duration": 74,
    "start_time": "2023-04-24T05:56:02.040Z"
   },
   {
    "duration": 42,
    "start_time": "2023-04-24T05:56:02.116Z"
   },
   {
    "duration": 76,
    "start_time": "2023-04-24T05:56:02.160Z"
   },
   {
    "duration": 69,
    "start_time": "2023-04-24T05:56:02.238Z"
   },
   {
    "duration": 39,
    "start_time": "2023-04-24T05:56:02.309Z"
   },
   {
    "duration": 50,
    "start_time": "2023-04-24T05:56:02.350Z"
   },
   {
    "duration": 73,
    "start_time": "2023-04-24T05:56:02.404Z"
   },
   {
    "duration": 51,
    "start_time": "2023-04-24T05:56:02.479Z"
   },
   {
    "duration": 42,
    "start_time": "2023-04-24T05:56:02.532Z"
   },
   {
    "duration": 51,
    "start_time": "2023-04-24T05:56:02.576Z"
   },
   {
    "duration": 44,
    "start_time": "2023-04-24T05:56:02.629Z"
   },
   {
    "duration": 84,
    "start_time": "2023-04-24T05:56:02.675Z"
   },
   {
    "duration": 55,
    "start_time": "2023-04-24T05:56:02.761Z"
   },
   {
    "duration": 95,
    "start_time": "2023-04-24T05:56:02.818Z"
   },
   {
    "duration": 71,
    "start_time": "2023-04-24T05:56:02.916Z"
   },
   {
    "duration": 46,
    "start_time": "2023-04-24T05:56:02.989Z"
   },
   {
    "duration": 32,
    "start_time": "2023-04-24T05:56:03.037Z"
   },
   {
    "duration": 13,
    "start_time": "2023-04-24T05:56:03.071Z"
   },
   {
    "duration": 172,
    "start_time": "2023-04-24T06:01:57.916Z"
   },
   {
    "duration": 34,
    "start_time": "2023-04-24T06:02:00.613Z"
   },
   {
    "duration": 26,
    "start_time": "2023-04-24T06:02:01.628Z"
   },
   {
    "duration": 19,
    "start_time": "2023-04-24T06:02:02.556Z"
   },
   {
    "duration": 25,
    "start_time": "2023-04-24T06:22:14.766Z"
   },
   {
    "duration": 17,
    "start_time": "2023-04-24T06:24:52.678Z"
   },
   {
    "duration": 3,
    "start_time": "2023-04-24T06:26:18.719Z"
   },
   {
    "duration": 18,
    "start_time": "2023-04-24T06:26:22.305Z"
   },
   {
    "duration": 57,
    "start_time": "2023-04-24T06:26:59.838Z"
   },
   {
    "duration": 64,
    "start_time": "2023-04-24T06:27:05.971Z"
   },
   {
    "duration": 59,
    "start_time": "2023-04-24T06:27:37.967Z"
   },
   {
    "duration": 5,
    "start_time": "2023-04-24T06:28:22.752Z"
   },
   {
    "duration": 18,
    "start_time": "2023-04-24T06:28:27.750Z"
   },
   {
    "duration": 15,
    "start_time": "2023-04-24T06:29:05.726Z"
   },
   {
    "duration": 17,
    "start_time": "2023-04-24T06:29:23.950Z"
   },
   {
    "duration": 24,
    "start_time": "2023-04-24T06:30:21.279Z"
   },
   {
    "duration": 20,
    "start_time": "2023-04-24T06:33:01.870Z"
   },
   {
    "duration": 4,
    "start_time": "2023-04-24T06:33:13.319Z"
   },
   {
    "duration": 108,
    "start_time": "2023-04-24T06:33:24.078Z"
   },
   {
    "duration": 7,
    "start_time": "2023-04-24T06:34:17.077Z"
   },
   {
    "duration": 23,
    "start_time": "2023-04-24T06:35:06.518Z"
   },
   {
    "duration": 15,
    "start_time": "2023-04-24T06:35:30.110Z"
   },
   {
    "duration": 86,
    "start_time": "2023-04-24T06:45:53.246Z"
   },
   {
    "duration": 72,
    "start_time": "2023-04-24T06:46:00.289Z"
   },
   {
    "duration": 77,
    "start_time": "2023-04-24T06:46:14.190Z"
   },
   {
    "duration": 106,
    "start_time": "2023-04-24T06:46:41.118Z"
   },
   {
    "duration": 18,
    "start_time": "2023-04-24T06:47:49.318Z"
   },
   {
    "duration": 9,
    "start_time": "2023-04-24T06:48:18.567Z"
   },
   {
    "duration": 10,
    "start_time": "2023-04-24T06:48:55.391Z"
   },
   {
    "duration": 314,
    "start_time": "2023-04-24T06:53:31.749Z"
   },
   {
    "duration": 13826,
    "start_time": "2023-04-24T06:55:11.613Z"
   },
   {
    "duration": 19,
    "start_time": "2023-04-24T06:57:14.309Z"
   },
   {
    "duration": 5,
    "start_time": "2023-04-24T06:57:46.765Z"
   },
   {
    "duration": 17,
    "start_time": "2023-04-24T07:01:51.717Z"
   },
   {
    "duration": 9,
    "start_time": "2023-04-24T07:02:44.126Z"
   },
   {
    "duration": 9,
    "start_time": "2023-04-24T07:02:52.757Z"
   },
   {
    "duration": 10,
    "start_time": "2023-04-24T07:02:59.524Z"
   },
   {
    "duration": 10,
    "start_time": "2023-04-24T07:03:15.982Z"
   },
   {
    "duration": 1678,
    "start_time": "2023-04-24T07:03:39.005Z"
   },
   {
    "duration": 315,
    "start_time": "2023-04-24T07:03:40.686Z"
   },
   {
    "duration": 24,
    "start_time": "2023-04-24T07:03:41.003Z"
   },
   {
    "duration": 208,
    "start_time": "2023-04-24T07:03:41.029Z"
   },
   {
    "duration": 35,
    "start_time": "2023-04-24T07:03:41.240Z"
   },
   {
    "duration": 15,
    "start_time": "2023-04-24T07:03:41.287Z"
   },
   {
    "duration": 29,
    "start_time": "2023-04-24T07:03:41.304Z"
   },
   {
    "duration": 838,
    "start_time": "2023-04-24T07:03:41.335Z"
   },
   {
    "duration": 130,
    "start_time": "2023-04-24T07:03:42.175Z"
   },
   {
    "duration": 430,
    "start_time": "2023-04-24T07:03:42.307Z"
   },
   {
    "duration": 73,
    "start_time": "2023-04-24T07:03:42.739Z"
   },
   {
    "duration": 18,
    "start_time": "2023-04-24T07:03:42.814Z"
   },
   {
    "duration": 31,
    "start_time": "2023-04-24T07:03:42.834Z"
   },
   {
    "duration": 93,
    "start_time": "2023-04-24T07:03:42.870Z"
   },
   {
    "duration": 131,
    "start_time": "2023-04-24T07:03:42.965Z"
   },
   {
    "duration": 35,
    "start_time": "2023-04-24T07:03:43.098Z"
   },
   {
    "duration": 415,
    "start_time": "2023-04-24T07:03:43.135Z"
   },
   {
    "duration": 17,
    "start_time": "2023-04-24T07:03:43.553Z"
   },
   {
    "duration": 119,
    "start_time": "2023-04-24T07:03:43.572Z"
   },
   {
    "duration": 124,
    "start_time": "2023-04-24T07:03:43.693Z"
   },
   {
    "duration": 24,
    "start_time": "2023-04-24T07:03:43.819Z"
   },
   {
    "duration": 225,
    "start_time": "2023-04-24T07:03:43.845Z"
   },
   {
    "duration": 0,
    "start_time": "2023-04-24T07:03:44.072Z"
   },
   {
    "duration": 0,
    "start_time": "2023-04-24T07:03:44.073Z"
   },
   {
    "duration": 0,
    "start_time": "2023-04-24T07:03:44.074Z"
   },
   {
    "duration": 0,
    "start_time": "2023-04-24T07:03:44.075Z"
   },
   {
    "duration": 0,
    "start_time": "2023-04-24T07:03:44.087Z"
   },
   {
    "duration": 0,
    "start_time": "2023-04-24T07:03:44.088Z"
   },
   {
    "duration": 0,
    "start_time": "2023-04-24T07:03:44.089Z"
   },
   {
    "duration": 0,
    "start_time": "2023-04-24T07:03:44.090Z"
   },
   {
    "duration": 0,
    "start_time": "2023-04-24T07:03:44.091Z"
   },
   {
    "duration": 0,
    "start_time": "2023-04-24T07:03:44.093Z"
   },
   {
    "duration": 0,
    "start_time": "2023-04-24T07:03:44.094Z"
   },
   {
    "duration": 0,
    "start_time": "2023-04-24T07:03:44.095Z"
   },
   {
    "duration": 0,
    "start_time": "2023-04-24T07:03:44.096Z"
   },
   {
    "duration": 1,
    "start_time": "2023-04-24T07:03:44.097Z"
   },
   {
    "duration": 0,
    "start_time": "2023-04-24T07:03:44.099Z"
   },
   {
    "duration": 1,
    "start_time": "2023-04-24T07:03:44.099Z"
   },
   {
    "duration": 0,
    "start_time": "2023-04-24T07:03:44.100Z"
   },
   {
    "duration": 0,
    "start_time": "2023-04-24T07:03:44.102Z"
   },
   {
    "duration": 0,
    "start_time": "2023-04-24T07:03:44.102Z"
   },
   {
    "duration": 0,
    "start_time": "2023-04-24T07:03:44.103Z"
   },
   {
    "duration": 0,
    "start_time": "2023-04-24T07:03:44.105Z"
   },
   {
    "duration": 0,
    "start_time": "2023-04-24T07:03:44.106Z"
   },
   {
    "duration": 0,
    "start_time": "2023-04-24T07:03:44.107Z"
   },
   {
    "duration": 18,
    "start_time": "2023-04-24T07:06:10.257Z"
   },
   {
    "duration": 25,
    "start_time": "2023-04-24T07:06:53.000Z"
   },
   {
    "duration": 4,
    "start_time": "2023-04-24T07:06:56.880Z"
   },
   {
    "duration": 362,
    "start_time": "2023-04-24T07:06:56.886Z"
   },
   {
    "duration": 38,
    "start_time": "2023-04-24T07:06:57.250Z"
   },
   {
    "duration": 215,
    "start_time": "2023-04-24T07:06:57.290Z"
   },
   {
    "duration": 34,
    "start_time": "2023-04-24T07:06:57.507Z"
   },
   {
    "duration": 14,
    "start_time": "2023-04-24T07:06:57.543Z"
   },
   {
    "duration": 56,
    "start_time": "2023-04-24T07:06:57.559Z"
   },
   {
    "duration": 921,
    "start_time": "2023-04-24T07:06:57.616Z"
   },
   {
    "duration": 129,
    "start_time": "2023-04-24T07:06:58.541Z"
   },
   {
    "duration": 492,
    "start_time": "2023-04-24T07:06:58.672Z"
   },
   {
    "duration": 71,
    "start_time": "2023-04-24T07:06:59.166Z"
   },
   {
    "duration": 14,
    "start_time": "2023-04-24T07:06:59.239Z"
   },
   {
    "duration": 18,
    "start_time": "2023-04-24T07:06:59.255Z"
   },
   {
    "duration": 100,
    "start_time": "2023-04-24T07:06:59.292Z"
   },
   {
    "duration": 134,
    "start_time": "2023-04-24T07:06:59.394Z"
   },
   {
    "duration": 36,
    "start_time": "2023-04-24T07:06:59.530Z"
   },
   {
    "duration": 97,
    "start_time": "2023-04-24T07:06:59.568Z"
   },
   {
    "duration": 22,
    "start_time": "2023-04-24T07:06:59.667Z"
   },
   {
    "duration": 62,
    "start_time": "2023-04-24T07:06:59.692Z"
   },
   {
    "duration": 100,
    "start_time": "2023-04-24T07:06:59.756Z"
   },
   {
    "duration": 48,
    "start_time": "2023-04-24T07:06:59.858Z"
   },
   {
    "duration": 25,
    "start_time": "2023-04-24T07:06:59.908Z"
   },
   {
    "duration": 17,
    "start_time": "2023-04-24T07:06:59.935Z"
   },
   {
    "duration": 41,
    "start_time": "2023-04-24T07:06:59.954Z"
   },
   {
    "duration": 19,
    "start_time": "2023-04-24T07:06:59.997Z"
   },
   {
    "duration": 16,
    "start_time": "2023-04-24T07:07:00.018Z"
   },
   {
    "duration": 48,
    "start_time": "2023-04-24T07:07:00.036Z"
   },
   {
    "duration": 32,
    "start_time": "2023-04-24T07:07:00.087Z"
   },
   {
    "duration": 28,
    "start_time": "2023-04-24T07:07:00.121Z"
   },
   {
    "duration": 29,
    "start_time": "2023-04-24T07:07:00.151Z"
   },
   {
    "duration": 33,
    "start_time": "2023-04-24T07:07:00.182Z"
   },
   {
    "duration": 23,
    "start_time": "2023-04-24T07:07:00.217Z"
   },
   {
    "duration": 25,
    "start_time": "2023-04-24T07:07:00.242Z"
   },
   {
    "duration": 54,
    "start_time": "2023-04-24T07:07:00.270Z"
   },
   {
    "duration": 19,
    "start_time": "2023-04-24T07:07:00.326Z"
   },
   {
    "duration": 43,
    "start_time": "2023-04-24T07:07:00.348Z"
   },
   {
    "duration": 43,
    "start_time": "2023-04-24T07:07:00.396Z"
   },
   {
    "duration": 42,
    "start_time": "2023-04-24T07:07:00.441Z"
   },
   {
    "duration": 55,
    "start_time": "2023-04-24T07:07:00.486Z"
   },
   {
    "duration": 57,
    "start_time": "2023-04-24T07:07:00.543Z"
   },
   {
    "duration": 39,
    "start_time": "2023-04-24T07:07:00.606Z"
   },
   {
    "duration": 435,
    "start_time": "2023-04-24T07:07:00.647Z"
   },
   {
    "duration": 12561,
    "start_time": "2023-04-24T07:07:01.084Z"
   },
   {
    "duration": 17,
    "start_time": "2023-04-24T07:07:13.646Z"
   },
   {
    "duration": 23,
    "start_time": "2023-04-24T07:07:13.666Z"
   },
   {
    "duration": 60,
    "start_time": "2023-04-24T07:07:46.082Z"
   },
   {
    "duration": 1647,
    "start_time": "2023-04-24T07:09:09.163Z"
   },
   {
    "duration": 280,
    "start_time": "2023-04-24T07:09:10.813Z"
   },
   {
    "duration": 21,
    "start_time": "2023-04-24T07:09:11.095Z"
   },
   {
    "duration": 190,
    "start_time": "2023-04-24T07:09:11.118Z"
   },
   {
    "duration": 39,
    "start_time": "2023-04-24T07:09:11.311Z"
   },
   {
    "duration": 37,
    "start_time": "2023-04-24T07:09:11.352Z"
   },
   {
    "duration": 24,
    "start_time": "2023-04-24T07:09:11.390Z"
   },
   {
    "duration": 776,
    "start_time": "2023-04-24T07:09:11.416Z"
   },
   {
    "duration": 123,
    "start_time": "2023-04-24T07:09:12.194Z"
   },
   {
    "duration": 420,
    "start_time": "2023-04-24T07:09:12.319Z"
   },
   {
    "duration": 67,
    "start_time": "2023-04-24T07:09:12.741Z"
   },
   {
    "duration": 12,
    "start_time": "2023-04-24T07:09:12.810Z"
   },
   {
    "duration": 20,
    "start_time": "2023-04-24T07:09:12.824Z"
   },
   {
    "duration": 88,
    "start_time": "2023-04-24T07:09:12.847Z"
   },
   {
    "duration": 113,
    "start_time": "2023-04-24T07:09:12.937Z"
   },
   {
    "duration": 37,
    "start_time": "2023-04-24T07:09:13.051Z"
   },
   {
    "duration": 378,
    "start_time": "2023-04-24T07:09:13.090Z"
   },
   {
    "duration": 18,
    "start_time": "2023-04-24T07:09:13.470Z"
   },
   {
    "duration": 31,
    "start_time": "2023-04-24T07:09:13.490Z"
   },
   {
    "duration": 168,
    "start_time": "2023-04-24T07:09:13.523Z"
   },
   {
    "duration": 20,
    "start_time": "2023-04-24T07:09:13.693Z"
   },
   {
    "duration": 33,
    "start_time": "2023-04-24T07:09:13.715Z"
   },
   {
    "duration": 17,
    "start_time": "2023-04-24T07:09:13.750Z"
   },
   {
    "duration": 31,
    "start_time": "2023-04-24T07:09:13.769Z"
   },
   {
    "duration": 20,
    "start_time": "2023-04-24T07:09:13.802Z"
   },
   {
    "duration": 11,
    "start_time": "2023-04-24T07:09:13.824Z"
   },
   {
    "duration": 14,
    "start_time": "2023-04-24T07:09:13.837Z"
   },
   {
    "duration": 46,
    "start_time": "2023-04-24T07:09:13.853Z"
   },
   {
    "duration": 11,
    "start_time": "2023-04-24T07:09:13.901Z"
   },
   {
    "duration": 11,
    "start_time": "2023-04-24T07:09:13.914Z"
   },
   {
    "duration": 19,
    "start_time": "2023-04-24T07:09:13.927Z"
   },
   {
    "duration": 8,
    "start_time": "2023-04-24T07:09:13.948Z"
   },
   {
    "duration": 13,
    "start_time": "2023-04-24T07:09:13.988Z"
   },
   {
    "duration": 18,
    "start_time": "2023-04-24T07:09:14.002Z"
   },
   {
    "duration": 14,
    "start_time": "2023-04-24T07:09:14.022Z"
   },
   {
    "duration": 13,
    "start_time": "2023-04-24T07:09:14.038Z"
   },
   {
    "duration": 53,
    "start_time": "2023-04-24T07:09:14.053Z"
   },
   {
    "duration": 15,
    "start_time": "2023-04-24T07:09:14.108Z"
   },
   {
    "duration": 14,
    "start_time": "2023-04-24T07:09:14.126Z"
   },
   {
    "duration": 13,
    "start_time": "2023-04-24T07:09:14.142Z"
   },
   {
    "duration": 10,
    "start_time": "2023-04-24T07:09:14.189Z"
   },
   {
    "duration": 384,
    "start_time": "2023-04-24T07:09:14.201Z"
   },
   {
    "duration": 15553,
    "start_time": "2023-04-24T07:09:14.587Z"
   },
   {
    "duration": 35,
    "start_time": "2023-04-24T07:09:30.142Z"
   },
   {
    "duration": 14,
    "start_time": "2023-04-24T07:09:30.179Z"
   },
   {
    "duration": 56,
    "start_time": "2023-04-24T07:10:04.238Z"
   },
   {
    "duration": 10,
    "start_time": "2023-04-24T07:10:13.448Z"
   },
   {
    "duration": 1954,
    "start_time": "2023-04-24T07:10:18.798Z"
   },
   {
    "duration": 368,
    "start_time": "2023-04-24T07:10:20.755Z"
   },
   {
    "duration": 29,
    "start_time": "2023-04-24T07:10:21.125Z"
   },
   {
    "duration": 209,
    "start_time": "2023-04-24T07:10:21.156Z"
   },
   {
    "duration": 46,
    "start_time": "2023-04-24T07:10:21.367Z"
   },
   {
    "duration": 15,
    "start_time": "2023-04-24T07:10:21.415Z"
   },
   {
    "duration": 31,
    "start_time": "2023-04-24T07:10:21.431Z"
   },
   {
    "duration": 836,
    "start_time": "2023-04-24T07:10:21.464Z"
   },
   {
    "duration": 131,
    "start_time": "2023-04-24T07:10:22.302Z"
   },
   {
    "duration": 525,
    "start_time": "2023-04-24T07:10:22.438Z"
   },
   {
    "duration": 68,
    "start_time": "2023-04-24T07:10:22.965Z"
   },
   {
    "duration": 14,
    "start_time": "2023-04-24T07:10:23.034Z"
   },
   {
    "duration": 29,
    "start_time": "2023-04-24T07:10:23.050Z"
   },
   {
    "duration": 86,
    "start_time": "2023-04-24T07:10:23.080Z"
   },
   {
    "duration": 131,
    "start_time": "2023-04-24T07:10:23.168Z"
   },
   {
    "duration": 35,
    "start_time": "2023-04-24T07:10:23.301Z"
   },
   {
    "duration": 414,
    "start_time": "2023-04-24T07:10:23.338Z"
   },
   {
    "duration": 11,
    "start_time": "2023-04-24T07:10:23.754Z"
   },
   {
    "duration": 45,
    "start_time": "2023-04-24T07:10:23.767Z"
   },
   {
    "duration": 147,
    "start_time": "2023-04-24T07:10:23.814Z"
   },
   {
    "duration": 39,
    "start_time": "2023-04-24T07:10:23.963Z"
   },
   {
    "duration": 23,
    "start_time": "2023-04-24T07:10:24.004Z"
   },
   {
    "duration": 22,
    "start_time": "2023-04-24T07:10:24.028Z"
   },
   {
    "duration": 42,
    "start_time": "2023-04-24T07:10:24.052Z"
   },
   {
    "duration": 17,
    "start_time": "2023-04-24T07:10:24.096Z"
   },
   {
    "duration": 16,
    "start_time": "2023-04-24T07:10:24.114Z"
   },
   {
    "duration": 26,
    "start_time": "2023-04-24T07:10:24.132Z"
   },
   {
    "duration": 35,
    "start_time": "2023-04-24T07:10:24.162Z"
   },
   {
    "duration": 11,
    "start_time": "2023-04-24T07:10:24.199Z"
   },
   {
    "duration": 15,
    "start_time": "2023-04-24T07:10:24.213Z"
   },
   {
    "duration": 40,
    "start_time": "2023-04-24T07:10:24.229Z"
   },
   {
    "duration": 17,
    "start_time": "2023-04-24T07:10:24.271Z"
   },
   {
    "duration": 16,
    "start_time": "2023-04-24T07:10:24.290Z"
   },
   {
    "duration": 33,
    "start_time": "2023-04-24T07:10:24.308Z"
   },
   {
    "duration": 14,
    "start_time": "2023-04-24T07:10:24.343Z"
   },
   {
    "duration": 32,
    "start_time": "2023-04-24T07:10:24.359Z"
   },
   {
    "duration": 20,
    "start_time": "2023-04-24T07:10:24.393Z"
   },
   {
    "duration": 47,
    "start_time": "2023-04-24T07:10:24.415Z"
   },
   {
    "duration": 43,
    "start_time": "2023-04-24T07:10:24.464Z"
   },
   {
    "duration": 23,
    "start_time": "2023-04-24T07:10:24.509Z"
   },
   {
    "duration": 10,
    "start_time": "2023-04-24T07:10:24.535Z"
   },
   {
    "duration": 424,
    "start_time": "2023-04-24T07:10:24.547Z"
   },
   {
    "duration": 15266,
    "start_time": "2023-04-24T07:10:24.973Z"
   },
   {
    "duration": 20,
    "start_time": "2023-04-24T07:10:40.241Z"
   },
   {
    "duration": 10,
    "start_time": "2023-04-24T07:10:40.263Z"
   },
   {
    "duration": 9,
    "start_time": "2023-04-24T07:11:38.757Z"
   },
   {
    "duration": 49,
    "start_time": "2023-04-24T07:12:16.335Z"
   },
   {
    "duration": 1618,
    "start_time": "2023-04-24T07:12:28.775Z"
   },
   {
    "duration": 426,
    "start_time": "2023-04-24T07:12:30.398Z"
   },
   {
    "duration": 23,
    "start_time": "2023-04-24T07:12:30.826Z"
   },
   {
    "duration": 202,
    "start_time": "2023-04-24T07:12:30.852Z"
   },
   {
    "duration": 41,
    "start_time": "2023-04-24T07:12:31.056Z"
   },
   {
    "duration": 17,
    "start_time": "2023-04-24T07:12:31.098Z"
   },
   {
    "duration": 84,
    "start_time": "2023-04-24T07:12:31.117Z"
   },
   {
    "duration": 851,
    "start_time": "2023-04-24T07:12:31.203Z"
   },
   {
    "duration": 132,
    "start_time": "2023-04-24T07:12:32.056Z"
   },
   {
    "duration": 450,
    "start_time": "2023-04-24T07:12:32.192Z"
   },
   {
    "duration": 62,
    "start_time": "2023-04-24T07:12:32.643Z"
   },
   {
    "duration": 14,
    "start_time": "2023-04-24T07:12:32.707Z"
   },
   {
    "duration": 20,
    "start_time": "2023-04-24T07:12:32.723Z"
   },
   {
    "duration": 112,
    "start_time": "2023-04-24T07:12:32.745Z"
   },
   {
    "duration": 117,
    "start_time": "2023-04-24T07:12:32.859Z"
   },
   {
    "duration": 40,
    "start_time": "2023-04-24T07:12:32.978Z"
   },
   {
    "duration": 414,
    "start_time": "2023-04-24T07:12:33.020Z"
   },
   {
    "duration": 12,
    "start_time": "2023-04-24T07:12:33.436Z"
   },
   {
    "duration": 55,
    "start_time": "2023-04-24T07:12:33.450Z"
   },
   {
    "duration": 181,
    "start_time": "2023-04-24T07:12:33.507Z"
   },
   {
    "duration": 24,
    "start_time": "2023-04-24T07:12:33.690Z"
   },
   {
    "duration": 25,
    "start_time": "2023-04-24T07:12:33.715Z"
   },
   {
    "duration": 47,
    "start_time": "2023-04-24T07:12:33.742Z"
   },
   {
    "duration": 16,
    "start_time": "2023-04-24T07:12:33.790Z"
   },
   {
    "duration": 20,
    "start_time": "2023-04-24T07:12:33.808Z"
   },
   {
    "duration": 14,
    "start_time": "2023-04-24T07:12:33.830Z"
   },
   {
    "duration": 50,
    "start_time": "2023-04-24T07:12:33.846Z"
   },
   {
    "duration": 16,
    "start_time": "2023-04-24T07:12:33.901Z"
   },
   {
    "duration": 12,
    "start_time": "2023-04-24T07:12:33.919Z"
   },
   {
    "duration": 16,
    "start_time": "2023-04-24T07:12:33.933Z"
   },
   {
    "duration": 53,
    "start_time": "2023-04-24T07:12:33.952Z"
   },
   {
    "duration": 11,
    "start_time": "2023-04-24T07:12:34.007Z"
   },
   {
    "duration": 17,
    "start_time": "2023-04-24T07:12:34.021Z"
   },
   {
    "duration": 48,
    "start_time": "2023-04-24T07:12:34.040Z"
   },
   {
    "duration": 16,
    "start_time": "2023-04-24T07:12:34.090Z"
   },
   {
    "duration": 24,
    "start_time": "2023-04-24T07:12:34.108Z"
   },
   {
    "duration": 22,
    "start_time": "2023-04-24T07:12:34.134Z"
   },
   {
    "duration": 45,
    "start_time": "2023-04-24T07:12:34.158Z"
   },
   {
    "duration": 15,
    "start_time": "2023-04-24T07:12:34.205Z"
   },
   {
    "duration": 17,
    "start_time": "2023-04-24T07:12:34.222Z"
   },
   {
    "duration": 48,
    "start_time": "2023-04-24T07:12:34.241Z"
   },
   {
    "duration": 485,
    "start_time": "2023-04-24T07:12:34.291Z"
   },
   {
    "duration": 3,
    "start_time": "2023-04-24T07:12:34.779Z"
   },
   {
    "duration": 29,
    "start_time": "2023-04-24T07:12:34.783Z"
   },
   {
    "duration": 189,
    "start_time": "2023-04-24T07:12:34.814Z"
   },
   {
    "duration": 53,
    "start_time": "2023-04-24T07:13:06.677Z"
   },
   {
    "duration": 1624,
    "start_time": "2023-04-24T07:13:13.977Z"
   },
   {
    "duration": 261,
    "start_time": "2023-04-24T07:13:15.603Z"
   },
   {
    "duration": 29,
    "start_time": "2023-04-24T07:13:15.866Z"
   },
   {
    "duration": 189,
    "start_time": "2023-04-24T07:13:15.897Z"
   },
   {
    "duration": 35,
    "start_time": "2023-04-24T07:13:16.088Z"
   },
   {
    "duration": 15,
    "start_time": "2023-04-24T07:13:16.125Z"
   },
   {
    "duration": 47,
    "start_time": "2023-04-24T07:13:16.142Z"
   },
   {
    "duration": 820,
    "start_time": "2023-04-24T07:13:16.190Z"
   },
   {
    "duration": 121,
    "start_time": "2023-04-24T07:13:17.012Z"
   },
   {
    "duration": 472,
    "start_time": "2023-04-24T07:13:17.136Z"
   },
   {
    "duration": 55,
    "start_time": "2023-04-24T07:13:17.610Z"
   },
   {
    "duration": 28,
    "start_time": "2023-04-24T07:13:17.667Z"
   },
   {
    "duration": 28,
    "start_time": "2023-04-24T07:13:17.697Z"
   },
   {
    "duration": 91,
    "start_time": "2023-04-24T07:13:17.727Z"
   },
   {
    "duration": 114,
    "start_time": "2023-04-24T07:13:17.820Z"
   },
   {
    "duration": 34,
    "start_time": "2023-04-24T07:13:17.937Z"
   },
   {
    "duration": 414,
    "start_time": "2023-04-24T07:13:17.973Z"
   },
   {
    "duration": 13,
    "start_time": "2023-04-24T07:13:18.389Z"
   },
   {
    "duration": 90,
    "start_time": "2023-04-24T07:13:18.403Z"
   },
   {
    "duration": 134,
    "start_time": "2023-04-24T07:13:18.495Z"
   },
   {
    "duration": 22,
    "start_time": "2023-04-24T07:13:18.631Z"
   },
   {
    "duration": 42,
    "start_time": "2023-04-24T07:13:18.655Z"
   },
   {
    "duration": 23,
    "start_time": "2023-04-24T07:13:18.700Z"
   },
   {
    "duration": 16,
    "start_time": "2023-04-24T07:13:18.725Z"
   },
   {
    "duration": 45,
    "start_time": "2023-04-24T07:13:18.743Z"
   },
   {
    "duration": 17,
    "start_time": "2023-04-24T07:13:18.790Z"
   },
   {
    "duration": 19,
    "start_time": "2023-04-24T07:13:18.808Z"
   },
   {
    "duration": 16,
    "start_time": "2023-04-24T07:13:18.832Z"
   },
   {
    "duration": 38,
    "start_time": "2023-04-24T07:13:18.850Z"
   },
   {
    "duration": 19,
    "start_time": "2023-04-24T07:13:18.890Z"
   },
   {
    "duration": 15,
    "start_time": "2023-04-24T07:13:18.911Z"
   },
   {
    "duration": 12,
    "start_time": "2023-04-24T07:13:18.928Z"
   },
   {
    "duration": 25,
    "start_time": "2023-04-24T07:13:18.942Z"
   },
   {
    "duration": 21,
    "start_time": "2023-04-24T07:13:18.987Z"
   },
   {
    "duration": 16,
    "start_time": "2023-04-24T07:13:19.011Z"
   },
   {
    "duration": 17,
    "start_time": "2023-04-24T07:13:19.028Z"
   },
   {
    "duration": 52,
    "start_time": "2023-04-24T07:13:19.047Z"
   },
   {
    "duration": 16,
    "start_time": "2023-04-24T07:13:19.101Z"
   },
   {
    "duration": 14,
    "start_time": "2023-04-24T07:13:19.119Z"
   },
   {
    "duration": 24,
    "start_time": "2023-04-24T07:13:19.135Z"
   },
   {
    "duration": 34,
    "start_time": "2023-04-24T07:13:19.162Z"
   },
   {
    "duration": 398,
    "start_time": "2023-04-24T07:13:19.198Z"
   },
   {
    "duration": 3,
    "start_time": "2023-04-24T07:13:19.598Z"
   },
   {
    "duration": 25,
    "start_time": "2023-04-24T07:13:19.603Z"
   },
   {
    "duration": 205,
    "start_time": "2023-04-24T07:13:19.630Z"
   },
   {
    "duration": 63,
    "start_time": "2023-04-24T07:14:37.555Z"
   },
   {
    "duration": 1587,
    "start_time": "2023-04-24T07:14:44.036Z"
   },
   {
    "duration": 1964,
    "start_time": "2023-04-24T07:34:04.890Z"
   },
   {
    "duration": 450,
    "start_time": "2023-04-24T07:34:06.856Z"
   },
   {
    "duration": 21,
    "start_time": "2023-04-24T07:34:07.307Z"
   },
   {
    "duration": 210,
    "start_time": "2023-04-24T07:34:07.330Z"
   },
   {
    "duration": 45,
    "start_time": "2023-04-24T07:34:07.542Z"
   },
   {
    "duration": 15,
    "start_time": "2023-04-24T07:34:07.589Z"
   },
   {
    "duration": 33,
    "start_time": "2023-04-24T07:34:07.606Z"
   },
   {
    "duration": 824,
    "start_time": "2023-04-24T07:34:07.640Z"
   },
   {
    "duration": 123,
    "start_time": "2023-04-24T07:34:08.465Z"
   },
   {
    "duration": 435,
    "start_time": "2023-04-24T07:34:08.590Z"
   },
   {
    "duration": 100,
    "start_time": "2023-04-24T07:34:09.026Z"
   },
   {
    "duration": 15,
    "start_time": "2023-04-24T07:34:09.129Z"
   },
   {
    "duration": 16,
    "start_time": "2023-04-24T07:34:09.145Z"
   },
   {
    "duration": 92,
    "start_time": "2023-04-24T07:34:09.164Z"
   },
   {
    "duration": 160,
    "start_time": "2023-04-24T07:34:09.257Z"
   },
   {
    "duration": 32,
    "start_time": "2023-04-24T07:34:09.418Z"
   },
   {
    "duration": 1387,
    "start_time": "2023-04-24T07:34:09.452Z"
   },
   {
    "duration": 11,
    "start_time": "2023-04-24T07:34:10.841Z"
   },
   {
    "duration": 34,
    "start_time": "2023-04-24T07:34:10.854Z"
   },
   {
    "duration": 87,
    "start_time": "2023-04-24T07:34:10.890Z"
   },
   {
    "duration": 24,
    "start_time": "2023-04-24T07:34:10.979Z"
   },
   {
    "duration": 24,
    "start_time": "2023-04-24T07:34:11.004Z"
   },
   {
    "duration": 17,
    "start_time": "2023-04-24T07:34:11.030Z"
   },
   {
    "duration": 15,
    "start_time": "2023-04-24T07:34:11.049Z"
   },
   {
    "duration": 34,
    "start_time": "2023-04-24T07:34:11.066Z"
   },
   {
    "duration": 15,
    "start_time": "2023-04-24T07:34:11.102Z"
   },
   {
    "duration": 69,
    "start_time": "2023-04-24T07:34:11.120Z"
   },
   {
    "duration": 19,
    "start_time": "2023-04-24T07:34:11.191Z"
   },
   {
    "duration": 12,
    "start_time": "2023-04-24T07:34:11.212Z"
   },
   {
    "duration": 69,
    "start_time": "2023-04-24T07:34:11.227Z"
   },
   {
    "duration": 23,
    "start_time": "2023-04-24T07:34:11.298Z"
   },
   {
    "duration": 11,
    "start_time": "2023-04-24T07:34:11.323Z"
   },
   {
    "duration": 15,
    "start_time": "2023-04-24T07:34:11.336Z"
   },
   {
    "duration": 36,
    "start_time": "2023-04-24T07:34:11.353Z"
   },
   {
    "duration": 14,
    "start_time": "2023-04-24T07:34:11.391Z"
   },
   {
    "duration": 20,
    "start_time": "2023-04-24T07:34:11.407Z"
   },
   {
    "duration": 27,
    "start_time": "2023-04-24T07:34:11.429Z"
   },
   {
    "duration": 38,
    "start_time": "2023-04-24T07:34:11.457Z"
   },
   {
    "duration": 29,
    "start_time": "2023-04-24T07:34:11.497Z"
   },
   {
    "duration": 13,
    "start_time": "2023-04-24T07:34:11.528Z"
   },
   {
    "duration": 17,
    "start_time": "2023-04-24T07:34:11.545Z"
   },
   {
    "duration": 7,
    "start_time": "2023-04-24T07:34:11.564Z"
   },
   {
    "duration": 13,
    "start_time": "2023-04-24T07:34:11.574Z"
   },
   {
    "duration": 28,
    "start_time": "2023-04-24T07:34:11.589Z"
   },
   {
    "duration": 27,
    "start_time": "2023-04-24T07:34:11.619Z"
   },
   {
    "duration": 188,
    "start_time": "2023-04-24T07:36:05.725Z"
   },
   {
    "duration": 16,
    "start_time": "2023-04-24T07:36:14.367Z"
   },
   {
    "duration": 20,
    "start_time": "2023-04-24T07:37:08.941Z"
   },
   {
    "duration": 11,
    "start_time": "2023-04-24T07:42:29.014Z"
   },
   {
    "duration": 13,
    "start_time": "2023-04-24T07:43:00.257Z"
   },
   {
    "duration": 14,
    "start_time": "2023-04-24T07:44:40.146Z"
   },
   {
    "duration": 12,
    "start_time": "2023-04-24T07:44:49.806Z"
   },
   {
    "duration": 333,
    "start_time": "2023-04-24T07:49:41.644Z"
   },
   {
    "duration": 5992,
    "start_time": "2023-04-24T07:50:27.416Z"
   },
   {
    "duration": 8,
    "start_time": "2023-04-24T07:51:23.031Z"
   },
   {
    "duration": 6,
    "start_time": "2023-04-24T07:53:40.362Z"
   },
   {
    "duration": 10,
    "start_time": "2023-04-24T07:54:21.820Z"
   },
   {
    "duration": 120,
    "start_time": "2023-04-24T08:01:12.809Z"
   },
   {
    "duration": 10,
    "start_time": "2023-04-24T08:01:18.259Z"
   },
   {
    "duration": 27,
    "start_time": "2023-04-24T08:01:25.940Z"
   },
   {
    "duration": 1585,
    "start_time": "2023-04-24T08:02:04.481Z"
   },
   {
    "duration": 301,
    "start_time": "2023-04-24T08:02:06.068Z"
   },
   {
    "duration": 41,
    "start_time": "2023-04-24T08:02:06.371Z"
   },
   {
    "duration": 207,
    "start_time": "2023-04-24T08:02:06.414Z"
   },
   {
    "duration": 34,
    "start_time": "2023-04-24T08:02:06.623Z"
   },
   {
    "duration": 38,
    "start_time": "2023-04-24T08:02:06.658Z"
   },
   {
    "duration": 36,
    "start_time": "2023-04-24T08:02:06.697Z"
   },
   {
    "duration": 794,
    "start_time": "2023-04-24T08:02:06.734Z"
   },
   {
    "duration": 116,
    "start_time": "2023-04-24T08:02:07.531Z"
   },
   {
    "duration": 461,
    "start_time": "2023-04-24T08:02:07.651Z"
   },
   {
    "duration": 75,
    "start_time": "2023-04-24T08:02:08.114Z"
   },
   {
    "duration": 15,
    "start_time": "2023-04-24T08:02:08.191Z"
   },
   {
    "duration": 29,
    "start_time": "2023-04-24T08:02:08.208Z"
   },
   {
    "duration": 95,
    "start_time": "2023-04-24T08:02:08.239Z"
   },
   {
    "duration": 118,
    "start_time": "2023-04-24T08:02:08.336Z"
   },
   {
    "duration": 42,
    "start_time": "2023-04-24T08:02:08.455Z"
   },
   {
    "duration": 374,
    "start_time": "2023-04-24T08:02:08.499Z"
   },
   {
    "duration": 15,
    "start_time": "2023-04-24T08:02:08.874Z"
   },
   {
    "duration": 50,
    "start_time": "2023-04-24T08:02:08.890Z"
   },
   {
    "duration": 150,
    "start_time": "2023-04-24T08:02:08.941Z"
   },
   {
    "duration": 21,
    "start_time": "2023-04-24T08:02:09.093Z"
   },
   {
    "duration": 24,
    "start_time": "2023-04-24T08:02:09.116Z"
   },
   {
    "duration": 17,
    "start_time": "2023-04-24T08:02:09.141Z"
   },
   {
    "duration": 14,
    "start_time": "2023-04-24T08:02:09.187Z"
   },
   {
    "duration": 27,
    "start_time": "2023-04-24T08:02:09.202Z"
   },
   {
    "duration": 11,
    "start_time": "2023-04-24T08:02:09.231Z"
   },
   {
    "duration": 23,
    "start_time": "2023-04-24T08:02:09.244Z"
   },
   {
    "duration": 16,
    "start_time": "2023-04-24T08:02:09.289Z"
   },
   {
    "duration": 11,
    "start_time": "2023-04-24T08:02:09.307Z"
   },
   {
    "duration": 15,
    "start_time": "2023-04-24T08:02:09.319Z"
   },
   {
    "duration": 14,
    "start_time": "2023-04-24T08:02:09.336Z"
   },
   {
    "duration": 37,
    "start_time": "2023-04-24T08:02:09.351Z"
   },
   {
    "duration": 15,
    "start_time": "2023-04-24T08:02:09.390Z"
   },
   {
    "duration": 21,
    "start_time": "2023-04-24T08:02:09.407Z"
   },
   {
    "duration": 22,
    "start_time": "2023-04-24T08:02:09.430Z"
   },
   {
    "duration": 35,
    "start_time": "2023-04-24T08:02:09.454Z"
   },
   {
    "duration": 24,
    "start_time": "2023-04-24T08:02:09.491Z"
   },
   {
    "duration": 27,
    "start_time": "2023-04-24T08:02:09.517Z"
   },
   {
    "duration": 23,
    "start_time": "2023-04-24T08:02:09.546Z"
   },
   {
    "duration": 25,
    "start_time": "2023-04-24T08:02:09.571Z"
   },
   {
    "duration": 9,
    "start_time": "2023-04-24T08:02:09.598Z"
   },
   {
    "duration": 1612,
    "start_time": "2023-04-24T08:02:09.608Z"
   },
   {
    "duration": 0,
    "start_time": "2023-04-24T08:02:11.221Z"
   },
   {
    "duration": 0,
    "start_time": "2023-04-24T08:02:11.222Z"
   },
   {
    "duration": 0,
    "start_time": "2023-04-24T08:02:11.224Z"
   },
   {
    "duration": 1422,
    "start_time": "2023-04-25T02:00:17.533Z"
   },
   {
    "duration": 371,
    "start_time": "2023-04-25T02:00:18.957Z"
   },
   {
    "duration": 26,
    "start_time": "2023-04-25T02:00:19.329Z"
   },
   {
    "duration": 149,
    "start_time": "2023-04-25T02:00:19.358Z"
   },
   {
    "duration": 40,
    "start_time": "2023-04-25T02:00:19.509Z"
   },
   {
    "duration": 15,
    "start_time": "2023-04-25T02:00:19.551Z"
   },
   {
    "duration": 22,
    "start_time": "2023-04-25T02:00:19.567Z"
   },
   {
    "duration": 527,
    "start_time": "2023-04-25T02:00:19.590Z"
   },
   {
    "duration": 157,
    "start_time": "2023-04-25T02:00:20.119Z"
   },
   {
    "duration": 503,
    "start_time": "2023-04-25T02:00:20.280Z"
   },
   {
    "duration": 58,
    "start_time": "2023-04-25T02:00:20.785Z"
   },
   {
    "duration": 14,
    "start_time": "2023-04-25T02:00:20.844Z"
   },
   {
    "duration": 42,
    "start_time": "2023-04-25T02:00:20.859Z"
   },
   {
    "duration": 763,
    "start_time": "2023-04-25T02:00:20.902Z"
   },
   {
    "duration": 110,
    "start_time": "2023-04-25T02:00:21.667Z"
   },
   {
    "duration": 27,
    "start_time": "2023-04-25T02:00:21.779Z"
   },
   {
    "duration": 364,
    "start_time": "2023-04-25T02:00:21.807Z"
   },
   {
    "duration": 12,
    "start_time": "2023-04-25T02:00:22.172Z"
   },
   {
    "duration": 62,
    "start_time": "2023-04-25T02:00:22.186Z"
   },
   {
    "duration": 123,
    "start_time": "2023-04-25T02:00:22.249Z"
   },
   {
    "duration": 18,
    "start_time": "2023-04-25T02:00:22.374Z"
   },
   {
    "duration": 17,
    "start_time": "2023-04-25T02:00:22.393Z"
   },
   {
    "duration": 32,
    "start_time": "2023-04-25T02:00:22.412Z"
   },
   {
    "duration": 11,
    "start_time": "2023-04-25T02:00:22.445Z"
   },
   {
    "duration": 12,
    "start_time": "2023-04-25T02:00:22.457Z"
   },
   {
    "duration": 10,
    "start_time": "2023-04-25T02:00:22.470Z"
   },
   {
    "duration": 11,
    "start_time": "2023-04-25T02:00:22.482Z"
   },
   {
    "duration": 39,
    "start_time": "2023-04-25T02:00:22.496Z"
   },
   {
    "duration": 10,
    "start_time": "2023-04-25T02:00:22.537Z"
   },
   {
    "duration": 10,
    "start_time": "2023-04-25T02:00:22.549Z"
   },
   {
    "duration": 11,
    "start_time": "2023-04-25T02:00:22.560Z"
   },
   {
    "duration": 8,
    "start_time": "2023-04-25T02:00:22.573Z"
   },
   {
    "duration": 10,
    "start_time": "2023-04-25T02:00:22.583Z"
   },
   {
    "duration": 54,
    "start_time": "2023-04-25T02:00:22.595Z"
   },
   {
    "duration": 13,
    "start_time": "2023-04-25T02:00:22.651Z"
   },
   {
    "duration": 9,
    "start_time": "2023-04-25T02:00:22.666Z"
   },
   {
    "duration": 14,
    "start_time": "2023-04-25T02:00:22.676Z"
   },
   {
    "duration": 12,
    "start_time": "2023-04-25T02:00:22.691Z"
   },
   {
    "duration": 38,
    "start_time": "2023-04-25T02:00:22.704Z"
   },
   {
    "duration": 9,
    "start_time": "2023-04-25T02:00:22.743Z"
   },
   {
    "duration": 8,
    "start_time": "2023-04-25T02:00:22.754Z"
   },
   {
    "duration": 1303,
    "start_time": "2023-04-25T02:00:22.763Z"
   },
   {
    "duration": 0,
    "start_time": "2023-04-25T02:00:24.067Z"
   },
   {
    "duration": 0,
    "start_time": "2023-04-25T02:00:24.069Z"
   },
   {
    "duration": 0,
    "start_time": "2023-04-25T02:00:24.070Z"
   },
   {
    "duration": 245,
    "start_time": "2023-04-25T02:05:59.184Z"
   },
   {
    "duration": 16,
    "start_time": "2023-04-25T02:06:26.465Z"
   },
   {
    "duration": 9,
    "start_time": "2023-04-25T02:06:49.964Z"
   },
   {
    "duration": 22,
    "start_time": "2023-04-25T02:07:05.833Z"
   },
   {
    "duration": 316,
    "start_time": "2023-04-25T02:12:22.948Z"
   },
   {
    "duration": 16,
    "start_time": "2023-04-25T02:12:26.601Z"
   },
   {
    "duration": 10,
    "start_time": "2023-04-25T02:12:51.403Z"
   },
   {
    "duration": 9,
    "start_time": "2023-04-25T02:13:04.449Z"
   },
   {
    "duration": 12,
    "start_time": "2023-04-25T02:20:06.528Z"
   },
   {
    "duration": 8,
    "start_time": "2023-04-25T02:20:12.057Z"
   },
   {
    "duration": 47,
    "start_time": "2023-04-25T02:32:14.550Z"
   },
   {
    "duration": 14,
    "start_time": "2023-04-25T02:32:50.562Z"
   },
   {
    "duration": 32,
    "start_time": "2023-04-25T02:34:04.132Z"
   },
   {
    "duration": 15,
    "start_time": "2023-04-25T02:34:04.338Z"
   },
   {
    "duration": 4,
    "start_time": "2023-04-25T02:35:04.182Z"
   },
   {
    "duration": 23,
    "start_time": "2023-04-25T02:36:04.571Z"
   },
   {
    "duration": 18,
    "start_time": "2023-04-25T02:36:16.665Z"
   },
   {
    "duration": 16,
    "start_time": "2023-04-25T02:45:53.346Z"
   },
   {
    "duration": 8,
    "start_time": "2023-04-25T02:46:37.162Z"
   },
   {
    "duration": 18,
    "start_time": "2023-04-25T02:50:14.532Z"
   },
   {
    "duration": 13,
    "start_time": "2023-04-25T02:50:36.035Z"
   },
   {
    "duration": 8,
    "start_time": "2023-04-25T02:52:08.867Z"
   },
   {
    "duration": 12,
    "start_time": "2023-04-25T02:54:57.479Z"
   },
   {
    "duration": 906,
    "start_time": "2023-04-25T03:09:12.220Z"
   },
   {
    "duration": 949,
    "start_time": "2023-04-25T03:36:26.880Z"
   },
   {
    "duration": 895,
    "start_time": "2023-04-25T03:41:57.779Z"
   },
   {
    "duration": 989,
    "start_time": "2023-04-25T03:42:15.975Z"
   },
   {
    "duration": 5,
    "start_time": "2023-04-25T03:43:09.984Z"
   },
   {
    "duration": 13,
    "start_time": "2023-04-25T03:44:15.284Z"
   },
   {
    "duration": 13,
    "start_time": "2023-04-25T03:44:50.926Z"
   },
   {
    "duration": 1056,
    "start_time": "2023-04-25T03:49:23.020Z"
   },
   {
    "duration": 12,
    "start_time": "2023-04-25T03:49:28.807Z"
   },
   {
    "duration": 1117,
    "start_time": "2023-04-25T03:51:47.206Z"
   },
   {
    "duration": 1165,
    "start_time": "2023-04-25T03:52:37.560Z"
   },
   {
    "duration": 822,
    "start_time": "2023-04-25T03:53:20.055Z"
   },
   {
    "duration": 225,
    "start_time": "2023-04-25T03:55:37.204Z"
   },
   {
    "duration": 246,
    "start_time": "2023-04-25T03:55:55.605Z"
   },
   {
    "duration": 265,
    "start_time": "2023-04-25T03:56:16.905Z"
   },
   {
    "duration": 411,
    "start_time": "2023-04-25T03:56:44.975Z"
   },
   {
    "duration": 17,
    "start_time": "2023-04-25T03:57:42.080Z"
   },
   {
    "duration": 44,
    "start_time": "2023-04-25T03:58:34.215Z"
   },
   {
    "duration": 119,
    "start_time": "2023-04-25T04:04:18.861Z"
   },
   {
    "duration": 39,
    "start_time": "2023-04-25T04:05:07.576Z"
   },
   {
    "duration": 105,
    "start_time": "2023-04-25T04:05:55.967Z"
   },
   {
    "duration": 71,
    "start_time": "2023-04-25T04:06:16.152Z"
   },
   {
    "duration": 5,
    "start_time": "2023-04-25T04:07:16.664Z"
   },
   {
    "duration": 1588,
    "start_time": "2023-04-25T04:08:56.176Z"
   },
   {
    "duration": 1515,
    "start_time": "2023-04-25T04:11:02.958Z"
   },
   {
    "duration": 1447,
    "start_time": "2023-04-25T04:12:40.947Z"
   },
   {
    "duration": 1670,
    "start_time": "2023-04-25T04:15:25.886Z"
   },
   {
    "duration": 1407,
    "start_time": "2023-04-25T04:15:37.361Z"
   },
   {
    "duration": 56,
    "start_time": "2023-04-25T04:21:20.900Z"
   },
   {
    "duration": 18,
    "start_time": "2023-04-25T04:22:02.690Z"
   },
   {
    "duration": 18,
    "start_time": "2023-04-25T04:22:09.256Z"
   },
   {
    "duration": 20,
    "start_time": "2023-04-25T04:22:14.170Z"
   },
   {
    "duration": 64,
    "start_time": "2023-04-25T04:22:27.028Z"
   },
   {
    "duration": 41,
    "start_time": "2023-04-25T04:33:02.855Z"
   },
   {
    "duration": 33,
    "start_time": "2023-04-25T04:33:23.949Z"
   },
   {
    "duration": 29,
    "start_time": "2023-04-25T04:33:48.273Z"
   },
   {
    "duration": 106,
    "start_time": "2023-04-25T04:39:57.810Z"
   },
   {
    "duration": 83,
    "start_time": "2023-04-25T04:40:12.960Z"
   },
   {
    "duration": 5,
    "start_time": "2023-04-25T04:40:19.877Z"
   },
   {
    "duration": 36,
    "start_time": "2023-04-25T04:41:54.785Z"
   },
   {
    "duration": 15,
    "start_time": "2023-04-25T04:43:18.918Z"
   },
   {
    "duration": 14,
    "start_time": "2023-04-25T04:47:14.052Z"
   },
   {
    "duration": 14,
    "start_time": "2023-04-25T04:48:22.632Z"
   },
   {
    "duration": 7,
    "start_time": "2023-04-25T04:48:27.884Z"
   },
   {
    "duration": 269,
    "start_time": "2023-04-25T04:48:35.787Z"
   },
   {
    "duration": 114,
    "start_time": "2023-04-25T04:48:50.848Z"
   },
   {
    "duration": 113,
    "start_time": "2023-04-25T04:48:57.386Z"
   },
   {
    "duration": 100,
    "start_time": "2023-04-25T04:49:02.591Z"
   },
   {
    "duration": 180,
    "start_time": "2023-04-25T04:50:20.280Z"
   },
   {
    "duration": 213,
    "start_time": "2023-04-25T04:51:53.936Z"
   },
   {
    "duration": 75,
    "start_time": "2023-04-25T04:54:26.786Z"
   },
   {
    "duration": 192,
    "start_time": "2023-04-25T04:54:30.654Z"
   },
   {
    "duration": 188,
    "start_time": "2023-04-25T04:54:46.100Z"
   },
   {
    "duration": 94,
    "start_time": "2023-04-25T04:56:09.607Z"
   },
   {
    "duration": 335,
    "start_time": "2023-04-25T04:56:18.511Z"
   },
   {
    "duration": 22,
    "start_time": "2023-04-25T05:02:40.443Z"
   },
   {
    "duration": 284,
    "start_time": "2023-04-25T05:02:51.423Z"
   },
   {
    "duration": 184,
    "start_time": "2023-04-25T05:06:36.740Z"
   },
   {
    "duration": 217,
    "start_time": "2023-04-25T05:06:57.235Z"
   },
   {
    "duration": 22,
    "start_time": "2023-04-25T05:09:16.880Z"
   },
   {
    "duration": 79,
    "start_time": "2023-04-25T05:09:41.206Z"
   },
   {
    "duration": 222,
    "start_time": "2023-04-25T05:09:51.453Z"
   },
   {
    "duration": 241,
    "start_time": "2023-04-25T05:10:04.944Z"
   },
   {
    "duration": 267,
    "start_time": "2023-04-25T05:12:00.804Z"
   },
   {
    "duration": 18,
    "start_time": "2023-04-25T05:17:57.461Z"
   },
   {
    "duration": 16,
    "start_time": "2023-04-25T05:18:04.037Z"
   },
   {
    "duration": 11,
    "start_time": "2023-04-25T05:18:15.928Z"
   },
   {
    "duration": 15,
    "start_time": "2023-04-25T05:18:20.387Z"
   },
   {
    "duration": 10,
    "start_time": "2023-04-25T05:19:21.417Z"
   },
   {
    "duration": 11,
    "start_time": "2023-04-25T05:19:24.497Z"
   },
   {
    "duration": 9,
    "start_time": "2023-04-25T05:19:31.361Z"
   },
   {
    "duration": 14,
    "start_time": "2023-04-25T05:19:34.709Z"
   },
   {
    "duration": 9,
    "start_time": "2023-04-25T05:19:39.112Z"
   },
   {
    "duration": 14,
    "start_time": "2023-04-25T05:19:43.132Z"
   },
   {
    "duration": 11,
    "start_time": "2023-04-25T05:19:48.890Z"
   },
   {
    "duration": 13,
    "start_time": "2023-04-25T05:19:56.152Z"
   },
   {
    "duration": 8,
    "start_time": "2023-04-25T05:20:01.681Z"
   },
   {
    "duration": 11,
    "start_time": "2023-04-25T05:20:06.213Z"
   },
   {
    "duration": 89,
    "start_time": "2023-04-25T05:24:36.533Z"
   },
   {
    "duration": 32,
    "start_time": "2023-04-25T05:25:15.074Z"
   },
   {
    "duration": 1233,
    "start_time": "2023-04-25T05:25:22.667Z"
   },
   {
    "duration": 27,
    "start_time": "2023-04-25T05:25:41.441Z"
   },
   {
    "duration": 1485,
    "start_time": "2023-04-25T05:25:48.820Z"
   },
   {
    "duration": 47,
    "start_time": "2023-04-25T05:26:10.371Z"
   },
   {
    "duration": 16,
    "start_time": "2023-04-25T05:28:36.005Z"
   },
   {
    "duration": 8,
    "start_time": "2023-04-25T05:29:21.258Z"
   },
   {
    "duration": 11,
    "start_time": "2023-04-25T05:32:13.498Z"
   },
   {
    "duration": 60,
    "start_time": "2023-04-25T05:58:58.420Z"
   },
   {
    "duration": 515,
    "start_time": "2023-04-25T05:59:18.222Z"
   },
   {
    "duration": 9,
    "start_time": "2023-04-25T06:00:18.471Z"
   },
   {
    "duration": 4,
    "start_time": "2023-04-25T06:00:33.921Z"
   },
   {
    "duration": 5,
    "start_time": "2023-04-25T06:00:50.627Z"
   },
   {
    "duration": 5,
    "start_time": "2023-04-25T06:01:07.389Z"
   },
   {
    "duration": 540,
    "start_time": "2023-04-25T06:02:22.365Z"
   },
   {
    "duration": 338,
    "start_time": "2023-04-25T06:21:12.614Z"
   },
   {
    "duration": 344,
    "start_time": "2023-04-25T06:21:16.424Z"
   },
   {
    "duration": 319,
    "start_time": "2023-04-25T06:21:29.789Z"
   },
   {
    "duration": 384,
    "start_time": "2023-04-25T06:21:38.066Z"
   },
   {
    "duration": 116,
    "start_time": "2023-04-25T06:33:03.575Z"
   },
   {
    "duration": 198,
    "start_time": "2023-04-25T06:33:04.217Z"
   },
   {
    "duration": 126,
    "start_time": "2023-04-25T06:33:09.327Z"
   },
   {
    "duration": 58,
    "start_time": "2023-04-25T06:33:32.031Z"
   },
   {
    "duration": 44,
    "start_time": "2023-04-25T06:52:02.914Z"
   },
   {
    "duration": 6,
    "start_time": "2023-04-25T06:52:18.173Z"
   },
   {
    "duration": 15,
    "start_time": "2023-04-25T06:58:36.692Z"
   },
   {
    "duration": 4,
    "start_time": "2023-04-25T06:58:57.903Z"
   },
   {
    "duration": 1230,
    "start_time": "2023-04-25T06:59:04.094Z"
   },
   {
    "duration": 262,
    "start_time": "2023-04-25T06:59:05.325Z"
   },
   {
    "duration": 17,
    "start_time": "2023-04-25T06:59:05.589Z"
   },
   {
    "duration": 18,
    "start_time": "2023-04-25T06:59:05.607Z"
   },
   {
    "duration": 28,
    "start_time": "2023-04-25T06:59:05.626Z"
   },
   {
    "duration": 20,
    "start_time": "2023-04-25T06:59:05.656Z"
   },
   {
    "duration": 51,
    "start_time": "2023-04-25T06:59:05.677Z"
   },
   {
    "duration": 94,
    "start_time": "2023-04-25T06:59:05.730Z"
   },
   {
    "duration": 0,
    "start_time": "2023-04-25T06:59:05.827Z"
   },
   {
    "duration": 0,
    "start_time": "2023-04-25T06:59:05.827Z"
   },
   {
    "duration": 0,
    "start_time": "2023-04-25T06:59:05.828Z"
   },
   {
    "duration": 0,
    "start_time": "2023-04-25T06:59:05.829Z"
   },
   {
    "duration": 0,
    "start_time": "2023-04-25T06:59:05.830Z"
   },
   {
    "duration": 0,
    "start_time": "2023-04-25T06:59:05.834Z"
   },
   {
    "duration": 0,
    "start_time": "2023-04-25T06:59:05.835Z"
   },
   {
    "duration": 0,
    "start_time": "2023-04-25T06:59:05.836Z"
   },
   {
    "duration": 0,
    "start_time": "2023-04-25T06:59:05.837Z"
   },
   {
    "duration": 0,
    "start_time": "2023-04-25T06:59:05.838Z"
   },
   {
    "duration": 0,
    "start_time": "2023-04-25T06:59:05.839Z"
   },
   {
    "duration": 0,
    "start_time": "2023-04-25T06:59:05.840Z"
   },
   {
    "duration": 0,
    "start_time": "2023-04-25T06:59:05.841Z"
   },
   {
    "duration": 0,
    "start_time": "2023-04-25T06:59:05.842Z"
   },
   {
    "duration": 0,
    "start_time": "2023-04-25T06:59:05.843Z"
   },
   {
    "duration": 0,
    "start_time": "2023-04-25T06:59:05.844Z"
   },
   {
    "duration": 0,
    "start_time": "2023-04-25T06:59:05.845Z"
   },
   {
    "duration": 0,
    "start_time": "2023-04-25T06:59:05.846Z"
   },
   {
    "duration": 0,
    "start_time": "2023-04-25T06:59:05.847Z"
   },
   {
    "duration": 0,
    "start_time": "2023-04-25T06:59:05.848Z"
   },
   {
    "duration": 0,
    "start_time": "2023-04-25T06:59:05.849Z"
   },
   {
    "duration": 0,
    "start_time": "2023-04-25T06:59:05.850Z"
   },
   {
    "duration": 0,
    "start_time": "2023-04-25T06:59:05.851Z"
   },
   {
    "duration": 0,
    "start_time": "2023-04-25T06:59:05.852Z"
   },
   {
    "duration": 0,
    "start_time": "2023-04-25T06:59:05.853Z"
   },
   {
    "duration": 0,
    "start_time": "2023-04-25T06:59:05.853Z"
   },
   {
    "duration": 0,
    "start_time": "2023-04-25T06:59:05.854Z"
   },
   {
    "duration": 1,
    "start_time": "2023-04-25T06:59:05.855Z"
   },
   {
    "duration": 0,
    "start_time": "2023-04-25T06:59:05.857Z"
   },
   {
    "duration": 0,
    "start_time": "2023-04-25T06:59:05.858Z"
   },
   {
    "duration": 0,
    "start_time": "2023-04-25T06:59:05.858Z"
   },
   {
    "duration": 0,
    "start_time": "2023-04-25T06:59:05.859Z"
   },
   {
    "duration": 0,
    "start_time": "2023-04-25T06:59:05.861Z"
   },
   {
    "duration": 0,
    "start_time": "2023-04-25T06:59:05.861Z"
   },
   {
    "duration": 0,
    "start_time": "2023-04-25T06:59:05.863Z"
   },
   {
    "duration": 0,
    "start_time": "2023-04-25T06:59:05.864Z"
   },
   {
    "duration": 0,
    "start_time": "2023-04-25T06:59:05.865Z"
   },
   {
    "duration": 0,
    "start_time": "2023-04-25T06:59:05.866Z"
   },
   {
    "duration": 0,
    "start_time": "2023-04-25T06:59:05.866Z"
   },
   {
    "duration": 0,
    "start_time": "2023-04-25T06:59:05.867Z"
   },
   {
    "duration": 0,
    "start_time": "2023-04-25T06:59:05.868Z"
   },
   {
    "duration": 0,
    "start_time": "2023-04-25T06:59:05.869Z"
   },
   {
    "duration": 0,
    "start_time": "2023-04-25T06:59:05.870Z"
   },
   {
    "duration": 0,
    "start_time": "2023-04-25T06:59:05.871Z"
   },
   {
    "duration": 0,
    "start_time": "2023-04-25T06:59:05.871Z"
   },
   {
    "duration": 0,
    "start_time": "2023-04-25T06:59:05.872Z"
   },
   {
    "duration": 0,
    "start_time": "2023-04-25T06:59:05.873Z"
   },
   {
    "duration": 0,
    "start_time": "2023-04-25T06:59:05.935Z"
   },
   {
    "duration": 0,
    "start_time": "2023-04-25T06:59:05.936Z"
   },
   {
    "duration": 0,
    "start_time": "2023-04-25T06:59:05.937Z"
   },
   {
    "duration": 0,
    "start_time": "2023-04-25T06:59:05.938Z"
   },
   {
    "duration": 0,
    "start_time": "2023-04-25T06:59:05.939Z"
   },
   {
    "duration": 0,
    "start_time": "2023-04-25T06:59:05.940Z"
   },
   {
    "duration": 0,
    "start_time": "2023-04-25T06:59:05.941Z"
   },
   {
    "duration": 0,
    "start_time": "2023-04-25T06:59:05.942Z"
   },
   {
    "duration": 0,
    "start_time": "2023-04-25T06:59:05.943Z"
   },
   {
    "duration": 23,
    "start_time": "2023-04-25T07:00:04.037Z"
   },
   {
    "duration": 29,
    "start_time": "2023-04-25T07:00:23.318Z"
   },
   {
    "duration": 13,
    "start_time": "2023-04-25T07:00:27.307Z"
   },
   {
    "duration": 1181,
    "start_time": "2023-04-25T07:00:35.339Z"
   },
   {
    "duration": 237,
    "start_time": "2023-04-25T07:00:36.521Z"
   },
   {
    "duration": 16,
    "start_time": "2023-04-25T07:00:36.760Z"
   },
   {
    "duration": 22,
    "start_time": "2023-04-25T07:00:36.778Z"
   },
   {
    "duration": 11,
    "start_time": "2023-04-25T07:00:36.801Z"
   },
   {
    "duration": 10,
    "start_time": "2023-04-25T07:00:36.813Z"
   },
   {
    "duration": 36,
    "start_time": "2023-04-25T07:00:36.825Z"
   },
   {
    "duration": 15,
    "start_time": "2023-04-25T07:00:36.862Z"
   },
   {
    "duration": 8,
    "start_time": "2023-04-25T07:00:36.879Z"
   },
   {
    "duration": 36,
    "start_time": "2023-04-25T07:00:36.889Z"
   },
   {
    "duration": 10,
    "start_time": "2023-04-25T07:00:36.935Z"
   },
   {
    "duration": 12,
    "start_time": "2023-04-25T07:00:36.946Z"
   },
   {
    "duration": 19,
    "start_time": "2023-04-25T07:00:36.960Z"
   },
   {
    "duration": 962,
    "start_time": "2023-04-25T07:00:36.980Z"
   },
   {
    "duration": 12,
    "start_time": "2023-04-25T07:00:37.943Z"
   },
   {
    "duration": 762,
    "start_time": "2023-04-25T07:00:37.956Z"
   },
   {
    "duration": 214,
    "start_time": "2023-04-25T07:00:38.720Z"
   },
   {
    "duration": 29,
    "start_time": "2023-04-25T07:00:38.936Z"
   },
   {
    "duration": 104,
    "start_time": "2023-04-25T07:00:38.967Z"
   },
   {
    "duration": 74,
    "start_time": "2023-04-25T07:00:39.072Z"
   },
   {
    "duration": 5,
    "start_time": "2023-04-25T07:00:39.148Z"
   },
   {
    "duration": 103,
    "start_time": "2023-04-25T07:00:39.154Z"
   },
   {
    "duration": 1309,
    "start_time": "2023-04-25T07:00:39.258Z"
   },
   {
    "duration": 32,
    "start_time": "2023-04-25T07:00:40.569Z"
   },
   {
    "duration": 27,
    "start_time": "2023-04-25T07:00:40.603Z"
   },
   {
    "duration": 16,
    "start_time": "2023-04-25T07:00:40.631Z"
   },
   {
    "duration": 10,
    "start_time": "2023-04-25T07:00:40.648Z"
   },
   {
    "duration": 102,
    "start_time": "2023-04-25T07:00:40.661Z"
   },
   {
    "duration": 0,
    "start_time": "2023-04-25T07:00:40.765Z"
   },
   {
    "duration": 0,
    "start_time": "2023-04-25T07:00:40.766Z"
   },
   {
    "duration": 0,
    "start_time": "2023-04-25T07:00:40.767Z"
   },
   {
    "duration": 0,
    "start_time": "2023-04-25T07:00:40.767Z"
   },
   {
    "duration": 0,
    "start_time": "2023-04-25T07:00:40.769Z"
   },
   {
    "duration": 0,
    "start_time": "2023-04-25T07:00:40.770Z"
   },
   {
    "duration": 0,
    "start_time": "2023-04-25T07:00:40.771Z"
   },
   {
    "duration": 0,
    "start_time": "2023-04-25T07:00:40.772Z"
   },
   {
    "duration": 0,
    "start_time": "2023-04-25T07:00:40.773Z"
   },
   {
    "duration": 0,
    "start_time": "2023-04-25T07:00:40.774Z"
   },
   {
    "duration": 0,
    "start_time": "2023-04-25T07:00:40.775Z"
   },
   {
    "duration": 0,
    "start_time": "2023-04-25T07:00:40.776Z"
   },
   {
    "duration": 0,
    "start_time": "2023-04-25T07:00:40.777Z"
   },
   {
    "duration": 0,
    "start_time": "2023-04-25T07:00:40.778Z"
   },
   {
    "duration": 0,
    "start_time": "2023-04-25T07:00:40.778Z"
   },
   {
    "duration": 0,
    "start_time": "2023-04-25T07:00:40.779Z"
   },
   {
    "duration": 0,
    "start_time": "2023-04-25T07:00:40.780Z"
   },
   {
    "duration": 0,
    "start_time": "2023-04-25T07:00:40.781Z"
   },
   {
    "duration": 0,
    "start_time": "2023-04-25T07:00:40.782Z"
   },
   {
    "duration": 0,
    "start_time": "2023-04-25T07:00:40.783Z"
   },
   {
    "duration": 0,
    "start_time": "2023-04-25T07:00:40.783Z"
   },
   {
    "duration": 0,
    "start_time": "2023-04-25T07:00:40.784Z"
   },
   {
    "duration": 0,
    "start_time": "2023-04-25T07:00:40.785Z"
   },
   {
    "duration": 0,
    "start_time": "2023-04-25T07:00:40.786Z"
   },
   {
    "duration": 0,
    "start_time": "2023-04-25T07:00:40.787Z"
   },
   {
    "duration": 0,
    "start_time": "2023-04-25T07:00:40.788Z"
   },
   {
    "duration": 0,
    "start_time": "2023-04-25T07:00:40.789Z"
   },
   {
    "duration": 0,
    "start_time": "2023-04-25T07:00:40.789Z"
   },
   {
    "duration": 0,
    "start_time": "2023-04-25T07:00:40.790Z"
   },
   {
    "duration": 0,
    "start_time": "2023-04-25T07:00:40.791Z"
   },
   {
    "duration": 0,
    "start_time": "2023-04-25T07:00:40.835Z"
   },
   {
    "duration": 0,
    "start_time": "2023-04-25T07:00:40.836Z"
   },
   {
    "duration": 0,
    "start_time": "2023-04-25T07:00:40.837Z"
   },
   {
    "duration": 0,
    "start_time": "2023-04-25T07:00:40.838Z"
   },
   {
    "duration": 0,
    "start_time": "2023-04-25T07:00:40.839Z"
   },
   {
    "duration": 0,
    "start_time": "2023-04-25T07:00:40.839Z"
   },
   {
    "duration": 18,
    "start_time": "2023-04-25T07:01:23.395Z"
   },
   {
    "duration": 7,
    "start_time": "2023-04-25T07:01:47.045Z"
   },
   {
    "duration": 106,
    "start_time": "2023-04-25T07:01:48.180Z"
   },
   {
    "duration": 3,
    "start_time": "2023-04-25T07:01:52.517Z"
   },
   {
    "duration": 246,
    "start_time": "2023-04-25T07:01:52.525Z"
   },
   {
    "duration": 20,
    "start_time": "2023-04-25T07:01:52.772Z"
   },
   {
    "duration": 13,
    "start_time": "2023-04-25T07:01:52.794Z"
   },
   {
    "duration": 12,
    "start_time": "2023-04-25T07:01:52.809Z"
   },
   {
    "duration": 20,
    "start_time": "2023-04-25T07:01:52.823Z"
   },
   {
    "duration": 34,
    "start_time": "2023-04-25T07:01:52.844Z"
   },
   {
    "duration": 15,
    "start_time": "2023-04-25T07:01:52.880Z"
   },
   {
    "duration": 4,
    "start_time": "2023-04-25T07:01:52.897Z"
   },
   {
    "duration": 55,
    "start_time": "2023-04-25T07:01:52.902Z"
   },
   {
    "duration": 11,
    "start_time": "2023-04-25T07:01:52.958Z"
   },
   {
    "duration": 14,
    "start_time": "2023-04-25T07:01:52.970Z"
   },
   {
    "duration": 15,
    "start_time": "2023-04-25T07:01:52.985Z"
   },
   {
    "duration": 1142,
    "start_time": "2023-04-25T07:01:53.001Z"
   },
   {
    "duration": 12,
    "start_time": "2023-04-25T07:01:54.146Z"
   },
   {
    "duration": 826,
    "start_time": "2023-04-25T07:01:54.160Z"
   },
   {
    "duration": 203,
    "start_time": "2023-04-25T07:01:54.988Z"
   },
   {
    "duration": 29,
    "start_time": "2023-04-25T07:01:55.193Z"
   },
   {
    "duration": 115,
    "start_time": "2023-04-25T07:01:55.223Z"
   },
   {
    "duration": 68,
    "start_time": "2023-04-25T07:01:55.340Z"
   },
   {
    "duration": 4,
    "start_time": "2023-04-25T07:01:55.410Z"
   },
   {
    "duration": 92,
    "start_time": "2023-04-25T07:01:55.416Z"
   },
   {
    "duration": 1345,
    "start_time": "2023-04-25T07:01:55.510Z"
   },
   {
    "duration": 30,
    "start_time": "2023-04-25T07:01:56.856Z"
   },
   {
    "duration": 44,
    "start_time": "2023-04-25T07:01:56.887Z"
   },
   {
    "duration": 14,
    "start_time": "2023-04-25T07:01:56.933Z"
   },
   {
    "duration": 8,
    "start_time": "2023-04-25T07:01:56.948Z"
   },
   {
    "duration": 117,
    "start_time": "2023-04-25T07:01:56.958Z"
   },
   {
    "duration": 167,
    "start_time": "2023-04-25T07:01:57.077Z"
   },
   {
    "duration": 15,
    "start_time": "2023-04-25T07:01:57.245Z"
   },
   {
    "duration": 61,
    "start_time": "2023-04-25T07:01:57.261Z"
   },
   {
    "duration": 75,
    "start_time": "2023-04-25T07:01:57.324Z"
   },
   {
    "duration": 48,
    "start_time": "2023-04-25T07:01:57.401Z"
   },
   {
    "duration": 22,
    "start_time": "2023-04-25T07:01:57.451Z"
   },
   {
    "duration": 9,
    "start_time": "2023-04-25T07:01:57.475Z"
   },
   {
    "duration": 12,
    "start_time": "2023-04-25T07:01:57.485Z"
   },
   {
    "duration": 10,
    "start_time": "2023-04-25T07:01:57.499Z"
   },
   {
    "duration": 9,
    "start_time": "2023-04-25T07:01:57.510Z"
   },
   {
    "duration": 16,
    "start_time": "2023-04-25T07:01:57.521Z"
   },
   {
    "duration": 20,
    "start_time": "2023-04-25T07:01:57.538Z"
   },
   {
    "duration": 8,
    "start_time": "2023-04-25T07:01:57.559Z"
   },
   {
    "duration": 8,
    "start_time": "2023-04-25T07:01:57.571Z"
   },
   {
    "duration": 14,
    "start_time": "2023-04-25T07:01:57.580Z"
   },
   {
    "duration": 12,
    "start_time": "2023-04-25T07:01:57.595Z"
   },
   {
    "duration": 34,
    "start_time": "2023-04-25T07:01:57.608Z"
   },
   {
    "duration": 12,
    "start_time": "2023-04-25T07:01:57.643Z"
   },
   {
    "duration": 11,
    "start_time": "2023-04-25T07:01:57.657Z"
   },
   {
    "duration": 18,
    "start_time": "2023-04-25T07:01:57.670Z"
   },
   {
    "duration": 14,
    "start_time": "2023-04-25T07:01:57.690Z"
   },
   {
    "duration": 9,
    "start_time": "2023-04-25T07:01:57.706Z"
   },
   {
    "duration": 272,
    "start_time": "2023-04-25T07:01:57.717Z"
   },
   {
    "duration": 34,
    "start_time": "2023-04-25T07:01:57.990Z"
   },
   {
    "duration": 6,
    "start_time": "2023-04-25T07:01:58.035Z"
   },
   {
    "duration": 11,
    "start_time": "2023-04-25T07:01:58.043Z"
   },
   {
    "duration": 16,
    "start_time": "2023-04-25T07:01:58.055Z"
   },
   {
    "duration": 4,
    "start_time": "2023-04-25T07:01:58.073Z"
   },
   {
    "duration": 78,
    "start_time": "2023-04-25T07:01:58.079Z"
   },
   {
    "duration": 56,
    "start_time": "2023-04-25T07:01:58.159Z"
   },
   {
    "duration": 511,
    "start_time": "2023-04-25T07:01:58.217Z"
   },
   {
    "duration": 12,
    "start_time": "2023-04-25T07:01:58.730Z"
   },
   {
    "duration": 0,
    "start_time": "2023-04-25T07:01:58.743Z"
   },
   {
    "duration": 0,
    "start_time": "2023-04-25T07:01:58.744Z"
   },
   {
    "duration": 0,
    "start_time": "2023-04-25T07:01:58.745Z"
   },
   {
    "duration": 0,
    "start_time": "2023-04-25T07:01:58.747Z"
   },
   {
    "duration": 149,
    "start_time": "2023-04-25T07:02:18.191Z"
   },
   {
    "duration": 4,
    "start_time": "2023-04-25T07:02:23.000Z"
   },
   {
    "duration": 282,
    "start_time": "2023-04-25T07:02:23.005Z"
   },
   {
    "duration": 22,
    "start_time": "2023-04-25T07:02:23.288Z"
   },
   {
    "duration": 17,
    "start_time": "2023-04-25T07:02:23.311Z"
   },
   {
    "duration": 14,
    "start_time": "2023-04-25T07:02:23.330Z"
   },
   {
    "duration": 17,
    "start_time": "2023-04-25T07:02:23.345Z"
   },
   {
    "duration": 43,
    "start_time": "2023-04-25T07:02:23.364Z"
   },
   {
    "duration": 13,
    "start_time": "2023-04-25T07:02:23.408Z"
   },
   {
    "duration": 4,
    "start_time": "2023-04-25T07:02:23.423Z"
   },
   {
    "duration": 48,
    "start_time": "2023-04-25T07:02:23.428Z"
   },
   {
    "duration": 9,
    "start_time": "2023-04-25T07:02:23.478Z"
   },
   {
    "duration": 12,
    "start_time": "2023-04-25T07:02:23.488Z"
   },
   {
    "duration": 12,
    "start_time": "2023-04-25T07:02:23.502Z"
   },
   {
    "duration": 979,
    "start_time": "2023-04-25T07:02:23.515Z"
   },
   {
    "duration": 13,
    "start_time": "2023-04-25T07:02:24.496Z"
   },
   {
    "duration": 801,
    "start_time": "2023-04-25T07:02:24.510Z"
   },
   {
    "duration": 231,
    "start_time": "2023-04-25T07:02:25.313Z"
   },
   {
    "duration": 37,
    "start_time": "2023-04-25T07:02:25.546Z"
   },
   {
    "duration": 112,
    "start_time": "2023-04-25T07:02:25.585Z"
   },
   {
    "duration": 69,
    "start_time": "2023-04-25T07:02:25.699Z"
   },
   {
    "duration": 5,
    "start_time": "2023-04-25T07:02:25.769Z"
   },
   {
    "duration": 97,
    "start_time": "2023-04-25T07:02:25.776Z"
   },
   {
    "duration": 1222,
    "start_time": "2023-04-25T07:02:25.875Z"
   },
   {
    "duration": 37,
    "start_time": "2023-04-25T07:02:27.098Z"
   },
   {
    "duration": 26,
    "start_time": "2023-04-25T07:02:27.136Z"
   },
   {
    "duration": 15,
    "start_time": "2023-04-25T07:02:27.163Z"
   },
   {
    "duration": 7,
    "start_time": "2023-04-25T07:02:27.180Z"
   },
   {
    "duration": 129,
    "start_time": "2023-04-25T07:02:27.188Z"
   },
   {
    "duration": 172,
    "start_time": "2023-04-25T07:02:27.322Z"
   },
   {
    "duration": 21,
    "start_time": "2023-04-25T07:02:27.496Z"
   },
   {
    "duration": 26,
    "start_time": "2023-04-25T07:02:27.519Z"
   },
   {
    "duration": 27,
    "start_time": "2023-04-25T07:02:27.546Z"
   },
   {
    "duration": 16,
    "start_time": "2023-04-25T07:02:27.575Z"
   },
   {
    "duration": 13,
    "start_time": "2023-04-25T07:02:27.592Z"
   },
   {
    "duration": 12,
    "start_time": "2023-04-25T07:02:27.606Z"
   },
   {
    "duration": 20,
    "start_time": "2023-04-25T07:02:27.619Z"
   },
   {
    "duration": 11,
    "start_time": "2023-04-25T07:02:27.640Z"
   },
   {
    "duration": 9,
    "start_time": "2023-04-25T07:02:27.652Z"
   },
   {
    "duration": 27,
    "start_time": "2023-04-25T07:02:27.663Z"
   },
   {
    "duration": 19,
    "start_time": "2023-04-25T07:02:27.691Z"
   },
   {
    "duration": 9,
    "start_time": "2023-04-25T07:02:27.712Z"
   },
   {
    "duration": 15,
    "start_time": "2023-04-25T07:02:27.723Z"
   },
   {
    "duration": 12,
    "start_time": "2023-04-25T07:02:27.739Z"
   },
   {
    "duration": 20,
    "start_time": "2023-04-25T07:02:27.753Z"
   },
   {
    "duration": 14,
    "start_time": "2023-04-25T07:02:27.775Z"
   },
   {
    "duration": 22,
    "start_time": "2023-04-25T07:02:27.791Z"
   },
   {
    "duration": 12,
    "start_time": "2023-04-25T07:02:27.814Z"
   },
   {
    "duration": 12,
    "start_time": "2023-04-25T07:02:27.828Z"
   },
   {
    "duration": 14,
    "start_time": "2023-04-25T07:02:27.842Z"
   },
   {
    "duration": 16,
    "start_time": "2023-04-25T07:02:27.857Z"
   },
   {
    "duration": 209,
    "start_time": "2023-04-25T07:02:27.875Z"
   },
   {
    "duration": 26,
    "start_time": "2023-04-25T07:02:28.085Z"
   },
   {
    "duration": 20,
    "start_time": "2023-04-25T07:02:28.113Z"
   },
   {
    "duration": 27,
    "start_time": "2023-04-25T07:02:28.135Z"
   },
   {
    "duration": 34,
    "start_time": "2023-04-25T07:02:28.163Z"
   },
   {
    "duration": 9,
    "start_time": "2023-04-25T07:02:28.199Z"
   },
   {
    "duration": 53,
    "start_time": "2023-04-25T07:02:28.210Z"
   },
   {
    "duration": 60,
    "start_time": "2023-04-25T07:02:28.265Z"
   },
   {
    "duration": 553,
    "start_time": "2023-04-25T07:02:28.334Z"
   },
   {
    "duration": 128,
    "start_time": "2023-04-25T07:02:28.889Z"
   },
   {
    "duration": 179,
    "start_time": "2023-04-25T07:02:29.019Z"
   },
   {
    "duration": 49,
    "start_time": "2023-04-25T07:02:29.199Z"
   },
   {
    "duration": 6,
    "start_time": "2023-04-25T07:02:29.249Z"
   },
   {
    "duration": 23,
    "start_time": "2023-04-25T07:02:29.256Z"
   },
   {
    "duration": 6,
    "start_time": "2023-04-25T07:05:26.980Z"
   },
   {
    "duration": 9,
    "start_time": "2023-04-25T07:06:09.609Z"
   },
   {
    "duration": 9,
    "start_time": "2023-04-25T07:06:56.543Z"
   },
   {
    "duration": 5,
    "start_time": "2023-04-25T07:07:07.220Z"
   },
   {
    "duration": 6,
    "start_time": "2023-04-25T07:12:47.013Z"
   },
   {
    "duration": 8,
    "start_time": "2023-04-25T07:15:13.829Z"
   },
   {
    "duration": 36,
    "start_time": "2023-04-25T07:29:12.149Z"
   },
   {
    "duration": 39,
    "start_time": "2023-04-25T07:30:17.687Z"
   },
   {
    "duration": 6,
    "start_time": "2023-04-25T07:32:36.117Z"
   },
   {
    "duration": 1305,
    "start_time": "2023-04-25T08:13:50.521Z"
   },
   {
    "duration": 236,
    "start_time": "2023-04-25T08:13:51.828Z"
   },
   {
    "duration": 19,
    "start_time": "2023-04-25T08:13:52.065Z"
   },
   {
    "duration": 12,
    "start_time": "2023-04-25T08:13:52.086Z"
   },
   {
    "duration": 15,
    "start_time": "2023-04-25T08:13:52.100Z"
   },
   {
    "duration": 15,
    "start_time": "2023-04-25T08:13:52.116Z"
   },
   {
    "duration": 43,
    "start_time": "2023-04-25T08:13:52.132Z"
   },
   {
    "duration": 15,
    "start_time": "2023-04-25T08:13:52.177Z"
   },
   {
    "duration": 5,
    "start_time": "2023-04-25T08:13:52.193Z"
   },
   {
    "duration": 50,
    "start_time": "2023-04-25T08:13:52.200Z"
   },
   {
    "duration": 12,
    "start_time": "2023-04-25T08:13:52.252Z"
   },
   {
    "duration": 14,
    "start_time": "2023-04-25T08:13:52.265Z"
   },
   {
    "duration": 19,
    "start_time": "2023-04-25T08:13:52.281Z"
   },
   {
    "duration": 1169,
    "start_time": "2023-04-25T08:13:52.301Z"
   },
   {
    "duration": 15,
    "start_time": "2023-04-25T08:13:53.472Z"
   },
   {
    "duration": 777,
    "start_time": "2023-04-25T08:13:53.489Z"
   },
   {
    "duration": 205,
    "start_time": "2023-04-25T08:13:54.267Z"
   },
   {
    "duration": 29,
    "start_time": "2023-04-25T08:13:54.474Z"
   },
   {
    "duration": 117,
    "start_time": "2023-04-25T08:13:54.505Z"
   },
   {
    "duration": 94,
    "start_time": "2023-04-25T08:13:54.624Z"
   },
   {
    "duration": 15,
    "start_time": "2023-04-25T08:13:54.720Z"
   },
   {
    "duration": 100,
    "start_time": "2023-04-25T08:13:54.737Z"
   },
   {
    "duration": 1372,
    "start_time": "2023-04-25T08:13:54.839Z"
   },
   {
    "duration": 29,
    "start_time": "2023-04-25T08:13:56.213Z"
   },
   {
    "duration": 28,
    "start_time": "2023-04-25T08:13:56.244Z"
   },
   {
    "duration": 15,
    "start_time": "2023-04-25T08:13:56.274Z"
   },
   {
    "duration": 8,
    "start_time": "2023-04-25T08:13:56.291Z"
   },
   {
    "duration": 130,
    "start_time": "2023-04-25T08:13:56.304Z"
   },
   {
    "duration": 173,
    "start_time": "2023-04-25T08:13:56.435Z"
   },
   {
    "duration": 15,
    "start_time": "2023-04-25T08:13:56.609Z"
   },
   {
    "duration": 14,
    "start_time": "2023-04-25T08:13:56.635Z"
   },
   {
    "duration": 15,
    "start_time": "2023-04-25T08:13:56.650Z"
   },
   {
    "duration": 9,
    "start_time": "2023-04-25T08:13:56.667Z"
   },
   {
    "duration": 12,
    "start_time": "2023-04-25T08:13:56.677Z"
   },
   {
    "duration": 9,
    "start_time": "2023-04-25T08:13:56.691Z"
   },
   {
    "duration": 43,
    "start_time": "2023-04-25T08:13:56.702Z"
   },
   {
    "duration": 17,
    "start_time": "2023-04-25T08:13:56.747Z"
   },
   {
    "duration": 19,
    "start_time": "2023-04-25T08:13:56.766Z"
   },
   {
    "duration": 7,
    "start_time": "2023-04-25T08:13:56.787Z"
   },
   {
    "duration": 25,
    "start_time": "2023-04-25T08:13:56.795Z"
   },
   {
    "duration": 13,
    "start_time": "2023-04-25T08:13:56.821Z"
   },
   {
    "duration": 9,
    "start_time": "2023-04-25T08:13:56.836Z"
   },
   {
    "duration": 13,
    "start_time": "2023-04-25T08:13:56.846Z"
   },
   {
    "duration": 12,
    "start_time": "2023-04-25T08:13:56.861Z"
   },
   {
    "duration": 8,
    "start_time": "2023-04-25T08:13:56.875Z"
   },
   {
    "duration": 13,
    "start_time": "2023-04-25T08:13:56.885Z"
   },
   {
    "duration": 43,
    "start_time": "2023-04-25T08:13:56.900Z"
   },
   {
    "duration": 8,
    "start_time": "2023-04-25T08:13:56.945Z"
   },
   {
    "duration": 12,
    "start_time": "2023-04-25T08:13:56.954Z"
   },
   {
    "duration": 9,
    "start_time": "2023-04-25T08:13:56.967Z"
   },
   {
    "duration": 288,
    "start_time": "2023-04-25T08:13:56.977Z"
   },
   {
    "duration": 37,
    "start_time": "2023-04-25T08:13:57.266Z"
   },
   {
    "duration": 6,
    "start_time": "2023-04-25T08:13:57.304Z"
   },
   {
    "duration": 30,
    "start_time": "2023-04-25T08:13:57.312Z"
   },
   {
    "duration": 17,
    "start_time": "2023-04-25T08:13:57.344Z"
   },
   {
    "duration": 6,
    "start_time": "2023-04-25T08:13:57.363Z"
   },
   {
    "duration": 73,
    "start_time": "2023-04-25T08:13:57.371Z"
   },
   {
    "duration": 58,
    "start_time": "2023-04-25T08:13:57.446Z"
   },
   {
    "duration": 542,
    "start_time": "2023-04-25T08:13:57.506Z"
   },
   {
    "duration": 138,
    "start_time": "2023-04-25T08:13:58.049Z"
   },
   {
    "duration": 197,
    "start_time": "2023-04-25T08:13:58.189Z"
   },
   {
    "duration": 48,
    "start_time": "2023-04-25T08:13:58.388Z"
   },
   {
    "duration": 5,
    "start_time": "2023-04-25T08:13:58.439Z"
   },
   {
    "duration": 16,
    "start_time": "2023-04-25T08:13:58.446Z"
   },
   {
    "duration": 31,
    "start_time": "2023-04-25T08:13:58.464Z"
   },
   {
    "duration": 24,
    "start_time": "2023-04-25T08:13:58.497Z"
   },
   {
    "duration": 53,
    "start_time": "2023-04-25T08:13:58.523Z"
   },
   {
    "duration": 6,
    "start_time": "2023-04-25T08:13:58.578Z"
   },
   {
    "duration": 1285,
    "start_time": "2023-04-25T21:57:30.087Z"
   },
   {
    "duration": 374,
    "start_time": "2023-04-25T21:57:31.375Z"
   },
   {
    "duration": 18,
    "start_time": "2023-04-25T21:57:31.750Z"
   },
   {
    "duration": 25,
    "start_time": "2023-04-25T21:57:31.770Z"
   },
   {
    "duration": 14,
    "start_time": "2023-04-25T21:57:31.797Z"
   },
   {
    "duration": 25,
    "start_time": "2023-04-25T21:57:31.813Z"
   },
   {
    "duration": 44,
    "start_time": "2023-04-25T21:57:31.840Z"
   },
   {
    "duration": 12,
    "start_time": "2023-04-25T21:57:31.886Z"
   },
   {
    "duration": 25,
    "start_time": "2023-04-25T21:57:31.900Z"
   },
   {
    "duration": 46,
    "start_time": "2023-04-25T21:57:31.927Z"
   },
   {
    "duration": 19,
    "start_time": "2023-04-25T21:57:31.975Z"
   },
   {
    "duration": 32,
    "start_time": "2023-04-25T21:57:31.996Z"
   },
   {
    "duration": 28,
    "start_time": "2023-04-25T21:57:32.030Z"
   },
   {
    "duration": 1133,
    "start_time": "2023-04-25T21:57:32.060Z"
   },
   {
    "duration": 17,
    "start_time": "2023-04-25T21:57:33.195Z"
   },
   {
    "duration": 856,
    "start_time": "2023-04-25T21:57:33.214Z"
   },
   {
    "duration": 249,
    "start_time": "2023-04-25T21:57:34.072Z"
   },
   {
    "duration": 44,
    "start_time": "2023-04-25T21:57:34.322Z"
   },
   {
    "duration": 111,
    "start_time": "2023-04-25T21:57:34.368Z"
   },
   {
    "duration": 84,
    "start_time": "2023-04-25T21:57:34.481Z"
   },
   {
    "duration": 7,
    "start_time": "2023-04-25T21:57:34.567Z"
   },
   {
    "duration": 92,
    "start_time": "2023-04-25T21:57:34.576Z"
   },
   {
    "duration": 1331,
    "start_time": "2023-04-25T21:57:34.670Z"
   },
   {
    "duration": 32,
    "start_time": "2023-04-25T21:57:36.003Z"
   },
   {
    "duration": 38,
    "start_time": "2023-04-25T21:57:36.036Z"
   },
   {
    "duration": 17,
    "start_time": "2023-04-25T21:57:36.075Z"
   },
   {
    "duration": 9,
    "start_time": "2023-04-25T21:57:36.094Z"
   },
   {
    "duration": 131,
    "start_time": "2023-04-25T21:57:36.107Z"
   },
   {
    "duration": 189,
    "start_time": "2023-04-25T21:57:36.240Z"
   },
   {
    "duration": 25,
    "start_time": "2023-04-25T21:57:36.431Z"
   },
   {
    "duration": 18,
    "start_time": "2023-04-25T21:57:36.458Z"
   },
   {
    "duration": 16,
    "start_time": "2023-04-25T21:57:36.478Z"
   },
   {
    "duration": 9,
    "start_time": "2023-04-25T21:57:36.495Z"
   },
   {
    "duration": 12,
    "start_time": "2023-04-25T21:57:36.506Z"
   },
   {
    "duration": 44,
    "start_time": "2023-04-25T21:57:36.520Z"
   },
   {
    "duration": 10,
    "start_time": "2023-04-25T21:57:36.566Z"
   },
   {
    "duration": 11,
    "start_time": "2023-04-25T21:57:36.578Z"
   },
   {
    "duration": 10,
    "start_time": "2023-04-25T21:57:36.591Z"
   },
   {
    "duration": 52,
    "start_time": "2023-04-25T21:57:36.603Z"
   },
   {
    "duration": 13,
    "start_time": "2023-04-25T21:57:36.657Z"
   },
   {
    "duration": 10,
    "start_time": "2023-04-25T21:57:36.672Z"
   },
   {
    "duration": 10,
    "start_time": "2023-04-25T21:57:36.684Z"
   },
   {
    "duration": 16,
    "start_time": "2023-04-25T21:57:36.696Z"
   },
   {
    "duration": 51,
    "start_time": "2023-04-25T21:57:36.713Z"
   },
   {
    "duration": 11,
    "start_time": "2023-04-25T21:57:36.765Z"
   },
   {
    "duration": 15,
    "start_time": "2023-04-25T21:57:36.778Z"
   },
   {
    "duration": 14,
    "start_time": "2023-04-25T21:57:36.795Z"
   },
   {
    "duration": 9,
    "start_time": "2023-04-25T21:57:36.811Z"
   },
   {
    "duration": 48,
    "start_time": "2023-04-25T21:57:36.821Z"
   },
   {
    "duration": 10,
    "start_time": "2023-04-25T21:57:36.871Z"
   },
   {
    "duration": 272,
    "start_time": "2023-04-25T21:57:36.883Z"
   },
   {
    "duration": 38,
    "start_time": "2023-04-25T21:57:37.157Z"
   },
   {
    "duration": 6,
    "start_time": "2023-04-25T21:57:37.197Z"
   },
   {
    "duration": 13,
    "start_time": "2023-04-25T21:57:37.205Z"
   },
   {
    "duration": 45,
    "start_time": "2023-04-25T21:57:37.219Z"
   },
   {
    "duration": 5,
    "start_time": "2023-04-25T21:57:37.266Z"
   },
   {
    "duration": 53,
    "start_time": "2023-04-25T21:57:37.272Z"
   },
   {
    "duration": 83,
    "start_time": "2023-04-25T21:57:37.327Z"
   },
   {
    "duration": 503,
    "start_time": "2023-04-25T21:57:37.411Z"
   },
   {
    "duration": 141,
    "start_time": "2023-04-25T21:57:37.916Z"
   },
   {
    "duration": 203,
    "start_time": "2023-04-25T21:57:38.059Z"
   },
   {
    "duration": 46,
    "start_time": "2023-04-25T21:57:38.264Z"
   },
   {
    "duration": 7,
    "start_time": "2023-04-25T21:57:38.312Z"
   },
   {
    "duration": 8,
    "start_time": "2023-04-25T21:57:38.321Z"
   },
   {
    "duration": 29,
    "start_time": "2023-04-25T21:57:38.331Z"
   },
   {
    "duration": 10,
    "start_time": "2023-04-25T21:57:38.362Z"
   },
   {
    "duration": 43,
    "start_time": "2023-04-25T21:57:38.374Z"
   },
   {
    "duration": 6,
    "start_time": "2023-04-25T21:57:38.419Z"
   },
   {
    "duration": 13,
    "start_time": "2023-04-25T21:58:29.527Z"
   },
   {
    "duration": 300,
    "start_time": "2023-04-25T22:01:25.046Z"
   },
   {
    "duration": 538,
    "start_time": "2023-04-25T22:01:26.331Z"
   },
   {
    "duration": 1282,
    "start_time": "2023-04-25T22:01:32.545Z"
   },
   {
    "duration": 339,
    "start_time": "2023-04-25T22:01:33.829Z"
   },
   {
    "duration": 17,
    "start_time": "2023-04-25T22:01:34.170Z"
   },
   {
    "duration": 13,
    "start_time": "2023-04-25T22:01:34.189Z"
   },
   {
    "duration": 9,
    "start_time": "2023-04-25T22:01:34.205Z"
   },
   {
    "duration": 17,
    "start_time": "2023-04-25T22:01:34.216Z"
   },
   {
    "duration": 48,
    "start_time": "2023-04-25T22:01:34.235Z"
   },
   {
    "duration": 14,
    "start_time": "2023-04-25T22:01:34.284Z"
   },
   {
    "duration": 4,
    "start_time": "2023-04-25T22:01:34.299Z"
   },
   {
    "duration": 54,
    "start_time": "2023-04-25T22:01:34.305Z"
   },
   {
    "duration": 10,
    "start_time": "2023-04-25T22:01:34.361Z"
   },
   {
    "duration": 13,
    "start_time": "2023-04-25T22:01:34.373Z"
   },
   {
    "duration": 13,
    "start_time": "2023-04-25T22:01:34.388Z"
   },
   {
    "duration": 1022,
    "start_time": "2023-04-25T22:01:34.404Z"
   },
   {
    "duration": 13,
    "start_time": "2023-04-25T22:01:35.427Z"
   },
   {
    "duration": 740,
    "start_time": "2023-04-25T22:01:35.442Z"
   },
   {
    "duration": 202,
    "start_time": "2023-04-25T22:01:36.183Z"
   },
   {
    "duration": 30,
    "start_time": "2023-04-25T22:01:36.387Z"
   },
   {
    "duration": 115,
    "start_time": "2023-04-25T22:01:36.418Z"
   },
   {
    "duration": 77,
    "start_time": "2023-04-25T22:01:36.535Z"
   },
   {
    "duration": 6,
    "start_time": "2023-04-25T22:01:36.614Z"
   },
   {
    "duration": 103,
    "start_time": "2023-04-25T22:01:36.622Z"
   },
   {
    "duration": 1306,
    "start_time": "2023-04-25T22:01:36.727Z"
   },
   {
    "duration": 37,
    "start_time": "2023-04-25T22:01:38.034Z"
   },
   {
    "duration": 25,
    "start_time": "2023-04-25T22:01:38.073Z"
   },
   {
    "duration": 17,
    "start_time": "2023-04-25T22:01:38.100Z"
   },
   {
    "duration": 8,
    "start_time": "2023-04-25T22:01:38.119Z"
   },
   {
    "duration": 149,
    "start_time": "2023-04-25T22:01:38.129Z"
   },
   {
    "duration": 178,
    "start_time": "2023-04-25T22:01:38.280Z"
   },
   {
    "duration": 16,
    "start_time": "2023-04-25T22:01:38.459Z"
   },
   {
    "duration": 17,
    "start_time": "2023-04-25T22:01:38.476Z"
   },
   {
    "duration": 16,
    "start_time": "2023-04-25T22:01:38.495Z"
   },
   {
    "duration": 10,
    "start_time": "2023-04-25T22:01:38.513Z"
   },
   {
    "duration": 15,
    "start_time": "2023-04-25T22:01:38.556Z"
   },
   {
    "duration": 11,
    "start_time": "2023-04-25T22:01:38.572Z"
   },
   {
    "duration": 10,
    "start_time": "2023-04-25T22:01:38.585Z"
   },
   {
    "duration": 13,
    "start_time": "2023-04-25T22:01:38.597Z"
   },
   {
    "duration": 45,
    "start_time": "2023-04-25T22:01:38.612Z"
   },
   {
    "duration": 10,
    "start_time": "2023-04-25T22:01:38.659Z"
   },
   {
    "duration": 13,
    "start_time": "2023-04-25T22:01:38.671Z"
   },
   {
    "duration": 10,
    "start_time": "2023-04-25T22:01:38.687Z"
   },
   {
    "duration": 10,
    "start_time": "2023-04-25T22:01:38.699Z"
   },
   {
    "duration": 54,
    "start_time": "2023-04-25T22:01:38.711Z"
   },
   {
    "duration": 14,
    "start_time": "2023-04-25T22:01:38.767Z"
   },
   {
    "duration": 11,
    "start_time": "2023-04-25T22:01:38.782Z"
   },
   {
    "duration": 15,
    "start_time": "2023-04-25T22:01:38.795Z"
   },
   {
    "duration": 45,
    "start_time": "2023-04-25T22:01:38.811Z"
   },
   {
    "duration": 9,
    "start_time": "2023-04-25T22:01:38.858Z"
   },
   {
    "duration": 16,
    "start_time": "2023-04-25T22:01:38.869Z"
   },
   {
    "duration": 12,
    "start_time": "2023-04-25T22:01:38.886Z"
   },
   {
    "duration": 277,
    "start_time": "2023-04-25T22:01:38.900Z"
   },
   {
    "duration": 36,
    "start_time": "2023-04-25T22:01:39.179Z"
   },
   {
    "duration": 7,
    "start_time": "2023-04-25T22:01:39.217Z"
   },
   {
    "duration": 31,
    "start_time": "2023-04-25T22:01:39.225Z"
   },
   {
    "duration": 18,
    "start_time": "2023-04-25T22:01:39.258Z"
   },
   {
    "duration": 5,
    "start_time": "2023-04-25T22:01:39.278Z"
   },
   {
    "duration": 71,
    "start_time": "2023-04-25T22:01:39.285Z"
   },
   {
    "duration": 65,
    "start_time": "2023-04-25T22:01:39.358Z"
   },
   {
    "duration": 554,
    "start_time": "2023-04-25T22:01:39.425Z"
   },
   {
    "duration": 150,
    "start_time": "2023-04-25T22:01:39.981Z"
   },
   {
    "duration": 189,
    "start_time": "2023-04-25T22:01:40.133Z"
   },
   {
    "duration": 50,
    "start_time": "2023-04-25T22:01:40.323Z"
   },
   {
    "duration": 6,
    "start_time": "2023-04-25T22:01:40.374Z"
   },
   {
    "duration": 22,
    "start_time": "2023-04-25T22:01:40.382Z"
   },
   {
    "duration": 8,
    "start_time": "2023-04-25T22:01:40.406Z"
   },
   {
    "duration": 11,
    "start_time": "2023-04-25T22:01:40.416Z"
   },
   {
    "duration": 50,
    "start_time": "2023-04-25T22:01:40.429Z"
   },
   {
    "duration": 5,
    "start_time": "2023-04-25T22:01:40.481Z"
   },
   {
    "duration": 10,
    "start_time": "2023-04-25T22:17:47.107Z"
   },
   {
    "duration": 1449,
    "start_time": "2023-04-26T01:47:36.468Z"
   },
   {
    "duration": 343,
    "start_time": "2023-04-26T01:47:37.919Z"
   },
   {
    "duration": 17,
    "start_time": "2023-04-26T01:47:38.266Z"
   },
   {
    "duration": 14,
    "start_time": "2023-04-26T01:47:38.285Z"
   },
   {
    "duration": 9,
    "start_time": "2023-04-26T01:47:38.300Z"
   },
   {
    "duration": 11,
    "start_time": "2023-04-26T01:47:38.310Z"
   },
   {
    "duration": 32,
    "start_time": "2023-04-26T01:47:38.322Z"
   },
   {
    "duration": 13,
    "start_time": "2023-04-26T01:47:38.355Z"
   },
   {
    "duration": 7,
    "start_time": "2023-04-26T01:47:38.370Z"
   },
   {
    "duration": 32,
    "start_time": "2023-04-26T01:47:38.380Z"
   },
   {
    "duration": 42,
    "start_time": "2023-04-26T01:47:38.414Z"
   },
   {
    "duration": 11,
    "start_time": "2023-04-26T01:47:38.458Z"
   },
   {
    "duration": 20,
    "start_time": "2023-04-26T01:47:38.470Z"
   },
   {
    "duration": 12,
    "start_time": "2023-04-26T01:47:38.491Z"
   },
   {
    "duration": 1058,
    "start_time": "2023-04-26T01:47:38.504Z"
   },
   {
    "duration": 14,
    "start_time": "2023-04-26T01:47:39.564Z"
   },
   {
    "duration": 745,
    "start_time": "2023-04-26T01:47:39.579Z"
   },
   {
    "duration": 206,
    "start_time": "2023-04-26T01:47:40.325Z"
   },
   {
    "duration": 28,
    "start_time": "2023-04-26T01:47:40.532Z"
   },
   {
    "duration": 109,
    "start_time": "2023-04-26T01:47:40.562Z"
   },
   {
    "duration": 68,
    "start_time": "2023-04-26T01:47:40.672Z"
   },
   {
    "duration": 8,
    "start_time": "2023-04-26T01:47:40.742Z"
   },
   {
    "duration": 85,
    "start_time": "2023-04-26T01:47:40.751Z"
   },
   {
    "duration": 1370,
    "start_time": "2023-04-26T01:47:40.838Z"
   },
   {
    "duration": 33,
    "start_time": "2023-04-26T01:47:42.210Z"
   },
   {
    "duration": 15,
    "start_time": "2023-04-26T01:47:42.245Z"
   },
   {
    "duration": 13,
    "start_time": "2023-04-26T01:47:42.262Z"
   },
   {
    "duration": 130,
    "start_time": "2023-04-26T01:47:42.279Z"
   },
   {
    "duration": 197,
    "start_time": "2023-04-26T01:47:42.412Z"
   },
   {
    "duration": 24,
    "start_time": "2023-04-26T01:47:42.612Z"
   },
   {
    "duration": 16,
    "start_time": "2023-04-26T01:47:42.637Z"
   },
   {
    "duration": 17,
    "start_time": "2023-04-26T01:47:42.655Z"
   },
   {
    "duration": 10,
    "start_time": "2023-04-26T01:47:42.673Z"
   },
   {
    "duration": 17,
    "start_time": "2023-04-26T01:47:42.685Z"
   },
   {
    "duration": 41,
    "start_time": "2023-04-26T01:47:42.704Z"
   },
   {
    "duration": 13,
    "start_time": "2023-04-26T01:47:42.747Z"
   },
   {
    "duration": 12,
    "start_time": "2023-04-26T01:47:42.762Z"
   },
   {
    "duration": 10,
    "start_time": "2023-04-26T01:47:42.776Z"
   },
   {
    "duration": 28,
    "start_time": "2023-04-26T01:47:42.788Z"
   },
   {
    "duration": 29,
    "start_time": "2023-04-26T01:47:42.817Z"
   },
   {
    "duration": 10,
    "start_time": "2023-04-26T01:47:42.848Z"
   },
   {
    "duration": 24,
    "start_time": "2023-04-26T01:47:42.859Z"
   },
   {
    "duration": 29,
    "start_time": "2023-04-26T01:47:42.884Z"
   },
   {
    "duration": 12,
    "start_time": "2023-04-26T01:47:42.915Z"
   },
   {
    "duration": 13,
    "start_time": "2023-04-26T01:47:42.928Z"
   },
   {
    "duration": 13,
    "start_time": "2023-04-26T01:47:42.943Z"
   },
   {
    "duration": 11,
    "start_time": "2023-04-26T01:47:42.958Z"
   },
   {
    "duration": 8,
    "start_time": "2023-04-26T01:47:42.970Z"
   },
   {
    "duration": 10,
    "start_time": "2023-04-26T01:47:42.979Z"
   },
   {
    "duration": 49,
    "start_time": "2023-04-26T01:47:42.990Z"
   },
   {
    "duration": 298,
    "start_time": "2023-04-26T01:47:43.041Z"
   },
   {
    "duration": 33,
    "start_time": "2023-04-26T01:47:43.340Z"
   },
   {
    "duration": 7,
    "start_time": "2023-04-26T01:47:43.374Z"
   },
   {
    "duration": 43,
    "start_time": "2023-04-26T01:47:43.382Z"
   },
   {
    "duration": 44,
    "start_time": "2023-04-26T01:47:43.427Z"
   },
   {
    "duration": 17,
    "start_time": "2023-04-26T01:47:43.473Z"
   },
   {
    "duration": 79,
    "start_time": "2023-04-26T01:47:43.491Z"
   },
   {
    "duration": 70,
    "start_time": "2023-04-26T01:47:43.572Z"
   },
   {
    "duration": 563,
    "start_time": "2023-04-26T01:47:43.643Z"
   },
   {
    "duration": 139,
    "start_time": "2023-04-26T01:47:44.208Z"
   },
   {
    "duration": 195,
    "start_time": "2023-04-26T01:47:44.349Z"
   },
   {
    "duration": 52,
    "start_time": "2023-04-26T01:47:44.546Z"
   },
   {
    "duration": 7,
    "start_time": "2023-04-26T01:47:44.600Z"
   },
   {
    "duration": 30,
    "start_time": "2023-04-26T01:47:44.609Z"
   },
   {
    "duration": 53,
    "start_time": "2023-04-26T01:47:44.641Z"
   },
   {
    "duration": 22,
    "start_time": "2023-04-26T01:47:44.697Z"
   },
   {
    "duration": 53,
    "start_time": "2023-04-26T01:47:44.721Z"
   },
   {
    "duration": 7,
    "start_time": "2023-04-26T01:47:44.776Z"
   },
   {
    "duration": 1359,
    "start_time": "2023-04-27T00:48:19.719Z"
   },
   {
    "duration": 463,
    "start_time": "2023-04-27T00:48:21.080Z"
   },
   {
    "duration": 18,
    "start_time": "2023-04-27T00:48:21.544Z"
   },
   {
    "duration": 12,
    "start_time": "2023-04-27T00:48:21.564Z"
   },
   {
    "duration": 9,
    "start_time": "2023-04-27T00:48:21.578Z"
   },
   {
    "duration": 11,
    "start_time": "2023-04-27T00:48:21.588Z"
   },
   {
    "duration": 51,
    "start_time": "2023-04-27T00:48:21.600Z"
   },
   {
    "duration": 13,
    "start_time": "2023-04-27T00:48:21.652Z"
   },
   {
    "duration": 4,
    "start_time": "2023-04-27T00:48:21.667Z"
   },
   {
    "duration": 34,
    "start_time": "2023-04-27T00:48:21.673Z"
   },
   {
    "duration": 37,
    "start_time": "2023-04-27T00:48:21.709Z"
   },
   {
    "duration": 10,
    "start_time": "2023-04-27T00:48:21.748Z"
   },
   {
    "duration": 21,
    "start_time": "2023-04-27T00:48:21.759Z"
   },
   {
    "duration": 17,
    "start_time": "2023-04-27T00:48:21.781Z"
   },
   {
    "duration": 979,
    "start_time": "2023-04-27T00:48:21.800Z"
   },
   {
    "duration": 12,
    "start_time": "2023-04-27T00:48:22.780Z"
   },
   {
    "duration": 734,
    "start_time": "2023-04-27T00:48:22.793Z"
   },
   {
    "duration": 196,
    "start_time": "2023-04-27T00:48:23.528Z"
   },
   {
    "duration": 31,
    "start_time": "2023-04-27T00:48:23.726Z"
   },
   {
    "duration": 98,
    "start_time": "2023-04-27T00:48:23.759Z"
   },
   {
    "duration": 75,
    "start_time": "2023-04-27T00:48:23.859Z"
   },
   {
    "duration": 5,
    "start_time": "2023-04-27T00:48:23.936Z"
   },
   {
    "duration": 69,
    "start_time": "2023-04-27T00:48:23.942Z"
   },
   {
    "duration": 1455,
    "start_time": "2023-04-27T00:48:24.012Z"
   },
   {
    "duration": 30,
    "start_time": "2023-04-27T00:48:25.469Z"
   },
   {
    "duration": 14,
    "start_time": "2023-04-27T00:48:25.500Z"
   },
   {
    "duration": 7,
    "start_time": "2023-04-27T00:48:25.516Z"
   },
   {
    "duration": 109,
    "start_time": "2023-04-27T00:48:25.526Z"
   },
   {
    "duration": 159,
    "start_time": "2023-04-27T00:48:25.637Z"
   },
   {
    "duration": 15,
    "start_time": "2023-04-27T00:48:25.798Z"
   },
   {
    "duration": 27,
    "start_time": "2023-04-27T00:48:25.815Z"
   },
   {
    "duration": 18,
    "start_time": "2023-04-27T00:48:25.844Z"
   },
   {
    "duration": 9,
    "start_time": "2023-04-27T00:48:25.863Z"
   },
   {
    "duration": 22,
    "start_time": "2023-04-27T00:48:25.873Z"
   },
   {
    "duration": 19,
    "start_time": "2023-04-27T00:48:25.896Z"
   },
   {
    "duration": 18,
    "start_time": "2023-04-27T00:48:25.917Z"
   },
   {
    "duration": 11,
    "start_time": "2023-04-27T00:48:25.936Z"
   },
   {
    "duration": 10,
    "start_time": "2023-04-27T00:48:25.948Z"
   },
   {
    "duration": 8,
    "start_time": "2023-04-27T00:48:25.959Z"
   },
   {
    "duration": 13,
    "start_time": "2023-04-27T00:48:25.969Z"
   },
   {
    "duration": 10,
    "start_time": "2023-04-27T00:48:25.983Z"
   },
   {
    "duration": 15,
    "start_time": "2023-04-27T00:48:25.994Z"
   },
   {
    "duration": 14,
    "start_time": "2023-04-27T00:48:26.035Z"
   },
   {
    "duration": 13,
    "start_time": "2023-04-27T00:48:26.050Z"
   },
   {
    "duration": 9,
    "start_time": "2023-04-27T00:48:26.064Z"
   },
   {
    "duration": 12,
    "start_time": "2023-04-27T00:48:26.074Z"
   },
   {
    "duration": 13,
    "start_time": "2023-04-27T00:48:26.087Z"
   },
   {
    "duration": 40,
    "start_time": "2023-04-27T00:48:26.101Z"
   },
   {
    "duration": 11,
    "start_time": "2023-04-27T00:48:26.142Z"
   },
   {
    "duration": 7,
    "start_time": "2023-04-27T00:48:26.155Z"
   },
   {
    "duration": 256,
    "start_time": "2023-04-27T00:48:26.163Z"
   },
   {
    "duration": 38,
    "start_time": "2023-04-27T00:48:26.421Z"
   },
   {
    "duration": 7,
    "start_time": "2023-04-27T00:48:26.460Z"
   },
   {
    "duration": 12,
    "start_time": "2023-04-27T00:48:26.469Z"
   },
   {
    "duration": 17,
    "start_time": "2023-04-27T00:48:26.482Z"
   },
   {
    "duration": 37,
    "start_time": "2023-04-27T00:48:26.500Z"
   },
   {
    "duration": 55,
    "start_time": "2023-04-27T00:48:26.538Z"
   },
   {
    "duration": 69,
    "start_time": "2023-04-27T00:48:26.594Z"
   },
   {
    "duration": 505,
    "start_time": "2023-04-27T00:48:26.665Z"
   },
   {
    "duration": 125,
    "start_time": "2023-04-27T00:48:27.172Z"
   },
   {
    "duration": 173,
    "start_time": "2023-04-27T00:48:27.299Z"
   },
   {
    "duration": 39,
    "start_time": "2023-04-27T00:48:27.474Z"
   },
   {
    "duration": 5,
    "start_time": "2023-04-27T00:48:27.515Z"
   },
   {
    "duration": 14,
    "start_time": "2023-04-27T00:48:27.521Z"
   },
   {
    "duration": 10,
    "start_time": "2023-04-27T00:48:27.536Z"
   },
   {
    "duration": 7,
    "start_time": "2023-04-27T00:48:27.547Z"
   },
   {
    "duration": 34,
    "start_time": "2023-04-27T00:48:27.555Z"
   },
   {
    "duration": 6,
    "start_time": "2023-04-27T00:48:27.590Z"
   },
   {
    "duration": 1258,
    "start_time": "2023-05-24T07:40:23.388Z"
   },
   {
    "duration": 476,
    "start_time": "2023-05-24T07:40:24.648Z"
   },
   {
    "duration": 20,
    "start_time": "2023-05-24T07:40:25.126Z"
   },
   {
    "duration": 12,
    "start_time": "2023-05-24T07:40:25.149Z"
   },
   {
    "duration": 16,
    "start_time": "2023-05-24T07:40:25.163Z"
   },
   {
    "duration": 14,
    "start_time": "2023-05-24T07:40:25.181Z"
   },
   {
    "duration": 50,
    "start_time": "2023-05-24T07:40:25.196Z"
   },
   {
    "duration": 16,
    "start_time": "2023-05-24T07:40:25.247Z"
   },
   {
    "duration": 13,
    "start_time": "2023-05-24T07:40:25.264Z"
   },
   {
    "duration": 41,
    "start_time": "2023-05-24T07:40:25.280Z"
   },
   {
    "duration": 45,
    "start_time": "2023-05-24T07:40:25.322Z"
   },
   {
    "duration": 11,
    "start_time": "2023-05-24T07:40:25.369Z"
   },
   {
    "duration": 16,
    "start_time": "2023-05-24T07:40:25.381Z"
   },
   {
    "duration": 15,
    "start_time": "2023-05-24T07:40:25.399Z"
   },
   {
    "duration": 1084,
    "start_time": "2023-05-24T07:40:25.416Z"
   },
   {
    "duration": 13,
    "start_time": "2023-05-24T07:40:26.502Z"
   },
   {
    "duration": 836,
    "start_time": "2023-05-24T07:40:26.516Z"
   },
   {
    "duration": 260,
    "start_time": "2023-05-24T07:40:27.354Z"
   },
   {
    "duration": 45,
    "start_time": "2023-05-24T07:40:27.616Z"
   },
   {
    "duration": 113,
    "start_time": "2023-05-24T07:40:27.663Z"
   },
   {
    "duration": 83,
    "start_time": "2023-05-24T07:40:27.778Z"
   },
   {
    "duration": 6,
    "start_time": "2023-05-24T07:40:27.863Z"
   },
   {
    "duration": 93,
    "start_time": "2023-05-24T07:40:27.871Z"
   },
   {
    "duration": 1437,
    "start_time": "2023-05-24T07:40:27.967Z"
   },
   {
    "duration": 34,
    "start_time": "2023-05-24T07:40:29.406Z"
   },
   {
    "duration": 17,
    "start_time": "2023-05-24T07:40:29.442Z"
   },
   {
    "duration": 8,
    "start_time": "2023-05-24T07:40:29.461Z"
   },
   {
    "duration": 151,
    "start_time": "2023-05-24T07:40:29.473Z"
   },
   {
    "duration": 196,
    "start_time": "2023-05-24T07:40:29.626Z"
   },
   {
    "duration": 30,
    "start_time": "2023-05-24T07:40:29.824Z"
   },
   {
    "duration": 16,
    "start_time": "2023-05-24T07:40:29.856Z"
   },
   {
    "duration": 18,
    "start_time": "2023-05-24T07:40:29.874Z"
   },
   {
    "duration": 12,
    "start_time": "2023-05-24T07:40:29.893Z"
   },
   {
    "duration": 46,
    "start_time": "2023-05-24T07:40:29.906Z"
   },
   {
    "duration": 10,
    "start_time": "2023-05-24T07:40:29.953Z"
   },
   {
    "duration": 11,
    "start_time": "2023-05-24T07:40:29.965Z"
   },
   {
    "duration": 15,
    "start_time": "2023-05-24T07:40:29.978Z"
   },
   {
    "duration": 20,
    "start_time": "2023-05-24T07:40:29.994Z"
   },
   {
    "duration": 59,
    "start_time": "2023-05-24T07:40:30.016Z"
   },
   {
    "duration": 48,
    "start_time": "2023-05-24T07:40:30.077Z"
   },
   {
    "duration": 27,
    "start_time": "2023-05-24T07:40:30.127Z"
   },
   {
    "duration": 46,
    "start_time": "2023-05-24T07:40:30.156Z"
   },
   {
    "duration": 48,
    "start_time": "2023-05-24T07:40:30.204Z"
   },
   {
    "duration": 54,
    "start_time": "2023-05-24T07:40:30.253Z"
   },
   {
    "duration": 23,
    "start_time": "2023-05-24T07:40:30.309Z"
   },
   {
    "duration": 54,
    "start_time": "2023-05-24T07:40:30.333Z"
   },
   {
    "duration": 44,
    "start_time": "2023-05-24T07:40:30.389Z"
   },
   {
    "duration": 60,
    "start_time": "2023-05-24T07:40:30.434Z"
   },
   {
    "duration": 77,
    "start_time": "2023-05-24T07:40:30.495Z"
   },
   {
    "duration": 97,
    "start_time": "2023-05-24T07:40:30.574Z"
   },
   {
    "duration": 325,
    "start_time": "2023-05-24T07:40:30.673Z"
   },
   {
    "duration": 48,
    "start_time": "2023-05-24T07:40:31.000Z"
   },
   {
    "duration": 8,
    "start_time": "2023-05-24T07:40:31.050Z"
   },
   {
    "duration": 79,
    "start_time": "2023-05-24T07:40:31.060Z"
   },
   {
    "duration": 45,
    "start_time": "2023-05-24T07:40:31.141Z"
   },
   {
    "duration": 46,
    "start_time": "2023-05-24T07:40:31.188Z"
   },
   {
    "duration": 100,
    "start_time": "2023-05-24T07:40:31.235Z"
   },
   {
    "duration": 82,
    "start_time": "2023-05-24T07:40:31.337Z"
   },
   {
    "duration": 567,
    "start_time": "2023-05-24T07:40:31.421Z"
   },
   {
    "duration": 157,
    "start_time": "2023-05-24T07:40:31.990Z"
   },
   {
    "duration": 223,
    "start_time": "2023-05-24T07:40:32.149Z"
   },
   {
    "duration": 46,
    "start_time": "2023-05-24T07:40:32.374Z"
   },
   {
    "duration": 7,
    "start_time": "2023-05-24T07:40:32.422Z"
   },
   {
    "duration": 46,
    "start_time": "2023-05-24T07:40:32.430Z"
   },
   {
    "duration": 54,
    "start_time": "2023-05-24T07:40:32.477Z"
   },
   {
    "duration": 57,
    "start_time": "2023-05-24T07:40:32.533Z"
   },
   {
    "duration": 69,
    "start_time": "2023-05-24T07:40:32.592Z"
   },
   {
    "duration": 7,
    "start_time": "2023-05-24T07:40:32.663Z"
   },
   {
    "duration": 2835,
    "start_time": "2023-05-24T07:40:32.671Z"
   }
  ],
  "kernelspec": {
   "display_name": "Python 3 (ipykernel)",
   "language": "python",
   "name": "python3"
  },
  "language_info": {
   "codemirror_mode": {
    "name": "ipython",
    "version": 3
   },
   "file_extension": ".py",
   "mimetype": "text/x-python",
   "name": "python",
   "nbconvert_exporter": "python",
   "pygments_lexer": "ipython3",
   "version": "3.9.5"
  },
  "toc": {
   "base_numbering": 1,
   "nav_menu": {},
   "number_sections": true,
   "sideBar": true,
   "skip_h1_title": true,
   "title_cell": "Table of Contents",
   "title_sidebar": "Contents",
   "toc_cell": false,
   "toc_position": {
    "height": "calc(100% - 180px)",
    "left": "10px",
    "top": "150px",
    "width": "201.133px"
   },
   "toc_section_display": true,
   "toc_window_display": true
  }
 },
 "nbformat": 4,
 "nbformat_minor": 2
}
