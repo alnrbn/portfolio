{
 "cells": [
  {
   "cell_type": "markdown",
   "metadata": {},
   "source": [
    "# Описание проекта\n",
    "\n",
    "**Вместе с отделом маркетинга подготовилен список гипотез для увеличения выручки.\n",
    "В этом проекте мы приоритизируем гипотезы, запустим A/B-тест и проанализируем результаты.** "
   ]
  },
  {
   "cell_type": "markdown",
   "metadata": {},
   "source": [
    "## Загрузим необходимые для работы библиотеки, посмотрим данные датасет на наличие пропусков и соответствия типов данных."
   ]
  },
  {
   "cell_type": "code",
   "execution_count": 1,
   "metadata": {},
   "outputs": [],
   "source": [
    "#импортируем библиотеки\n",
    "import pandas as pd\n",
    "import numpy as np\n",
    "import matplotlib.pyplot as plt\n",
    "from scipy import stats\n",
    "import datetime as dt"
   ]
  },
  {
   "cell_type": "markdown",
   "metadata": {},
   "source": [
    "**Датасет Orders:**"
   ]
  },
  {
   "cell_type": "code",
   "execution_count": 2,
   "metadata": {},
   "outputs": [
    {
     "name": "stdout",
     "output_type": "stream",
     "text": [
      "<class 'pandas.core.frame.DataFrame'>\n",
      "RangeIndex: 1197 entries, 0 to 1196\n",
      "Data columns (total 5 columns):\n",
      " #   Column          Non-Null Count  Dtype         \n",
      "---  ------          --------------  -----         \n",
      " 0   transaction_id  1197 non-null   int64         \n",
      " 1   visitor_id      1197 non-null   int64         \n",
      " 2   date            1197 non-null   datetime64[ns]\n",
      " 3   revenue         1197 non-null   int64         \n",
      " 4   group           1197 non-null   object        \n",
      "dtypes: datetime64[ns](1), int64(3), object(1)\n",
      "memory usage: 46.9+ KB\n"
     ]
    },
    {
     "data": {
      "text/plain": [
       "transaction_id    0\n",
       "visitor_id        0\n",
       "date              0\n",
       "revenue           0\n",
       "group             0\n",
       "dtype: int64"
      ]
     },
     "execution_count": 2,
     "metadata": {},
     "output_type": "execute_result"
    }
   ],
   "source": [
    "orders = pd.read_csv('/datasets/orders.csv')\n",
    "orders.rename(columns = {'transactionId':'transaction_id', 'visitorId':'visitor_id'}, inplace = True )\n",
    "# orders.info()\n",
    "\n",
    "#приведение к нужному типу данных\n",
    "orders['date'] = orders['date'].astype('datetime64[D]')\n",
    "orders.info()\n",
    "orders.head(5)\n",
    "\n",
    "#пропуски\n",
    "orders.isna().sum()"
   ]
  },
  {
   "cell_type": "markdown",
   "metadata": {},
   "source": [
    "**Датасет Visitors:**"
   ]
  },
  {
   "cell_type": "code",
   "execution_count": 3,
   "metadata": {},
   "outputs": [
    {
     "name": "stdout",
     "output_type": "stream",
     "text": [
      "<class 'pandas.core.frame.DataFrame'>\n",
      "RangeIndex: 62 entries, 0 to 61\n",
      "Data columns (total 3 columns):\n",
      " #   Column    Non-Null Count  Dtype \n",
      "---  ------    --------------  ----- \n",
      " 0   date      62 non-null     object\n",
      " 1   group     62 non-null     object\n",
      " 2   visitors  62 non-null     int64 \n",
      "dtypes: int64(1), object(2)\n",
      "memory usage: 1.6+ KB\n",
      "<class 'pandas.core.frame.DataFrame'>\n",
      "RangeIndex: 62 entries, 0 to 61\n",
      "Data columns (total 3 columns):\n",
      " #   Column    Non-Null Count  Dtype         \n",
      "---  ------    --------------  -----         \n",
      " 0   date      62 non-null     datetime64[ns]\n",
      " 1   group     62 non-null     object        \n",
      " 2   visitors  62 non-null     int64         \n",
      "dtypes: datetime64[ns](1), int64(1), object(1)\n",
      "memory usage: 1.6+ KB\n"
     ]
    },
    {
     "data": {
      "text/plain": [
       "date        0\n",
       "group       0\n",
       "visitors    0\n",
       "dtype: int64"
      ]
     },
     "execution_count": 3,
     "metadata": {},
     "output_type": "execute_result"
    }
   ],
   "source": [
    "visitors = pd.read_csv('/datasets/visitors.csv')\n",
    "visitors.info()\n",
    "\n",
    "#приведение к нужному типу данных\n",
    "visitors['date'] = visitors['date'].astype('datetime64[D]')\n",
    "visitors.info()\n",
    "visitors.head(5)\n",
    "\n",
    "#пропуски\n",
    "visitors.isna().sum()"
   ]
  },
  {
   "cell_type": "markdown",
   "metadata": {},
   "source": [
    "### Вывод:\n",
    "В данных датасетах пропуски не обнаружены. В датасете Orders были стандартизированы имена стобцов, столбец с датой был приведён к типу datetime. В датасете Visitors была проделана такая же работы.\n",
    "Данные, представленные в наших датасетах:\n",
    "\n",
    " **Orders**:\n",
    "- transaction_id — идентификатор заказа;\n",
    "- visitor_id — идентификатор пользователя, совершившего заказ;\n",
    "- date — дата, когда был совершён заказ;\n",
    "- revenue — выручка заказа;\n",
    "- group — группа A/B-теста, в которую попал заказ. \n",
    "\n",
    "**Visitors:**\n",
    "- date — дата;\n",
    "- group — группа A/B-теста;\n",
    "- visitors — количество пользователей в указанную дату в указанной группе A/B-теста**"
   ]
  },
  {
   "cell_type": "markdown",
   "metadata": {},
   "source": [
    "## Часть 1. Приоритизация гипотез."
   ]
  },
  {
   "cell_type": "code",
   "execution_count": 4,
   "metadata": {},
   "outputs": [
    {
     "data": {
      "text/plain": [
       "array(['Добавить два новых канала привлечения трафика, что позволит привлекать на 30% больше пользователей',\n",
       "       'Запустить собственную службу доставки, что сократит срок доставки заказов',\n",
       "       'Добавить блоки рекомендаций товаров на сайт интернет магазина, чтобы повысить конверсию и средний чек заказа',\n",
       "       'Изменить структура категорий, что увеличит конверсию, т.к. пользователи быстрее найдут нужный товар',\n",
       "       'Изменить цвет фона главной страницы, чтобы увеличить вовлеченность пользователей',\n",
       "       'Добавить страницу отзывов клиентов о магазине, что позволит увеличить количество заказов',\n",
       "       'Показать на главной странице баннеры с актуальными акциями и распродажами, чтобы увеличить конверсию',\n",
       "       'Добавить форму подписки на все основные страницы, чтобы собрать базу клиентов для email-рассылок',\n",
       "       'Запустить акцию, дающую скидку на товар в день рождения'],\n",
       "      dtype=object)"
      ]
     },
     "execution_count": 4,
     "metadata": {},
     "output_type": "execute_result"
    }
   ],
   "source": [
    "hyp = pd.read_csv('/datasets/hypothesis.csv')\n",
    "hyp.rename(columns = {'Hypothesis':'hypothesis', \n",
    "                      'Reach':'reach',\n",
    "                      'Impact':'impact',\n",
    "                      'Confidence':'confidence',\n",
    "                     'Efforts':'efforts'}, inplace = True )\n",
    "\n",
    "hyp['hypothesis'].unique()"
   ]
  },
  {
   "cell_type": "markdown",
   "metadata": {},
   "source": [
    "### Приоритизация гипотез методом ICE:"
   ]
  },
  {
   "cell_type": "code",
   "execution_count": 5,
   "metadata": {},
   "outputs": [
    {
     "data": {
      "text/html": [
       "<div>\n",
       "<style scoped>\n",
       "    .dataframe tbody tr th:only-of-type {\n",
       "        vertical-align: middle;\n",
       "    }\n",
       "\n",
       "    .dataframe tbody tr th {\n",
       "        vertical-align: top;\n",
       "    }\n",
       "\n",
       "    .dataframe thead th {\n",
       "        text-align: right;\n",
       "    }\n",
       "</style>\n",
       "<table border=\"1\" class=\"dataframe\">\n",
       "  <thead>\n",
       "    <tr style=\"text-align: right;\">\n",
       "      <th></th>\n",
       "      <th>hypothesis</th>\n",
       "      <th>reach</th>\n",
       "      <th>impact</th>\n",
       "      <th>confidence</th>\n",
       "      <th>efforts</th>\n",
       "      <th>ice</th>\n",
       "    </tr>\n",
       "  </thead>\n",
       "  <tbody>\n",
       "    <tr>\n",
       "      <th>8</th>\n",
       "      <td>Запустить акцию, дающую скидку на товар в день...</td>\n",
       "      <td>1</td>\n",
       "      <td>9</td>\n",
       "      <td>9</td>\n",
       "      <td>5</td>\n",
       "      <td>16.20</td>\n",
       "    </tr>\n",
       "    <tr>\n",
       "      <th>0</th>\n",
       "      <td>Добавить два новых канала привлечения трафика,...</td>\n",
       "      <td>3</td>\n",
       "      <td>10</td>\n",
       "      <td>8</td>\n",
       "      <td>6</td>\n",
       "      <td>13.33</td>\n",
       "    </tr>\n",
       "    <tr>\n",
       "      <th>7</th>\n",
       "      <td>Добавить форму подписки на все основные страни...</td>\n",
       "      <td>10</td>\n",
       "      <td>7</td>\n",
       "      <td>8</td>\n",
       "      <td>5</td>\n",
       "      <td>11.20</td>\n",
       "    </tr>\n",
       "    <tr>\n",
       "      <th>6</th>\n",
       "      <td>Показать на главной странице баннеры с актуаль...</td>\n",
       "      <td>5</td>\n",
       "      <td>3</td>\n",
       "      <td>8</td>\n",
       "      <td>3</td>\n",
       "      <td>8.00</td>\n",
       "    </tr>\n",
       "    <tr>\n",
       "      <th>2</th>\n",
       "      <td>Добавить блоки рекомендаций товаров на сайт ин...</td>\n",
       "      <td>8</td>\n",
       "      <td>3</td>\n",
       "      <td>7</td>\n",
       "      <td>3</td>\n",
       "      <td>7.00</td>\n",
       "    </tr>\n",
       "    <tr>\n",
       "      <th>1</th>\n",
       "      <td>Запустить собственную службу доставки, что сок...</td>\n",
       "      <td>2</td>\n",
       "      <td>5</td>\n",
       "      <td>4</td>\n",
       "      <td>10</td>\n",
       "      <td>2.00</td>\n",
       "    </tr>\n",
       "    <tr>\n",
       "      <th>5</th>\n",
       "      <td>Добавить страницу отзывов клиентов о магазине,...</td>\n",
       "      <td>3</td>\n",
       "      <td>2</td>\n",
       "      <td>2</td>\n",
       "      <td>3</td>\n",
       "      <td>1.33</td>\n",
       "    </tr>\n",
       "    <tr>\n",
       "      <th>3</th>\n",
       "      <td>Изменить структура категорий, что увеличит кон...</td>\n",
       "      <td>8</td>\n",
       "      <td>3</td>\n",
       "      <td>3</td>\n",
       "      <td>8</td>\n",
       "      <td>1.12</td>\n",
       "    </tr>\n",
       "    <tr>\n",
       "      <th>4</th>\n",
       "      <td>Изменить цвет фона главной страницы, чтобы уве...</td>\n",
       "      <td>3</td>\n",
       "      <td>1</td>\n",
       "      <td>1</td>\n",
       "      <td>1</td>\n",
       "      <td>1.00</td>\n",
       "    </tr>\n",
       "  </tbody>\n",
       "</table>\n",
       "</div>"
      ],
      "text/plain": [
       "                                          hypothesis  reach  impact  \\\n",
       "8  Запустить акцию, дающую скидку на товар в день...      1       9   \n",
       "0  Добавить два новых канала привлечения трафика,...      3      10   \n",
       "7  Добавить форму подписки на все основные страни...     10       7   \n",
       "6  Показать на главной странице баннеры с актуаль...      5       3   \n",
       "2  Добавить блоки рекомендаций товаров на сайт ин...      8       3   \n",
       "1  Запустить собственную службу доставки, что сок...      2       5   \n",
       "5  Добавить страницу отзывов клиентов о магазине,...      3       2   \n",
       "3  Изменить структура категорий, что увеличит кон...      8       3   \n",
       "4  Изменить цвет фона главной страницы, чтобы уве...      3       1   \n",
       "\n",
       "   confidence  efforts    ice  \n",
       "8           9        5  16.20  \n",
       "0           8        6  13.33  \n",
       "7           8        5  11.20  \n",
       "6           8        3   8.00  \n",
       "2           7        3   7.00  \n",
       "1           4       10   2.00  \n",
       "5           2        3   1.33  \n",
       "3           3        8   1.12  \n",
       "4           1        1   1.00  "
      ]
     },
     "execution_count": 5,
     "metadata": {},
     "output_type": "execute_result"
    }
   ],
   "source": [
    "hyp['ice'] = round((hyp['impact'] * hyp['confidence'] / hyp['efforts']),2)\n",
    "hyp.sort_values(by='ice', ascending =False)"
   ]
  },
  {
   "cell_type": "markdown",
   "metadata": {},
   "source": [
    "### Приоритизация гипотез методом RICE:"
   ]
  },
  {
   "cell_type": "code",
   "execution_count": 6,
   "metadata": {},
   "outputs": [
    {
     "data": {
      "text/html": [
       "<div>\n",
       "<style scoped>\n",
       "    .dataframe tbody tr th:only-of-type {\n",
       "        vertical-align: middle;\n",
       "    }\n",
       "\n",
       "    .dataframe tbody tr th {\n",
       "        vertical-align: top;\n",
       "    }\n",
       "\n",
       "    .dataframe thead th {\n",
       "        text-align: right;\n",
       "    }\n",
       "</style>\n",
       "<table border=\"1\" class=\"dataframe\">\n",
       "  <thead>\n",
       "    <tr style=\"text-align: right;\">\n",
       "      <th></th>\n",
       "      <th>hypothesis</th>\n",
       "      <th>reach</th>\n",
       "      <th>impact</th>\n",
       "      <th>confidence</th>\n",
       "      <th>efforts</th>\n",
       "      <th>ice</th>\n",
       "      <th>rice</th>\n",
       "    </tr>\n",
       "  </thead>\n",
       "  <tbody>\n",
       "    <tr>\n",
       "      <th>7</th>\n",
       "      <td>Добавить форму подписки на все основные страни...</td>\n",
       "      <td>10</td>\n",
       "      <td>7</td>\n",
       "      <td>8</td>\n",
       "      <td>5</td>\n",
       "      <td>11.20</td>\n",
       "      <td>112.0</td>\n",
       "    </tr>\n",
       "    <tr>\n",
       "      <th>2</th>\n",
       "      <td>Добавить блоки рекомендаций товаров на сайт ин...</td>\n",
       "      <td>8</td>\n",
       "      <td>3</td>\n",
       "      <td>7</td>\n",
       "      <td>3</td>\n",
       "      <td>7.00</td>\n",
       "      <td>56.0</td>\n",
       "    </tr>\n",
       "    <tr>\n",
       "      <th>0</th>\n",
       "      <td>Добавить два новых канала привлечения трафика,...</td>\n",
       "      <td>3</td>\n",
       "      <td>10</td>\n",
       "      <td>8</td>\n",
       "      <td>6</td>\n",
       "      <td>13.33</td>\n",
       "      <td>40.0</td>\n",
       "    </tr>\n",
       "    <tr>\n",
       "      <th>6</th>\n",
       "      <td>Показать на главной странице баннеры с актуаль...</td>\n",
       "      <td>5</td>\n",
       "      <td>3</td>\n",
       "      <td>8</td>\n",
       "      <td>3</td>\n",
       "      <td>8.00</td>\n",
       "      <td>40.0</td>\n",
       "    </tr>\n",
       "    <tr>\n",
       "      <th>8</th>\n",
       "      <td>Запустить акцию, дающую скидку на товар в день...</td>\n",
       "      <td>1</td>\n",
       "      <td>9</td>\n",
       "      <td>9</td>\n",
       "      <td>5</td>\n",
       "      <td>16.20</td>\n",
       "      <td>16.2</td>\n",
       "    </tr>\n",
       "    <tr>\n",
       "      <th>3</th>\n",
       "      <td>Изменить структура категорий, что увеличит кон...</td>\n",
       "      <td>8</td>\n",
       "      <td>3</td>\n",
       "      <td>3</td>\n",
       "      <td>8</td>\n",
       "      <td>1.12</td>\n",
       "      <td>9.0</td>\n",
       "    </tr>\n",
       "    <tr>\n",
       "      <th>1</th>\n",
       "      <td>Запустить собственную службу доставки, что сок...</td>\n",
       "      <td>2</td>\n",
       "      <td>5</td>\n",
       "      <td>4</td>\n",
       "      <td>10</td>\n",
       "      <td>2.00</td>\n",
       "      <td>4.0</td>\n",
       "    </tr>\n",
       "    <tr>\n",
       "      <th>5</th>\n",
       "      <td>Добавить страницу отзывов клиентов о магазине,...</td>\n",
       "      <td>3</td>\n",
       "      <td>2</td>\n",
       "      <td>2</td>\n",
       "      <td>3</td>\n",
       "      <td>1.33</td>\n",
       "      <td>4.0</td>\n",
       "    </tr>\n",
       "    <tr>\n",
       "      <th>4</th>\n",
       "      <td>Изменить цвет фона главной страницы, чтобы уве...</td>\n",
       "      <td>3</td>\n",
       "      <td>1</td>\n",
       "      <td>1</td>\n",
       "      <td>1</td>\n",
       "      <td>1.00</td>\n",
       "      <td>3.0</td>\n",
       "    </tr>\n",
       "  </tbody>\n",
       "</table>\n",
       "</div>"
      ],
      "text/plain": [
       "                                          hypothesis  reach  impact  \\\n",
       "7  Добавить форму подписки на все основные страни...     10       7   \n",
       "2  Добавить блоки рекомендаций товаров на сайт ин...      8       3   \n",
       "0  Добавить два новых канала привлечения трафика,...      3      10   \n",
       "6  Показать на главной странице баннеры с актуаль...      5       3   \n",
       "8  Запустить акцию, дающую скидку на товар в день...      1       9   \n",
       "3  Изменить структура категорий, что увеличит кон...      8       3   \n",
       "1  Запустить собственную службу доставки, что сок...      2       5   \n",
       "5  Добавить страницу отзывов клиентов о магазине,...      3       2   \n",
       "4  Изменить цвет фона главной страницы, чтобы уве...      3       1   \n",
       "\n",
       "   confidence  efforts    ice   rice  \n",
       "7           8        5  11.20  112.0  \n",
       "2           7        3   7.00   56.0  \n",
       "0           8        6  13.33   40.0  \n",
       "6           8        3   8.00   40.0  \n",
       "8           9        5  16.20   16.2  \n",
       "3           3        8   1.12    9.0  \n",
       "1           4       10   2.00    4.0  \n",
       "5           2        3   1.33    4.0  \n",
       "4           1        1   1.00    3.0  "
      ]
     },
     "execution_count": 6,
     "metadata": {},
     "output_type": "execute_result"
    }
   ],
   "source": [
    "hyp['rice'] = (hyp['reach'] * hyp['impact'] * hyp['confidence']) / hyp['efforts']\n",
    "hyp.sort_values(by='rice', ascending=False)"
   ]
  },
  {
   "cell_type": "markdown",
   "metadata": {},
   "source": [
    "### Выводы по приоритизации гипотез методами ICE и RICE:\n",
    "\n",
    "- По фреймворку ICE наибольшую оценку имели гипотезы 8, 0 и 7. \n",
    "- После применения фреймворка RICE приоритеты изменились на гипотезы 7, 2 и 0.\n",
    "\n",
    "**Это объясняется тем, что в случае фреймворка ICE в отличие от RICE мы не учитывали охват изменений, а это важная составляющая оценки гипотез.**\n",
    "\n",
    "- Отдадим приоритет гипотезам:\n",
    "    - 'Добавить форму подписки на все основные страницы, чтобы собрать базу клиентов для email-рассылок';\n",
    "    - 'Добавить блоки рекомендаций товаров на сайт интернет магазина, чтобы повысить конверсию и средний чек заказа';\n",
    "    - 'Добавить два новых канала привлечения трафика, что позволит привлекать на 30% больше пользователей'."
   ]
  },
  {
   "cell_type": "markdown",
   "metadata": {},
   "source": [
    "## Часть 2. Анализ A/B-теста"
   ]
  },
  {
   "cell_type": "markdown",
   "metadata": {},
   "source": [
    "**Проверим корректность распределения на группы A/B**\n",
    "\n",
    "- Проверим размеры групп в выборке, есть ли разница между ними\n",
    "- Проверим, корректно ли был рассчитан размер выборки для проведения теста"
   ]
  },
  {
   "cell_type": "code",
   "execution_count": 7,
   "metadata": {},
   "outputs": [
    {
     "name": "stdout",
     "output_type": "stream",
     "text": [
      "Кол-во посетителей в группе А: 18736\n",
      "Кол-во посетителей в группе B: 18916\n",
      "Кол-во покупок в группе A: 557\n",
      "Кол-во покупок в группе B: 640\n",
      "P-value:0.7301376549390499\n",
      "Разница в количестве посетителей в группах A и B статистически НЕ значима\n",
      "\n",
      "Начальная конверсия: 0.030\n",
      "Полученная после изменений конверсия: 0.034\n",
      "Относительное изменение конверсии после изменений: 0.121\n",
      "\n",
      "Вводим начальную конверсию и полученное относительное изменение конверсии в калькулятор\n",
      "Сайт калькулятора: https://www.evanmiller.org/ab-testing/sample-size.html\n",
      "Получаем необходимое количество выборки 35855 для корректного проведения тестирования\n",
      "В нашем случае количество посещений: 37652 \n",
      "Кол-во выборки для A/B тестирования корректно подобрано, статистически значимой разницы\n",
      "в количестве посещений м/у группами не обнаружено\n",
      "\n"
     ]
    }
   ],
   "source": [
    "print('Кол-во посетителей в группе А: {}\\n'\n",
    "      'Кол-во посетителей в группе B: {}'.format(visitors[visitors['group']=='A']['visitors'].sum(), \n",
    "                                                 visitors[visitors['group']=='B']['visitors'].sum()))\n",
    "purchasesA = len(orders[orders['group']=='A'])\n",
    "purchasesB = len(orders[orders['group']=='B'])\n",
    "print('Кол-во покупок в группе A: {}'.format(purchasesA))\n",
    "print('Кол-во покупок в группе B: {}'.format(purchasesB))\n",
    "\n",
    "results = stats.mannwhitneyu(visitors[visitors['group']=='A']['visitors'], visitors[visitors['group']=='B']['visitors'])\n",
    "alpha = 0.05\n",
    "print('P-value:{}'.format(results.pvalue))\n",
    "if results.pvalue < alpha:\n",
    "    print('Разница в количестве посетителей в группах A и B статистически значима\\n')\n",
    "else:\n",
    "    print('Разница в количестве посетителей в группах A и B статистически НЕ значима\\n')\n",
    "\n",
    "initial_conversion = len(orders[orders['group']=='A']) / visitors[visitors['group']=='A']['visitors'].sum() \n",
    "resulting_conversion = len(orders[orders['group']=='B']) / visitors[visitors['group']=='B']['visitors'].sum()\n",
    "print('Начальная конверсия: {:.3f}'.format(initial_conversion))\n",
    "print('Полученная после изменений конверсия: {:.3f}'.format(resulting_conversion))\n",
    "print('Относительное изменение конверсии после изменений: {:.3f}'.format(abs(1-(initial_conversion/resulting_conversion))))\n",
    "print('\\nВводим начальную конверсию и полученное относительное изменение конверсии в калькулятор\\n'\n",
    "     'Сайт калькулятора: https://www.evanmiller.org/ab-testing/sample-size.html\\n'\n",
    "     'Получаем необходимое количество выборки 35855 для корректного проведения тестирования\\n'\n",
    "     'В нашем случае количество посещений: {} \\n'\n",
    "      'Кол-во выборки для A/B тестирования корректно подобрано, ' \n",
    "      'статистически значимой разницы\\nв количестве посещений м/у группами не обнаружено\\n'.format(visitors['visitors'].sum()))"
   ]
  },
  {
   "cell_type": "markdown",
   "metadata": {},
   "source": [
    "### Построим график кумулятивной выручки по группам."
   ]
  },
  {
   "cell_type": "code",
   "execution_count": 8,
   "metadata": {},
   "outputs": [
    {
     "data": {
      "text/html": [
       "<div>\n",
       "<style scoped>\n",
       "    .dataframe tbody tr th:only-of-type {\n",
       "        vertical-align: middle;\n",
       "    }\n",
       "\n",
       "    .dataframe tbody tr th {\n",
       "        vertical-align: top;\n",
       "    }\n",
       "\n",
       "    .dataframe thead th {\n",
       "        text-align: right;\n",
       "    }\n",
       "</style>\n",
       "<table border=\"1\" class=\"dataframe\">\n",
       "  <thead>\n",
       "    <tr style=\"text-align: right;\">\n",
       "      <th></th>\n",
       "      <th>transaction_id</th>\n",
       "      <th>visitor_id</th>\n",
       "      <th>date</th>\n",
       "      <th>revenue</th>\n",
       "      <th>group</th>\n",
       "    </tr>\n",
       "  </thead>\n",
       "  <tbody>\n",
       "    <tr>\n",
       "      <th>0</th>\n",
       "      <td>3667963787</td>\n",
       "      <td>3312258926</td>\n",
       "      <td>2019-08-15</td>\n",
       "      <td>1650</td>\n",
       "      <td>B</td>\n",
       "    </tr>\n",
       "    <tr>\n",
       "      <th>1</th>\n",
       "      <td>2804400009</td>\n",
       "      <td>3642806036</td>\n",
       "      <td>2019-08-15</td>\n",
       "      <td>730</td>\n",
       "      <td>B</td>\n",
       "    </tr>\n",
       "    <tr>\n",
       "      <th>2</th>\n",
       "      <td>2961555356</td>\n",
       "      <td>4069496402</td>\n",
       "      <td>2019-08-15</td>\n",
       "      <td>400</td>\n",
       "      <td>A</td>\n",
       "    </tr>\n",
       "    <tr>\n",
       "      <th>3</th>\n",
       "      <td>3797467345</td>\n",
       "      <td>1196621759</td>\n",
       "      <td>2019-08-15</td>\n",
       "      <td>9759</td>\n",
       "      <td>B</td>\n",
       "    </tr>\n",
       "    <tr>\n",
       "      <th>4</th>\n",
       "      <td>2282983706</td>\n",
       "      <td>2322279887</td>\n",
       "      <td>2019-08-15</td>\n",
       "      <td>2308</td>\n",
       "      <td>B</td>\n",
       "    </tr>\n",
       "    <tr>\n",
       "      <th>...</th>\n",
       "      <td>...</td>\n",
       "      <td>...</td>\n",
       "      <td>...</td>\n",
       "      <td>...</td>\n",
       "      <td>...</td>\n",
       "    </tr>\n",
       "    <tr>\n",
       "      <th>1192</th>\n",
       "      <td>2662137336</td>\n",
       "      <td>3733762160</td>\n",
       "      <td>2019-08-14</td>\n",
       "      <td>6490</td>\n",
       "      <td>B</td>\n",
       "    </tr>\n",
       "    <tr>\n",
       "      <th>1193</th>\n",
       "      <td>2203539145</td>\n",
       "      <td>370388673</td>\n",
       "      <td>2019-08-14</td>\n",
       "      <td>3190</td>\n",
       "      <td>A</td>\n",
       "    </tr>\n",
       "    <tr>\n",
       "      <th>1194</th>\n",
       "      <td>1807773912</td>\n",
       "      <td>573423106</td>\n",
       "      <td>2019-08-14</td>\n",
       "      <td>10550</td>\n",
       "      <td>A</td>\n",
       "    </tr>\n",
       "    <tr>\n",
       "      <th>1195</th>\n",
       "      <td>1947021204</td>\n",
       "      <td>1614305549</td>\n",
       "      <td>2019-08-14</td>\n",
       "      <td>100</td>\n",
       "      <td>A</td>\n",
       "    </tr>\n",
       "    <tr>\n",
       "      <th>1196</th>\n",
       "      <td>3936777065</td>\n",
       "      <td>2108080724</td>\n",
       "      <td>2019-08-15</td>\n",
       "      <td>202740</td>\n",
       "      <td>B</td>\n",
       "    </tr>\n",
       "  </tbody>\n",
       "</table>\n",
       "<p>1196 rows × 5 columns</p>\n",
       "</div>"
      ],
      "text/plain": [
       "      transaction_id  visitor_id       date  revenue group\n",
       "0         3667963787  3312258926 2019-08-15     1650     B\n",
       "1         2804400009  3642806036 2019-08-15      730     B\n",
       "2         2961555356  4069496402 2019-08-15      400     A\n",
       "3         3797467345  1196621759 2019-08-15     9759     B\n",
       "4         2282983706  2322279887 2019-08-15     2308     B\n",
       "...              ...         ...        ...      ...   ...\n",
       "1192      2662137336  3733762160 2019-08-14     6490     B\n",
       "1193      2203539145   370388673 2019-08-14     3190     A\n",
       "1194      1807773912   573423106 2019-08-14    10550     A\n",
       "1195      1947021204  1614305549 2019-08-14      100     A\n",
       "1196      3936777065  2108080724 2019-08-15   202740     B\n",
       "\n",
       "[1196 rows x 5 columns]"
      ]
     },
     "execution_count": 8,
     "metadata": {},
     "output_type": "execute_result"
    }
   ],
   "source": [
    "orders.drop(len(np.intersect1d(orders.query('group == \"A\"')['visitor_id'], orders.query('group == \"B\"')['visitor_id'], assume_unique=False)))"
   ]
  },
  {
   "cell_type": "code",
   "execution_count": 9,
   "metadata": {},
   "outputs": [
    {
     "data": {
      "text/html": [
       "<div>\n",
       "<style scoped>\n",
       "    .dataframe tbody tr th:only-of-type {\n",
       "        vertical-align: middle;\n",
       "    }\n",
       "\n",
       "    .dataframe tbody tr th {\n",
       "        vertical-align: top;\n",
       "    }\n",
       "\n",
       "    .dataframe thead th {\n",
       "        text-align: right;\n",
       "    }\n",
       "</style>\n",
       "<table border=\"1\" class=\"dataframe\">\n",
       "  <thead>\n",
       "    <tr style=\"text-align: right;\">\n",
       "      <th></th>\n",
       "      <th>date</th>\n",
       "      <th>group</th>\n",
       "      <th>orders</th>\n",
       "      <th>buyers</th>\n",
       "      <th>revenue</th>\n",
       "      <th>visitors</th>\n",
       "    </tr>\n",
       "  </thead>\n",
       "  <tbody>\n",
       "    <tr>\n",
       "      <th>0</th>\n",
       "      <td>2019-08-01</td>\n",
       "      <td>A</td>\n",
       "      <td>24</td>\n",
       "      <td>20</td>\n",
       "      <td>148579</td>\n",
       "      <td>719</td>\n",
       "    </tr>\n",
       "    <tr>\n",
       "      <th>1</th>\n",
       "      <td>2019-08-01</td>\n",
       "      <td>B</td>\n",
       "      <td>21</td>\n",
       "      <td>20</td>\n",
       "      <td>101217</td>\n",
       "      <td>713</td>\n",
       "    </tr>\n",
       "    <tr>\n",
       "      <th>2</th>\n",
       "      <td>2019-08-02</td>\n",
       "      <td>A</td>\n",
       "      <td>44</td>\n",
       "      <td>38</td>\n",
       "      <td>242401</td>\n",
       "      <td>1338</td>\n",
       "    </tr>\n",
       "    <tr>\n",
       "      <th>3</th>\n",
       "      <td>2019-08-02</td>\n",
       "      <td>B</td>\n",
       "      <td>45</td>\n",
       "      <td>43</td>\n",
       "      <td>266748</td>\n",
       "      <td>1294</td>\n",
       "    </tr>\n",
       "    <tr>\n",
       "      <th>4</th>\n",
       "      <td>2019-08-03</td>\n",
       "      <td>A</td>\n",
       "      <td>68</td>\n",
       "      <td>62</td>\n",
       "      <td>354874</td>\n",
       "      <td>1845</td>\n",
       "    </tr>\n",
       "  </tbody>\n",
       "</table>\n",
       "</div>"
      ],
      "text/plain": [
       "        date group  orders  buyers  revenue  visitors\n",
       "0 2019-08-01     A      24      20   148579       719\n",
       "1 2019-08-01     B      21      20   101217       713\n",
       "2 2019-08-02     A      44      38   242401      1338\n",
       "3 2019-08-02     B      45      43   266748      1294\n",
       "4 2019-08-03     A      68      62   354874      1845"
      ]
     },
     "execution_count": 9,
     "metadata": {},
     "output_type": "execute_result"
    }
   ],
   "source": [
    "# уникальные значения дат и групп\n",
    "date_groups = orders[['date','group']].drop_duplicates().sort_values(by=['date', 'group'])\n",
    "\n",
    "#выводим кумулятивные показатели из orders\n",
    "orders_aggregat = date_groups.apply(lambda x: orders[np.logical_and(x['date'] >= orders['date'], x['group']==orders['group'])]\\\n",
    ".agg({'date':'max', 'group':'max', 'transaction_id':'nunique', 'visitor_id':'nunique', 'revenue':'sum'}), axis = 1)\n",
    "orders_aggregat.columns = ['date', 'group', 'orders', 'buyers', 'revenue']\n",
    "\n",
    "#выводим кумулятивные показатели из visitors\n",
    "visitors_aggregat = date_groups.apply(lambda x: visitors[np.logical_and(x['date'] >= visitors['date'], x['group']==visitors['group'])]\\\n",
    ".agg({'date':'max', 'group':'max', 'visitors':'sum'}), axis = 1)\n",
    "\n",
    "#сводим все накопительные данные в одну таблицу\n",
    "cummulative_data = orders_aggregat.merge(visitors_aggregat, left_on=['date', 'group'], right_on=['date', 'group'])\n",
    "\n",
    "cummulative_data.head(5)"
   ]
  },
  {
   "cell_type": "code",
   "execution_count": 10,
   "metadata": {},
   "outputs": [
    {
     "data": {
      "image/png": "[encoded data removed]",
      "text/plain": [
       "<Figure size 720x288 with 1 Axes>"
      ]
     },
     "metadata": {
      "needs_background": "light"
     },
     "output_type": "display_data"
    }
   ],
   "source": [
    "cummulative_data_a = cummulative_data[cummulative_data['group']=='A']\n",
    "cummulative_data_b = cummulative_data[cummulative_data['group']=='B']\n",
    "plt.figure(figsize=(10,4))\n",
    "plt.plot(cummulative_data_a['date'], cummulative_data_a['revenue'], label = 'A')\n",
    "plt.plot(cummulative_data_b['date'], cummulative_data_b['revenue'], label = 'B')\n",
    "plt.ylabel('Выручка')\n",
    "plt.xlabel('Дата')\n",
    "plt.title('Графики кумулятивной выручки по группам A/B')\n",
    "plt.legend()\n",
    "plt.show()\n"
   ]
  },
  {
   "cell_type": "markdown",
   "metadata": {},
   "source": [
    "*Вывод*:\n",
    "\n",
    "<span style=\"color:red\">Группа B стабильно показывает большую выручку, чем группа A.</span>\n"
   ]
  },
  {
   "cell_type": "markdown",
   "metadata": {},
   "source": [
    "### Построим график кумулятивного среднего чека по группам"
   ]
  },
  {
   "cell_type": "code",
   "execution_count": 11,
   "metadata": {},
   "outputs": [
    {
     "data": {
      "image/png": "[encoded data removed]",
      "text/plain": [
       "<Figure size 720x288 with 1 Axes>"
      ]
     },
     "metadata": {
      "needs_background": "light"
     },
     "output_type": "display_data"
    }
   ],
   "source": [
    "plt.figure(figsize=(10,4))\n",
    "plt.plot(cummulative_data_a['date'], cummulative_data_a['revenue']/cummulative_data_a['orders'], label = 'A')\n",
    "plt.plot(cummulative_data_b['date'], cummulative_data_b['revenue']/cummulative_data_b['orders'], label = 'B')\n",
    "plt.title('Графики кумулятивного среднего чека по группам A/B')\n",
    "plt.ylabel('Средний чек')\n",
    "plt.xlabel('Дата')\n",
    "plt.legend()\n",
    "plt.show()\n"
   ]
  },
  {
   "cell_type": "markdown",
   "metadata": {},
   "source": [
    "*Вывод*:\n",
    "\n",
    "<span style=\"color:red\">Как мы видим, средний чек в группе B почти всё время был выше, но нас должно смутить его резкое колебание во второй половине графика, есть вероятность, что это обусловлено аномалиями.</span>"
   ]
  },
  {
   "cell_type": "markdown",
   "metadata": {},
   "source": [
    "### Построим график относительного изменения кумулятивного среднего чека группы B к группе A. "
   ]
  },
  {
   "cell_type": "code",
   "execution_count": 12,
   "metadata": {},
   "outputs": [
    {
     "data": {
      "image/png": "[encoded data removed]",
      "text/plain": [
       "<Figure size 720x288 with 1 Axes>"
      ]
     },
     "metadata": {
      "needs_background": "light"
     },
     "output_type": "display_data"
    }
   ],
   "source": [
    "merge_сummulative_data = cummulative_data_a.merge(cummulative_data_b, left_on='date', right_on='date', suffixes=['A', 'B'])\n",
    "# merge_сummulative_data.head(5)\n",
    "plt.figure(figsize=(10,4))\n",
    "plt.plot(merge_сummulative_data['date'], ((merge_сummulative_data['revenueB']/merge_сummulative_data['ordersB'])/\n",
    "                                       (merge_сummulative_data['revenueA']/merge_сummulative_data['ordersA'])-1))\n",
    "plt.axhline(y=0, color='red', linestyle = '--')\n",
    "plt.title('График относительного изменения кумулятивного среднего чека группы B к группе A')\n",
    "plt.xlabel('Дата')\n",
    "plt.show()\n"
   ]
  },
  {
   "cell_type": "markdown",
   "metadata": {},
   "source": [
    "*Вывод:*\n",
    "\n",
    "<span style=\"color:red\">Как мы и говорили - колебания слишком резкие, необходимо будет проверить данные на наличие аномальных пользователей.</span>"
   ]
  },
  {
   "cell_type": "markdown",
   "metadata": {},
   "source": [
    "### Построим график кумулятивного среднего количества заказов на посетителя по группам."
   ]
  },
  {
   "cell_type": "markdown",
   "metadata": {},
   "source": [
    "**Построим график кумулятивной конверсии по группам**"
   ]
  },
  {
   "cell_type": "code",
   "execution_count": 13,
   "metadata": {},
   "outputs": [
    {
     "data": {
      "image/png": "[encoded data removed]",
      "text/plain": [
       "<Figure size 720x288 with 1 Axes>"
      ]
     },
     "metadata": {
      "needs_background": "light"
     },
     "output_type": "display_data"
    }
   ],
   "source": [
    "merge_сummulative_data['conversionA'] =  merge_сummulative_data['ordersA'] / merge_сummulative_data['visitorsA'] \n",
    "merge_сummulative_data['conversionB'] =  merge_сummulative_data['ordersB'] / merge_сummulative_data['visitorsB']\n",
    "# merge_сummulative_data.head(5)\n",
    "\n",
    "plt.figure(figsize=(10,4))\n",
    "plt.plot(merge_сummulative_data['date'], merge_сummulative_data['conversionA'], label='A')\n",
    "plt.plot(merge_сummulative_data['date'], merge_сummulative_data['conversionB'], label='B')\n",
    "plt.title('График кумулятивной конверсии по группам A/B')\n",
    "plt.xlabel('Дата')\n",
    "plt.ylabel('Конверсия')\n",
    "plt.legend()\n",
    "plt.show()\n"
   ]
  },
  {
   "cell_type": "markdown",
   "metadata": {},
   "source": [
    "*Вывод:*\n",
    "\n",
    "<span style=\"color:red\">Группа B стабильно показывает большую конверсию чем группа A.</span>"
   ]
  },
  {
   "cell_type": "markdown",
   "metadata": {},
   "source": [
    "### Построим график относительного изменения кумулятивной конверсии группы B к группе A"
   ]
  },
  {
   "cell_type": "code",
   "execution_count": 14,
   "metadata": {},
   "outputs": [
    {
     "data": {
      "image/png": "[encoded data removed]",
      "text/plain": [
       "<Figure size 720x288 with 1 Axes>"
      ]
     },
     "metadata": {
      "needs_background": "light"
     },
     "output_type": "display_data"
    }
   ],
   "source": [
    "# merge_сummulative_data.head(5)\n",
    "plt.figure(figsize=(10,4))\n",
    "plt.plot(merge_сummulative_data['date'], ((merge_сummulative_data['conversionB']/merge_сummulative_data['conversionA'])-1))\n",
    "plt.title('График относительного изменения кумулятивной конверсии группы B к группе A')\n",
    "plt.axhline(y=0, color='black', linestyle='--')\n",
    "plt.axhline(y=0.1, color='red', linestyle='--')\n",
    "plt.xlabel('Дата')\n",
    "plt.show()\n"
   ]
  },
  {
   "cell_type": "markdown",
   "metadata": {},
   "source": [
    "*Вывод:*\n",
    "\n",
    "<span style=\"color:red\">Конверсия в группе B стабильно лучше конверсии в группе A на 10% через 1 неделю после начала.</span>"
   ]
  },
  {
   "cell_type": "markdown",
   "metadata": {},
   "source": [
    "### Построим точечный график количества заказов по пользователям."
   ]
  },
  {
   "cell_type": "code",
   "execution_count": 15,
   "metadata": {},
   "outputs": [
    {
     "data": {
      "image/png": "[encoded data removed]",
      "text/plain": [
       "<Figure size 720x288 with 1 Axes>"
      ]
     },
     "metadata": {
      "needs_background": "light"
     },
     "output_type": "display_data"
    },
    {
     "data": {
      "image/png": "[encoded data removed]",
      "text/plain": [
       "<Figure size 720x288 with 1 Axes>"
      ]
     },
     "metadata": {
      "needs_background": "light"
     },
     "output_type": "display_data"
    }
   ],
   "source": [
    "orders.head(5)\n",
    "orders_by_users = (\n",
    "    orders.groupby('visitor_id', as_index = False)\n",
    "    .agg({'transaction_id':'nunique'})\n",
    "    .sort_values(by='transaction_id', ascending = False)\n",
    ")\n",
    "orders_by_users.columns = ['visitor_id', 'orders']\n",
    "# orders_by_users.head(5)\n",
    "\n",
    "plt.figure(figsize=(10,4))\n",
    "plt.hist(orders_by_users['orders'], bins = 10)\n",
    "plt.title('Гистрограмма распределения количества заказов на одного пользователя')\n",
    "plt.show()\n",
    "\n",
    "x_values = pd.Series(range(0, len(orders_by_users)))\n",
    "plt.figure(figsize=(10,4))\n",
    "plt.scatter(x_values, orders_by_users['orders'])\n",
    "plt.title('Точечная диаграмма числа заказов на одного пользователя')\n",
    "plt.show()\n"
   ]
  },
  {
   "cell_type": "markdown",
   "metadata": {},
   "source": [
    "*Вывод:*\n",
    "\n",
    "<span style=\"color:red\">На графиках видно,что подавляющее большинство пользователей не совершает более 2 заказов.</span>"
   ]
  },
  {
   "cell_type": "markdown",
   "metadata": {},
   "source": [
    "### Посчитаем 95-й и 99-й перцентили количества заказов на пользователя. "
   ]
  },
  {
   "cell_type": "code",
   "execution_count": 16,
   "metadata": {},
   "outputs": [
    {
     "name": "stdout",
     "output_type": "stream",
     "text": [
      "Перцентили:\n",
      "95: 2.0\n",
      "99: 4.0\n"
     ]
    }
   ],
   "source": [
    "percentiles = np.percentile(orders_by_users['orders'], [95, 99])\n",
    "print('Перцентили:\\n95: {}\\n99: {}'.format(percentiles[0],percentiles[1]))\n"
   ]
  },
  {
   "cell_type": "markdown",
   "metadata": {},
   "source": [
    "*Вывод:*\n",
    "\n",
    "<span style=\"color:red\">Как мы и предполагали, больше 2 заказов совершают только 5% пользователей.</span>\n"
   ]
  },
  {
   "cell_type": "markdown",
   "metadata": {},
   "source": [
    "### Построим точечный график стоимостей заказов."
   ]
  },
  {
   "cell_type": "code",
   "execution_count": 17,
   "metadata": {},
   "outputs": [
    {
     "data": {
      "image/png": "[encoded data removed]",
      "text/plain": [
       "<Figure size 720x288 with 1 Axes>"
      ]
     },
     "metadata": {
      "needs_background": "light"
     },
     "output_type": "display_data"
    },
    {
     "data": {
      "image/png": "[encoded data removed]",
      "text/plain": [
       "<Figure size 720x288 with 1 Axes>"
      ]
     },
     "metadata": {
      "needs_background": "light"
     },
     "output_type": "display_data"
    }
   ],
   "source": [
    "plt.figure(figsize=(10,4))\n",
    "plt.hist(orders['revenue'], range=(0,100000), bins = 100)\n",
    "plt.title('Гистрограмма распределения сумм заказов на одного пользователя')\n",
    "plt.show()\n",
    "\n",
    "x_values = pd.Series(range(0, len(orders)))\n",
    "plt.figure(figsize=(10,4))\n",
    "plt.scatter(x_values, orders['revenue'])\n",
    "plt.title('Точечная диаграмма сумм заказов на одного пользователя')\n",
    "plt.axis([0, 1200, 0, 200000])\n",
    "plt.show()"
   ]
  },
  {
   "cell_type": "markdown",
   "metadata": {},
   "source": [
    "*Вывод:*\n",
    "\n",
    "<span style=\"color:red\">Судя по графикам, большая часть пользователей делает покупки суммой не больше 25-30 т.р.</span>"
   ]
  },
  {
   "cell_type": "markdown",
   "metadata": {},
   "source": [
    "### Посчитаем 95-й и 99-й перцентили стоимости заказов."
   ]
  },
  {
   "cell_type": "code",
   "execution_count": 18,
   "metadata": {},
   "outputs": [
    {
     "name": "stdout",
     "output_type": "stream",
     "text": [
      "Перцентили:\n",
      "95: 28000\n",
      "99: 58233\n"
     ]
    }
   ],
   "source": [
    "percentiles = np.percentile(orders['revenue'], [95, 99])\n",
    "print('Перцентили:\\n95: {:.0f}\\n99: {:.0f}'.format(percentiles[0],percentiles[1]))"
   ]
  },
  {
   "cell_type": "markdown",
   "metadata": {},
   "source": [
    "*Вывод:*\n",
    "\n",
    "<span style=\"color:red\">Всего лишь 5% заказов дороже 28 т.р.</span>"
   ]
  },
  {
   "cell_type": "markdown",
   "metadata": {},
   "source": [
    "### Посчитаем статистическую значимость различий в среднем количестве заказов на посетителя между группами по «сырым» данным. "
   ]
  },
  {
   "cell_type": "markdown",
   "metadata": {},
   "source": [
    "**Сформулируем нулевую и альтернативную гипотезу:**"
   ]
  },
  {
   "cell_type": "markdown",
   "metadata": {},
   "source": [
    "- `H₀`: По \"сырым\" данным в конверсии групп A и B разница статистически значима.\n",
    "- `H₁`: По \"сырым\" данным различий в конверсии групп A и B нет."
   ]
  },
  {
   "cell_type": "code",
   "execution_count": 19,
   "metadata": {},
   "outputs": [
    {
     "name": "stdout",
     "output_type": "stream",
     "text": [
      "Кол-во покупателей в группе A: 503\n",
      "Кол-во покупок в группе А: 557\n",
      "Кол-во посетителей в группе A: 18736\n",
      "\n",
      "Кол-во покупателей в группе B: 586\n",
      "Кол-во покупок в группе B: 640\n",
      "Кол-во посетителей в группе B: 18916\n",
      "\n",
      "Относительный прирост конверсии группы B по отношению к группе A: 0.138\n",
      "P-value: 0.016792355056752608\n",
      "По \"сырым\" данным в конверсии групп A и B разница статистически значима!\n"
     ]
    }
   ],
   "source": [
    "orders_by_users_a = orders[orders['group']=='A'].groupby('visitor_id', as_index=False).agg({'transaction_id':'nunique'})\n",
    "orders_by_users_a.columns = ['visitor_id', 'orders']\n",
    "orders_by_users_b = orders[orders['group']=='B'].groupby('visitor_id', as_index=False).agg({'transaction_id':'nunique'})\n",
    "orders_by_users_b.columns = ['visitor_id', 'orders']\n",
    "print('Кол-во покупателей в группе A: {}'.format(len(orders_by_users_a)))\n",
    "print('Кол-во покупок в группе А: {}'.format(orders_by_users_a['orders'].sum()))\n",
    "print('Кол-во посетителей в группе A: {}\\n'.format(visitors[visitors['group']=='A']['visitors'].sum()))\n",
    "print('Кол-во покупателей в группе B: {}'.format(len(orders_by_users_b)))\n",
    "print('Кол-во покупок в группе B: {}'.format(orders_by_users_b['orders'].sum()))\n",
    "print('Кол-во посетителей в группе B: {}'.format(visitors[visitors['group']=='B']['visitors'].sum()))\n",
    "\n",
    "\n",
    "#составим списки кол-ва заказов sampleA и sampleB со всеми пользователями (в том числе и не купившими) по группам \n",
    "list_orders_1 =[]\n",
    "for i in range(0,(visitors[visitors['group']=='A']['visitors'].sum()-len(orders_by_users_a))):\n",
    "    list_orders_1.append(0)\n",
    "orders_by_non_purchased_users_a = pd.Series(data = list_orders_1, name = 'orders')\n",
    "\n",
    "list_orders_2 =[]\n",
    "for i in range(0,(visitors[visitors['group']=='B']['visitors'].sum()-len(orders_by_users_b))):\n",
    "    list_orders_2.append(0)\n",
    "orders_by_non_purchased_users_b = pd.Series(data = list_orders_2, name = 'orders')\n",
    "\n",
    "sampleA = pd.concat([orders_by_users_a['orders'], orders_by_non_purchased_users_a], axis=0)\n",
    "sampleB = pd.concat([orders_by_users_b['orders'], orders_by_non_purchased_users_b], axis=0)\n",
    "print('\\nОтносительный прирост конверсии группы B по отношению к группе A: {:.3f}'.format(sampleB.mean()/sampleA.mean()-1))\n",
    "\n",
    "alpha = 0.05\n",
    "results = stats.mannwhitneyu(sampleA, sampleB)\n",
    "print('P-value: {}'.format(results.pvalue))\n",
    "\n",
    "if results.pvalue < alpha:\n",
    "    print('По \"сырым\" данным в конверсии групп A и B разница статистически значима!')\n",
    "else:\n",
    "    print('По \"сырым\" данным различий в конверсии групп A и B нет!')"
   ]
  },
  {
   "cell_type": "markdown",
   "metadata": {},
   "source": [
    "### Посчитаем статистическую значимость различий в среднем чеке заказа между группами по «сырым» данным."
   ]
  },
  {
   "cell_type": "markdown",
   "metadata": {},
   "source": [
    "**Сформулируем нулевую и альтернативную гипотезу:**"
   ]
  },
  {
   "cell_type": "markdown",
   "metadata": {},
   "source": [
    "- `H₀`: По \"сырым\" данным разница в средних чеках в группах A и B статистически значима..\n",
    "- `H₁`: По \"сырым\" данным различий в средних чеках в группах A и B нет."
   ]
  },
  {
   "cell_type": "code",
   "execution_count": 20,
   "metadata": {},
   "outputs": [
    {
     "name": "stdout",
     "output_type": "stream",
     "text": [
      "Относительное изменение среднего чека в группе B по отношению группы A: 0.259\n",
      "P-value: 0.7292909855432458\n",
      "По \"сырым\" данным различий в средних чеках в группах A и B нет.\n"
     ]
    }
   ],
   "source": [
    "print('Относительное изменение среднего чека в группе B по отношению группы A: {:.3f}'.format(\n",
    "orders[orders['group']=='B']['revenue'].mean()/orders[orders['group']=='A']['revenue'].mean()-1))\n",
    "results = stats.mannwhitneyu(orders[orders['group']=='A']['revenue'], orders[orders['group']=='B']['revenue'])\n",
    "print('P-value: {}'.format(results.pvalue))\n",
    "\n",
    "if results.pvalue < alpha:\n",
    "    print('По \"сырым\" данным разница в средних чеках в группах A и B статистически значима.')\n",
    "else:\n",
    "    print('По \"сырым\" данным различий в средних чеках в группах A и B нет.')"
   ]
  },
  {
   "cell_type": "markdown",
   "metadata": {},
   "source": [
    "### Посчитаем статистическую значимость различий в среднем количестве заказов на посетителя между группами по «очищенным» данным."
   ]
  },
  {
   "cell_type": "markdown",
   "metadata": {},
   "source": [
    "**Посчитаем статистическую значимость различий в конверсии между группами по «очищенным» данным**"
   ]
  },
  {
   "cell_type": "markdown",
   "metadata": {},
   "source": [
    "<span style=\"color:#191970\">Ранее мы узнали, что большинство пользователей делает не более 2 заказов и сумма одной покупки в большинстве случаев не превышает 28 т.р.\n",
    "    Очистим данные от аномальных пользователей с превышающими данные лимиты значениями.</span>\n"
   ]
  },
  {
   "cell_type": "code",
   "execution_count": 21,
   "metadata": {},
   "outputs": [],
   "source": [
    "#зададим предельные кол-во заказов и сумму покупки для формирования списка аномальных пользователей\n",
    "limit_orders = 2\n",
    "limit_revenue = 28000"
   ]
  },
  {
   "cell_type": "code",
   "execution_count": 22,
   "metadata": {},
   "outputs": [
    {
     "name": "stdout",
     "output_type": "stream",
     "text": [
      "Кол-во аномальных пользователей: 74\n"
     ]
    }
   ],
   "source": [
    "users_with_many_orders = pd.concat([orders_by_users_a[orders_by_users_a['orders']>limit_orders]['visitor_id'], \n",
    "                                orders_by_users_b[orders_by_users_b['orders']>limit_orders]['visitor_id']], axis = 0)\n",
    "\n",
    "users_with_expensive_orders = orders[orders['revenue']>limit_revenue]['visitor_id']\n",
    "\n",
    "ab_normal_users = pd.concat([users_with_many_orders, users_with_expensive_orders], axis = 0).drop_duplicates().sort_values()\n",
    "\n",
    "print('Кол-во аномальных пользователей: {}'.format(len(ab_normal_users)))"
   ]
  },
  {
   "cell_type": "code",
   "execution_count": 23,
   "metadata": {},
   "outputs": [
    {
     "name": "stdout",
     "output_type": "stream",
     "text": [
      "\n",
      "Относительный прирост конверсии группы B по отношению к группе A после очистки данных: 0.173\n",
      "P-value: 0.013042592743036745\n",
      "По очищенным данным в конверсии групп A и B разница статистически значима!\n"
     ]
    }
   ],
   "source": [
    "sample_a_filtered = pd.concat([\n",
    "    orders_by_users_a[np.logical_not(orders_by_users_a['visitor_id'].isin(ab_normal_users))]['orders'],\n",
    "    orders_by_non_purchased_users_a\n",
    "], axis = 0)\n",
    "sample_b_filtered = pd.concat([\n",
    "    orders_by_users_b[np.logical_not(orders_by_users_b['visitor_id'].isin(ab_normal_users))]['orders'],\n",
    "    orders_by_non_purchased_users_b\n",
    "], axis = 0)\n",
    "print('\\nОтносительный прирост конверсии группы B по отношению к группе A после очистки данных: {:.3f}'.format(sample_b_filtered.mean()/sample_a_filtered.mean()-1))\n",
    "\n",
    "results = stats.mannwhitneyu(sample_a_filtered, sample_b_filtered)\n",
    "print('P-value: {}'.format(results.pvalue))\n",
    "\n",
    "if results.pvalue < alpha:\n",
    "    print('По очищенным данным в конверсии групп A и B разница статистически значима!')\n",
    "else:\n",
    "    print('По очищенным данным различий в конверсии групп A и B нет!')"
   ]
  },
  {
   "cell_type": "markdown",
   "metadata": {},
   "source": [
    "### Посчитаем статистическую значимость различий в среднем чеке заказа между группами по «очищенным» данным. "
   ]
  },
  {
   "cell_type": "markdown",
   "metadata": {},
   "source": [
    "**Сформулируем нулевую и альтернативную гипотезу:**"
   ]
  },
  {
   "cell_type": "markdown",
   "metadata": {},
   "source": [
    "- `H₀`: По очищенным данным разница в средних чеках в группах A и B статистически значима.\n",
    "- `H₁`: По очищенным данным различий в средних чеках в группах A и B нет."
   ]
  },
  {
   "cell_type": "code",
   "execution_count": 24,
   "metadata": {},
   "outputs": [
    {
     "name": "stdout",
     "output_type": "stream",
     "text": [
      "Относительное изменение среднего чека в группе B по отношению группы A после очистки данных: -0.020\n",
      "P-value: 0.738481751314565\n",
      "По очищенным данным различий в средних чеках в группах A и B нет!\n"
     ]
    }
   ],
   "source": [
    "print('Относительное изменение среднего чека в группе B по отношению группы A после очистки данных: {:.3f}'.format(\n",
    "orders[np.logical_and(orders['group']=='B', np.logical_not(orders['visitor_id'].isin(ab_normal_users)))]['revenue'].mean()\\\n",
    "/orders[np.logical_and(orders['group']=='A', np.logical_not(orders['visitor_id'].isin(ab_normal_users)))]['revenue'].mean()-1))\n",
    "       \n",
    "       \n",
    "results = stats.mannwhitneyu(orders[np.logical_and(orders['group']=='A', np.logical_not(orders['visitor_id'].isin(ab_normal_users)))]['revenue'],\n",
    "                             orders[np.logical_and(orders['group']=='B', np.logical_not(orders['visitor_id'].isin(ab_normal_users)))]['revenue'])\n",
    "print('P-value: {}'.format(results.pvalue))\n",
    "\n",
    "if results.pvalue < alpha:\n",
    "    print('По очищенным данным разница в средних чеках в группах A и B статистически значима!')\n",
    "else:\n",
    "    print('По очищенным данным различий в средних чеках в группах A и B нет!')"
   ]
  },
  {
   "cell_type": "markdown",
   "metadata": {},
   "source": [
    "### Примем решение по результатам теста:"
   ]
  },
  {
   "cell_type": "markdown",
   "metadata": {},
   "source": [
    "- **Варианты принимаемых решений:**\n",
    "    * *Остановить тест, зафиксировать победу одной из групп.*\n",
    "    * *Остановить тест, зафиксировать отсутствие различий между группами.*\n",
    "    * *Продолжить тест.*\n",
    "\n",
    "Выборка данных имеет корректный размер, проблему подглядывания в результате сравнения групп во время проведения теста мы `исключили`.\n",
    "Кумулятивные метрики по выручке, среднему чеку и конверсии почти все время лидировали `в группе B`.\n",
    "До очистки данных от аномальных пользователей были резкие колебания на графике кумулятивного среднего чека `в группе B`.\n",
    "После очистки` разница между средними чеками стала минимальна`, но это не даёт нам повода сомневаться в проведении теста и его результатах. \n",
    "До и после очистки данных, `показатель конверсии в группе B больше показателя в группе A`. Данная разница показателей конверсии между группами и до и после очистки данных является `статистически значимой`, что позволяет нам сделать вывод о том, что мы можем `остановить наш A/B тест` и `зафиксировать победу группы B`.\n"
   ]
  }
 ],
 "metadata": {
  "ExecuteTimeLog": [
   {
    "duration": 1272,
    "start_time": "2023-01-17T00:51:45.948Z"
   },
   {
    "duration": 92,
    "start_time": "2023-01-17T00:53:02.754Z"
   },
   {
    "duration": 113,
    "start_time": "2023-01-17T00:54:11.644Z"
   },
   {
    "duration": 38,
    "start_time": "2023-01-17T00:54:58.710Z"
   },
   {
    "duration": 55,
    "start_time": "2023-01-17T00:56:41.968Z"
   },
   {
    "duration": 55,
    "start_time": "2023-01-17T00:57:15.588Z"
   },
   {
    "duration": 56,
    "start_time": "2023-01-17T01:01:12.015Z"
   },
   {
    "duration": 19,
    "start_time": "2023-01-17T01:02:29.501Z"
   },
   {
    "duration": 64,
    "start_time": "2023-01-17T01:02:56.153Z"
   },
   {
    "duration": 61,
    "start_time": "2023-01-17T01:04:30.803Z"
   },
   {
    "duration": 61,
    "start_time": "2023-01-17T01:05:34.641Z"
   },
   {
    "duration": 80,
    "start_time": "2023-01-17T01:08:41.610Z"
   },
   {
    "duration": 49,
    "start_time": "2023-01-17T01:09:23.416Z"
   },
   {
    "duration": 43,
    "start_time": "2023-01-17T01:20:33.621Z"
   },
   {
    "duration": 32,
    "start_time": "2023-01-17T01:22:17.976Z"
   },
   {
    "duration": 33,
    "start_time": "2023-01-17T01:22:24.607Z"
   },
   {
    "duration": 39,
    "start_time": "2023-01-17T01:24:52.363Z"
   },
   {
    "duration": 164,
    "start_time": "2023-01-17T01:25:34.121Z"
   },
   {
    "duration": 6,
    "start_time": "2023-01-17T01:25:44.812Z"
   },
   {
    "duration": 19,
    "start_time": "2023-01-17T01:31:23.027Z"
   },
   {
    "duration": 4,
    "start_time": "2023-01-17T01:33:48.760Z"
   },
   {
    "duration": 14,
    "start_time": "2023-01-17T01:33:51.260Z"
   },
   {
    "duration": 25,
    "start_time": "2023-01-17T01:45:54.389Z"
   },
   {
    "duration": 19,
    "start_time": "2023-01-17T01:46:06.301Z"
   },
   {
    "duration": 53,
    "start_time": "2023-01-17T01:58:23.947Z"
   },
   {
    "duration": 16,
    "start_time": "2023-01-17T01:58:29.902Z"
   },
   {
    "duration": 36,
    "start_time": "2023-01-17T02:00:02.582Z"
   },
   {
    "duration": 386,
    "start_time": "2023-01-17T02:00:27.912Z"
   },
   {
    "duration": 329,
    "start_time": "2023-01-17T02:00:45.383Z"
   },
   {
    "duration": 320,
    "start_time": "2023-01-17T02:02:07.750Z"
   },
   {
    "duration": 308,
    "start_time": "2023-01-17T02:09:54.168Z"
   },
   {
    "duration": 21,
    "start_time": "2023-01-17T02:12:10.449Z"
   },
   {
    "duration": 375,
    "start_time": "2023-01-17T02:14:59.773Z"
   },
   {
    "duration": 244,
    "start_time": "2023-01-17T02:35:58.169Z"
   },
   {
    "duration": 20,
    "start_time": "2023-01-17T02:38:17.491Z"
   },
   {
    "duration": 349,
    "start_time": "2023-01-17T02:38:22.006Z"
   },
   {
    "duration": 222,
    "start_time": "2023-01-17T02:38:24.980Z"
   },
   {
    "duration": 213,
    "start_time": "2023-01-17T02:38:30.076Z"
   },
   {
    "duration": 399,
    "start_time": "2023-01-17T02:38:37.312Z"
   },
   {
    "duration": 260,
    "start_time": "2023-01-17T02:38:43.300Z"
   },
   {
    "duration": 401,
    "start_time": "2023-01-17T02:39:55.318Z"
   },
   {
    "duration": 324,
    "start_time": "2023-01-17T02:40:00.130Z"
   },
   {
    "duration": 308,
    "start_time": "2023-01-17T02:40:52.799Z"
   },
   {
    "duration": 348,
    "start_time": "2023-01-17T02:41:11.432Z"
   },
   {
    "duration": 318,
    "start_time": "2023-01-17T02:43:34.522Z"
   },
   {
    "duration": 348,
    "start_time": "2023-01-17T02:43:36.974Z"
   },
   {
    "duration": 256,
    "start_time": "2023-01-17T02:43:42.029Z"
   },
   {
    "duration": 342,
    "start_time": "2023-01-17T02:43:45.779Z"
   },
   {
    "duration": 59,
    "start_time": "2023-01-17T02:46:58.579Z"
   },
   {
    "duration": 54,
    "start_time": "2023-01-17T02:47:14.664Z"
   },
   {
    "duration": 92,
    "start_time": "2023-01-17T02:47:22.693Z"
   },
   {
    "duration": 4,
    "start_time": "2023-01-17T02:47:31.200Z"
   },
   {
    "duration": 52,
    "start_time": "2023-01-17T02:47:35.381Z"
   },
   {
    "duration": 66,
    "start_time": "2023-01-17T02:47:52.992Z"
   },
   {
    "duration": 45,
    "start_time": "2023-01-17T02:48:03.957Z"
   },
   {
    "duration": 72,
    "start_time": "2023-01-17T02:48:12.002Z"
   },
   {
    "duration": 310,
    "start_time": "2023-01-17T02:49:17.364Z"
   },
   {
    "duration": 5,
    "start_time": "2023-01-17T02:54:30.797Z"
   },
   {
    "duration": 451,
    "start_time": "2023-01-17T02:56:25.926Z"
   },
   {
    "duration": 5,
    "start_time": "2023-01-17T03:00:14.871Z"
   },
   {
    "duration": 57,
    "start_time": "2023-01-17T03:00:53.052Z"
   },
   {
    "duration": 32,
    "start_time": "2023-01-17T03:04:21.995Z"
   },
   {
    "duration": 57,
    "start_time": "2023-01-17T03:06:49.247Z"
   },
   {
    "duration": 58,
    "start_time": "2023-01-17T03:07:58.212Z"
   },
   {
    "duration": 69,
    "start_time": "2023-01-17T03:08:28.755Z"
   },
   {
    "duration": 26,
    "start_time": "2023-01-17T04:09:18.733Z"
   },
   {
    "duration": 1621,
    "start_time": "2023-01-17T04:09:57.428Z"
   },
   {
    "duration": 122,
    "start_time": "2023-01-17T04:09:59.052Z"
   },
   {
    "duration": 61,
    "start_time": "2023-01-17T04:09:59.180Z"
   },
   {
    "duration": 49,
    "start_time": "2023-01-17T04:09:59.244Z"
   },
   {
    "duration": 46,
    "start_time": "2023-01-17T04:09:59.300Z"
   },
   {
    "duration": 25,
    "start_time": "2023-01-17T04:09:59.353Z"
   },
   {
    "duration": 129,
    "start_time": "2023-01-17T04:09:59.384Z"
   },
   {
    "duration": 525,
    "start_time": "2023-01-17T04:09:59.515Z"
   },
   {
    "duration": 465,
    "start_time": "2023-01-17T04:10:00.046Z"
   },
   {
    "duration": 299,
    "start_time": "2023-01-17T04:10:00.518Z"
   },
   {
    "duration": 424,
    "start_time": "2023-01-17T04:10:00.824Z"
   },
   {
    "duration": 340,
    "start_time": "2023-01-17T04:10:01.255Z"
   },
   {
    "duration": 359,
    "start_time": "2023-01-17T04:10:01.597Z"
   },
   {
    "duration": 407,
    "start_time": "2023-01-17T04:10:01.964Z"
   },
   {
    "duration": 7,
    "start_time": "2023-01-17T04:10:02.382Z"
   },
   {
    "duration": 774,
    "start_time": "2023-01-17T04:10:02.395Z"
   },
   {
    "duration": 7,
    "start_time": "2023-01-17T04:10:03.175Z"
   },
   {
    "duration": 108,
    "start_time": "2023-01-17T04:10:03.188Z"
   },
   {
    "duration": 26,
    "start_time": "2023-01-17T04:10:03.301Z"
   },
   {
    "duration": 3,
    "start_time": "2023-01-17T04:16:48.300Z"
   },
   {
    "duration": 12,
    "start_time": "2023-01-17T04:19:27.660Z"
   },
   {
    "duration": 3203,
    "start_time": "2023-01-17T04:26:10.515Z"
   },
   {
    "duration": 107,
    "start_time": "2023-01-17T04:26:27.739Z"
   },
   {
    "duration": 30,
    "start_time": "2023-01-17T04:29:24.199Z"
   },
   {
    "duration": 27,
    "start_time": "2023-01-17T04:29:50.091Z"
   },
   {
    "duration": 33,
    "start_time": "2023-01-17T04:30:04.191Z"
   },
   {
    "duration": 1566,
    "start_time": "2023-01-17T05:08:20.866Z"
   },
   {
    "duration": 117,
    "start_time": "2023-01-17T05:08:22.436Z"
   },
   {
    "duration": 55,
    "start_time": "2023-01-17T05:08:22.556Z"
   },
   {
    "duration": 151,
    "start_time": "2023-01-17T05:08:22.613Z"
   },
   {
    "duration": 95,
    "start_time": "2023-01-17T05:08:22.767Z"
   },
   {
    "duration": 107,
    "start_time": "2023-01-17T05:08:22.867Z"
   },
   {
    "duration": 66,
    "start_time": "2023-01-17T05:08:22.981Z"
   },
   {
    "duration": 747,
    "start_time": "2023-01-17T05:08:23.049Z"
   },
   {
    "duration": 540,
    "start_time": "2023-01-17T05:08:23.799Z"
   },
   {
    "duration": 323,
    "start_time": "2023-01-17T05:08:24.342Z"
   },
   {
    "duration": 471,
    "start_time": "2023-01-17T05:08:24.667Z"
   },
   {
    "duration": 346,
    "start_time": "2023-01-17T05:08:25.140Z"
   },
   {
    "duration": 386,
    "start_time": "2023-01-17T05:08:25.489Z"
   },
   {
    "duration": 435,
    "start_time": "2023-01-17T05:08:25.877Z"
   },
   {
    "duration": 7,
    "start_time": "2023-01-17T05:08:26.315Z"
   },
   {
    "duration": 733,
    "start_time": "2023-01-17T05:08:26.324Z"
   },
   {
    "duration": 10,
    "start_time": "2023-01-17T05:08:27.059Z"
   },
   {
    "duration": 143,
    "start_time": "2023-01-17T05:08:27.072Z"
   },
   {
    "duration": 14,
    "start_time": "2023-01-17T05:08:27.218Z"
   },
   {
    "duration": 71,
    "start_time": "2023-01-17T05:08:27.236Z"
   },
   {
    "duration": 36,
    "start_time": "2023-01-17T05:08:27.309Z"
   },
   {
    "duration": 107,
    "start_time": "2023-01-17T05:08:27.355Z"
   },
   {
    "duration": 58,
    "start_time": "2023-01-17T05:08:27.465Z"
   },
   {
    "duration": 48,
    "start_time": "2023-01-17T09:00:05.287Z"
   },
   {
    "duration": 1251,
    "start_time": "2023-01-17T09:00:34.417Z"
   },
   {
    "duration": 94,
    "start_time": "2023-01-17T09:00:35.671Z"
   },
   {
    "duration": 72,
    "start_time": "2023-01-17T09:00:35.766Z"
   },
   {
    "duration": 51,
    "start_time": "2023-01-17T09:00:35.840Z"
   },
   {
    "duration": 13,
    "start_time": "2023-01-17T09:00:35.892Z"
   },
   {
    "duration": 12,
    "start_time": "2023-01-17T09:00:35.906Z"
   },
   {
    "duration": 17,
    "start_time": "2023-01-17T09:00:35.919Z"
   },
   {
    "duration": 304,
    "start_time": "2023-01-17T09:00:35.937Z"
   },
   {
    "duration": 284,
    "start_time": "2023-01-17T09:00:36.242Z"
   },
   {
    "duration": 201,
    "start_time": "2023-01-17T09:00:36.529Z"
   },
   {
    "duration": 321,
    "start_time": "2023-01-17T09:00:36.731Z"
   },
   {
    "duration": 218,
    "start_time": "2023-01-17T09:00:37.053Z"
   },
   {
    "duration": 291,
    "start_time": "2023-01-17T09:00:37.272Z"
   },
   {
    "duration": 241,
    "start_time": "2023-01-17T09:00:37.565Z"
   },
   {
    "duration": 4,
    "start_time": "2023-01-17T09:00:37.808Z"
   },
   {
    "duration": 447,
    "start_time": "2023-01-17T09:00:37.813Z"
   },
   {
    "duration": 4,
    "start_time": "2023-01-17T09:00:38.261Z"
   },
   {
    "duration": 63,
    "start_time": "2023-01-17T09:00:38.267Z"
   },
   {
    "duration": 9,
    "start_time": "2023-01-17T09:00:38.332Z"
   },
   {
    "duration": 4,
    "start_time": "2023-01-17T09:00:38.342Z"
   },
   {
    "duration": 11,
    "start_time": "2023-01-17T09:00:38.347Z"
   },
   {
    "duration": 50,
    "start_time": "2023-01-17T09:00:38.360Z"
   },
   {
    "duration": 13,
    "start_time": "2023-01-17T09:00:38.412Z"
   },
   {
    "duration": 112,
    "start_time": "2023-01-17T09:01:13.075Z"
   },
   {
    "duration": 26,
    "start_time": "2023-01-17T09:01:36.141Z"
   },
   {
    "duration": 13,
    "start_time": "2023-01-17T09:03:54.068Z"
   },
   {
    "duration": 12,
    "start_time": "2023-01-17T09:30:04.593Z"
   },
   {
    "duration": 85,
    "start_time": "2023-01-17T09:51:43.163Z"
   },
   {
    "duration": 12,
    "start_time": "2023-01-17T09:52:06.138Z"
   },
   {
    "duration": 17,
    "start_time": "2023-01-17T09:59:42.048Z"
   },
   {
    "duration": 275,
    "start_time": "2023-01-17T09:59:48.479Z"
   },
   {
    "duration": 190,
    "start_time": "2023-01-17T10:00:03.128Z"
   },
   {
    "duration": 214,
    "start_time": "2023-01-17T10:00:07.608Z"
   },
   {
    "duration": 316,
    "start_time": "2023-01-17T10:00:11.410Z"
   },
   {
    "duration": 204,
    "start_time": "2023-01-17T10:00:16.446Z"
   },
   {
    "duration": 1596,
    "start_time": "2023-01-27T05:18:18.776Z"
   },
   {
    "duration": 113,
    "start_time": "2023-01-27T05:18:20.374Z"
   },
   {
    "duration": 114,
    "start_time": "2023-01-27T05:18:20.489Z"
   },
   {
    "duration": 206,
    "start_time": "2023-01-27T05:18:20.606Z"
   },
   {
    "duration": 20,
    "start_time": "2023-01-27T05:18:20.814Z"
   },
   {
    "duration": 40,
    "start_time": "2023-01-27T05:18:20.837Z"
   },
   {
    "duration": 25,
    "start_time": "2023-01-27T05:18:20.879Z"
   },
   {
    "duration": 39,
    "start_time": "2023-01-27T05:18:20.906Z"
   },
   {
    "duration": 330,
    "start_time": "2023-01-27T05:18:20.947Z"
   },
   {
    "duration": 321,
    "start_time": "2023-01-27T05:18:21.283Z"
   },
   {
    "duration": 256,
    "start_time": "2023-01-27T05:18:21.606Z"
   },
   {
    "duration": 429,
    "start_time": "2023-01-27T05:18:21.864Z"
   },
   {
    "duration": 254,
    "start_time": "2023-01-27T05:18:22.295Z"
   },
   {
    "duration": 345,
    "start_time": "2023-01-27T05:18:22.551Z"
   },
   {
    "duration": 328,
    "start_time": "2023-01-27T05:18:22.898Z"
   },
   {
    "duration": 5,
    "start_time": "2023-01-27T05:18:23.228Z"
   },
   {
    "duration": 524,
    "start_time": "2023-01-27T05:18:23.235Z"
   },
   {
    "duration": 4,
    "start_time": "2023-01-27T05:18:23.761Z"
   },
   {
    "duration": 86,
    "start_time": "2023-01-27T05:18:23.767Z"
   },
   {
    "duration": 15,
    "start_time": "2023-01-27T05:18:23.855Z"
   },
   {
    "duration": 18,
    "start_time": "2023-01-27T05:18:23.872Z"
   },
   {
    "duration": 39,
    "start_time": "2023-01-27T05:18:23.892Z"
   },
   {
    "duration": 76,
    "start_time": "2023-01-27T05:18:23.934Z"
   },
   {
    "duration": 18,
    "start_time": "2023-01-27T05:18:24.012Z"
   }
  ],
  "kernelspec": {
   "display_name": "Python 3 (ipykernel)",
   "language": "python",
   "name": "python3"
  },
  "language_info": {
   "codemirror_mode": {
    "name": "ipython",
    "version": 3
   },
   "file_extension": ".py",
   "mimetype": "text/x-python",
   "name": "python",
   "nbconvert_exporter": "python",
   "pygments_lexer": "ipython3",
   "version": "3.9.5"
  },
  "toc": {
   "base_numbering": 1,
   "nav_menu": {},
   "number_sections": true,
   "sideBar": true,
   "skip_h1_title": true,
   "title_cell": "Table of Contents",
   "title_sidebar": "Contents",
   "toc_cell": false,
   "toc_position": {},
   "toc_section_display": true,
   "toc_window_display": false
  }
 },
 "nbformat": 4,
 "nbformat_minor": 2
}
